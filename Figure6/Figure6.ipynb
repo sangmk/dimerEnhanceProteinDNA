{
 "cells": [
  {
   "cell_type": "code",
   "execution_count": 1,
   "id": "8e8e02aa",
   "metadata": {
    "ExecuteTime": {
     "end_time": "2025-01-29T22:34:57.693376Z",
     "start_time": "2025-01-29T22:34:57.241551Z"
    }
   },
   "outputs": [],
   "source": [
    "import numpy as np\n",
    "import pandas as pd\n",
    "from matplotlib import pyplot as plt\n",
    "import sys"
   ]
  },
  {
   "cell_type": "code",
   "execution_count": 2,
   "id": "036e219f",
   "metadata": {
    "ExecuteTime": {
     "end_time": "2025-01-29T22:34:57.767618Z",
     "start_time": "2025-01-29T22:34:57.694960Z"
    }
   },
   "outputs": [],
   "source": [
    "sys.path.append('/home/local/WIN/msang2/mankun/dimerEnhanceProteinDNA/')\n",
    "# modules for direct calculation\n",
    "import analytics as ana\n",
    "import analyzeEqui as num\n",
    "# stochastic simulation (Gillespie)\n",
    "from Simulations.odeSolver.Nonly import rxnNetwork, labels\n",
    "from Simulations.odeSolver.main import main as numericSolver\n",
    "# for generating parameters\n",
    "from GenerateParameters import GenParameters"
   ]
  },
  {
   "cell_type": "code",
   "execution_count": 3,
   "id": "0110b49a",
   "metadata": {
    "ExecuteTime": {
     "end_time": "2025-01-29T22:34:58.571286Z",
     "start_time": "2025-01-29T22:34:58.562671Z"
    },
    "code_folding": []
   },
   "outputs": [],
   "source": [
    "def plotHeader(\n",
    "    scale=1.0, fixSize=True, sizeX=5, sizeY=5,\n",
    "    lgdLoc=[0.55,0.00], lgdFontSize=22, lgdHandleL=0.3, \n",
    "    lgdTitle='', lgdTtlFontSize=22, lgdFrameAlpha=0.0,\n",
    "    labelFontSize=20, tickFontSize=27, \n",
    "    tickL=15, tickW=2, spineLineW=2\n",
    "):\n",
    "    labelfont = {'fontsize':labelFontSize*scale}\n",
    "    tickfont = {'fontsize':tickFontSize*scale}\n",
    "    legend = {'fontsize':lgdFontSize*scale, 'loc':lgdLoc, 'handlelength':lgdHandleL*scale, \n",
    "              'title':lgdTitle, 'title_fontsize':lgdTtlFontSize*scale,\n",
    "             'framealpha':lgdFrameAlpha}\n",
    "    if fixSize:\n",
    "        fig = plt.figure(figsize=(sizeX*scale,sizeY*scale))\n",
    "        ax = fig.add_subplot(111)\n",
    "    else:\n",
    "        ax = plt.gca()\n",
    "    plt.tick_params(length=tickL*scale, width=tickW*scale)\n",
    "    for axis in ['top', 'bottom', 'left', 'right']:\n",
    "        ax.spines[axis].set_linewidth(spineLineW*scale)  # change width\n",
    "    colors = [\n",
    "        'tab:blue', 'tab:orange', 'tab:green', 'tab:red', 'tab:purple', \n",
    "        'tab:brown', 'tab:pink', 'tab:gray', 'tab:olive', 'tab:cyan'\n",
    "    ]\n",
    "    linsStyles = ['-', '--']\n",
    "    return ax, colors, linsStyles, legend, labelfont, tickfont, 0.6022 # C0, nm^-3 -> M\n",
    "color_gamma = 'tab:green'\n",
    "color_CP0 = 'tab:red'\n",
    "color_kbP = 'tab:orange'"
   ]
  },
  {
   "cell_type": "markdown",
   "id": "0d0b23ae",
   "metadata": {},
   "source": [
    "# Discrete protein number selectivity"
   ]
  },
  {
   "cell_type": "code",
   "execution_count": null,
   "id": "efbc75cb",
   "metadata": {},
   "outputs": [],
   "source": [
    "GenParms = lambda KPP: GenParameters(\n",
    "    numTargets=2, NP0=[2], KPP=KPP, KPN=[10], area3Dto1D=[10], lengthScale=2, \n",
    "    kbPP_fixed=0.4, kaPN=0.02*1e6, kaPS=0.1*1e6\n",
    ")"
   ]
  },
  {
   "cell_type": "code",
   "execution_count": null,
   "id": "807c0a30",
   "metadata": {},
   "outputs": [],
   "source": [
    "parms = GenParms(10.0**np.arange(0,7.01,0.25))"
   ]
  },
  {
   "cell_type": "code",
   "execution_count": null,
   "id": "929f1057",
   "metadata": {},
   "outputs": [],
   "source": [
    "def pFree_One(parm, V):\n",
    "    # Assume there is only one protein\n",
    "    KPS = parm['KPS']\n",
    "    KPP = parm['KPP']\n",
    "    KPN = parm['KPN']\n",
    "    S = parm['CS0'] * V\n",
    "    N = parm['CN0'] * V\n",
    "    C0 = 0.6022\n",
    "    gamma = parm['gamma']\n",
    "    return 1 / (1 + KPS/V*S + KPN/V*N + gamma*KPS/V*KPN/V*S*N)\n",
    "\n",
    "def partition_Two(parm, V, cluster:bool):\n",
    "    # Assume there are two proteins\n",
    "    KPS = parm['KPS']\n",
    "    KPP = parm['KPP']\n",
    "    KPN = parm['KPN']\n",
    "    S = parm['CS0'] * V\n",
    "    N = parm['CN0'] * V\n",
    "    C0 = 0.6022\n",
    "    gamma = parm['gamma']\n",
    "    \n",
    "    # relative probabilities\n",
    "    # containing free monomers\n",
    "    P_P = 1\n",
    "    PS_P = 2*KPS/V*S\n",
    "    PN_P = 2*KPN/V*N\n",
    "    PSN_P = 2*gamma*(KPS/V)*(KPN/V) * S*N\n",
    "    # monomer + monomer\n",
    "    PS_PS = (KPS/V)**2 * S*(S-1)\n",
    "    PN_PN = (KPN/V)**2 * N*(N-1)\n",
    "    PS_PN = 2*(KPS/V)*(KPN/V) * S*N\n",
    "    PSN_PS = 2*gamma*(KPS/V)**2*(KPN/V) * S*(S-1)*N\n",
    "    PSN_PN = 2*gamma*(KPS/V)*(KPN/V)**2 * S*N*(N-1)\n",
    "    PSN_PSN = (gamma*KPS/V*KPN/V)**2 * S*(S-1)*N*(N-1)\n",
    "    # dimer, take Ptot = 2\n",
    "    PP = 2*(KPP/V) * 2\n",
    "    PPS = 2*(KPP/V)*2*(KPS/V) * 2*S\n",
    "    PPN = 2*(KPP/V)*2*(KPN/V) * 2*N\n",
    "    PPSN = 2*gamma*(KPP/V)*2*(KPS/V)*(KPN/V) * 2*S*N\n",
    "    PSPN = 2*gamma*(KPP/V)*2*KPS/V*KPN/V * 2*S*N\n",
    "    PNPN = 2*gamma*(KPP/V)*(KPN/V)**2 * 2*N*(N-1)\n",
    "    PSPS = 2*(KPP/V)*2*(KPS/V)*(KPS*C0) * 2*S\n",
    "    PSPSN = 2*gamma*(KPP/V)*2*(KPS/V)*(KPS*C0)*2*(KPN/V) * 2*S*N\n",
    "    PNPSN = 2*gamma**2*(KPP/V)*2*(KPN/V)**2*2*(KPS/V) * 2*N*(N-1)*S\n",
    "    PSNPSN = 2*gamma**2*(KPP/V)*2*(KPN/V)**2*(KPS/V)*(KPS*C0) * 2*N*(N-1)*S\n",
    "    \n",
    "    if cluster:\n",
    "        total = (1 + PS_P + PN_P + PSN_P) + \\\n",
    "                (PS_PS + PN_PN + PS_PN + PSN_PS + PSN_PN + PSN_PSN) + \\\n",
    "                (PP + PPS + PPN + PPSN + PSPN + PNPN + PSPS + PSPSN + PNPSN + PSNPSN)\n",
    "    else:\n",
    "        total = (1 + PS_P + PN_P + PSN_P) + \\\n",
    "                (PS_PS + PN_PN + PS_PN + PSN_PS + PSN_PN + PSN_PSN) + \\\n",
    "                (PP + PPS + PPN + PPSN + PSPN + PNPN + PNPSN)\n",
    "        \n",
    "    return total, (1 + PS_P + PN_P + PSN_P)"
   ]
  },
  {
   "cell_type": "code",
   "execution_count": null,
   "id": "d09cdadf",
   "metadata": {},
   "outputs": [],
   "source": [
    "def estimateSelectivity(parm, ftwo=1):\n",
    "    '''fdimer: the time fraction of two proteins are in the same environment'''\n",
    "    # only for 2 proteins in the whole system\n",
    "    V = 2 / parm['CS0'].unique()\n",
    "    # partition function for cluster\n",
    "    Z_cluster, Z_free = partition_Two(parm, V, True)\n",
    "    # partition function for separate\n",
    "    Z_separate, Z_free = partition_Two(parm, V, False)\n",
    "    # total Z for two\n",
    "    Z_tot = Z_cluster + Z_separate\n",
    "    # bound monomer number on each side\n",
    "    boundP_mono = (1 - pFree_One(parm, V))*(1-ftwo)\n",
    "    return ((Z_cluster-Z_free)/Z_tot*2*ftwo + boundP_mono) / ((Z_separate-Z_free)/Z_tot*2*ftwo + boundP_mono)"
   ]
  },
  {
   "cell_type": "code",
   "execution_count": null,
   "id": "d36b4c85",
   "metadata": {},
   "outputs": [],
   "source": [
    "# NERDSS results\n",
    "slcList_repeats_2pro = [[0.7846134133371219, 1.1148256877425806, 3.226054260749391, 29.900123663086855, 189.86720995670993, 328.83102380952386, 716.3366904761904], \n",
    "                        [0.08059040750221995, 0.1138934291917021, 0.3452691124787163, 5.3201632313452265, 137.15285469713717, 249.43847606756407, 319.90795991151896]]"
   ]
  },
  {
   "cell_type": "code",
   "execution_count": null,
   "id": "e52ec61d",
   "metadata": {},
   "outputs": [],
   "source": [
    "alphas = [1/3, 1]\n",
    "colors = ['tab:orange', 'black']\n",
    "plt.figure(figsize=(4,3))\n",
    "plt.tick_params(length=10, width=1.2)\n",
    "ax = plt.subplot(111)\n",
    "for axis in ['top', 'bottom', 'left', 'right']:\n",
    "    ax.spines[axis].set_linewidth(1.2)\n",
    "    \n",
    "plt.errorbar(\n",
    "    np.array([0, 1e1, 1e2, 1e3, 1e4, 1e5, 1e6]), \n",
    "    slcList_repeats_2pro[0], slcList_repeats_2pro[1], \n",
    "    ls='', color=colors[0], marker='.', #edgecolors='black', alpha=alphas[1], \n",
    ")\n",
    "\n",
    "plt.plot(\n",
    "    parms['KPP']*0.6022, estimateSelectivity(parms, 0.9), ls='-', \n",
    "    label='$N_P^{tot}$=%d'%2, lw=2, color=colors[0], #color='tab:orange', alpha=alphas[i], \n",
    "    zorder=1,\n",
    ")\n",
    "\n",
    "\n",
    "# plt.title('proteins on DNA', fontsize=13)\n",
    "plt.legend(loc=[0.01,0.67], fontsize=13, handlelength=0.5, framealpha=0)\n",
    "plt.loglog()\n",
    "# plt.ylim([0.,1.01])\n",
    "plt.yticks(fontsize=18)\n",
    "plt.xticks(fontsize=18)\n",
    "plt.show()"
   ]
  },
  {
   "cell_type": "code",
   "execution_count": null,
   "id": "a74dd550",
   "metadata": {},
   "outputs": [],
   "source": []
  },
  {
   "cell_type": "code",
   "execution_count": null,
   "id": "138b368c",
   "metadata": {},
   "outputs": [],
   "source": []
  },
  {
   "cell_type": "markdown",
   "id": "b42aaf26",
   "metadata": {
    "heading_collapsed": true
   },
   "source": [
    "# mean residence time phase diagram"
   ]
  },
  {
   "cell_type": "code",
   "execution_count": 179,
   "id": "325b28a2",
   "metadata": {
    "ExecuteTime": {
     "end_time": "2025-01-22T21:33:21.403151Z",
     "start_time": "2025-01-22T21:33:21.394944Z"
    },
    "code_folding": [
     0,
     13,
     24
    ],
    "hidden": true
   },
   "outputs": [],
   "source": [
    "def criticalRate_DNAclusTarg(parm):\n",
    "    kbPS = parm['kbPS'].to_numpy()\n",
    "    kbPN = parm['kbPN'].to_numpy()\n",
    "    chiN = parm['KPN'].to_numpy()*parm['CN0'].to_numpy()\n",
    "    chiS = parm['KPS'].to_numpy()*parm['CS0'].to_numpy()\n",
    "    KPSC0chiS = parm['KPS'].to_numpy()*0.6022*chiS\n",
    "    gamma = parm['gamma'].to_numpy()\n",
    "    chiDNA = chiN + chiS + gamma*chiS*chiN\n",
    "    onRate = (kbPS*chiS + kbPN*chiN)\n",
    "    nu = (onRate*(2*gamma*chiN*chiS + gamma*chiN**2 + 2*(gamma*chiN)**2*chiS))\n",
    "    nu_add = onRate*KPSC0chiS*(1+chiN*gamma)**2\n",
    "    return (nu+nu_add)/chiDNA**2\n",
    "\n",
    "def criticalRate_DNAtarg(parm):\n",
    "    kbPS = parm['kbPS'].to_numpy()\n",
    "    kbPN = parm['kbPN'].to_numpy()\n",
    "    chiN = parm['KPN'].to_numpy()*parm['CN0'].to_numpy()\n",
    "    chiS = parm['KPS'].to_numpy()*parm['CS0'].to_numpy()\n",
    "    gamma = parm['gamma'].to_numpy()\n",
    "    chiDNA = chiN + chiS + gamma*chiS*chiN\n",
    "    onRate = (kbPS*chiS + kbPN*chiN)\n",
    "    nu = (onRate*(2*gamma*chiN*chiS + gamma*chiN**2 + 2*(gamma*chiN)**2*chiS))\n",
    "    return nu/chiDNA**2\n",
    "\n",
    "def criticalRate_DNA(parm):\n",
    "    kbPN = parm['kbPN'].to_numpy()\n",
    "    chiN = parm['KPN'].to_numpy()*parm['CN0'].to_numpy()\n",
    "    gamma = parm['gamma'].to_numpy()\n",
    "    return gamma*chiN*kbPN"
   ]
  },
  {
   "cell_type": "code",
   "execution_count": 180,
   "id": "09422e69",
   "metadata": {
    "ExecuteTime": {
     "end_time": "2025-01-22T21:33:21.617477Z",
     "start_time": "2025-01-22T21:33:21.603697Z"
    },
    "hidden": true
   },
   "outputs": [],
   "source": [
    "parms = GenParameters(\n",
    "    numTargets=2, KPS=lambda KPN: 100*KPN, kaPS=1000, kaPN=200,\n",
    "    KPN=[200], NP0=[0.1], area3Dto1D=np.logspace(0,3,100), \n",
    "    KPP=[1e3], kbPP_fixed=0.1,\n",
    ")\n"
   ]
  },
  {
   "cell_type": "code",
   "execution_count": 183,
   "id": "2b94d80b",
   "metadata": {
    "ExecuteTime": {
     "end_time": "2025-01-22T21:59:19.637146Z",
     "start_time": "2025-01-22T21:59:19.294580Z"
    },
    "code_folding": [],
    "hidden": true
   },
   "outputs": [
    {
     "data": {
      "text/plain": [
       "[]"
      ]
     },
     "execution_count": 183,
     "metadata": {},
     "output_type": "execute_result"
    },
    {
     "data": {
      "image/png": "[encoded data removed]",
      "text/plain": [
       "<Figure size 500x500 with 1 Axes>"
      ]
     },
     "metadata": {},
     "output_type": "display_data"
    }
   ],
   "source": [
    "ax, colors, lineStyles, legend, labelfont, tickfont, C0 = plotHeader(\n",
    "    scale=1.0, fixSize=True, sizeX=5, sizeY=5,\n",
    "    lgdLoc=[0.05,0.5], lgdFontSize=15, lgdHandleL=0.3, lgdFrameAlpha=0.7,\n",
    "    lgdTitle='below $k^*$ of:', lgdTtlFontSize=15,\n",
    "    labelFontSize=20, tickFontSize=20, \n",
    "    tickL=15, tickW=1.5, spineLineW=2\n",
    ")\n",
    "plt.rcParams['lines.linewidth'] = 3\n",
    "ax.spines['top'].set_linewidth(0)\n",
    "ymin = 1e-2\n",
    "gammaChiNkoff = parms['gamma'].to_numpy()*parms['CN0'].to_numpy()*parms['KPN'].to_numpy()\n",
    "\n",
    "plt.plot(gammaChiNkoff, criticalRate_DNAclusTarg(parms), color='tab:blue')\n",
    "plt.plot(gammaChiNkoff, criticalRate_DNAtarg(parms), color='tab:green')\n",
    "plt.plot(gammaChiNkoff, criticalRate_DNA(parms), color='tab:orange')\n",
    "\n",
    "plt.fill_between(\n",
    "    gammaChiNkoff, ymin, criticalRate_DNAclusTarg(parms), label='DNA+clusTarg',\n",
    "    facecolor='none', edgecolor='tab:blue', hatch='/', alpha=0.5,\n",
    ")\n",
    "plt.fill_between(\n",
    "    gammaChiNkoff, ymin, criticalRate_DNA(parms), label='DNA', \n",
    "    facecolor='none', edgecolor='tab:orange', hatch='-', alpha=0.5,\n",
    ")\n",
    "plt.fill_between(\n",
    "    gammaChiNkoff, ymin, criticalRate_DNAtarg(parms), label='DNA+targ',\n",
    "    facecolor='none', edgecolor='tab:green', hatch='.', alpha=0.5,\n",
    ")\n",
    "\n",
    "\n",
    "# plt.xlabel('$\\gamma \\chi_N$', **labelfont)\n",
    "# plt.ylabel('Dimer dissociation rate ($s^{-1}$)', **labelfont)\n",
    "\n",
    "plt.xlim([min(gammaChiNkoff), max(gammaChiNkoff)])\n",
    "plt.ylim([ymin, 5e3])\n",
    "\n",
    "plt.yticks(**tickfont)\n",
    "plt.xticks([1e0,1e1,1e2],['','',''],**tickfont)\n",
    "\n",
    "# plt.legend(**legend)\n",
    "\n",
    "plt.loglog()"
   ]
  },
  {
   "cell_type": "markdown",
   "id": "289b4c9c",
   "metadata": {},
   "source": [
    "# occupancy phase diagram"
   ]
  },
  {
   "cell_type": "code",
   "execution_count": 4,
   "id": "91a6e62e",
   "metadata": {
    "ExecuteTime": {
     "end_time": "2025-01-29T22:35:02.554443Z",
     "start_time": "2025-01-29T22:35:02.551922Z"
    }
   },
   "outputs": [],
   "source": [
    "from scipy.optimize import root_scalar"
   ]
  },
  {
   "cell_type": "code",
   "execution_count": 5,
   "id": "86b02fe7",
   "metadata": {
    "ExecuteTime": {
     "end_time": "2025-01-29T22:35:02.750835Z",
     "start_time": "2025-01-29T22:35:02.745625Z"
    }
   },
   "outputs": [],
   "source": [
    "def findCriticalXPS(parm):\n",
    "    '''chiS -> (-chiN + chiN G)/(1 + chiN G)^2'''\n",
    "    chiN = parm['KPN'].to_numpy()*parm['CN0'].to_numpy()\n",
    "    gamma = parm['gamma'].to_numpy()\n",
    "    return chiN*(gamma-1)/(1+gamma*chiN)**2\n",
    "\n",
    "def solveGamma(parm):\n",
    "    '''chiS -> (-chiN + chiN G)/(1 + chiN G)^2'''\n",
    "    chiN = np.unique(parm['KPN']*parm['CN0'])\n",
    "    chiS = np.unique(parms['CN0']*parms['KPN'])\n",
    "    ftosolve = lambda gamma: chiN*(gamma-1)/(1+gamma*chiN)**2 - chiS\n",
    "    return root_scalar(ftosolve, x0=1), root_scalar(ftosolve, x0=10)"
   ]
  },
  {
   "cell_type": "code",
   "execution_count": 6,
   "id": "cdb88dd1",
   "metadata": {
    "ExecuteTime": {
     "end_time": "2025-01-29T22:35:03.658074Z",
     "start_time": "2025-01-29T22:35:03.645891Z"
    }
   },
   "outputs": [],
   "source": [
    "parms = GenParameters(\n",
    "    numTargets=2, KPS=lambda KPN: 100*KPN, kaPS=1000, kaPN=200,\n",
    "    KPN=[200], NP0=[0.1], area3Dto1D=np.logspace(0,3,100), \n",
    "    KPP=[1e3], kbPP_fixed=0.1,\n",
    ")\n"
   ]
  },
  {
   "cell_type": "code",
   "execution_count": 173,
   "id": "dda6ea5c",
   "metadata": {
    "ExecuteTime": {
     "end_time": "2025-01-22T21:00:52.920098Z",
     "start_time": "2025-01-22T21:00:52.913335Z"
    }
   },
   "outputs": [],
   "source": [
    "G1,G2=solveGamma(parms)"
   ]
  },
  {
   "cell_type": "code",
   "execution_count": 17,
   "id": "dfe79c33",
   "metadata": {
    "ExecuteTime": {
     "end_time": "2025-01-29T22:38:24.718532Z",
     "start_time": "2025-01-29T22:38:24.463233Z"
    },
    "code_folding": []
   },
   "outputs": [
    {
     "data": {
      "image/png": "[encoded data removed]",
      "text/plain": [
       "<Figure size 500x500 with 1 Axes>"
      ]
     },
     "metadata": {},
     "output_type": "display_data"
    }
   ],
   "source": [
    "ax, colors, lineStyles, legend, labelfont, tickfont, C0 = plotHeader(\n",
    "    scale=1.0, fixSize=True, sizeX=5, sizeY=5,\n",
    "    lgdLoc=[0.65,0.3], lgdFontSize=15, lgdHandleL=1.2, lgdFrameAlpha=0.5,\n",
    "    lgdTitle='DNA+targ', lgdTtlFontSize=15,\n",
    "    labelFontSize=20, tickFontSize=20, \n",
    "    tickL=15, tickW=1.5, spineLineW=2\n",
    ")\n",
    "\n",
    "gammaChiN = parms['gamma'].to_numpy()*parms['CN0'].to_numpy()*parms['KPN'].to_numpy()\n",
    "chiN = np.unique(parms['CN0']*parms['KPN'])\n",
    "chiS = np.unique(parms['CN0']*parms['KPN'])\n",
    "\n",
    "xmin = min(gammaChiN)\n",
    "xmax = max(gammaChiN)\n",
    "chiCritic = findCriticalXPS(parms)\n",
    "ymin = 1e-3\n",
    "ymax = max(chiCritic)*2\n",
    "\n",
    "plt.fill_between(\n",
    "    gammaChiN, ymin, ymax, label='DNA+clusTarg',\n",
    "    facecolor='none', edgecolor='tab:blue', hatch='/', alpha=0.5\n",
    ")\n",
    "plt.fill_between(\n",
    "    gammaChiN, ymin, chiCritic, label='DNA+targ',\n",
    "    facecolor='none', edgecolor='tab:green', hatch='.', alpha=0.5\n",
    ")\n",
    "\n",
    "# fillY = np.linspace(0,max(chiCritic)*1.01,100)\n",
    "\n",
    "# plt.axhline(chiS, ls=(0, (2, 2)), color='tab:red', label='$\\chi_S $')\n",
    "\n",
    "plt.semilogx(gammaChiN, chiCritic, label='$\\chi^* $', color='tab:green')\n",
    "\n",
    "# plt.fill_betweenx(fillY, (chiN*G1.root)[0], xmin, color='tab:green', alpha=0.2)\n",
    "# plt.fill_betweenx(fillY, xmax, (chiN*G2.root)[0], color='tab:green', alpha=0.2)\n",
    "\n",
    "# plt.fill_betweenx(fillY, (chiN*G1.root)[0], (chiN*G2.root)[0], color='tab:pink', alpha=0.2)\n",
    "\n",
    "plt.loglog()\n",
    "plt.xlim([xmin,xmax])\n",
    "plt.ylim([ymin,ymax])\n",
    "plt.xticks(**tickfont)\n",
    "plt.yticks(**tickfont)\n",
    "# plt.yticks([0,0.05,0.1,0.15,0.2],**tickfont)\n",
    "# plt.xlabel('$\\gamma \\chi_N$', **labelfont)\n",
    "# plt.ylabel('$\\chi_S$', **labelfont)\n",
    "# plt.legend(**legend)\n",
    "\n",
    "plt.show()"
   ]
  },
  {
   "cell_type": "markdown",
   "id": "b53708be",
   "metadata": {},
   "source": [
    "# protein bound ratio"
   ]
  },
  {
   "cell_type": "code",
   "execution_count": 198,
   "id": "3b4dd3d0",
   "metadata": {
    "ExecuteTime": {
     "end_time": "2025-01-23T16:33:46.794184Z",
     "start_time": "2025-01-23T16:33:46.622943Z"
    }
   },
   "outputs": [
    {
     "data": {
      "image/png": "[encoded data removed]",
      "text/plain": [
       "<Figure size 500x500 with 1 Axes>"
      ]
     },
     "metadata": {},
     "output_type": "display_data"
    }
   ],
   "source": [
    "ax, colors, lineStyles, legend, labelfont, tickfont, C0 = plotHeader(\n",
    "    scale=1.0, fixSize=True, sizeX=5, sizeY=5,\n",
    "    lgdLoc=[0.65,0.3], lgdFontSize=15, lgdFrameAlpha=0.5,\n",
    "    lgdTitle='DNA+targ', lgdTtlFontSize=15,\n",
    "    labelFontSize=20, tickFontSize=20, \n",
    "    tickL=15, tickW=1.5, spineLineW=2\n",
    ")\n",
    "\n",
    "gammaChiN = parms['gamma'].to_numpy()*parms['CN0'].to_numpy()*parms['KPN'].to_numpy()\n",
    "\n",
    "plt.fill_between(\n",
    "    gammaChiN, 0, 1, label='DNA+clusTarg',\n",
    "    facecolor='none', edgecolor='tab:blue', hatch='/', alpha=1.0\n",
    ")\n",
    "plt.fill_between(\n",
    "    gammaChiN, 0, 1, label='DNA', \n",
    "    facecolor='none', edgecolor='tab:orange', hatch='-', alpha=1.0,\n",
    ")\n",
    "plt.fill_between(\n",
    "    gammaChiN, 0, 1, label='DNA+targ',\n",
    "    facecolor='none', edgecolor='tab:green', hatch='.', alpha=1.0\n",
    ")\n",
    "\n",
    "plt.semilogx()\n",
    "plt.xlim([min(gammaChiN),max(gammaChiN)])\n",
    "plt.ylim([0,1])\n",
    "plt.xticks(**tickfont)\n",
    "plt.yticks([],)\n",
    "\n",
    "plt.legend()\n",
    "\n",
    "plt.show()"
   ]
  },
  {
   "cell_type": "code",
   "execution_count": null,
   "id": "d3c289b7",
   "metadata": {},
   "outputs": [],
   "source": []
  },
  {
   "cell_type": "code",
   "execution_count": 206,
   "id": "038970ad",
   "metadata": {
    "ExecuteTime": {
     "end_time": "2025-01-23T16:36:16.582605Z",
     "start_time": "2025-01-23T16:36:16.549320Z"
    }
   },
   "outputs": [
    {
     "data": {
      "text/plain": [
       "([], [])"
      ]
     },
     "execution_count": 206,
     "metadata": {},
     "output_type": "execute_result"
    },
    {
     "data": {
      "image/png": "[encoded data removed]",
      "text/plain": [
       "<Figure size 100x100 with 1 Axes>"
      ]
     },
     "metadata": {},
     "output_type": "display_data"
    }
   ],
   "source": [
    "fig = plt.figure(figsize=(1,1))\n",
    "ax = fig.add_subplot(111)\n",
    "\n",
    "for axis in ['top', 'bottom', 'left', 'right']:\n",
    "    ax.spines[axis].set_linewidth(0)  # change width\n",
    "\n",
    "plt.fill_between(\n",
    "    gammaChiN, 0, 1, label='DNA+clusTarg',\n",
    "    facecolor='none', edgecolor='tab:blue', hatch='/', alpha=1.0\n",
    ")\n",
    "\n",
    "plt.xticks([])\n",
    "plt.yticks([])\n",
    "\n",
    "\n"
   ]
  },
  {
   "cell_type": "code",
   "execution_count": 207,
   "id": "eb439d52",
   "metadata": {
    "ExecuteTime": {
     "end_time": "2025-01-23T16:37:06.713746Z",
     "start_time": "2025-01-23T16:37:06.685053Z"
    }
   },
   "outputs": [
    {
     "data": {
      "text/plain": [
       "([], [])"
      ]
     },
     "execution_count": 207,
     "metadata": {},
     "output_type": "execute_result"
    },
    {
     "data": {
      "image/png": "[encoded data removed]",
      "text/plain": [
       "<Figure size 100x100 with 1 Axes>"
      ]
     },
     "metadata": {},
     "output_type": "display_data"
    }
   ],
   "source": [
    "fig = plt.figure(figsize=(1,1))\n",
    "ax = fig.add_subplot(111)\n",
    "\n",
    "for axis in ['top', 'bottom', 'left', 'right']:\n",
    "    ax.spines[axis].set_linewidth(0)  # change width\n",
    "\n",
    "plt.fill_between(\n",
    "    gammaChiN, 0, 1, label='DNA', \n",
    "    facecolor='none', edgecolor='tab:orange', hatch='-', alpha=1.0,\n",
    ")\n",
    "\n",
    "plt.xticks([])\n",
    "plt.yticks([])\n",
    "\n",
    "\n"
   ]
  },
  {
   "cell_type": "code",
   "execution_count": 208,
   "id": "868f03bf",
   "metadata": {
    "ExecuteTime": {
     "end_time": "2025-01-23T16:37:47.929808Z",
     "start_time": "2025-01-23T16:37:47.894950Z"
    }
   },
   "outputs": [
    {
     "data": {
      "text/plain": [
       "([], [])"
      ]
     },
     "execution_count": 208,
     "metadata": {},
     "output_type": "execute_result"
    },
    {
     "data": {
      "image/png": "[encoded data removed]",
      "text/plain": [
       "<Figure size 100x100 with 1 Axes>"
      ]
     },
     "metadata": {},
     "output_type": "display_data"
    }
   ],
   "source": [
    "fig = plt.figure(figsize=(1,1))\n",
    "ax = fig.add_subplot(111)\n",
    "\n",
    "for axis in ['top', 'bottom', 'left', 'right']:\n",
    "    ax.spines[axis].set_linewidth(0)  # change width\n",
    "\n",
    "plt.fill_between(\n",
    "    gammaChiN, 0, 1, label='DNA+targ',\n",
    "    facecolor='none', edgecolor='tab:green', hatch='.', alpha=1.0\n",
    ")\n",
    "\n",
    "plt.xticks([])\n",
    "plt.yticks([])\n"
   ]
  },
  {
   "cell_type": "code",
   "execution_count": 209,
   "id": "00517b9c",
   "metadata": {
    "ExecuteTime": {
     "end_time": "2025-01-23T18:04:32.705206Z",
     "start_time": "2025-01-23T18:04:32.677727Z"
    }
   },
   "outputs": [
    {
     "data": {
      "text/plain": [
       "([], [])"
      ]
     },
     "execution_count": 209,
     "metadata": {},
     "output_type": "execute_result"
    },
    {
     "data": {
      "image/png": "[encoded data removed]",
      "text/plain": [
       "<Figure size 100x100 with 1 Axes>"
      ]
     },
     "metadata": {},
     "output_type": "display_data"
    }
   ],
   "source": [
    "fig = plt.figure(figsize=(1,1))\n",
    "ax = fig.add_subplot(111)\n",
    "\n",
    "for axis in ['top', 'bottom', 'left', 'right']:\n",
    "    ax.spines[axis].set_linewidth(0)  # change width\n",
    "\n",
    "plt.fill_between(\n",
    "    gammaChiN, 0, 1, label='DNA+targ',\n",
    "    facecolor='none', \n",
    ")\n",
    "\n",
    "plt.xticks([])\n",
    "plt.yticks([])\n"
   ]
  },
  {
   "cell_type": "code",
   "execution_count": null,
   "id": "1d5f9ec2",
   "metadata": {},
   "outputs": [],
   "source": []
  },
  {
   "cell_type": "code",
   "execution_count": null,
   "id": "71f15c42",
   "metadata": {},
   "outputs": [],
   "source": []
  }
 ],
 "metadata": {
  "kernelspec": {
   "display_name": "Python 3 (ipykernel)",
   "language": "python",
   "name": "python3"
  },
  "language_info": {
   "codemirror_mode": {
    "name": "ipython",
    "version": 3
   },
   "file_extension": ".py",
   "mimetype": "text/x-python",
   "name": "python",
   "nbconvert_exporter": "python",
   "pygments_lexer": "ipython3",
   "version": "3.11.5"
  }
 },
 "nbformat": 4,
 "nbformat_minor": 5
}
