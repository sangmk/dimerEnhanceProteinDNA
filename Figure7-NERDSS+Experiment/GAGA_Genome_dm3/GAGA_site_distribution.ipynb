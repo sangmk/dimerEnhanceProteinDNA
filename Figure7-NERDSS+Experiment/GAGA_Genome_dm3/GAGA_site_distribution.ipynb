{
 "cells": [
  {
   "cell_type": "markdown",
   "id": "04031adf",
   "metadata": {},
   "source": [
    "# GAGAG motif distances"
   ]
  },
  {
   "cell_type": "code",
   "execution_count": 1,
   "id": "e83c4d5b",
   "metadata": {
    "ExecuteTime": {
     "end_time": "2025-02-06T00:26:24.371696Z",
     "start_time": "2025-02-06T00:26:23.728447Z"
    }
   },
   "outputs": [],
   "source": [
    "import pandas as pd\n",
    "import numpy as np\n",
    "from matplotlib import pyplot as plt\n",
    "import pyranges as pr\n",
    "from tqdm import tqdm\n",
    "import seaborn as sns"
   ]
  },
  {
   "cell_type": "code",
   "execution_count": 2,
   "id": "41124b1c",
   "metadata": {
    "ExecuteTime": {
     "end_time": "2025-02-06T00:26:28.015294Z",
     "start_time": "2025-02-06T00:26:27.587159Z"
    }
   },
   "outputs": [],
   "source": [
    "# GAF motifs from ChIP-seq\n",
    "ALL_motifs = pd.read_csv('./GAGAG_dm3.csv')\n",
    "# nucleosome positions\n",
    "nucleosomes = pr.read_bed('./dmNuc0210501.nucleosome.iNPSPeak.bed')"
   ]
  },
  {
   "cell_type": "code",
   "execution_count": 3,
   "id": "f4dc92f2",
   "metadata": {
    "ExecuteTime": {
     "end_time": "2025-02-06T00:36:30.954834Z",
     "start_time": "2025-02-06T00:26:28.485431Z"
    },
    "code_folding": [
     2
    ]
   },
   "outputs": [
    {
     "name": "stdout",
     "output_type": "stream",
     "text": [
      "chr2L... chr2R... chr3L... chr3R... chr4... chrX... chrY... end.\n"
     ]
    }
   ],
   "source": [
    "from collections import Counter\n",
    "\n",
    "def find_motifs_between_dyads(chrom, motif):\n",
    "    \"\"\"\n",
    "    Identify the distribution of the number of complete motifs between nucleosome dyads.\n",
    "    \n",
    "    Parameters:\n",
    "    chrom (list or np.array): {0, 1} sequence where 0 represents free DNA and 1 represents dyad of nucleosome.\n",
    "    motif (pd.DataFrame): DataFrame with \"start\" and \"end\" columns indicating motif positions.\n",
    "\n",
    "    Returns:\n",
    "    dict: Distribution of the number of motifs between dyads.\n",
    "    \"\"\"\n",
    "    \n",
    "    # Find indices of dyads\n",
    "    dyad_indices = []\n",
    "    for i, row in chrom.df.iterrows():\n",
    "        if row.Name.split(':')[1].strip() == 'MainPeak':\n",
    "            midleft = int(np.floor((row['Start'] + row['End'])/2))\n",
    "            dyad_indices.append(midleft)\n",
    "\n",
    "    # Ensure dyad_indices is sorted\n",
    "    dyad_indices.sort()\n",
    "    \n",
    "    # Count complete motifs between consecutive dyads\n",
    "    motif_counts = []\n",
    "    for i in range(len(dyad_indices) - 1):\n",
    "        start_dyad = dyad_indices[i]\n",
    "        end_dyad = dyad_indices[i + 1]\n",
    "        \n",
    "        # Count motifs completely between the current dyads\n",
    "        count = sum((motif[\"start\"] > start_dyad) & (motif[\"end\"] < end_dyad))\n",
    "        motif_counts.append(count)\n",
    "\n",
    "    # Calculate the distribution of motif counts\n",
    "    distribution = dict(Counter(motif_counts))\n",
    "    \n",
    "    return distribution\n",
    "\n",
    "# Example usage\n",
    "distributions_all = []\n",
    "for chrom in ['chr2L', 'chr2R', 'chr3L', 'chr3R', 'chr4', 'chrX', 'chrY']:\n",
    "    print(chrom, end='... ')\n",
    "    distributions_all.append(find_motifs_between_dyads(\n",
    "        nucleosomes[chrom], ALL_motifs[ALL_motifs['chr']==chrom]\n",
    "    ))\n",
    "print('end.')\n",
    "# print(distribution)\n"
   ]
  },
  {
   "cell_type": "code",
   "execution_count": 5,
   "id": "29e8d0cd",
   "metadata": {
    "ExecuteTime": {
     "end_time": "2025-02-06T00:36:30.972562Z",
     "start_time": "2025-02-06T00:36:30.965287Z"
    },
    "code_folding": [
     6
    ]
   },
   "outputs": [],
   "source": [
    "def plotHeader(\n",
    "    scale=1.0, fixSize=True, sizeX=5, sizeY=5,\n",
    "    lgdLoc=[0.55,0.00], lgdFontSize=22, lgdHandleL=0.3, \n",
    "    lgdTitle='', lgdTtlFontSize=22,\n",
    "    labelFontSize=20, tickFontSize=27, \n",
    "    tickL=15, tickW=2, spineLineW=2\n",
    "):\n",
    "    labelfont = {'fontsize':labelFontSize*scale}\n",
    "    tickfont = {'fontsize':tickFontSize*scale}\n",
    "    legend = {'fontsize':lgdFontSize*scale, 'loc':lgdLoc, 'handlelength':lgdHandleL*scale, \n",
    "              'title':lgdTitle, 'title_fontsize':lgdTtlFontSize*scale,\n",
    "             'framealpha':0.0}\n",
    "    if fixSize:\n",
    "        fig = plt.figure(figsize=(sizeX*scale,sizeY*scale))\n",
    "        ax = fig.add_subplot(111)\n",
    "    else:\n",
    "        ax = plt.gca()\n",
    "    plt.tick_params(length=tickL*scale, width=tickW*scale)\n",
    "    for axis in ['top', 'bottom', 'left', 'right']:\n",
    "        ax.spines[axis].set_linewidth(spineLineW*scale)  # change width\n",
    "    colors = [\n",
    "        'tab:blue', 'tab:orange', 'tab:green', 'tab:red', 'tab:purple', \n",
    "        'tab:brown', 'tab:pink', 'tab:gray', 'tab:olive', 'tab:cyan'\n",
    "    ]\n",
    "    linsStyles = ['-', '--']\n",
    "    return ax, colors, linsStyles, legend, labelfont, tickfont, 0.6022 # C0, nm^-3 -> M"
   ]
  },
  {
   "cell_type": "code",
   "execution_count": 7,
   "id": "30071727",
   "metadata": {
    "ExecuteTime": {
     "end_time": "2025-02-06T00:52:10.804158Z",
     "start_time": "2025-02-06T00:52:10.797503Z"
    },
    "code_folding": [
     1
    ]
   },
   "outputs": [],
   "source": [
    "distribution_all_combined = {}\n",
    "for distribution in distributions_all:\n",
    "    for count in distribution.keys():\n",
    "        if count > 0:\n",
    "            if count in distribution_all_combined:\n",
    "                distribution_all_combined[count] += distribution[count]\n",
    "            else:\n",
    "                distribution_all_combined[count] = distribution[count]\n",
    "\n",
    "threshold = 7\n",
    "for count in list(distribution_all_combined.keys()):\n",
    "    if count > threshold:\n",
    "        distribution_all_combined[threshold] += distribution_all_combined.pop(count)"
   ]
  },
  {
   "cell_type": "code",
   "execution_count": 9,
   "id": "de10c8c1",
   "metadata": {
    "ExecuteTime": {
     "end_time": "2025-02-06T00:52:22.934329Z",
     "start_time": "2025-02-06T00:52:22.751185Z"
    }
   },
   "outputs": [
    {
     "data": {
      "image/png": "[encoded data removed]",
      "text/plain": [
       "<Figure size 600x500 with 1 Axes>"
      ]
     },
     "metadata": {},
     "output_type": "display_data"
    }
   ],
   "source": [
    "counts = np.array(list(distribution_all_combined.keys()))\n",
    "frequencies = np.array(list(distribution_all_combined.values()))\n",
    "\n",
    "ax, colors, linsStyles, legend, labelfont, tickfont, C0 = plotHeader(\n",
    "    sizeX=6, sizeY=5, spineLineW=1.5, tickW=1.5, tickFontSize=16, labelFontSize=16, \n",
    ")\n",
    "\n",
    "# Create a bar plot\n",
    "plt.bar(counts, frequencies/np.sum(frequencies), color='skyblue', edgecolor='black')\n",
    "\n",
    "# Add labels and title\n",
    "plt.xlabel('Number of GAF Motifs Between Dyads', **labelfont)\n",
    "plt.ylabel('Frequency', **labelfont)\n",
    "plt.semilogy()\n",
    "\n",
    "# Show grid and plot\n",
    "plt.grid(axis='y', linestyle='--', alpha=0.7)\n",
    "plt.xticks(range(1,8), ['1', '2', '3', '4', '5', '6', '7+'], **tickfont)\n",
    "plt.yticks(**tickfont)\n",
    "plt.xlim([0.5,7.5])\n",
    "plt.ylim([0.8e-3,1e0])\n",
    "plt.show()"
   ]
  },
  {
   "cell_type": "code",
   "execution_count": 11,
   "id": "4ecd6454",
   "metadata": {
    "ExecuteTime": {
     "end_time": "2025-02-06T00:52:39.401341Z",
     "start_time": "2025-02-06T00:52:39.393463Z"
    }
   },
   "outputs": [
    {
     "data": {
      "text/plain": [
       "array([0.73077932, 0.17397946, 0.05163624, 0.0199329 , 0.00998051,\n",
       "       0.00489185, 0.00879972])"
      ]
     },
     "execution_count": 11,
     "metadata": {},
     "output_type": "execute_result"
    }
   ],
   "source": [
    "frequencies[counts.argsort()]/np.sum(frequencies)"
   ]
  }
 ],
 "metadata": {
  "kernelspec": {
   "display_name": "Python 3 (ipykernel)",
   "language": "python",
   "name": "python3"
  },
  "language_info": {
   "codemirror_mode": {
    "name": "ipython",
    "version": 3
   },
   "file_extension": ".py",
   "mimetype": "text/x-python",
   "name": "python",
   "nbconvert_exporter": "python",
   "pygments_lexer": "ipython3",
   "version": "3.11.5"
  }
 },
 "nbformat": 4,
 "nbformat_minor": 5
}
