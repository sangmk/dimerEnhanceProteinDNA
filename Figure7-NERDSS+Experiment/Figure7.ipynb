{
 "cells": [
  {
   "cell_type": "code",
   "execution_count": 1,
   "metadata": {
    "ExecuteTime": {
     "end_time": "2025-05-01T16:37:29.361022Z",
     "start_time": "2025-05-01T16:37:28.734753Z"
    }
   },
   "outputs": [],
   "source": [
    "import numpy as np\n",
    "import pandas as pd\n",
    "from matplotlib import pyplot as plt\n",
    "import seaborn as sns\n",
    "import sys\n",
    "from progressbar import progressbar"
   ]
  },
  {
   "cell_type": "code",
   "execution_count": 2,
   "metadata": {
    "ExecuteTime": {
     "end_time": "2025-05-01T16:37:29.368420Z",
     "start_time": "2025-05-01T16:37:29.362449Z"
    }
   },
   "outputs": [],
   "source": [
    "import sys\n",
    "from scipy.optimize import fsolve, root_scalar\n",
    "sys.path.append('/home/local/WIN/msang2/mankun/Notebooks/[01]dimerEnhanceProteinDNA/')\n",
    "# modules for direct calculation\n",
    "import analytics as ana\n",
    "import analyzeEqui as num\n",
    "# stochastic simulation (Gillespie)\n",
    "# from Simulations.odeSolver.reversible.singleS import labels\n",
    "from Simulations.odeSolver.doubleS import rxnNetwork as rxnDoubleS, labels as labelsDoubleS\n",
    "from Simulations.odeSolver.singleS import rxnNetwork as rxnSingleS, labels as labelsSingleS\n",
    "from Simulations.odeSolver.Nonly import rxnNetwork as rxnNonly, labels as labelsNonly\n",
    "from Simulations.odeSolver.main import main as numericSolver\n",
    "# for generating parameters\n",
    "from GenerateParameters import GenParameters"
   ]
  },
  {
   "cell_type": "markdown",
   "metadata": {},
   "source": [
    "# Selectivity theory v.s. NERDSS"
   ]
  },
  {
   "cell_type": "code",
   "execution_count": 3,
   "metadata": {
    "ExecuteTime": {
     "end_time": "2025-05-01T16:37:29.372744Z",
     "start_time": "2025-05-01T16:37:29.369673Z"
    }
   },
   "outputs": [],
   "source": [
    "GenParms = lambda NP0, NS, scale, KPP: GenParameters(\n",
    "    numTargets=NS, NP0=NP0, KPP=[KPP], KPN=[10], area3Dto1D=[10], lengthScale=scale, \n",
    "    kbPP_fixed=0.4, kaPN=0.02*1e6, kaPS=0.1*1e6\n",
    ")\n",
    "parms = GenParms([2,4], 2, 2, 10)"
   ]
  },
  {
   "cell_type": "code",
   "execution_count": 4,
   "metadata": {
    "ExecuteTime": {
     "end_time": "2025-05-01T16:37:29.379277Z",
     "start_time": "2025-05-01T16:37:29.373506Z"
    },
    "code_folding": [
     0,
     20
    ]
   },
   "outputs": [],
   "source": [
    "def freeProDiff(NP1, Ntot = 2, NS = 2, scale = 2, KPP = 1e6):\n",
    "    if isinstance(NP1, (np.int_, np.float_, float, int)):\n",
    "        N1 = np.array([NP1])\n",
    "    else:\n",
    "        N1 = NP1\n",
    "    \n",
    "    if N1[0] < 1e-9:\n",
    "        parm2 = GenParms(Ntot - N1, NS, scale, KPP)\n",
    "        equi2 = numericSolver(parm2, rxnDoubleS, labelsDoubleS, ifprint=False)\n",
    "        theta2 = num.calc_BoundRatio_modelC(parm=parm2.iloc[0], equi=equi2.iloc[0])\n",
    "        return -((Ntot-N1)*(1-theta2))[0]\n",
    "    else:\n",
    "        parm1 = GenParms(N1, NS, scale, KPP)\n",
    "        parm2 = GenParms(Ntot - N1, NS, scale, KPP)\n",
    "        equi1 = numericSolver(parm1, rxnSingleS, labelsSingleS, ifprint=False)\n",
    "        equi2 = numericSolver(parm2, rxnDoubleS, labelsDoubleS, ifprint=False)\n",
    "        theta1 = num.calc_BoundRatio_modelB(parm=parm1.iloc[0], equi=equi1.iloc[0])\n",
    "        theta2 = num.calc_BoundRatio_modelC(parm=parm2.iloc[0], equi=equi2.iloc[0])\n",
    "        return (N1*(1-theta1) - (Ntot-N1)*(1-theta2))[0]\n",
    "    \n",
    "def pBoundRatios(NP1, Ntot = 2, NS = 2, scale = 2, KPP = 1e6):\n",
    "    if isinstance(NP1, (np.int_, np.float_, float, int)):\n",
    "        N1 = np.array([NP1])\n",
    "    else:\n",
    "        N1 = NP1\n",
    "    \n",
    "    if N1[0] < 1e-9:\n",
    "        parm2 = GenParms(Ntot - N1, NS, scale, KPP)\n",
    "        equi2 = numericSolver(parm2, rxnDoubleS, labelsDoubleS, ifprint=False)\n",
    "        theta2 = num.calc_BoundRatio_modelC(parm=parm2.iloc[0], equi=equi2.iloc[0])\n",
    "        return 0, theta2\n",
    "    else:\n",
    "        parm1 = GenParms(N1, NS, scale, KPP)\n",
    "        parm2 = GenParms(Ntot - N1, NS, scale, KPP)\n",
    "        equi1 = numericSolver(parm1, rxnSingleS, labelsSingleS, ifprint=False)\n",
    "        equi2 = numericSolver(parm2, rxnDoubleS, labelsDoubleS, ifprint=False)\n",
    "        theta1 = num.calc_BoundRatio_modelB(parm=parm1.iloc[0], equi=equi1.iloc[0])\n",
    "        theta2 = num.calc_BoundRatio_modelC(parm=parm2.iloc[0], equi=equi2.iloc[0])\n",
    "        return theta1, theta2\n",
    "    \n",
    "def proteinsOnDNA(N1, Ntot, theta1, theta2):\n",
    "    return theta1*(N1), theta2*(Ntot - N1)"
   ]
  },
  {
   "cell_type": "code",
   "execution_count": 5,
   "metadata": {
    "ExecuteTime": {
     "end_time": "2025-05-01T16:38:17.860100Z",
     "start_time": "2025-05-01T16:37:29.380053Z"
    },
    "code_folding": []
   },
   "outputs": [
    {
     "name": "stderr",
     "output_type": "stream",
     "text": [
      "100% (29 of 29) |########################| Elapsed Time: 0:00:26 Time:  0:00:26\n",
      "100% (29 of 29) |########################| Elapsed Time: 0:00:22 Time:  0:00:22\n"
     ]
    }
   ],
   "source": [
    "KPPList = 10.0**np.arange(0,7.01,0.25)\n",
    "clustered_onDNA = []\n",
    "separated_onDNA = []\n",
    "for i, Ptot in enumerate([2, 4]):\n",
    "    spr_n = []\n",
    "    cls_n = []\n",
    "    for j in progressbar(range(len(KPPList))):\n",
    "        kpp = KPPList[j]\n",
    "        r_dimer = root_scalar(freeProDiff, x0=Ptot/2, x1=Ptot/2*0.9, xtol=1e-6, args=(Ptot, 2, 2, kpp))\n",
    "        th1, th2 = pBoundRatios(r_dimer.root, Ptot, 2, 2, kpp)\n",
    "        spr, cls = proteinsOnDNA(r_dimer.root, Ptot, th1, th2)\n",
    "        cls_n.append(cls)\n",
    "        spr_n.append(spr)\n",
    "    clustered_onDNA.append(cls_n)\n",
    "    separated_onDNA.append(spr_n)\n",
    "clustered_onDNA = np.array(clustered_onDNA)\n",
    "separated_onDNA = np.array(separated_onDNA)"
   ]
  },
  {
   "cell_type": "code",
   "execution_count": 6,
   "metadata": {
    "ExecuteTime": {
     "end_time": "2025-05-01T16:38:17.864430Z",
     "start_time": "2025-05-01T16:38:17.861285Z"
    }
   },
   "outputs": [],
   "source": [
    "# NERDSS results\n",
    "# raw data available while asking. msang2@jh.edu\n",
    "\n",
    "slcList_repeats_2pro = [[0.7846134133371219, 1.1148256877425806, 3.226054260749391, 29.900123663086855, 189.86720995670993, 328.83102380952386, 716.3366904761904], \n",
    "                        [0.08059040750221995, 0.1138934291917021, 0.3452691124787163, 5.3201632313452265, 137.15285469713717, 249.43847606756407, 319.90795991151896]]\n",
    "slcList_repeats_4pro =  [[0.7839380458445123, 1.608361702731444, 2.4142460159166124, 3.017057706286011, 2.75540309837026, 2.2933347821954073, 3.4153309304606063], \n",
    "                         [0.06433321086749408, 0.12193825141052676, 0.15954401742176008, 0.21645287528201054, 0.12229826213536317, 0.09116039107861558, 0.14586540127521788]]\n",
    "slcList_repeats = [slcList_repeats_2pro, slcList_repeats_4pro]"
   ]
  },
  {
   "cell_type": "code",
   "execution_count": 7,
   "metadata": {
    "ExecuteTime": {
     "end_time": "2025-05-01T16:38:18.136849Z",
     "start_time": "2025-05-01T16:38:17.866574Z"
    }
   },
   "outputs": [
    {
     "data": {
      "image/png": "[encoded data removed]",
      "text/plain": [
       "<Figure size 400x300 with 1 Axes>"
      ]
     },
     "metadata": {},
     "output_type": "display_data"
    }
   ],
   "source": [
    "alphas = [1/3, 1]\n",
    "colors = ['tab:orange', 'black']\n",
    "plt.figure(figsize=(4,3))\n",
    "plt.tick_params(length=10, width=1.2)\n",
    "ax = plt.subplot(111)\n",
    "for axis in ['top', 'bottom', 'left', 'right']:\n",
    "    ax.spines[axis].set_linewidth(1.2)\n",
    "    \n",
    "for i, slcRepeat in enumerate(slcList_repeats):\n",
    "    plt.errorbar(\n",
    "        np.array([0, 1e1, 1e2, 1e3, 1e4, 1e5, 1e6]), \n",
    "        slcRepeat[0], slcRepeat[1], \n",
    "        ls='', color=colors[i], marker='.', #edgecolors='black', alpha=alphas[1], \n",
    "    )\n",
    "    \n",
    "for i, ntot in enumerate([2, 4]):\n",
    "    plt.plot(\n",
    "        KPPList, ((clustered_onDNA/separated_onDNA))[i], ls='-', \n",
    "        label='$N_P^{tot}$=%d'%ntot, lw=2, color=colors[i], #color='tab:orange', alpha=alphas[i], \n",
    "        zorder=1,\n",
    "    )\n",
    "\n",
    "\n",
    "# plt.title('proteins on DNA', fontsize=13)\n",
    "plt.legend(loc=[0.01,0.67], fontsize=13, handlelength=0.5, framealpha=0)\n",
    "plt.loglog()\n",
    "# plt.ylim([0.,1.01])\n",
    "plt.yticks(fontsize=18)\n",
    "plt.xticks(fontsize=18)\n",
    "plt.show()"
   ]
  },
  {
   "cell_type": "markdown",
   "metadata": {},
   "source": [
    "# Selectivity - NERDSS spatial"
   ]
  },
  {
   "cell_type": "markdown",
   "metadata": {},
   "source": [
    "Raw data availabel while asking. msang2@jh.edu"
   ]
  },
  {
   "cell_type": "markdown",
   "metadata": {},
   "source": [
    "# Four DNA segments"
   ]
  },
  {
   "cell_type": "code",
   "execution_count": 8,
   "metadata": {
    "ExecuteTime": {
     "end_time": "2025-05-01T16:38:18.149183Z",
     "start_time": "2025-05-01T16:38:18.139664Z"
    },
    "code_folding": [
     7
    ]
   },
   "outputs": [],
   "source": [
    "# results from NERDSS simulations\n",
    "targetCluster = np.array([1, 2, 3, 4])\n",
    "figsize = (2.8,4)\n",
    "\n",
    "import numpy as np\n",
    "import scipy.stats as stats\n",
    "\n",
    "def calculate_ttest_pvalue(mean1, se1, mean2, se2, n1=30, n2=30, equal_var=False):\n",
    "    \"\"\"\n",
    "    Calculate t-test p-value from means and standard errors.\n",
    "    \n",
    "    Parameters:\n",
    "    -----------\n",
    "    mean1, mean2 : float\n",
    "        Means of the two groups\n",
    "    se1, se2 : float\n",
    "        Standard errors of the two groups (can be from bootstrap)\n",
    "    n1, n2 : int\n",
    "        Original sample sizes of the two groups\n",
    "    equal_var : bool, optional\n",
    "        Whether to assume equal variances (default is False)\n",
    "    \n",
    "    Returns:\n",
    "    --------\n",
    "    dict\n",
    "        Contains t-statistic, degrees of freedom, two-tailed p-value, \n",
    "        and 95% confidence interval for the difference\n",
    "    \"\"\"\n",
    "    # Calculate mean difference\n",
    "    mean_diff = mean2 - mean1\n",
    "    \n",
    "    # Calculate standard error of the difference\n",
    "    se_diff = np.sqrt(se1**2 + se2**2)\n",
    "    \n",
    "    # Calculate t-statistic\n",
    "    t_stat = mean_diff / se_diff\n",
    "    \n",
    "    # Calculate degrees of freedom\n",
    "    if equal_var:\n",
    "        # Pooled variance t-test\n",
    "        df = n1 + n2 - 2\n",
    "    else:\n",
    "        # Welch-Satterthwaite approximation for degrees of freedom (unequal variances)\n",
    "        df = ((se1**2 + se2**2)**2) / ((se1**4 / (n1-1)) + (se2**4 / (n2-1)))\n",
    "    \n",
    "    # Calculate two-tailed p-value\n",
    "    p_value = 2 * (1 - stats.t.cdf(abs(t_stat), df))\n",
    "    \n",
    "    # Calculate 95% confidence interval\n",
    "    t_critical = stats.t.ppf(0.975, df)  # 97.5th percentile for 95% CI\n",
    "    margin = t_critical * se_diff\n",
    "    ci_lower = mean_diff - margin\n",
    "    ci_upper = mean_diff + margin\n",
    "    \n",
    "    return p_value\n"
   ]
  },
  {
   "cell_type": "markdown",
   "metadata": {},
   "source": [
    "## Proteins can form dimers"
   ]
  },
  {
   "cell_type": "code",
   "execution_count": 9,
   "metadata": {
    "ExecuteTime": {
     "end_time": "2025-05-01T16:38:18.154310Z",
     "start_time": "2025-05-01T16:38:18.150707Z"
    }
   },
   "outputs": [],
   "source": [
    "# total protein number is 428\n",
    "DNApartition_2 = ([1/428.        , 0.1932004 , 0.34046152, 0.43666561],\n",
    "                 [1/428.        , 0.03428115, 0.02344495, 0.03153427])"
   ]
  },
  {
   "cell_type": "code",
   "execution_count": 10,
   "metadata": {
    "ExecuteTime": {
     "end_time": "2025-05-01T16:38:18.158577Z",
     "start_time": "2025-05-01T16:38:18.155162Z"
    }
   },
   "outputs": [
    {
     "name": "stdout",
     "output_type": "stream",
     "text": [
      "6.5036923793115875e-06\n",
      "0.37531469873123235\n",
      "0.6985274559220707\n"
     ]
    }
   ],
   "source": [
    "for i in range(3):\n",
    "    mu1 = DNApartition_2[0][i] / targetCluster[i]\n",
    "    se1 = DNApartition_2[1][i] / targetCluster[i]\n",
    "    mu2 = DNApartition_2[0][i+1] / targetCluster[i+1]\n",
    "    se2 = DNApartition_2[1][i+1] / targetCluster[i+1]\n",
    "    print(calculate_ttest_pvalue(mu1, se1, mu2, se2))"
   ]
  },
  {
   "cell_type": "code",
   "execution_count": 11,
   "metadata": {
    "ExecuteTime": {
     "end_time": "2025-05-01T16:38:18.253373Z",
     "start_time": "2025-05-01T16:38:18.159356Z"
    }
   },
   "outputs": [
    {
     "data": {
      "image/png": "[encoded data removed]",
      "text/plain": [
       "<Figure size 280x400 with 1 Axes>"
      ]
     },
     "metadata": {},
     "output_type": "display_data"
    }
   ],
   "source": [
    "plt.figure(figsize=figsize)\n",
    "plt.tick_params(length=10, width=1.2)\n",
    "ax = plt.subplot(111)\n",
    "for axis in ['top', 'bottom', 'left', 'right']:\n",
    "    ax.spines[axis].set_linewidth(1.2)\n",
    "\n",
    "plt.bar(\n",
    "    2*targetCluster, DNApartition_2[0], yerr=DNApartition_2[1],\n",
    "    capsize=5, edgecolor='black', facecolor='tab:blue', label='Total'\n",
    ")\n",
    "\n",
    "plt.bar(\n",
    "    2*targetCluster-1, DNApartition_2[0]/targetCluster, \n",
    "    yerr=DNApartition_2[1]/targetCluster,\n",
    "    capsize=5, edgecolor='black', facecolor='none', label='per target'\n",
    ")\n",
    "\n",
    "plt.legend(fontsize=12)\n",
    "\n",
    "plt.xticks(2*targetCluster-0.5, targetCluster, fontsize=16)\n",
    "plt.yticks(fontsize=0)\n",
    "plt.ylim([0., 0.65])\n",
    "plt.show()"
   ]
  },
  {
   "cell_type": "markdown",
   "metadata": {},
   "source": [
    "## monomer"
   ]
  },
  {
   "cell_type": "code",
   "execution_count": 12,
   "metadata": {
    "ExecuteTime": {
     "end_time": "2025-05-01T16:38:18.256364Z",
     "start_time": "2025-05-01T16:38:18.254196Z"
    }
   },
   "outputs": [],
   "source": [
    "DNApartition_1 = ([0.01963284, 0.04229797, 0.07063262, 0.0853417],\n",
    "                 [0.00603037, 0.00844562, 0.00908131, 0.01204614])"
   ]
  },
  {
   "cell_type": "code",
   "execution_count": 13,
   "metadata": {
    "ExecuteTime": {
     "end_time": "2025-05-01T16:38:18.261091Z",
     "start_time": "2025-05-01T16:38:18.257275Z"
    }
   },
   "outputs": [
    {
     "name": "stdout",
     "output_type": "stream",
     "text": [
      "0.8376392063201665\n",
      "0.6467004943373733\n",
      "0.606926639098837\n"
     ]
    }
   ],
   "source": [
    "for i in range(3):\n",
    "    mu1 = DNApartition_1[0][i] / targetCluster[i]\n",
    "    se1 = DNApartition_1[1][i] / targetCluster[i]\n",
    "    mu2 = DNApartition_1[0][i+1] / targetCluster[i+1]\n",
    "    se2 = DNApartition_1[1][i+1] / targetCluster[i+1]\n",
    "    print(calculate_ttest_pvalue(mu1, se1, mu2, se2))"
   ]
  },
  {
   "cell_type": "code",
   "execution_count": 14,
   "metadata": {
    "ExecuteTime": {
     "end_time": "2025-05-01T16:38:18.347006Z",
     "start_time": "2025-05-01T16:38:18.262006Z"
    }
   },
   "outputs": [
    {
     "data": {
      "image/png": "[encoded data removed]",
      "text/plain": [
       "<Figure size 280x400 with 1 Axes>"
      ]
     },
     "metadata": {},
     "output_type": "display_data"
    }
   ],
   "source": [
    "plt.figure(figsize=figsize)\n",
    "plt.tick_params(length=10, width=1.2)\n",
    "ax = plt.subplot(111)\n",
    "for axis in ['top', 'bottom', 'left', 'right']:\n",
    "    ax.spines[axis].set_linewidth(1.2)\n",
    "\n",
    "plt.bar(\n",
    "    2*targetCluster, DNApartition_1[0], yerr=DNApartition_1[1],\n",
    "    capsize=5, edgecolor='black', facecolor='tab:red', label='Total'\n",
    ")\n",
    "\n",
    "plt.bar(\n",
    "    2*targetCluster-1, DNApartition_1[0]/targetCluster, \n",
    "    yerr=DNApartition_1[1]/targetCluster,\n",
    "    capsize=5, edgecolor='black', facecolor='none', label='per target'\n",
    ")\n",
    "\n",
    "plt.legend(fontsize=12)\n",
    "\n",
    "plt.xticks(2*targetCluster-0.5, targetCluster, fontsize=16)\n",
    "plt.yticks(fontsize=16)\n",
    "plt.ylim([0., 0.65])\n",
    "plt.show()"
   ]
  },
  {
   "cell_type": "markdown",
   "metadata": {},
   "source": [
    "## Linear tetramer"
   ]
  },
  {
   "cell_type": "code",
   "execution_count": 15,
   "metadata": {
    "ExecuteTime": {
     "end_time": "2025-05-01T16:38:18.350925Z",
     "start_time": "2025-05-01T16:38:18.348346Z"
    }
   },
   "outputs": [],
   "source": [
    "DNApartition_4 = ([1/396 , 0.08206282, 0.30460399, 0.54261452],\n",
    "                 [1/396, 0.03363388, 0.06487353, 0.08738131])"
   ]
  },
  {
   "cell_type": "code",
   "execution_count": 16,
   "metadata": {
    "ExecuteTime": {
     "end_time": "2025-05-01T16:38:18.355394Z",
     "start_time": "2025-05-01T16:38:18.351934Z"
    }
   },
   "outputs": [
    {
     "name": "stdout",
     "output_type": "stream",
     "text": [
      "0.03086432216598789\n",
      "0.03141021893738438\n",
      "0.2715866700013434\n"
     ]
    }
   ],
   "source": [
    "for i in range(3):\n",
    "    mu1 = DNApartition_4[0][i] / targetCluster[i]\n",
    "    se1 = DNApartition_4[1][i] / targetCluster[i]\n",
    "    mu2 = DNApartition_4[0][i+1] / targetCluster[i+1]\n",
    "    se2 = DNApartition_4[1][i+1] / targetCluster[i+1]\n",
    "    print(calculate_ttest_pvalue(mu1, se1, mu2, se2))"
   ]
  },
  {
   "cell_type": "code",
   "execution_count": 17,
   "metadata": {
    "ExecuteTime": {
     "end_time": "2025-05-01T16:38:18.440301Z",
     "start_time": "2025-05-01T16:38:18.356125Z"
    }
   },
   "outputs": [
    {
     "data": {
      "image/png": "[encoded data removed]",
      "text/plain": [
       "<Figure size 280x400 with 1 Axes>"
      ]
     },
     "metadata": {},
     "output_type": "display_data"
    }
   ],
   "source": [
    "plt.figure(figsize=figsize)\n",
    "plt.tick_params(length=10, width=1.2)\n",
    "ax = plt.subplot(111)\n",
    "for axis in ['top', 'bottom', 'left', 'right']:\n",
    "    ax.spines[axis].set_linewidth(1.2)\n",
    "\n",
    "plt.bar(\n",
    "    2*targetCluster, DNApartition_4[0], yerr=DNApartition_4[1],\n",
    "    capsize=5, edgecolor='black', facecolor='tab:orange', label='Total'\n",
    ")\n",
    "\n",
    "plt.bar(\n",
    "    2*targetCluster-1, DNApartition_4[0]/targetCluster, \n",
    "    yerr=DNApartition_4[1]/targetCluster,\n",
    "    capsize=5, edgecolor='black', facecolor='none', label='per target'\n",
    ")\n",
    "\n",
    "plt.legend(fontsize=12)\n",
    "\n",
    "plt.xticks(2*targetCluster-0.5, targetCluster, fontsize=16)\n",
    "plt.yticks(fontsize=0)\n",
    "plt.ylim([0., 0.65])\n",
    "\n",
    "plt.show()"
   ]
  },
  {
   "cell_type": "code",
   "execution_count": null,
   "metadata": {},
   "outputs": [],
   "source": []
  },
  {
   "cell_type": "code",
   "execution_count": null,
   "metadata": {},
   "outputs": [],
   "source": []
  }
 ],
 "metadata": {
  "kernelspec": {
   "display_name": "Python 3 (ipykernel)",
   "language": "python",
   "name": "python3"
  },
  "language_info": {
   "codemirror_mode": {
    "name": "ipython",
    "version": 3
   },
   "file_extension": ".py",
   "mimetype": "text/x-python",
   "name": "python",
   "nbconvert_exporter": "python",
   "pygments_lexer": "ipython3",
   "version": "3.11.5"
  }
 },
 "nbformat": 4,
 "nbformat_minor": 2
}
