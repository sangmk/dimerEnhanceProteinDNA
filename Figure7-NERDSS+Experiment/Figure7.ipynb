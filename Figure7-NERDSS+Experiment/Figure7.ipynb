{
 "cells": [
  {
   "cell_type": "code",
   "execution_count": 42,
   "metadata": {
    "ExecuteTime": {
     "end_time": "2025-02-27T18:58:56.794194Z",
     "start_time": "2025-02-27T18:58:56.790323Z"
    }
   },
   "outputs": [],
   "source": [
    "import numpy as np\n",
    "import pandas as pd\n",
    "from matplotlib import pyplot as plt\n",
    "import seaborn as sns\n",
    "import sys\n",
    "from progressbar import progressbar"
   ]
  },
  {
   "cell_type": "code",
   "execution_count": 43,
   "metadata": {
    "ExecuteTime": {
     "end_time": "2025-02-27T18:58:56.968918Z",
     "start_time": "2025-02-27T18:58:56.964574Z"
    }
   },
   "outputs": [],
   "source": [
    "import sys\n",
    "from scipy.optimize import fsolve, root_scalar\n",
    "sys.path.append('/home/local/WIN/msang2/mankun/Notebooks/[01]dimerEnhanceProteinDNA/')\n",
    "# modules for direct calculation\n",
    "import analytics as ana\n",
    "import analyzeEqui as num\n",
    "# stochastic simulation (Gillespie)\n",
    "# from Simulations.odeSolver.reversible.singleS import labels\n",
    "from Simulations.odeSolver.doubleS import rxnNetwork as rxnDoubleS, labels as labelsDoubleS\n",
    "from Simulations.odeSolver.singleS import rxnNetwork as rxnSingleS, labels as labelsSingleS\n",
    "from Simulations.odeSolver.Nonly import rxnNetwork as rxnNonly, labels as labelsNonly\n",
    "from Simulations.odeSolver.main import main as numericSolver\n",
    "# for generating parameters\n",
    "from GenerateParameters import GenParameters"
   ]
  },
  {
   "cell_type": "markdown",
   "metadata": {},
   "source": [
    "# Discrete protein number selectivity"
   ]
  },
  {
   "cell_type": "code",
   "execution_count": 52,
   "metadata": {
    "ExecuteTime": {
     "end_time": "2025-02-27T19:00:27.110939Z",
     "start_time": "2025-02-27T19:00:27.105481Z"
    }
   },
   "outputs": [],
   "source": [
    "GenParms = lambda NP0, NS, scale, KPP: GenParameters(\n",
    "    numTargets=NS, NP0=NP0, KPP=[KPP], KPN=[10], area3Dto1D=[10], lengthScale=scale, \n",
    "    kbPP_fixed=0.4, kaPN=0.02*1e6, kaPS=0.1*1e6\n",
    ")"
   ]
  },
  {
   "cell_type": "code",
   "execution_count": 53,
   "metadata": {
    "ExecuteTime": {
     "end_time": "2025-02-27T19:00:27.292353Z",
     "start_time": "2025-02-27T19:00:27.283580Z"
    }
   },
   "outputs": [],
   "source": [
    "parms = GenParms(10.0**np.arange(0,7.01,0.25), 2, 2, 10)"
   ]
  },
  {
   "cell_type": "code",
   "execution_count": 55,
   "metadata": {
    "ExecuteTime": {
     "end_time": "2025-02-27T19:22:29.498881Z",
     "start_time": "2025-02-27T19:22:29.465694Z"
    },
    "code_folding": [
     0,
     11
    ]
   },
   "outputs": [],
   "source": [
    "def pFree_Monomer(parm, V):\n",
    "    # Assume there is only one protein\n",
    "    KPS = parm['KPS']\n",
    "    KPP = parm['KPP']\n",
    "    KPN = parm['KPN']\n",
    "    S = parm['CS0'] * V\n",
    "    N = parm['CN0'] * V\n",
    "    C0 = 0.6022\n",
    "    gamma = parm['gamma']\n",
    "    return 1 / (1 + KPS/V*S + KPN/V*N + gamma*KPS/V*KPN/V*S*N)\n",
    "\n",
    "def pFree_Dimer(parm, V, cluster:bool):\n",
    "    # Assume there are two proteins\n",
    "    KPS = parm['KPS']\n",
    "    KPP = parm['KPP']\n",
    "    KPN = parm['KPN']\n",
    "    S = parm['CS0'] * V\n",
    "    N = parm['CN0'] * V\n",
    "    C0 = 0.6022\n",
    "    gamma = parm['gamma']\n",
    "    \n",
    "    # relative probabilities\n",
    "    # containing free monomers\n",
    "    P_P = 1\n",
    "    PS_P = 2*KPS/V*S\n",
    "    PN_P = 2*KPN/V*N\n",
    "    PSN_P = 2*gamma*(KPS/V)*(KPN/V) * S*N\n",
    "    # monomer + monomer\n",
    "    PS_PS = (KPS/V)**2 * S*(S-1)\n",
    "    PN_PN = (KPN/V)**2 * N*(N-1)\n",
    "    PS_PN = 2*(KPS/V)*(KPN/V) * S*N\n",
    "    PSN_PS = 2*gamma*(KPS/V)**2*(KPN/V) * S*(S-1)*N\n",
    "    PSN_PN = 2*gamma*(KPS/V)*(KPN/V)**2 * S*N*(N-1)\n",
    "    PSN_PSN = (gamma*KPS/V*KPN/V)**2 * S*(S-1)*N*(N-1)\n",
    "    # dimer, take Ptot = 2\n",
    "    PP = 2*(KPP/V)*2\n",
    "    PPS = 2*(KPP/V)*2*(KPS/V) * 2*S\n",
    "    PPN = 2*(KPP/V)*2*(KPN/V) * 2*N\n",
    "    PPSN = 2*gamma*(KPP/V)*2*KPS/V*KPN/V * 2*S*N\n",
    "    PSPN = 2*gamma*(KPP/V)*2*KPS/V*KPN/V * 2*S*N\n",
    "    PNPN = 2*gamma*(KPP/V)*(KPN/V)**2 * 2*N*(N-1)\n",
    "    PSPS = 2*(KPP/V)*(KPS/V)*(KPS*C0) * 2*S\n",
    "    PSPSN = 2*gamma*(KPP/V)*(KPS/V)*(KPS*C0)*2*(KPN/V) * 2*S*N\n",
    "    PNPSN = 2*gamma**2*(KPP/V)*(KPN/V)**2*2*(KPS/V) * 2*N*(N-1)*S\n",
    "    PSNPSN = 2*gamma**2*(KPP/V)*(KPN/V)**2*(KPS/V)*(KPS*C0) * 2*N*(N-1)*S\n",
    "    \n",
    "    if cluster:\n",
    "        total = (1 + PS_P + PN_P + PSN_P) + \\\n",
    "                (PS_PS + PN_PN + PS_PN + PSN_PS + PSN_PN + PSN_PSN) + \\\n",
    "                (PP + PPS + PPN + PPSN + PSPN + PNPN + PSPS + PSPSN + PNPSN + PSNPSN)\n",
    "    else:\n",
    "        total = (1 + PS_P + PN_P + PSN_P) + \\\n",
    "                (PS_PS + PN_PN + PS_PN + PSN_PS + PSN_PN + PSN_PSN) + \\\n",
    "                (PP + PPS + PPN + PPSN + PSPN + PNPN + PNPSN)\n",
    "    \n",
    "    return (2*P_P + PS_P + PN_P + PSN_P) / total\n",
    "\n",
    "def partition_Dimer(parm, V, cluster:bool):\n",
    "    # Assume there are two proteins\n",
    "    KPS = parm['KPS']\n",
    "    KPP = parm['KPP']\n",
    "    KPN = parm['KPN']\n",
    "    S = parm['CS0'] * V\n",
    "    N = parm['CN0'] * V\n",
    "    C0 = 0.6022\n",
    "    gamma = parm['gamma']\n",
    "    \n",
    "    # relative probabilities\n",
    "    # containing free monomers\n",
    "    P_P = 1\n",
    "    PS_P = 2*KPS/V*S\n",
    "    PN_P = 2*KPN/V*N\n",
    "    PSN_P = 2*gamma*(KPS/V)*(KPN/V) * S*N\n",
    "    # monomer + monomer\n",
    "    PS_PS = (KPS/V)**2 * S*(S-1)\n",
    "    PN_PN = (KPN/V)**2 * N*(N-1)\n",
    "    PS_PN = 2*(KPS/V)*(KPN/V) * S*N\n",
    "    PSN_PS = 2*gamma*(KPS/V)**2*(KPN/V) * S*(S-1)*N\n",
    "    PSN_PN = 2*gamma*(KPS/V)*(KPN/V)**2 * S*N*(N-1)\n",
    "    PSN_PSN = (gamma*KPS/V*KPN/V)**2 * S*(S-1)*N*(N-1)\n",
    "    # dimer, take Ptot = 2\n",
    "    PP = 2*(KPP/V)*2\n",
    "    PPS = 2*(KPP/V)*2*(KPS/V) * 2*S\n",
    "    PPN = 2*(KPP/V)*2*(KPN/V) * 2*N\n",
    "    PPSN = 2*gamma*(KPP/V)*2*(KPS/V)*(KPN/V) * 2*S*N\n",
    "    PSPN = 2*gamma*(KPP/V)*2*KPS/V*KPN/V * 2*S*N\n",
    "    PNPN = 2*gamma*(KPP/V)*(KPN/V)**2 * 2*N*(N-1)\n",
    "    PSPS = 2*(KPP/V)*2*(KPS/V)*(KPS*C0) * 2*S\n",
    "    PSPSN = 2*gamma*(KPP/V)*2*(KPS/V)*(KPS*C0)*2*(KPN/V) * 2*S*N\n",
    "    PNPSN = 2*gamma**2*(KPP/V)*2*(KPN/V)**2*2*(KPS/V) * 2*N*(N-1)*S\n",
    "    PSNPSN = 2*gamma**2*(KPP/V)*2*(KPN/V)**2*(KPS/V)*(KPS*C0) * 2*N*(N-1)*S\n",
    "    \n",
    "    if cluster:\n",
    "        total = (1 + PS_P + PN_P + PSN_P) + \\\n",
    "                (PS_PS + PN_PN + PS_PN + PSN_PS + PSN_PN + PSN_PSN) + \\\n",
    "                (PP + PPS + PPN + PPSN + PSPN + PNPN + PSPS + PSPSN + PNPSN + PSNPSN)\n",
    "    else:\n",
    "        total = (1 + PS_P + PN_P + PSN_P) + \\\n",
    "                (PS_PS + PN_PN + PS_PN + PSN_PS + PSN_PN + PSN_PSN) + \\\n",
    "                (PP + PPS + PPN + PPSN + PSPN + PNPN + PNPSN)\n",
    "        \n",
    "    return total\n",
    "    \n",
    "def differenceOfPfree(parm):\n",
    "    # between clustered targets and separated targets\n",
    "    # only for 2 proteins in the whole system\n",
    "    V = 2 / parms['CS0'].unique()\n",
    "    # partition functions\n",
    "    Z_cluster = partition_Dimer(parm, V, True)\n",
    "    Z_separate = partition_Dimer(parm, V, False)\n",
    "    Z_tot = Z_cluster + Z_separate\n",
    "    # when two proteins are in the same env\n",
    "    pfree_cluster_2protein = pFree_Dimer(parm, V, True)*2\n",
    "    pfree_separate_2protein = pFree_Dimer(parm, V, False)*2\n",
    "    # expected free protein\n",
    "    pfree_cluster = Z_cluster / Z_tot * pfree_cluster_2protein\n",
    "    pfree_separate = Z_separate / Z_tot * pfree_separate_2protein\n",
    "    return pfree_cluster, pfree_separate"
   ]
  },
  {
   "cell_type": "code",
   "execution_count": 56,
   "metadata": {
    "ExecuteTime": {
     "end_time": "2025-02-27T19:22:30.366299Z",
     "start_time": "2025-02-27T19:22:30.361307Z"
    }
   },
   "outputs": [],
   "source": [
    "def estimateSelectivity(parm):\n",
    "    # only for 2 proteins in the whole system\n",
    "    V = 2 / parms['CS0'].unique()\n",
    "    # partition function for cluster\n",
    "    Z_cluster = partition_Dimer(parm, V, True)\n",
    "    # partition function for separate\n",
    "    Z_separate = partition_Dimer(parm, V, False)\n",
    "    return (Z_cluster-1) / (Z_separate-1)"
   ]
  },
  {
   "cell_type": "code",
   "execution_count": 57,
   "metadata": {
    "ExecuteTime": {
     "end_time": "2025-02-27T19:22:30.603369Z",
     "start_time": "2025-02-27T19:22:30.576275Z"
    }
   },
   "outputs": [
    {
     "data": {
      "text/plain": [
       "0     22.148553\n",
       "1     22.148553\n",
       "2     22.148553\n",
       "3     22.148553\n",
       "4     22.148553\n",
       "5     22.148553\n",
       "6     22.148553\n",
       "7     22.148553\n",
       "8     22.148553\n",
       "9     22.148553\n",
       "10    22.148553\n",
       "11    22.148553\n",
       "12    22.148553\n",
       "13    22.148553\n",
       "14    22.148553\n",
       "15    22.148553\n",
       "16    22.148553\n",
       "17    22.148553\n",
       "18    22.148553\n",
       "19    22.148553\n",
       "20    22.148553\n",
       "21    22.148553\n",
       "22    22.148553\n",
       "23    22.148553\n",
       "24    22.148553\n",
       "25    22.148553\n",
       "26    22.148553\n",
       "27    22.148553\n",
       "28    22.148553\n",
       "dtype: float64"
      ]
     },
     "execution_count": 57,
     "metadata": {},
     "output_type": "execute_result"
    }
   ],
   "source": [
    "estimateSelectivity(parms)"
   ]
  },
  {
   "cell_type": "code",
   "execution_count": null,
   "metadata": {},
   "outputs": [],
   "source": []
  },
  {
   "cell_type": "markdown",
   "metadata": {},
   "source": [
    "# Selectivity theory v.s. NERDSS"
   ]
  },
  {
   "cell_type": "code",
   "execution_count": 44,
   "metadata": {
    "ExecuteTime": {
     "end_time": "2025-02-27T18:58:57.158877Z",
     "start_time": "2025-02-27T18:58:57.153560Z"
    }
   },
   "outputs": [],
   "source": [
    "GenParms = lambda NP0, NS, scale, KPP: GenParameters(\n",
    "    numTargets=NS, NP0=NP0, KPP=[KPP], KPN=[10], area3Dto1D=[10], lengthScale=scale, \n",
    "    kbPP_fixed=0.4, kaPN=0.02*1e6, kaPS=0.1*1e6\n",
    ")"
   ]
  },
  {
   "cell_type": "code",
   "execution_count": 45,
   "metadata": {
    "ExecuteTime": {
     "end_time": "2025-02-27T18:58:57.362229Z",
     "start_time": "2025-02-27T18:58:57.356119Z"
    }
   },
   "outputs": [],
   "source": [
    "parms = GenParms([2,4], 2, 2, 10)"
   ]
  },
  {
   "cell_type": "code",
   "execution_count": 73,
   "metadata": {
    "ExecuteTime": {
     "end_time": "2025-02-13T21:17:10.732189Z",
     "start_time": "2025-02-13T21:17:10.724921Z"
    }
   },
   "outputs": [
    {
     "data": {
      "text/plain": [
       "array([100.])"
      ]
     },
     "execution_count": 73,
     "metadata": {},
     "output_type": "execute_result"
    }
   ],
   "source": [
    "# parms['kaPP'].unique()*0.6022 / 1e6\n",
    "# parms['kbPP'].unique()\n",
    "# parms['KPP'].unique()*0.6022\n",
    "# parms['CP0'].unique() / 0.6022 * 1e6\n",
    "# parms['kaPN'].unique()*0.6022\n",
    "# parms['kbPN'].unique()\n",
    "# parms['KPN'].unique()*0.6022\n",
    "# parms['CN0'].unique() / 0.6022 * 1e6\n",
    "# parms['kaPS'].unique()*0.6022\n",
    "# parms['kbPS'].unique()\n",
    "# parms['KPS'].unique()*0.6022\n",
    "# parms['CS0'].unique() / 0.6022 * 1e6\n",
    "parms['gamma'].unique()"
   ]
  },
  {
   "cell_type": "code",
   "execution_count": 44,
   "metadata": {
    "ExecuteTime": {
     "end_time": "2025-02-13T16:51:45.266484Z",
     "start_time": "2025-02-13T16:51:45.256067Z"
    },
    "code_folding": [
     0,
     20
    ]
   },
   "outputs": [],
   "source": [
    "def freeProDiff(NP1, Ntot = 2, NS = 2, scale = 2, KPP = 1e6):\n",
    "    if isinstance(NP1, (np.int_, np.float_, float, int)):\n",
    "        N1 = np.array([NP1])\n",
    "    else:\n",
    "        N1 = NP1\n",
    "    \n",
    "    if N1[0] < 1e-9:\n",
    "        parm2 = GenParms(Ntot - N1, NS, scale, KPP)\n",
    "        equi2 = numericSolver(parm2, rxnDoubleS, labelsDoubleS, ifprint=False)\n",
    "        theta2 = num.calc_BoundRatio_modelC(parm=parm2.iloc[0], equi=equi2.iloc[0])\n",
    "        return -((Ntot-N1)*(1-theta2))[0]\n",
    "    else:\n",
    "        parm1 = GenParms(N1, NS, scale, KPP)\n",
    "        parm2 = GenParms(Ntot - N1, NS, scale, KPP)\n",
    "        equi1 = numericSolver(parm1, rxnSingleS, labelsSingleS, ifprint=False)\n",
    "        equi2 = numericSolver(parm2, rxnDoubleS, labelsDoubleS, ifprint=False)\n",
    "        theta1 = num.calc_BoundRatio_modelB(parm=parm1.iloc[0], equi=equi1.iloc[0])\n",
    "        theta2 = num.calc_BoundRatio_modelC(parm=parm2.iloc[0], equi=equi2.iloc[0])\n",
    "        return (N1*(1-theta1) - (Ntot-N1)*(1-theta2))[0]\n",
    "    \n",
    "def pBoundRatios(NP1, Ntot = 2, NS = 2, scale = 2, KPP = 1e6):\n",
    "    if isinstance(NP1, (np.int_, np.float_, float, int)):\n",
    "        N1 = np.array([NP1])\n",
    "    else:\n",
    "        N1 = NP1\n",
    "    \n",
    "    if N1[0] < 1e-9:\n",
    "        parm2 = GenParms(Ntot - N1, NS, scale, KPP)\n",
    "        equi2 = numericSolver(parm2, rxnDoubleS, labelsDoubleS, ifprint=False)\n",
    "        theta2 = num.calc_BoundRatio_modelC(parm=parm2.iloc[0], equi=equi2.iloc[0])\n",
    "        return 0, theta2\n",
    "    else:\n",
    "        parm1 = GenParms(N1, NS, scale, KPP)\n",
    "        parm2 = GenParms(Ntot - N1, NS, scale, KPP)\n",
    "        equi1 = numericSolver(parm1, rxnSingleS, labelsSingleS, ifprint=False)\n",
    "        equi2 = numericSolver(parm2, rxnDoubleS, labelsDoubleS, ifprint=False)\n",
    "        theta1 = num.calc_BoundRatio_modelB(parm=parm1.iloc[0], equi=equi1.iloc[0])\n",
    "        theta2 = num.calc_BoundRatio_modelC(parm=parm2.iloc[0], equi=equi2.iloc[0])\n",
    "        return theta1, theta2\n",
    "    \n",
    "def proteinsOnDNA(N1, Ntot, theta1, theta2):\n",
    "    return theta1*(N1), theta2*(Ntot - N1)"
   ]
  },
  {
   "cell_type": "code",
   "execution_count": 10,
   "metadata": {
    "ExecuteTime": {
     "end_time": "2025-02-13T16:29:42.197077Z",
     "start_time": "2025-02-13T16:28:53.355427Z"
    },
    "code_folding": []
   },
   "outputs": [
    {
     "name": "stderr",
     "output_type": "stream",
     "text": [
      "100% (29 of 29) |########################| Elapsed Time: 0:00:26 Time:  0:00:26\n",
      "100% (29 of 29) |########################| Elapsed Time: 0:00:22 Time:  0:00:22\n"
     ]
    }
   ],
   "source": [
    "KPPList = 10.0**np.arange(0,7.01,0.25)\n",
    "clustered_onDNA = []\n",
    "separated_onDNA = []\n",
    "for i, Ptot in enumerate([2, 4]):\n",
    "    spr_n = []\n",
    "    cls_n = []\n",
    "    for j in progressbar(range(len(KPPList))):\n",
    "        kpp = KPPList[j]\n",
    "        r_dimer = root_scalar(freeProDiff, x0=Ptot/2, x1=Ptot/2*0.9, xtol=1e-6, args=(Ptot, 2, 2, kpp))\n",
    "        th1, th2 = pBoundRatios(r_dimer.root, Ptot, 2, 2, kpp)\n",
    "        spr, cls = proteinsOnDNA(r_dimer.root, Ptot, th1, th2)\n",
    "        cls_n.append(cls)\n",
    "        spr_n.append(spr)\n",
    "    clustered_onDNA.append(cls_n)\n",
    "    separated_onDNA.append(spr_n)\n",
    "clustered_onDNA = np.array(clustered_onDNA)\n",
    "separated_onDNA = np.array(separated_onDNA)"
   ]
  },
  {
   "cell_type": "code",
   "execution_count": 11,
   "metadata": {
    "ExecuteTime": {
     "end_time": "2025-02-13T16:29:42.205417Z",
     "start_time": "2025-02-13T16:29:42.200038Z"
    }
   },
   "outputs": [],
   "source": [
    "# NERDSS results\n",
    "slcList_repeats_2pro = [[0.7846134133371219, 1.1148256877425806, 3.226054260749391, 29.900123663086855, 189.86720995670993, 328.83102380952386, 716.3366904761904], \n",
    "                        [0.08059040750221995, 0.1138934291917021, 0.3452691124787163, 5.3201632313452265, 137.15285469713717, 249.43847606756407, 319.90795991151896]]\n",
    "slcList_repeats_4pro =  [[0.7839380458445123, 1.608361702731444, 2.4142460159166124, 3.017057706286011, 2.75540309837026, 2.2933347821954073, 3.4153309304606063], \n",
    "                         [0.06433321086749408, 0.12193825141052676, 0.15954401742176008, 0.21645287528201054, 0.12229826213536317, 0.09116039107861558, 0.14586540127521788]]\n",
    "slcList_repeats = [slcList_repeats_2pro, slcList_repeats_4pro]"
   ]
  },
  {
   "cell_type": "code",
   "execution_count": 12,
   "metadata": {
    "ExecuteTime": {
     "end_time": "2025-02-13T16:29:42.536671Z",
     "start_time": "2025-02-13T16:29:42.206154Z"
    }
   },
   "outputs": [
    {
     "data": {
      "image/png": "[encoded data removed]",
      "text/plain": [
       "<Figure size 400x300 with 1 Axes>"
      ]
     },
     "metadata": {},
     "output_type": "display_data"
    }
   ],
   "source": [
    "alphas = [1/3, 1]\n",
    "colors = ['tab:orange', 'black']\n",
    "plt.figure(figsize=(4,3))\n",
    "plt.tick_params(length=10, width=1.2)\n",
    "ax = plt.subplot(111)\n",
    "for axis in ['top', 'bottom', 'left', 'right']:\n",
    "    ax.spines[axis].set_linewidth(1.2)\n",
    "    \n",
    "for i, slcRepeat in enumerate(slcList_repeats):\n",
    "    plt.errorbar(\n",
    "        np.array([0, 1e1, 1e2, 1e3, 1e4, 1e5, 1e6]), \n",
    "        slcRepeat[0], slcRepeat[1], \n",
    "        ls='', color=colors[i], marker='.', #edgecolors='black', alpha=alphas[1], \n",
    "    )\n",
    "    \n",
    "for i, ntot in enumerate([2, 4]):\n",
    "    plt.plot(\n",
    "        KPPList, ((clustered_onDNA/separated_onDNA))[i], ls='-', \n",
    "        label='$N_P^{tot}$=%d'%ntot, lw=2, color=colors[i], #color='tab:orange', alpha=alphas[i], \n",
    "        zorder=1,\n",
    "    )\n",
    "\n",
    "\n",
    "# plt.title('proteins on DNA', fontsize=13)\n",
    "plt.legend(loc=[0.01,0.67], fontsize=13, handlelength=0.5, framealpha=0)\n",
    "plt.loglog()\n",
    "# plt.ylim([0.,1.01])\n",
    "plt.yticks(fontsize=18)\n",
    "plt.xticks(fontsize=18)\n",
    "plt.show()"
   ]
  },
  {
   "cell_type": "markdown",
   "metadata": {},
   "source": [
    "# Selectivity - NERDSS spatial"
   ]
  },
  {
   "cell_type": "markdown",
   "metadata": {},
   "source": [
    "see Rockfish under folder twosegments"
   ]
  },
  {
   "cell_type": "markdown",
   "metadata": {},
   "source": [
    "# Four DNA segments"
   ]
  },
  {
   "cell_type": "code",
   "execution_count": 6,
   "metadata": {
    "ExecuteTime": {
     "end_time": "2025-02-25T20:59:53.680916Z",
     "start_time": "2025-02-25T20:59:53.676133Z"
    }
   },
   "outputs": [],
   "source": [
    "# results from NERDSS simulations\n",
    "targetCluster = np.array([1, 2, 3, 4])"
   ]
  },
  {
   "cell_type": "markdown",
   "metadata": {},
   "source": [
    "## Proteins can form dimers"
   ]
  },
  {
   "cell_type": "code",
   "execution_count": 26,
   "metadata": {
    "ExecuteTime": {
     "end_time": "2025-02-25T21:32:55.860931Z",
     "start_time": "2025-02-25T21:32:55.856918Z"
    }
   },
   "outputs": [],
   "source": [
    "DNApartition_2 = ([0.        , 0.1932004 , 0.34046152, 0.43666561],\n",
    "                 [0.        , 0.03428115, 0.02344495, 0.03153427])"
   ]
  },
  {
   "cell_type": "code",
   "execution_count": 31,
   "metadata": {
    "ExecuteTime": {
     "end_time": "2025-02-25T21:36:39.027562Z",
     "start_time": "2025-02-25T21:36:38.932063Z"
    }
   },
   "outputs": [
    {
     "data": {
      "image/png": "[encoded data removed]",
      "text/plain": [
       "<Figure size 300x400 with 1 Axes>"
      ]
     },
     "metadata": {},
     "output_type": "display_data"
    }
   ],
   "source": [
    "plt.figure(figsize=(3,4))\n",
    "plt.tick_params(length=10, width=1.2)\n",
    "ax = plt.subplot(111)\n",
    "for axis in ['top', 'bottom', 'left', 'right']:\n",
    "    ax.spines[axis].set_linewidth(1.2)\n",
    "\n",
    "plt.bar(\n",
    "    2*targetCluster, DNApartition_2[0], yerr=DNApartition_2[1],\n",
    "    capsize=5, edgecolor='black', facecolor='tab:blue', label='Total'\n",
    ")\n",
    "\n",
    "plt.bar(\n",
    "    2*targetCluster-1, DNApartition_2[0]/targetCluster, \n",
    "    yerr=DNApartition_2[1]/targetCluster,\n",
    "    capsize=5, edgecolor='black', facecolor='none', label='per target'\n",
    ")\n",
    "\n",
    "# plt.plot(\n",
    "#     targetCluster, DNAbound_2/NP_tot_2, color='tab:blue', \n",
    "#     marker='^', ls='-', label='dimer'\n",
    "# )\n",
    "# plt.plot(\n",
    "#     targetCluster, DNAbound_2/NP_tot_2/targetCluster, \n",
    "#     color='tab:blue', marker='^', ls='--', markerfacecolor='none',\n",
    "# )\n",
    "\n",
    "plt.legend(fontsize=12)\n",
    "\n",
    "plt.xticks(2*targetCluster-0.5, targetCluster, fontsize=16)\n",
    "plt.yticks(fontsize=16)\n",
    "\n",
    "plt.show()"
   ]
  },
  {
   "cell_type": "markdown",
   "metadata": {},
   "source": [
    "## monomer"
   ]
  },
  {
   "cell_type": "code",
   "execution_count": 39,
   "metadata": {
    "ExecuteTime": {
     "end_time": "2025-02-27T14:57:32.984945Z",
     "start_time": "2025-02-27T14:57:32.981038Z"
    }
   },
   "outputs": [],
   "source": [
    "DNApartition_1 = ([0.01963284, 0.04229797, 0.07063262, 0.0853417],\n",
    "                 [0.00603037, 0.00844562, 0.00908131, 0.01204614])"
   ]
  },
  {
   "cell_type": "code",
   "execution_count": 40,
   "metadata": {
    "ExecuteTime": {
     "end_time": "2025-02-27T14:57:33.556755Z",
     "start_time": "2025-02-27T14:57:33.457581Z"
    }
   },
   "outputs": [
    {
     "data": {
      "image/png": "[encoded data removed]",
      "text/plain": [
       "<Figure size 300x400 with 1 Axes>"
      ]
     },
     "metadata": {},
     "output_type": "display_data"
    }
   ],
   "source": [
    "plt.figure(figsize=(3,4))\n",
    "plt.tick_params(length=10, width=1.2)\n",
    "ax = plt.subplot(111)\n",
    "for axis in ['top', 'bottom', 'left', 'right']:\n",
    "    ax.spines[axis].set_linewidth(1.2)\n",
    "\n",
    "plt.bar(\n",
    "    2*targetCluster, DNApartition_1[0], yerr=DNApartition_1[1],\n",
    "    capsize=5, edgecolor='black', facecolor='tab:red', label='Total'\n",
    ")\n",
    "\n",
    "plt.bar(\n",
    "    2*targetCluster-1, DNApartition_1[0]/targetCluster, \n",
    "    yerr=DNApartition_1[1]/targetCluster,\n",
    "    capsize=5, edgecolor='black', facecolor='none', label='per target'\n",
    ")\n",
    "\n",
    "# plt.plot(\n",
    "#     targetCluster, DNAbound_1/NP_tot_1, color='tab:blue', \n",
    "#     marker='^', ls='-', label='monomer'\n",
    "# )\n",
    "# plt.plot(\n",
    "#     targetCluster, DNAbound_1/NP_tot_1/targetCluster, \n",
    "#     color='tab:red', marker='^', ls='--', markerfacecolor='none',\n",
    "# )\n",
    "\n",
    "plt.legend(fontsize=12)\n",
    "\n",
    "plt.xticks(2*targetCluster-0.5, targetCluster, fontsize=16)\n",
    "plt.yticks(fontsize=16)\n",
    "\n",
    "plt.show()"
   ]
  },
  {
   "cell_type": "markdown",
   "metadata": {},
   "source": [
    "## Linear tetramer"
   ]
  },
  {
   "cell_type": "code",
   "execution_count": 37,
   "metadata": {
    "ExecuteTime": {
     "end_time": "2025-02-25T21:54:54.169173Z",
     "start_time": "2025-02-25T21:54:54.165265Z"
    }
   },
   "outputs": [],
   "source": [
    "DNApartition_4 = ([0. , 0.08206282, 0.30460399, 0.54261452],\n",
    "                 [0. , 0.02781052, 0.0716499 , 0.09244663])"
   ]
  },
  {
   "cell_type": "code",
   "execution_count": 38,
   "metadata": {
    "ExecuteTime": {
     "end_time": "2025-02-25T21:55:18.082430Z",
     "start_time": "2025-02-25T21:55:17.866134Z"
    }
   },
   "outputs": [
    {
     "data": {
      "image/png": "[encoded data removed]",
      "text/plain": [
       "<Figure size 300x400 with 1 Axes>"
      ]
     },
     "metadata": {},
     "output_type": "display_data"
    }
   ],
   "source": [
    "plt.figure(figsize=(3,4))\n",
    "plt.tick_params(length=10, width=1.2)\n",
    "ax = plt.subplot(111)\n",
    "for axis in ['top', 'bottom', 'left', 'right']:\n",
    "    ax.spines[axis].set_linewidth(1.2)\n",
    "\n",
    "plt.bar(\n",
    "    2*targetCluster, DNApartition_4[0], yerr=DNApartition_4[1],\n",
    "    capsize=5, edgecolor='black', facecolor='tab:orange', label='Total'\n",
    ")\n",
    "\n",
    "plt.bar(\n",
    "    2*targetCluster-1, DNApartition_4[0]/targetCluster, \n",
    "    yerr=DNApartition_4[1]/targetCluster,\n",
    "    capsize=5, edgecolor='black', facecolor='none', label='per target'\n",
    ")\n",
    "    \n",
    "# plt.plot(\n",
    "#     targetCluster, DNAbound_4/NP_tot_4, color='tab:orange', \n",
    "#     marker='o', ls='-', label='tetramer'\n",
    "# )\n",
    "# plt.plot(\n",
    "#     targetCluster, DNAbound_4/NP_tot_4/targetCluster, \n",
    "#     color='tab:orange', marker='o', ls='--', markerfacecolor='none',\n",
    "# )\n",
    "\n",
    "plt.legend(fontsize=12)\n",
    "\n",
    "plt.xticks(fontsize=16)\n",
    "plt.yticks(fontsize=16)\n",
    "\n",
    "plt.show()"
   ]
  },
  {
   "cell_type": "code",
   "execution_count": null,
   "metadata": {},
   "outputs": [],
   "source": []
  }
 ],
 "metadata": {
  "kernelspec": {
   "display_name": "Python 3 (ipykernel)",
   "language": "python",
   "name": "python3"
  },
  "language_info": {
   "codemirror_mode": {
    "name": "ipython",
    "version": 3
   },
   "file_extension": ".py",
   "mimetype": "text/x-python",
   "name": "python",
   "nbconvert_exporter": "python",
   "pygments_lexer": "ipython3",
   "version": "3.11.5"
  }
 },
 "nbformat": 4,
 "nbformat_minor": 2
}
