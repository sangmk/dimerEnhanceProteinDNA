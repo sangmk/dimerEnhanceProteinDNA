{
 "cells": [
  {
   "cell_type": "code",
   "execution_count": 1,
   "metadata": {
    "ExecuteTime": {
     "end_time": "2025-02-12T20:23:53.423076Z",
     "start_time": "2025-02-12T20:23:52.792381Z"
    }
   },
   "outputs": [],
   "source": [
    "import numpy as np\n",
    "import pandas as pd\n",
    "from matplotlib import pyplot as plt\n",
    "import seaborn as sns\n",
    "import sys\n",
    "from progressbar import progressbar"
   ]
  },
  {
   "cell_type": "code",
   "execution_count": 2,
   "metadata": {
    "ExecuteTime": {
     "end_time": "2025-02-12T20:23:53.430216Z",
     "start_time": "2025-02-12T20:23:53.424889Z"
    }
   },
   "outputs": [
    {
     "data": {
      "text/plain": [
       "400.00503412639995"
      ]
     },
     "execution_count": 2,
     "metadata": {},
     "output_type": "execute_result"
    }
   ],
   "source": [
    "0.000664239512*0.6022*1e6"
   ]
  },
  {
   "cell_type": "markdown",
   "metadata": {},
   "source": [
    "# Selectivity theory v.s. NERDSS"
   ]
  },
  {
   "cell_type": "code",
   "execution_count": 3,
   "metadata": {
    "ExecuteTime": {
     "end_time": "2025-02-12T20:24:31.538337Z",
     "start_time": "2025-02-12T20:24:31.526635Z"
    }
   },
   "outputs": [],
   "source": [
    "import sys\n",
    "from scipy.optimize import fsolve, root_scalar\n",
    "sys.path.append('/home/local/WIN/msang2/mankun/Notebooks/[01]dimerEnhanceProteinDNA/')\n",
    "# modules for direct calculation\n",
    "import analytics as ana\n",
    "import analyzeEqui as num\n",
    "# stochastic simulation (Gillespie)\n",
    "# from Simulations.odeSolver.reversible.singleS import labels\n",
    "from Simulations.odeSolver.doubleS import rxnNetwork as rxnDoubleS, labels as labelsDoubleS\n",
    "from Simulations.odeSolver.singleS import rxnNetwork as rxnSingleS, labels as labelsSingleS\n",
    "from Simulations.odeSolver.Nonly import rxnNetwork as rxnNonly, labels as labelsNonly\n",
    "from Simulations.odeSolver.main import main as numericSolver\n",
    "# for generating parameters\n",
    "from GenerateParameters import GenParameters"
   ]
  },
  {
   "cell_type": "code",
   "execution_count": 4,
   "metadata": {
    "ExecuteTime": {
     "end_time": "2025-02-12T20:24:31.802148Z",
     "start_time": "2025-02-12T20:24:31.798469Z"
    }
   },
   "outputs": [],
   "source": [
    "GenParms = lambda NP0, NS, scale, KPP: GenParameters(\n",
    "    numTargets=NS, NP0=NP0, KPP=[KPP], KPN=[10], area3Dto1D=[10], lengthScale=scale\n",
    ")"
   ]
  },
  {
   "cell_type": "code",
   "execution_count": 5,
   "metadata": {
    "ExecuteTime": {
     "end_time": "2025-02-12T20:24:32.212115Z",
     "start_time": "2025-02-12T20:24:32.200762Z"
    },
    "code_folding": [
     0,
     20
    ]
   },
   "outputs": [],
   "source": [
    "def freeProDiff(NP1, Ntot = 2, NS = 2, scale = 2, KPP = 1e6):\n",
    "    if isinstance(NP1, (np.int_, np.float_, float, int)):\n",
    "        N1 = np.array([NP1])\n",
    "    else:\n",
    "        N1 = NP1\n",
    "    \n",
    "    if N1[0] < 1e-9:\n",
    "        parm2 = GenParms(Ntot - N1, NS, scale, KPP)\n",
    "        equi2 = numericSolver(parm2, rxnDoubleS, labelsDoubleS, ifprint=False)\n",
    "        theta2 = num.calc_BoundRatio_modelC(parm=parm2.iloc[0], equi=equi2.iloc[0])\n",
    "        return -((Ntot-N1)*(1-theta2))[0]\n",
    "    else:\n",
    "        parm1 = GenParms(N1, NS, scale, KPP)\n",
    "        parm2 = GenParms(Ntot - N1, NS, scale, KPP)\n",
    "        equi1 = numericSolver(parm1, rxnSingleS, labelsSingleS, ifprint=False)\n",
    "        equi2 = numericSolver(parm2, rxnDoubleS, labelsDoubleS, ifprint=False)\n",
    "        theta1 = num.calc_BoundRatio_modelB(parm=parm1.iloc[0], equi=equi1.iloc[0])\n",
    "        theta2 = num.calc_BoundRatio_modelC(parm=parm2.iloc[0], equi=equi2.iloc[0])\n",
    "        return (N1*(1-theta1) - (Ntot-N1)*(1-theta2))[0]\n",
    "    \n",
    "def pBoundRatios(NP1, Ntot = 2, NS = 2, scale = 2, KPP = 1e6):\n",
    "    if isinstance(NP1, (np.int_, np.float_, float, int)):\n",
    "        N1 = np.array([NP1])\n",
    "    else:\n",
    "        N1 = NP1\n",
    "    \n",
    "    if N1[0] < 1e-9:\n",
    "        parm2 = GenParms(Ntot - N1, NS, scale, KPP)\n",
    "        equi2 = numericSolver(parm2, rxnDoubleS, labelsDoubleS, ifprint=False)\n",
    "        theta2 = num.calc_BoundRatio_modelC(parm=parm2.iloc[0], equi=equi2.iloc[0])\n",
    "        return 0, theta2\n",
    "    else:\n",
    "        parm1 = GenParms(N1, NS, scale, KPP)\n",
    "        parm2 = GenParms(Ntot - N1, NS, scale, KPP)\n",
    "        equi1 = numericSolver(parm1, rxnSingleS, labelsSingleS, ifprint=False)\n",
    "        equi2 = numericSolver(parm2, rxnDoubleS, labelsDoubleS, ifprint=False)\n",
    "        theta1 = num.calc_BoundRatio_modelB(parm=parm1.iloc[0], equi=equi1.iloc[0])\n",
    "        theta2 = num.calc_BoundRatio_modelC(parm=parm2.iloc[0], equi=equi2.iloc[0])\n",
    "        return theta1, theta2\n",
    "    \n",
    "def proteinsOnDNA(N1, Ntot, theta1, theta2):\n",
    "    return theta1*(N1), theta2*(Ntot - N1)"
   ]
  },
  {
   "cell_type": "code",
   "execution_count": 6,
   "metadata": {
    "ExecuteTime": {
     "end_time": "2025-02-12T20:25:15.679581Z",
     "start_time": "2025-02-12T20:24:32.853680Z"
    },
    "scrolled": true
   },
   "outputs": [
    {
     "name": "stderr",
     "output_type": "stream",
     "text": [
      "100% (29 of 29) |########################| Elapsed Time: 0:00:23 Time:  0:00:23\n",
      "100% (29 of 29) |########################| Elapsed Time: 0:00:19 Time:  0:00:19\n"
     ]
    }
   ],
   "source": [
    "KPPList = 10.0**np.arange(0,7.01,0.25)\n",
    "N1_dimer = []\n",
    "\n",
    "for Ntot in [2, 4]:\n",
    "    N1_n = []\n",
    "    for kpp in progressbar(KPPList):\n",
    "        r_dimer = root_scalar(freeProDiff, x0=Ntot/2, x1=Ntot/2*0.9, xtol=1e-6, args=(Ntot, 2, 2, kpp))\n",
    "        N1_n.append(r_dimer.root)\n",
    "    N1_dimer.append(N1_n)\n",
    "\n",
    "N1_dimer = np.array(N1_dimer)"
   ]
  },
  {
   "cell_type": "code",
   "execution_count": 7,
   "metadata": {
    "ExecuteTime": {
     "end_time": "2025-02-12T20:25:21.693635Z",
     "start_time": "2025-02-12T20:25:15.680707Z"
    },
    "code_folding": [
     4
    ]
   },
   "outputs": [
    {
     "name": "stderr",
     "output_type": "stream",
     "text": [
      "100% (29 of 29) |########################| Elapsed Time: 0:00:03 Time:  0:00:03\n",
      "100% (29 of 29) |########################| Elapsed Time: 0:00:02 Time:  0:00:02\n"
     ]
    }
   ],
   "source": [
    "theta1 = []\n",
    "theta2 = []\n",
    "clustered_onDNA = []\n",
    "separated_onDNA = []\n",
    "for i, Ptot in enumerate([2, 4]):\n",
    "    th1_n = []\n",
    "    th2_n = []\n",
    "    spr_n = []\n",
    "    cls_n = []\n",
    "    for j in progressbar(range(len(KPPList))):\n",
    "        kpp = KPPList[j]\n",
    "        th1, th2 = pBoundRatios(N1_dimer[i][j], Ptot, 2, 2, kpp)\n",
    "        spr, cls = proteinsOnDNA(N1_dimer[i][j], Ptot, th1, th2)\n",
    "        cls_n.append(cls)\n",
    "        spr_n.append(spr)\n",
    "        th1_n.append(th1)\n",
    "        th2_n.append(th2)\n",
    "    clustered_onDNA.append(cls_n)\n",
    "    separated_onDNA.append(spr_n)\n",
    "    theta1.append(th1_n)\n",
    "    theta2.append(th2_n)\n",
    "clustered_onDNA = np.array(clustered_onDNA)\n",
    "separated_onDNA = np.array(separated_onDNA)\n",
    "theta1 = np.array(theta1)\n",
    "theta2 = np.array(theta2)"
   ]
  },
  {
   "cell_type": "code",
   "execution_count": 26,
   "metadata": {
    "ExecuteTime": {
     "end_time": "2025-02-12T21:23:43.248154Z",
     "start_time": "2025-02-12T21:23:43.240926Z"
    }
   },
   "outputs": [],
   "source": [
    "# NERDSS results\n",
    "slcList_repeats_2pro = [[0.7846134133371219, 1.1148256877425806, 3.226054260749391, 29.900123663086855, 189.86720995670993, 328.83102380952386, 716.3366904761904], \n",
    "                        [0.08059040750221995, 0.1138934291917021, 0.3452691124787163, 5.3201632313452265, 137.15285469713717, 249.43847606756407, 319.90795991151896]]\n",
    "slcList_repeats_4pro =  [[0.7839380458445123, 1.608361702731444, 2.4142460159166124, 3.017057706286011, 2.75540309837026, 2.2933347821954073, 3.4153309304606063], \n",
    "                         [0.06433321086749408, 0.12193825141052676, 0.15954401742176008, 0.21645287528201054, 0.12229826213536317, 0.09116039107861558, 0.14586540127521788]]\n",
    "slcList_repeats = [slcList_repeats_2pro, slcList_repeats_4pro]"
   ]
  },
  {
   "cell_type": "code",
   "execution_count": 27,
   "metadata": {
    "ExecuteTime": {
     "end_time": "2025-02-12T21:23:44.475288Z",
     "start_time": "2025-02-12T21:23:44.250144Z"
    }
   },
   "outputs": [
    {
     "data": {
      "image/png": "[encoded data removed]",
      "text/plain": [
       "<Figure size 400x300 with 1 Axes>"
      ]
     },
     "metadata": {},
     "output_type": "display_data"
    }
   ],
   "source": [
    "alphas = [1/3, 1]\n",
    "colors = ['tab:orange', 'black']\n",
    "plt.figure(figsize=(4,3))\n",
    "plt.tick_params(length=10, width=1.2)\n",
    "ax = plt.subplot(111)\n",
    "for axis in ['top', 'bottom', 'left', 'right']:\n",
    "    ax.spines[axis].set_linewidth(1.2)\n",
    "    \n",
    "for i, slcRepeat in enumerate(slcList_repeats):\n",
    "    plt.errorbar(\n",
    "        np.array([0, 1e1, 1e2, 1e3, 1e4, 1e5, 1e6]), \n",
    "        slcRepeat[0], slcRepeat[1], \n",
    "        ls='', color=colors[i], marker='.', #edgecolors='black', alpha=alphas[1], \n",
    "    )\n",
    "    \n",
    "for i, ntot in enumerate([2, 4]):\n",
    "    plt.plot(\n",
    "        KPPList, ((clustered_onDNA/separated_onDNA))[i], ls='-', \n",
    "        label='$N_P^{tot}$=%d'%ntot, lw=2, color=colors[i], #color='tab:orange', alpha=alphas[i], \n",
    "        zorder=1,\n",
    "    )\n",
    "\n",
    "\n",
    "# plt.title('proteins on DNA', fontsize=13)\n",
    "plt.legend(loc=[0.01,0.67], fontsize=13, handlelength=0.5, framealpha=0)\n",
    "plt.loglog()\n",
    "# plt.ylim([0.,1.01])\n",
    "plt.yticks(fontsize=18)\n",
    "plt.xticks(fontsize=18)\n",
    "plt.show()"
   ]
  },
  {
   "cell_type": "markdown",
   "metadata": {},
   "source": [
    "# Selectivity - NERDSS spatial"
   ]
  },
  {
   "cell_type": "markdown",
   "metadata": {},
   "source": [
    "see Rockfish under folder twosegments"
   ]
  },
  {
   "cell_type": "code",
   "execution_count": null,
   "metadata": {},
   "outputs": [],
   "source": []
  }
 ],
 "metadata": {
  "kernelspec": {
   "display_name": "Python 3 (ipykernel)",
   "language": "python",
   "name": "python3"
  },
  "language_info": {
   "codemirror_mode": {
    "name": "ipython",
    "version": 3
   },
   "file_extension": ".py",
   "mimetype": "text/x-python",
   "name": "python",
   "nbconvert_exporter": "python",
   "pygments_lexer": "ipython3",
   "version": "3.11.5"
  }
 },
 "nbformat": 4,
 "nbformat_minor": 2
}
