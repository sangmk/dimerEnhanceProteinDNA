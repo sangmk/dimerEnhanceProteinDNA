{
 "cells": [
  {
   "cell_type": "code",
   "execution_count": 1,
   "metadata": {
    "ExecuteTime": {
     "end_time": "2025-06-30T21:11:25.510206Z",
     "start_time": "2025-06-30T21:11:24.148589Z"
    }
   },
   "outputs": [],
   "source": [
    "import numpy as np\n",
    "import pandas as pd\n",
    "from matplotlib import pyplot as plt\n",
    "import seaborn as sns\n",
    "import sys\n",
    "from progressbar import progressbar"
   ]
  },
  {
   "cell_type": "code",
   "execution_count": 2,
   "metadata": {
    "ExecuteTime": {
     "end_time": "2025-06-30T21:11:25.522165Z",
     "start_time": "2025-06-30T21:11:25.512600Z"
    }
   },
   "outputs": [],
   "source": [
    "import sys\n",
    "from scipy.optimize import fsolve, root_scalar\n",
    "sys.path.append('/home/local/WIN/msang2/mankun/GitHub/dimerEnhanceProteinDNA')\n",
    "# modules for direct calculationS\n",
    "import analytics as ana\n",
    "import analyzeEqui as num\n",
    "# stochastic simulation (Gillespie)\n",
    "# from Simulations.odeSolver.reversible.singleS import labels\n",
    "from odeSolver.doubleS import rxnNetwork as rxnDoubleS, labels as labelsDoubleS\n",
    "from odeSolver.singleS import rxnNetwork as rxnSingleS, labels as labelsSingleS\n",
    "from odeSolver.Nonly import rxnNetwork as rxnNonly, labels as labelsNonly\n",
    "from odeSolver.main import main as numericSolver\n",
    "# for generating parameters\n",
    "from GenerateParameters import GenParameters"
   ]
  },
  {
   "cell_type": "markdown",
   "metadata": {
    "heading_collapsed": true
   },
   "source": [
    "# Selectivity theory v.s. NERDSS"
   ]
  },
  {
   "cell_type": "code",
   "execution_count": 3,
   "metadata": {
    "ExecuteTime": {
     "end_time": "2025-05-01T16:37:29.372744Z",
     "start_time": "2025-05-01T16:37:29.369673Z"
    },
    "hidden": true
   },
   "outputs": [],
   "source": [
    "GenParms = lambda NP0, NS, scale, KPP: GenParameters(\n",
    "    numTargets=NS, NP0=NP0, KPP=[KPP], KPN=[10], area3Dto1D=[10], lengthScale=scale, \n",
    "    kbPP_fixed=0.4, kaPN=0.02*1e6, kaPS=0.1*1e6\n",
    ")\n",
    "parms = GenParms([2,4], 2, 2, 10)"
   ]
  },
  {
   "cell_type": "code",
   "execution_count": 4,
   "metadata": {
    "ExecuteTime": {
     "end_time": "2025-05-01T16:37:29.379277Z",
     "start_time": "2025-05-01T16:37:29.373506Z"
    },
    "code_folding": [
     0,
     20
    ],
    "hidden": true
   },
   "outputs": [],
   "source": [
    "def freeProDiff(NP1, Ntot = 2, NS = 2, scale = 2, KPP = 1e6):\n",
    "    if isinstance(NP1, (np.int_, np.float_, float, int)):\n",
    "        N1 = np.array([NP1])\n",
    "    else:\n",
    "        N1 = NP1\n",
    "    \n",
    "    if N1[0] < 1e-9:\n",
    "        parm2 = GenParms(Ntot - N1, NS, scale, KPP)\n",
    "        equi2 = numericSolver(parm2, rxnDoubleS, labelsDoubleS, ifprint=False)\n",
    "        theta2 = num.calc_BoundRatio_modelC(parm=parm2.iloc[0], equi=equi2.iloc[0])\n",
    "        return -((Ntot-N1)*(1-theta2))[0]\n",
    "    else:\n",
    "        parm1 = GenParms(N1, NS, scale, KPP)\n",
    "        parm2 = GenParms(Ntot - N1, NS, scale, KPP)\n",
    "        equi1 = numericSolver(parm1, rxnSingleS, labelsSingleS, ifprint=False)\n",
    "        equi2 = numericSolver(parm2, rxnDoubleS, labelsDoubleS, ifprint=False)\n",
    "        theta1 = num.calc_BoundRatio_modelB(parm=parm1.iloc[0], equi=equi1.iloc[0])\n",
    "        theta2 = num.calc_BoundRatio_modelC(parm=parm2.iloc[0], equi=equi2.iloc[0])\n",
    "        return (N1*(1-theta1) - (Ntot-N1)*(1-theta2))[0]\n",
    "    \n",
    "def pBoundRatios(NP1, Ntot = 2, NS = 2, scale = 2, KPP = 1e6):\n",
    "    if isinstance(NP1, (np.int_, np.float_, float, int)):\n",
    "        N1 = np.array([NP1])\n",
    "    else:\n",
    "        N1 = NP1\n",
    "    \n",
    "    if N1[0] < 1e-9:\n",
    "        parm2 = GenParms(Ntot - N1, NS, scale, KPP)\n",
    "        equi2 = numericSolver(parm2, rxnDoubleS, labelsDoubleS, ifprint=False)\n",
    "        theta2 = num.calc_BoundRatio_modelC(parm=parm2.iloc[0], equi=equi2.iloc[0])\n",
    "        return 0, theta2\n",
    "    else:\n",
    "        parm1 = GenParms(N1, NS, scale, KPP)\n",
    "        parm2 = GenParms(Ntot - N1, NS, scale, KPP)\n",
    "        equi1 = numericSolver(parm1, rxnSingleS, labelsSingleS, ifprint=False)\n",
    "        equi2 = numericSolver(parm2, rxnDoubleS, labelsDoubleS, ifprint=False)\n",
    "        theta1 = num.calc_BoundRatio_modelB(parm=parm1.iloc[0], equi=equi1.iloc[0])\n",
    "        theta2 = num.calc_BoundRatio_modelC(parm=parm2.iloc[0], equi=equi2.iloc[0])\n",
    "        return theta1, theta2\n",
    "    \n",
    "def proteinsOnDNA(N1, Ntot, theta1, theta2):\n",
    "    return theta1*(N1), theta2*(Ntot - N1)"
   ]
  },
  {
   "cell_type": "code",
   "execution_count": 5,
   "metadata": {
    "ExecuteTime": {
     "end_time": "2025-05-01T16:38:17.860100Z",
     "start_time": "2025-05-01T16:37:29.380053Z"
    },
    "code_folding": [],
    "hidden": true
   },
   "outputs": [
    {
     "name": "stderr",
     "output_type": "stream",
     "text": [
      "100% (29 of 29) |########################| Elapsed Time: 0:00:26 Time:  0:00:26\n",
      "100% (29 of 29) |########################| Elapsed Time: 0:00:22 Time:  0:00:22\n"
     ]
    }
   ],
   "source": [
    "KPPList = 10.0**np.arange(0,7.01,0.25)\n",
    "clustered_onDNA = []\n",
    "separated_onDNA = []\n",
    "for i, Ptot in enumerate([2, 4]):\n",
    "    spr_n = []\n",
    "    cls_n = []\n",
    "    for j in progressbar(range(len(KPPList))):\n",
    "        kpp = KPPList[j]\n",
    "        r_dimer = root_scalar(freeProDiff, x0=Ptot/2, x1=Ptot/2*0.9, xtol=1e-6, args=(Ptot, 2, 2, kpp))\n",
    "        th1, th2 = pBoundRatios(r_dimer.root, Ptot, 2, 2, kpp)\n",
    "        spr, cls = proteinsOnDNA(r_dimer.root, Ptot, th1, th2)\n",
    "        cls_n.append(cls)\n",
    "        spr_n.append(spr)\n",
    "    clustered_onDNA.append(cls_n)\n",
    "    separated_onDNA.append(spr_n)\n",
    "clustered_onDNA = np.array(clustered_onDNA)\n",
    "separated_onDNA = np.array(separated_onDNA)"
   ]
  },
  {
   "cell_type": "code",
   "execution_count": 6,
   "metadata": {
    "ExecuteTime": {
     "end_time": "2025-05-01T16:38:17.864430Z",
     "start_time": "2025-05-01T16:38:17.861285Z"
    },
    "hidden": true
   },
   "outputs": [],
   "source": [
    "# NERDSS results\n",
    "# raw data available while asking. msang2@jh.edu\n",
    "\n",
    "slcList_repeats_2pro = [[0.7846134133371219, 1.1148256877425806, 3.226054260749391, 29.900123663086855, 189.86720995670993, 328.83102380952386, 716.3366904761904], \n",
    "                        [0.08059040750221995, 0.1138934291917021, 0.3452691124787163, 5.3201632313452265, 137.15285469713717, 249.43847606756407, 319.90795991151896]]\n",
    "slcList_repeats_4pro =  [[0.7839380458445123, 1.608361702731444, 2.4142460159166124, 3.017057706286011, 2.75540309837026, 2.2933347821954073, 3.4153309304606063], \n",
    "                         [0.06433321086749408, 0.12193825141052676, 0.15954401742176008, 0.21645287528201054, 0.12229826213536317, 0.09116039107861558, 0.14586540127521788]]\n",
    "slcList_repeats = [slcList_repeats_2pro, slcList_repeats_4pro]"
   ]
  },
  {
   "cell_type": "code",
   "execution_count": 7,
   "metadata": {
    "ExecuteTime": {
     "end_time": "2025-05-01T16:38:18.136849Z",
     "start_time": "2025-05-01T16:38:17.866574Z"
    },
    "hidden": true
   },
   "outputs": [
    {
     "data": {
      "image/png": "[encoded data removed]",
      "text/plain": [
       "<Figure size 400x300 with 1 Axes>"
      ]
     },
     "metadata": {},
     "output_type": "display_data"
    }
   ],
   "source": [
    "alphas = [1/3, 1]\n",
    "colors = ['tab:orange', 'black']\n",
    "plt.figure(figsize=(4,3))\n",
    "plt.tick_params(length=10, width=1.2)\n",
    "ax = plt.subplot(111)\n",
    "for axis in ['top', 'bottom', 'left', 'right']:\n",
    "    ax.spines[axis].set_linewidth(1.2)\n",
    "    \n",
    "for i, slcRepeat in enumerate(slcList_repeats):\n",
    "    plt.errorbar(\n",
    "        np.array([0, 1e1, 1e2, 1e3, 1e4, 1e5, 1e6]), \n",
    "        slcRepeat[0], slcRepeat[1], \n",
    "        ls='', color=colors[i], marker='.', #edgecolors='black', alpha=alphas[1], \n",
    "    )\n",
    "    \n",
    "for i, ntot in enumerate([2, 4]):\n",
    "    plt.plot(\n",
    "        KPPList, ((clustered_onDNA/separated_onDNA))[i], ls='-', \n",
    "        label='$N_P^{tot}$=%d'%ntot, lw=2, color=colors[i], #color='tab:orange', alpha=alphas[i], \n",
    "        zorder=1,\n",
    "    )\n",
    "\n",
    "\n",
    "# plt.title('proteins on DNA', fontsize=13)\n",
    "plt.legend(loc=[0.01,0.67], fontsize=13, handlelength=0.5, framealpha=0)\n",
    "plt.loglog()\n",
    "# plt.ylim([0.,1.01])\n",
    "plt.yticks(fontsize=18)\n",
    "plt.xticks(fontsize=18)\n",
    "plt.show()"
   ]
  },
  {
   "cell_type": "markdown",
   "metadata": {},
   "source": [
    "# Selectivity - NERDSS spatial"
   ]
  },
  {
   "cell_type": "markdown",
   "metadata": {},
   "source": [
    "Raw data availabel while asking. msang2@jh.edu"
   ]
  },
  {
   "cell_type": "markdown",
   "metadata": {},
   "source": [
    "# Four DNA segments"
   ]
  },
  {
   "cell_type": "code",
   "execution_count": 3,
   "metadata": {
    "ExecuteTime": {
     "end_time": "2025-06-30T21:11:28.063647Z",
     "start_time": "2025-06-30T21:11:28.056407Z"
    },
    "code_folding": []
   },
   "outputs": [],
   "source": [
    "# results from NERDSS simulations\n",
    "targetCluster = np.array([1, 2, 3, 4])\n",
    "figsize = (2.8,4)\n",
    "\n",
    "import numpy as np\n",
    "import scipy.stats as stats\n",
    "\n",
    "def calculate_ttest_pvalue(mean1, se1, mean2, se2, n1=30, n2=30, equal_var=False):\n",
    "    \"\"\"\n",
    "    Calculate t-test p-value from means and standard errors.\n",
    "    \n",
    "    Parameters:\n",
    "    -----------\n",
    "    mean1, mean2 : float\n",
    "        Means of the two groups\n",
    "    se1, se2 : float\n",
    "        Standard errors of the two groups (can be from bootstrap)\n",
    "    n1, n2 : int\n",
    "        Original sample sizes of the two groups\n",
    "    equal_var : bool, optional\n",
    "        Whether to assume equal variances (default is False)\n",
    "    \n",
    "    Returns:\n",
    "    --------\n",
    "    dict\n",
    "        Contains t-statistic, degrees of freedom, two-tailed p-value, \n",
    "        and 95% confidence interval for the difference\n",
    "    \"\"\"\n",
    "    # Calculate mean difference\n",
    "    mean_diff = mean2 - mean1\n",
    "    \n",
    "    # Calculate standard error of the difference\n",
    "    se_diff = np.sqrt(se1**2 + se2**2)\n",
    "    \n",
    "    # Calculate t-statistic\n",
    "    t_stat = mean_diff / se_diff\n",
    "    \n",
    "    # Calculate degrees of freedom\n",
    "    if equal_var:\n",
    "        # Pooled variance t-test\n",
    "        df = n1 + n2 - 2\n",
    "    else:\n",
    "        # Welch-Satterthwaite approximation for degrees of freedom (unequal variances)\n",
    "        df = ((se1**2 + se2**2)**2) / ((se1**4 / (n1-1)) + (se2**4 / (n2-1)))\n",
    "    \n",
    "    # Calculate two-tailed p-value\n",
    "    p_value = 2 * (1 - stats.t.cdf(abs(t_stat), df))\n",
    "    \n",
    "    # Calculate 95% confidence interval\n",
    "    t_critical = stats.t.ppf(0.975, df)  # 97.5th percentile for 95% CI\n",
    "    margin = t_critical * se_diff\n",
    "    ci_lower = mean_diff - margin\n",
    "    ci_upper = mean_diff + margin\n",
    "    \n",
    "    return p_value\n"
   ]
  },
  {
   "cell_type": "code",
   "execution_count": 4,
   "metadata": {
    "ExecuteTime": {
     "end_time": "2025-06-30T21:11:28.834287Z",
     "start_time": "2025-06-30T21:11:28.817437Z"
    },
    "code_folding": [
     2,
     12,
     16,
     97
    ]
   },
   "outputs": [],
   "source": [
    "class PDB_NERDSS():\n",
    "    \n",
    "    def __init__(self, parentDir='', pdbWrite=1e5):\n",
    "        self._pdir = parentDir\n",
    "        self._pdbStep = pdbWrite\n",
    "        self.t = []\n",
    "        self.x = []\n",
    "        self.proteinNumbers = []\n",
    "        self.regions = []\n",
    "        self.t_longest = []\n",
    "\n",
    "    \n",
    "    def read_pdbs(\n",
    "        self, N_repeat=None, pdbInitial=1e6, pdbMin=0, pdbMax=np.inf, \n",
    "        YZcenterList=[], chromRadius=5.5,\n",
    "        timeStep:float=1e-6\n",
    "    ):\n",
    "        '''Read pdbs untill pdbMax\n",
    "        \n",
    "        Args:\n",
    "        \n",
    "            N_repeat (int, iterable): \n",
    "                (int) the number of repeats, will read subfolders named in `range(N_repeat)`\n",
    "                (iterable of strings) the names of subfolders\n",
    "            \n",
    "            pdbMin (int): The min index (number of steps) of pdb read.\n",
    "            \n",
    "            pdbMax (int): The max index (number of steps) of pdb read.\n",
    "            \n",
    "            YZcenter (float): The center coordinate of Y and Z axes (they are the same) used to calculate r.\n",
    "            \n",
    "            timeStep (float): time jump for one step.\n",
    "            \n",
    "        Returns:\n",
    "            None: \n",
    "                self.x (list of lists): x coordinates\n",
    "                self.r (list of lists): r distances\n",
    "                self.t (list of lists): time points\n",
    "                self.t_longest (list): the longest time points\n",
    "        '''\n",
    "        \n",
    "        self._pdbMax = pdbMax\n",
    "        self._YZcenterList = YZcenterList\n",
    "        self.regions = [[] for i in YZcenterList] + [[]]\n",
    "        self._tStep = timeStep\n",
    "        \n",
    "        if N_repeat is None:\n",
    "            self._subnames = ['']\n",
    "        elif isinstance(N_repeat, int):\n",
    "            self._subnames = [str(i) for i in range(N_repeat)]\n",
    "        else: # assume it is iterable\n",
    "            self._subnames = [str(i) for i in N_repeat]\n",
    "        self._Nrepeats = len(self._subnames)\n",
    "        \n",
    "        for subname in self._subnames:\n",
    "            x = []\n",
    "            t = []\n",
    "            NItr = pdbMin # include the initial coordinates\n",
    "            while NItr < self._pdbMax:\n",
    "                # in case the simulation does not run through pdbMax*pdbStep\n",
    "                filename = int(NItr*self._pdbStep+pdbInitial)\n",
    "                x_itr = []\n",
    "                try:\n",
    "                    with open(f'{self._pdir}/{subname}/PDB/{filename}.pdb') as f:\n",
    "                        for line in f:\n",
    "                            linelist = line.split()\n",
    "                            if linelist[2] == 'COM' and linelist[3] == 'P':\n",
    "                                CRDx = float(linelist[5])\n",
    "                                CRDy = float(linelist[6])\n",
    "                                CRDz = float(linelist[7])\n",
    "                                onDNA = False\n",
    "                                for iyz, (yCenter, zCenter) in enumerate(self._YZcenterList):\n",
    "                                    if ((CRDy-yCenter)**2 + (CRDz-zCenter)**2)**0.5 < chromRadius:\n",
    "                                        self.regions[iyz].append(CRDx)\n",
    "                                        onDNA = True\n",
    "                                        break\n",
    "                                if not onDNA:\n",
    "                                    self.regions[-1].append(CRDx)\n",
    "                    t.append(NItr*self._pdbStep*self._tStep)\n",
    "                    NItr += 1\n",
    "                except:\n",
    "                    break\n",
    "\n",
    "            self.x.append(x)\n",
    "            self.t.append(t)\n",
    "        \n",
    "        self._subnames = [name for i, name in enumerate(self._subnames) if len(self.t[i]) != 0]\n",
    "        self._Nrepeats = len(self._subnames)\n",
    "        self.x = [x for i, x in enumerate(self.x) if len(self.t[i]) != 0]\n",
    "        self.t = [t for t in self.t if len(t)!=0]\n",
    "                \n",
    "        \n",
    "        self.t_longest = self.t[0]\n",
    "        for t in self.t:\n",
    "            if len(t) > len(self.t_longest):\n",
    "                self.t_longest = t\n",
    "            \n",
    "    def get_all_x(self, burnInSteps=1):\n",
    "        '''collect all x coordinates of proteins\n",
    "        \n",
    "        Args:\n",
    "            burnInSteps (int): The min number of pdbs considered. Use this to exclude burn-in steps.\n",
    "            \n",
    "        Returns:\n",
    "            self.x_all (list): The x coordinates of proteins\n",
    "        '''\n",
    "        \n",
    "        self._pdbNumMin = burnInSteps\n",
    "        self.x_all = []\n",
    "        \n",
    "        for nr in range(0, self._Nrepeats):\n",
    "            self.x_all += [x for x in self.x[nr][self._pdbNumMin:]]\n",
    "        \n",
    "        return self.x_all\n",
    "        "
   ]
  },
  {
   "cell_type": "code",
   "execution_count": 5,
   "metadata": {
    "ExecuteTime": {
     "end_time": "2025-06-30T21:11:29.393154Z",
     "start_time": "2025-06-30T21:11:29.386900Z"
    },
    "code_folding": [
     0
    ]
   },
   "outputs": [],
   "source": [
    "def plot_spatial_partition(PDB, totProtein):\n",
    "\n",
    "    normalization = [4, 3, 2, 1, 1]\n",
    "\n",
    "    stepSize = 0.2\n",
    "\n",
    "    plt.rcParams['font.size']=12\n",
    "    plt.figure(figsize=(5,4))\n",
    "    for ir, r in enumerate(PDB.regions):\n",
    "        hist, bin_edges = np.histogram(r, bins=np.arange(0,201,1))\n",
    "        plt.stairs(hist/totProtein + stepSize*ir, bin_edges, lw=1.5)\n",
    "        plt.text(5, stepSize*ir+0.03, '%.0f%% \\n(normalized: %.0f%%)'%(100*len(r)/totProtein, \n",
    "                                               100*len(r)/totProtein/normalization[ir]))\n",
    "    plt.xlim([0,200])\n",
    "    plt.yticks(\n",
    "        np.array([0,1,2,3,4])*stepSize,\n",
    "        ['4 Targets', '3 Targets', '2 Targets', '1 Targets', 'In solution'],\n",
    "    )\n",
    "    plt.ylim([-stepSize*0.1, 4*stepSize+stepSize*0.7])\n",
    "    plt.tight_layout()\n",
    "    plt.show()"
   ]
  },
  {
   "cell_type": "markdown",
   "metadata": {},
   "source": [
    "## Proteins can form dimers"
   ]
  },
  {
   "cell_type": "code",
   "execution_count": 24,
   "metadata": {
    "ExecuteTime": {
     "end_time": "2025-06-30T21:18:45.312440Z",
     "start_time": "2025-06-30T21:18:44.918056Z"
    }
   },
   "outputs": [
    {
     "data": {
      "image/png": "[encoded data removed]",
      "text/plain": [
       "<Figure size 500x400 with 1 Axes>"
      ]
     },
     "metadata": {},
     "output_type": "display_data"
    }
   ],
   "source": [
    "yzCrd = 31.623/2\n",
    "PDB = PDB_NERDSS(f'./NERDSS/fourDNAs/twoDimers/', pdbWrite=4e7)\n",
    "PDB.read_pdbs(\n",
    "    N_repeat=30, timeStep=1e-6, pdbInitial=2e7, pdbMin=0,\n",
    "    YZcenterList=[[yzCrd,yzCrd], [3*yzCrd,yzCrd], [yzCrd,3*yzCrd], [3*yzCrd,3*yzCrd]]\n",
    ")\n",
    "plot_spatial_partition(PDB, np.sum([len(r) for r in PDB.regions]))"
   ]
  },
  {
   "cell_type": "code",
   "execution_count": 66,
   "metadata": {
    "ExecuteTime": {
     "end_time": "2025-07-01T15:35:13.240583Z",
     "start_time": "2025-07-01T15:35:03.832239Z"
    }
   },
   "outputs": [
    {
     "name": "stdout",
     "output_type": "stream",
     "text": [
      "0, 1, 2, 3, 4, 5, 6, 7, 8, 9, 10, 11, 12, 13, 14, 15, 16, 17, 18, 19, 20, 21, 22, 23, 24, 25, 26, 27, 28, 29, 30, 31, 32, 33, 34, 35, 36, 37, 38, 39, 40, 41, 42, 43, 44, 45, 46, 47, 48, 49, 50, 51, 52, 53, 54, 55, 56, 57, 58, 59, 60, 61, 62, 63, 64, 65, 66, 67, 68, 69, 70, 71, 72, 73, 74, 75, 76, 77, 78, 79, 80, 81, 82, 83, 84, 85, 86, 87, 88, 89, 90, 91, 92, 93, 94, 95, 96, 97, 98, 99, "
     ]
    }
   ],
   "source": [
    "N_samples = 30\n",
    "selectedTraj = [i for i in range(0,0+N_samples)]\n",
    "yzCrd = 31.623/2\n",
    "partitionList = []\n",
    "for i in range(100):\n",
    "    print(i, end=', ')\n",
    "    PDB = PDB_NERDSS(f'./NERDSS/fourDNAs/twoDimers/', pdbWrite=9e7)\n",
    "    PDB.read_pdbs(\n",
    "        N_repeat=np.random.choice(selectedTraj, size=N_samples, replace=True), \n",
    "        timeStep=1e-6, pdbInitial=2e7, pdbMin=0,\n",
    "        YZcenterList=[[yzCrd,yzCrd], [3*yzCrd,yzCrd], [yzCrd,3*yzCrd], [3*yzCrd,3*yzCrd]]\n",
    "    )\n",
    "    totProtein = np.sum([max(len(r),1) for r in PDB.regions])\n",
    "    partitionList.append([max(len(r),1)/totProtein for r in PDB.regions])"
   ]
  },
  {
   "cell_type": "code",
   "execution_count": 67,
   "metadata": {
    "ExecuteTime": {
     "end_time": "2025-07-01T15:35:13.248203Z",
     "start_time": "2025-07-01T15:35:13.242813Z"
    }
   },
   "outputs": [
    {
     "data": {
      "text/plain": [
       "(array([0.00320828, 0.19847659, 0.32222788, 0.42536514]),\n",
       " array([0.0001675 , 0.03437654, 0.02679387, 0.0279736 ]))"
      ]
     },
     "execution_count": 67,
     "metadata": {},
     "output_type": "execute_result"
    }
   ],
   "source": [
    "DNApartition_2 = (np.mean(partitionList, axis=0)[-2::-1], \n",
    "                  np.std(partitionList, axis=0)[-2::-1])\n",
    "DNApartition_2"
   ]
  },
  {
   "cell_type": "code",
   "execution_count": 68,
   "metadata": {
    "ExecuteTime": {
     "end_time": "2025-07-01T15:35:13.252374Z",
     "start_time": "2025-07-01T15:35:13.250152Z"
    }
   },
   "outputs": [],
   "source": [
    "# # total protein number is 428\n",
    "# DNApartition_2 = ([1/428.        , 0.1932004 , 0.34046152, 0.43666561],\n",
    "#                  [1/428.        , 0.03428115, 0.02344495, 0.03153427])"
   ]
  },
  {
   "cell_type": "code",
   "execution_count": 69,
   "metadata": {
    "ExecuteTime": {
     "end_time": "2025-07-01T15:35:13.259851Z",
     "start_time": "2025-07-01T15:35:13.254550Z"
    }
   },
   "outputs": [
    {
     "name": "stdout",
     "output_type": "stream",
     "text": [
      "Confidence (0.68, 0.95, 0.997) 0.999995026512642\n",
      "Confidence (0.68, 0.95, 0.997) 0.32478038588242875\n",
      "Confidence (0.68, 0.95, 0.997) 0.07466779049700545\n"
     ]
    }
   ],
   "source": [
    "for i in range(3):\n",
    "    mu1 = DNApartition_2[0][i] / targetCluster[i]\n",
    "    se1 = DNApartition_2[1][i] / targetCluster[i]\n",
    "    mu2 = DNApartition_2[0][i+1] / targetCluster[i+1]\n",
    "    se2 = DNApartition_2[1][i+1] / targetCluster[i+1]\n",
    "    print('Confidence (0.68, 0.95, 0.997)', 1 - calculate_ttest_pvalue(mu1, se1, mu2, se2))"
   ]
  },
  {
   "cell_type": "code",
   "execution_count": 70,
   "metadata": {
    "ExecuteTime": {
     "end_time": "2025-07-01T15:35:21.205820Z",
     "start_time": "2025-07-01T15:35:21.041837Z"
    }
   },
   "outputs": [
    {
     "data": {
      "image/png": "[encoded data removed]",
      "text/plain": [
       "<Figure size 280x400 with 1 Axes>"
      ]
     },
     "metadata": {},
     "output_type": "display_data"
    }
   ],
   "source": [
    "plt.figure(figsize=figsize)\n",
    "plt.tick_params(length=10, width=1.2)\n",
    "ax = plt.subplot(111)\n",
    "for axis in ['top', 'bottom', 'left', 'right']:\n",
    "    ax.spines[axis].set_linewidth(1.2)\n",
    "\n",
    "plt.bar(\n",
    "    2*targetCluster, DNApartition_2[0], yerr=DNApartition_2[1],\n",
    "    capsize=5, edgecolor='black', facecolor='tab:blue', label='Total'\n",
    ")\n",
    "\n",
    "plt.bar(\n",
    "    2*targetCluster-1, DNApartition_2[0]/targetCluster, \n",
    "    yerr=DNApartition_2[1]/targetCluster,\n",
    "    capsize=5, edgecolor='black', facecolor='none', label='per target'\n",
    ")\n",
    "\n",
    "plt.legend(fontsize=12)\n",
    "\n",
    "plt.xticks(2*targetCluster-0.5, targetCluster, fontsize=16)\n",
    "plt.yticks(fontsize=0)\n",
    "plt.ylim([0., 0.65])\n",
    "plt.show()"
   ]
  },
  {
   "cell_type": "markdown",
   "metadata": {},
   "source": [
    "## monomer"
   ]
  },
  {
   "cell_type": "code",
   "execution_count": 83,
   "metadata": {
    "ExecuteTime": {
     "end_time": "2025-07-01T15:39:19.491088Z",
     "start_time": "2025-07-01T15:39:19.488410Z"
    }
   },
   "outputs": [],
   "source": [
    "DNApartition_1 = ([0.01963284, 0.04229797, 0.07063262, 0.0853417],\n",
    "                 [0.00603037, 0.00844562, 0.00908131, 0.01204614])"
   ]
  },
  {
   "cell_type": "code",
   "execution_count": 84,
   "metadata": {
    "ExecuteTime": {
     "end_time": "2025-07-01T15:39:19.684291Z",
     "start_time": "2025-07-01T15:39:19.678906Z"
    }
   },
   "outputs": [
    {
     "name": "stdout",
     "output_type": "stream",
     "text": [
      "Confidence (0.68, 0.95, 0.997) 0.16236079367983347\n",
      "Confidence (0.68, 0.95, 0.997) 0.3532995056626267\n",
      "Confidence (0.68, 0.95, 0.997) 0.39307336090116296\n"
     ]
    }
   ],
   "source": [
    "for i in range(3):\n",
    "    mu1 = DNApartition_1[0][i] / targetCluster[i]\n",
    "    se1 = DNApartition_1[1][i] / targetCluster[i]\n",
    "    mu2 = DNApartition_1[0][i+1] / targetCluster[i+1]\n",
    "    se2 = DNApartition_1[1][i+1] / targetCluster[i+1]\n",
    "    print('Confidence (0.68, 0.95, 0.997)', 1 - calculate_ttest_pvalue(mu1, se1, mu2, se2))"
   ]
  },
  {
   "cell_type": "code",
   "execution_count": 14,
   "metadata": {
    "ExecuteTime": {
     "end_time": "2025-05-01T16:38:18.347006Z",
     "start_time": "2025-05-01T16:38:18.262006Z"
    }
   },
   "outputs": [
    {
     "data": {
      "image/png": "[encoded data removed]",
      "text/plain": [
       "<Figure size 280x400 with 1 Axes>"
      ]
     },
     "metadata": {},
     "output_type": "display_data"
    }
   ],
   "source": [
    "plt.figure(figsize=figsize)\n",
    "plt.tick_params(length=10, width=1.2)\n",
    "ax = plt.subplot(111)\n",
    "for axis in ['top', 'bottom', 'left', 'right']:\n",
    "    ax.spines[axis].set_linewidth(1.2)\n",
    "\n",
    "plt.bar(\n",
    "    2*targetCluster, DNApartition_1[0], yerr=DNApartition_1[1],\n",
    "    capsize=5, edgecolor='black', facecolor='tab:red', label='Total'\n",
    ")\n",
    "\n",
    "plt.bar(\n",
    "    2*targetCluster-1, DNApartition_1[0]/targetCluster, \n",
    "    yerr=DNApartition_1[1]/targetCluster,\n",
    "    capsize=5, edgecolor='black', facecolor='none', label='per target'\n",
    ")\n",
    "\n",
    "plt.legend(fontsize=12)\n",
    "\n",
    "plt.xticks(2*targetCluster-0.5, targetCluster, fontsize=16)\n",
    "plt.yticks(fontsize=16)\n",
    "plt.ylim([0., 0.65])\n",
    "plt.show()"
   ]
  },
  {
   "cell_type": "markdown",
   "metadata": {},
   "source": [
    "## Linear tetramer"
   ]
  },
  {
   "cell_type": "code",
   "execution_count": 15,
   "metadata": {
    "ExecuteTime": {
     "end_time": "2025-05-01T16:38:18.350925Z",
     "start_time": "2025-05-01T16:38:18.348346Z"
    }
   },
   "outputs": [],
   "source": [
    "# DNApartition_4 = ([1/396 , 0.08206282, 0.30460399, 0.54261452],\n",
    "#                  [1/396, 0.03363388, 0.06487353, 0.08738131])"
   ]
  },
  {
   "cell_type": "code",
   "execution_count": 30,
   "metadata": {
    "ExecuteTime": {
     "end_time": "2025-07-01T15:27:04.819504Z",
     "start_time": "2025-07-01T15:27:03.617575Z"
    }
   },
   "outputs": [
    {
     "data": {
      "image/png": "[encoded data removed]",
      "text/plain": [
       "<Figure size 500x400 with 1 Axes>"
      ]
     },
     "metadata": {},
     "output_type": "display_data"
    }
   ],
   "source": [
    "yzCrd = 31.623/2\n",
    "PDB = PDB_NERDSS(f'./NERDSS/fourDNAs/fourInRow/', pdbWrite=4e7)\n",
    "PDB.read_pdbs(\n",
    "    N_repeat=48, timeStep=1e-6, pdbInitial=2e7, pdbMin=0,\n",
    "    YZcenterList=[[yzCrd,yzCrd], [3*yzCrd,yzCrd], [yzCrd,3*yzCrd], [3*yzCrd,3*yzCrd]]\n",
    ")\n",
    "plot_spatial_partition(PDB, np.sum([len(r) for r in PDB.regions]))"
   ]
  },
  {
   "cell_type": "code",
   "execution_count": 79,
   "metadata": {
    "ExecuteTime": {
     "end_time": "2025-07-01T15:36:54.096582Z",
     "start_time": "2025-07-01T15:36:43.902962Z"
    }
   },
   "outputs": [
    {
     "name": "stdout",
     "output_type": "stream",
     "text": [
      "0, 1, 2, 3, 4, 5, 6, 7, 8, 9, 10, 11, 12, 13, 14, 15, 16, 17, 18, 19, 20, 21, 22, 23, 24, 25, 26, 27, 28, 29, 30, 31, 32, 33, 34, 35, 36, 37, 38, 39, 40, 41, 42, 43, 44, 45, 46, 47, 48, 49, 50, 51, 52, 53, 54, 55, 56, 57, 58, 59, 60, 61, 62, 63, 64, 65, 66, 67, 68, 69, 70, 71, 72, 73, 74, 75, 76, 77, 78, 79, 80, 81, 82, 83, 84, 85, 86, 87, 88, 89, 90, 91, 92, 93, 94, 95, 96, 97, 98, 99, "
     ]
    }
   ],
   "source": [
    "N_samples = 30\n",
    "selectedTraj = [i for i in range(0,0+N_samples)]\n",
    "yzCrd = 31.623/2\n",
    "partitionList = []\n",
    "for i in range(100):\n",
    "    print(i, end=', ')\n",
    "    PDB = PDB_NERDSS(f'./NERDSS/fourDNAs/fourInRow/', pdbWrite=8e7)\n",
    "    PDB.read_pdbs(\n",
    "        N_repeat=np.random.choice(selectedTraj, size=N_samples, replace=True), \n",
    "        timeStep=1e-6, pdbInitial=2e7, pdbMin=0,\n",
    "        YZcenterList=[[yzCrd,yzCrd], [3*yzCrd,yzCrd], [yzCrd,3*yzCrd], [3*yzCrd,3*yzCrd]]\n",
    "    )\n",
    "    totProtein = np.sum([max(len(r),1) for r in PDB.regions])\n",
    "    partitionList.append([max(len(r),1)/totProtein for r in PDB.regions])"
   ]
  },
  {
   "cell_type": "code",
   "execution_count": 80,
   "metadata": {
    "ExecuteTime": {
     "end_time": "2025-07-01T15:36:54.103821Z",
     "start_time": "2025-07-01T15:36:54.098661Z"
    }
   },
   "outputs": [
    {
     "data": {
      "text/plain": [
       "(array([0.00285613, 0.06377555, 0.33407644, 0.54918059]),\n",
       " array([8.21126968e-05, 2.22301725e-02, 5.12779847e-02, 7.37980743e-02]))"
      ]
     },
     "execution_count": 80,
     "metadata": {},
     "output_type": "execute_result"
    }
   ],
   "source": [
    "DNApartition_4 = (np.mean(partitionList, axis=0)[-2::-1], \n",
    "                  np.std(partitionList, axis=0)[-2::-1])\n",
    "DNApartition_4"
   ]
  },
  {
   "cell_type": "code",
   "execution_count": 81,
   "metadata": {
    "ExecuteTime": {
     "end_time": "2025-07-01T15:36:54.110864Z",
     "start_time": "2025-07-01T15:36:54.105536Z"
    }
   },
   "outputs": [
    {
     "name": "stdout",
     "output_type": "stream",
     "text": [
      "Confidence (0.68, 0.95, 0.997) 0.9858852067320292\n",
      "Confidence (0.68, 0.95, 0.997) 0.9997094580543828\n",
      "Confidence (0.68, 0.95, 0.997) 0.6932697023014103\n"
     ]
    }
   ],
   "source": [
    "for i in range(3):\n",
    "    mu1 = DNApartition_4[0][i] / targetCluster[i]\n",
    "    se1 = DNApartition_4[1][i] / targetCluster[i]\n",
    "    mu2 = DNApartition_4[0][i+1] / targetCluster[i+1]\n",
    "    se2 = DNApartition_4[1][i+1] / targetCluster[i+1]\n",
    "    print('Confidence (0.68, 0.95, 0.997)', 1 - calculate_ttest_pvalue(mu1, se1, mu2, se2))"
   ]
  },
  {
   "cell_type": "code",
   "execution_count": 82,
   "metadata": {
    "ExecuteTime": {
     "end_time": "2025-07-01T15:36:54.275484Z",
     "start_time": "2025-07-01T15:36:54.113023Z"
    }
   },
   "outputs": [
    {
     "data": {
      "image/png": "[encoded data removed]",
      "text/plain": [
       "<Figure size 280x400 with 1 Axes>"
      ]
     },
     "metadata": {},
     "output_type": "display_data"
    }
   ],
   "source": [
    "plt.figure(figsize=figsize)\n",
    "plt.tick_params(length=10, width=1.2)\n",
    "ax = plt.subplot(111)\n",
    "for axis in ['top', 'bottom', 'left', 'right']:\n",
    "    ax.spines[axis].set_linewidth(1.2)\n",
    "\n",
    "plt.bar(\n",
    "    2*targetCluster, DNApartition_4[0], yerr=DNApartition_4[1],\n",
    "    capsize=5, edgecolor='black', facecolor='tab:orange', label='Total'\n",
    ")\n",
    "\n",
    "plt.bar(\n",
    "    2*targetCluster-1, DNApartition_4[0]/targetCluster, \n",
    "    yerr=DNApartition_4[1]/targetCluster,\n",
    "    capsize=5, edgecolor='black', facecolor='none', label='per target'\n",
    ")\n",
    "\n",
    "plt.legend(fontsize=12)\n",
    "\n",
    "plt.xticks(2*targetCluster-0.5, targetCluster, fontsize=16)\n",
    "plt.yticks(fontsize=0)\n",
    "plt.ylim([0., 0.65])\n",
    "\n",
    "plt.show()"
   ]
  },
  {
   "cell_type": "code",
   "execution_count": null,
   "metadata": {},
   "outputs": [],
   "source": []
  },
  {
   "cell_type": "code",
   "execution_count": null,
   "metadata": {},
   "outputs": [],
   "source": []
  }
 ],
 "metadata": {
  "kernelspec": {
   "display_name": "Python 3 (ipykernel)",
   "language": "python",
   "name": "python3"
  },
  "language_info": {
   "codemirror_mode": {
    "name": "ipython",
    "version": 3
   },
   "file_extension": ".py",
   "mimetype": "text/x-python",
   "name": "python",
   "nbconvert_exporter": "python",
   "pygments_lexer": "ipython3",
   "version": "3.11.5"
  }
 },
 "nbformat": 4,
 "nbformat_minor": 2
}
