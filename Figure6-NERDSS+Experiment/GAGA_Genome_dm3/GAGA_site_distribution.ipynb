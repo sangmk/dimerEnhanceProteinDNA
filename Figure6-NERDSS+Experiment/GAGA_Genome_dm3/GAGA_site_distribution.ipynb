{
 "cells": [
  {
   "cell_type": "code",
   "execution_count": 1,
   "id": "95cdefc9",
   "metadata": {
    "ExecuteTime": {
     "end_time": "2025-02-24T21:00:18.695415Z",
     "start_time": "2025-02-24T21:00:18.050140Z"
    }
   },
   "outputs": [],
   "source": [
    "import pandas as pd\n",
    "import numpy as np\n",
    "from matplotlib import pyplot as plt\n",
    "import pyranges as pr\n",
    "from tqdm import tqdm\n",
    "import seaborn as sns"
   ]
  },
  {
   "cell_type": "code",
   "execution_count": 2,
   "id": "190b04af",
   "metadata": {
    "ExecuteTime": {
     "end_time": "2025-02-24T21:00:19.179540Z",
     "start_time": "2025-02-24T21:00:18.697057Z"
    }
   },
   "outputs": [],
   "source": [
    "# GAF motifs from ChIP-seq\n",
    "ALL_motifs = pd.read_csv('./GAGAG_dm3.csv')\n",
    "# GAF motifs from ChIP-seq\n",
    "ALL_motifs = pd.read_csv('./GAGAG_dm3.csv')\n",
    "GAGA_motifs = pd.read_csv('./Fuda_ChIP_peaks.csv')\n",
    "# nucleosome positions\n",
    "nucleosomes = pr.read_bed('./dmNuc0210501.nucleosome.iNPSPeak.bed')"
   ]
  },
  {
   "cell_type": "markdown",
   "id": "c5dfe23e",
   "metadata": {},
   "source": [
    "# GAGA ChIP-seq from Fuda"
   ]
  },
  {
   "cell_type": "code",
   "execution_count": 3,
   "id": "eeea1786",
   "metadata": {
    "ExecuteTime": {
     "end_time": "2025-02-24T21:00:19.973876Z",
     "start_time": "2025-02-24T21:00:19.967374Z"
    }
   },
   "outputs": [],
   "source": [
    "GAGA_motifs_hc = GAGA_motifs[GAGA_motifs['Jaspar_hcGAF']=='yes']"
   ]
  },
  {
   "cell_type": "code",
   "execution_count": 4,
   "id": "9ce1528a",
   "metadata": {
    "ExecuteTime": {
     "end_time": "2025-02-24T21:00:20.175954Z",
     "start_time": "2025-02-24T21:00:20.171424Z"
    }
   },
   "outputs": [],
   "source": [
    "def count_motifs(sequence):\n",
    "    count = 0\n",
    "    ones = 0  # Counter for consecutive 1s\n",
    "\n",
    "    for num in sequence:\n",
    "        if num == 1:\n",
    "            ones += 1\n",
    "            if ones == 5:  # Found 5 consecutive 1s\n",
    "                count += 1\n",
    "                ones = 0\n",
    "        else:\n",
    "            # Reset the counter if the sequence is broken\n",
    "            ones = 0\n",
    "\n",
    "    return count"
   ]
  },
  {
   "cell_type": "code",
   "execution_count": 5,
   "id": "327466f9",
   "metadata": {
    "ExecuteTime": {
     "end_time": "2025-02-24T21:00:21.668379Z",
     "start_time": "2025-02-24T21:00:21.146777Z"
    }
   },
   "outputs": [],
   "source": [
    "def obtainMotifNumbers(data, motifs):\n",
    "    peakName = []\n",
    "    peakIntensity = []\n",
    "    peakNumMotif = []\n",
    "    for chrom in data['chromosome'].unique():\n",
    "        chrom_motifs = motifs[motifs['chr']==chrom]\n",
    "        chrom_ChIP = data[data['chromosome']==chrom]\n",
    "        chromMap = np.zeros(chrom_ChIP['end'].max())\n",
    "        for start in chrom_motifs['start']:\n",
    "            chromMap[start:start+5] = 1\n",
    "        for index, peakInfo in chrom_ChIP.iterrows():\n",
    "            peakName.append(peakInfo['peakName'])\n",
    "            peakIntensity.append(peakInfo['untreated_GAF_intensity'])\n",
    "            peakNumMotif.append(count_motifs(chromMap[peakInfo['start']:peakInfo['end']+1]))\n",
    "    peakIntensity = np.array(peakIntensity)\n",
    "    peakNumMotif = np.array(peakNumMotif)\n",
    "    return peakName, peakIntensity, peakNumMotif\n",
    "\n",
    "peakName, peakIntensity, peakNumMotif = obtainMotifNumbers(GAGA_motifs_hc, ALL_motifs)"
   ]
  },
  {
   "cell_type": "code",
   "execution_count": null,
   "id": "1d2536be",
   "metadata": {
    "ExecuteTime": {
     "end_time": "2025-02-24T21:00:23.286080Z",
     "start_time": "2025-02-24T21:00:23.273184Z"
    }
   },
   "outputs": [
    {
     "name": "stderr",
     "output_type": "stream",
     "text": [
      "/var/folders/d3/vhnxc7ys74jcv_vrsv5c0d7c0000gn/T/ipykernel_18045/3926726283.py:5: RuntimeWarning: divide by zero encountered in divide\n",
      "  'peak':peakName, 'intensity':peakIntensity/peakNumMotif, 'numMotif':peakNumMotif, 'normed':'yes'\n"
     ]
    }
   ],
   "source": [
    "intensity_of_cluster_raw = pd.DataFrame({\n",
    "    'peak':peakName, 'intensity':peakIntensity, 'numMotif':peakNumMotif, 'normed':'no'\n",
    "})\n",
    "intensity_of_cluster_normed = pd.DataFrame({\n",
    "    'peak':peakName, 'intensity':peakIntensity/peakNumMotif, 'numMotif':peakNumMotif, 'normed':'yes'\n",
    "})"
   ]
  },
  {
   "cell_type": "code",
   "execution_count": 10,
   "id": "89323d8a",
   "metadata": {
    "ExecuteTime": {
     "end_time": "2025-02-24T21:00:28.374634Z",
     "start_time": "2025-02-24T21:00:28.366524Z"
    }
   },
   "outputs": [],
   "source": [
    "def calculate_mad_groupby(df, Nbootstraps=10, groupby_column='numMotif', value_column='intensity'):\n",
    "    \"\"\"\n",
    "    Calculate the Median Absolute Deviation (MAD) for grouped data in a pandas DataFrame.\n",
    "    \n",
    "    Parameters:\n",
    "    - df (pd.DataFrame): The input DataFrame.\n",
    "    - groupby_column (str): The column to group by.\n",
    "    - value_column (str): The column containing values to calculate MAD for.\n",
    "    \n",
    "    Returns:\n",
    "    - pd.DataFrame: A DataFrame with groups and their corresponding MAD values.\n",
    "    \"\"\"\n",
    "    def mad(series):\n",
    "        bootStrap = []\n",
    "        for i in range(Nbootstraps):\n",
    "            bootstrap_sample = series.sample(frac=1, replace=True)\n",
    "            bootStrap.append(bootstrap_sample.median())\n",
    "        return np.std(bootStrap)\n",
    "    \n",
    "    # Apply MAD calculation to each group\n",
    "    result = df.groupby(groupby_column)[value_column].apply(mad).reset_index()\n",
    "    result.columns = [groupby_column, 'MAD']  # Rename the columns\n",
    "    return result['MAD']\n"
   ]
  },
  {
   "cell_type": "code",
   "execution_count": null,
   "id": "7e7636bc",
   "metadata": {
    "ExecuteTime": {
     "end_time": "2025-02-25T18:54:41.361115Z",
     "start_time": "2025-02-25T18:54:41.111209Z"
    }
   },
   "outputs": [
    {
     "data": {
      "image/png": "[encoded data removed]",
      "text/plain": [
       "<Figure size 400x400 with 1 Axes>"
      ]
     },
     "metadata": {},
     "output_type": "display_data"
    }
   ],
   "source": [
    "plt.figure(figsize=(4,4))\n",
    "plt.tick_params(length=10, width=1.2)\n",
    "ax = plt.subplot(111)\n",
    "for axis in ['top', 'bottom', 'left', 'right']:\n",
    "    ax.spines[axis].set_linewidth(1.2)\n",
    "\n",
    "N_bootstrap = 100\n",
    "\n",
    "data = intensity_of_cluster_raw\n",
    "data = data[(data['numMotif']<=10) & (data['numMotif']>0)]\n",
    "dataNumMotif = np.sort(data['numMotif'].unique())\n",
    "NDATA = data.groupby('numMotif')['intensity'].size()\n",
    "plt.bar(\n",
    "    2*dataNumMotif, \n",
    "    data.groupby('numMotif')['intensity'].median(), \n",
    "    yerr=calculate_mad_groupby(data, N_bootstrap),\n",
    "    capsize=5, edgecolor='black', facecolor='gray', label='Total'\n",
    ")\n",
    "\n",
    "data = intensity_of_cluster_normed\n",
    "data = data[(data['numMotif']<=10) & (data['numMotif']>0)]\n",
    "dataNumMotif = np.sort(data['numMotif'].unique())\n",
    "NDATA = data.groupby('numMotif')['intensity'].size()\n",
    "plt.bar(\n",
    "    2*dataNumMotif-1, \n",
    "    data.groupby('numMotif')['intensity'].median(), \n",
    "    yerr=calculate_mad_groupby(data, N_bootstrap),\n",
    "    capsize=5, edgecolor='black', facecolor='none', label='Per Target'\n",
    ")\n",
    "\n",
    "plt.xlim([0.5, 20.5])\n",
    "plt.semilogy()\n",
    "# plt.ylim([0,2500])\n",
    "\n",
    "plt.legend(loc='upper left', fontsize=13)\n",
    "\n",
    "plt.xticks(2*dataNumMotif-0.5, dataNumMotif, fontsize=16)\n",
    "plt.yticks(fontsize=16)\n",
    "\n",
    "plt.show()"
   ]
  },
  {
   "cell_type": "code",
   "execution_count": null,
   "id": "2c373de2",
   "metadata": {},
   "outputs": [],
   "source": []
  },
  {
   "cell_type": "markdown",
   "id": "04031adf",
   "metadata": {},
   "source": [
    "# GAGAG motif distances"
   ]
  },
  {
   "cell_type": "code",
   "execution_count": 3,
   "id": "f4dc92f2",
   "metadata": {
    "ExecuteTime": {
     "end_time": "2025-02-06T00:36:30.954834Z",
     "start_time": "2025-02-06T00:26:28.485431Z"
    },
    "code_folding": [
     2
    ]
   },
   "outputs": [
    {
     "name": "stdout",
     "output_type": "stream",
     "text": [
      "chr2L... chr2R... chr3L... chr3R... chr4... chrX... chrY... end.\n"
     ]
    }
   ],
   "source": [
    "from collections import Counter\n",
    "\n",
    "def find_motifs_between_dyads(chrom, motif):\n",
    "    \"\"\"\n",
    "    Identify the distribution of the number of complete motifs between nucleosome dyads.\n",
    "    \n",
    "    Parameters:\n",
    "    chrom (list or np.array): {0, 1} sequence where 0 represents free DNA and 1 represents dyad of nucleosome.\n",
    "    motif (pd.DataFrame): DataFrame with \"start\" and \"end\" columns indicating motif positions.\n",
    "\n",
    "    Returns:\n",
    "    dict: Distribution of the number of motifs between dyads.\n",
    "    \"\"\"\n",
    "    \n",
    "    # Find indices of dyads\n",
    "    dyad_indices = []\n",
    "    for i, row in chrom.df.iterrows():\n",
    "        if row.Name.split(':')[1].strip() == 'MainPeak':\n",
    "            midleft = int(np.floor((row['Start'] + row['End'])/2))\n",
    "            dyad_indices.append(midleft)\n",
    "\n",
    "    # Ensure dyad_indices is sorted\n",
    "    dyad_indices.sort()\n",
    "    \n",
    "    # Count complete motifs between consecutive dyads\n",
    "    motif_counts = []\n",
    "    for i in range(len(dyad_indices) - 1):\n",
    "        start_dyad = dyad_indices[i]\n",
    "        end_dyad = dyad_indices[i + 1]\n",
    "        \n",
    "        # Count motifs completely between the current dyads\n",
    "        count = sum((motif[\"start\"] > start_dyad) & (motif[\"end\"] < end_dyad))\n",
    "        motif_counts.append(count)\n",
    "\n",
    "    # Calculate the distribution of motif counts\n",
    "    distribution = dict(Counter(motif_counts))\n",
    "    \n",
    "    return distribution\n",
    "\n",
    "# Example usage\n",
    "distributions_all = []\n",
    "for chrom in ['chr2L', 'chr2R', 'chr3L', 'chr3R', 'chr4', 'chrX', 'chrY']:\n",
    "    print(chrom, end='... ')\n",
    "    distributions_all.append(find_motifs_between_dyads(\n",
    "        nucleosomes[chrom], ALL_motifs[ALL_motifs['chr']==chrom]\n",
    "    ))\n",
    "print('end.')\n",
    "# print(distribution)\n"
   ]
  },
  {
   "cell_type": "code",
   "execution_count": 5,
   "id": "29e8d0cd",
   "metadata": {
    "ExecuteTime": {
     "end_time": "2025-02-06T00:36:30.972562Z",
     "start_time": "2025-02-06T00:36:30.965287Z"
    },
    "code_folding": [
     6
    ]
   },
   "outputs": [],
   "source": [
    "def plotHeader(\n",
    "    scale=1.0, fixSize=True, sizeX=5, sizeY=5,\n",
    "    lgdLoc=[0.55,0.00], lgdFontSize=22, lgdHandleL=0.3, \n",
    "    lgdTitle='', lgdTtlFontSize=22,\n",
    "    labelFontSize=20, tickFontSize=27, \n",
    "    tickL=15, tickW=2, spineLineW=2\n",
    "):\n",
    "    labelfont = {'fontsize':labelFontSize*scale}\n",
    "    tickfont = {'fontsize':tickFontSize*scale}\n",
    "    legend = {'fontsize':lgdFontSize*scale, 'loc':lgdLoc, 'handlelength':lgdHandleL*scale, \n",
    "              'title':lgdTitle, 'title_fontsize':lgdTtlFontSize*scale,\n",
    "             'framealpha':0.0}\n",
    "    if fixSize:\n",
    "        fig = plt.figure(figsize=(sizeX*scale,sizeY*scale))\n",
    "        ax = fig.add_subplot(111)\n",
    "    else:\n",
    "        ax = plt.gca()\n",
    "    plt.tick_params(length=tickL*scale, width=tickW*scale)\n",
    "    for axis in ['top', 'bottom', 'left', 'right']:\n",
    "        ax.spines[axis].set_linewidth(spineLineW*scale)  # change width\n",
    "    colors = [\n",
    "        'tab:blue', 'tab:orange', 'tab:green', 'tab:red', 'tab:purple', \n",
    "        'tab:brown', 'tab:pink', 'tab:gray', 'tab:olive', 'tab:cyan'\n",
    "    ]\n",
    "    linsStyles = ['-', '--']\n",
    "    return ax, colors, linsStyles, legend, labelfont, tickfont, 0.6022 # C0, nm^-3 -> M"
   ]
  },
  {
   "cell_type": "code",
   "execution_count": 7,
   "id": "30071727",
   "metadata": {
    "ExecuteTime": {
     "end_time": "2025-02-06T00:52:10.804158Z",
     "start_time": "2025-02-06T00:52:10.797503Z"
    },
    "code_folding": [
     1
    ]
   },
   "outputs": [],
   "source": [
    "distribution_all_combined = {}\n",
    "for distribution in distributions_all:\n",
    "    for count in distribution.keys():\n",
    "        if count > 0:\n",
    "            if count in distribution_all_combined:\n",
    "                distribution_all_combined[count] += distribution[count]\n",
    "            else:\n",
    "                distribution_all_combined[count] = distribution[count]\n",
    "\n",
    "threshold = 7\n",
    "for count in list(distribution_all_combined.keys()):\n",
    "    if count > threshold:\n",
    "        distribution_all_combined[threshold] += distribution_all_combined.pop(count)"
   ]
  },
  {
   "cell_type": "code",
   "execution_count": 9,
   "id": "de10c8c1",
   "metadata": {
    "ExecuteTime": {
     "end_time": "2025-02-06T00:52:22.934329Z",
     "start_time": "2025-02-06T00:52:22.751185Z"
    }
   },
   "outputs": [
    {
     "data": {
      "image/png": "[encoded data removed]",
      "text/plain": [
       "<Figure size 600x500 with 1 Axes>"
      ]
     },
     "metadata": {},
     "output_type": "display_data"
    }
   ],
   "source": [
    "counts = np.array(list(distribution_all_combined.keys()))\n",
    "frequencies = np.array(list(distribution_all_combined.values()))\n",
    "\n",
    "ax, colors, linsStyles, legend, labelfont, tickfont, C0 = plotHeader(\n",
    "    sizeX=6, sizeY=5, spineLineW=1.5, tickW=1.5, tickFontSize=16, labelFontSize=16, \n",
    ")\n",
    "\n",
    "# Create a bar plot\n",
    "plt.bar(counts, frequencies/np.sum(frequencies), color='skyblue', edgecolor='black')\n",
    "\n",
    "# Add labels and title\n",
    "plt.xlabel('Number of GAF Motifs Between Dyads', **labelfont)\n",
    "plt.ylabel('Frequency', **labelfont)\n",
    "plt.semilogy()\n",
    "\n",
    "# Show grid and plot\n",
    "plt.grid(axis='y', linestyle='--', alpha=0.7)\n",
    "plt.xticks(range(1,8), ['1', '2', '3', '4', '5', '6', '7+'], **tickfont)\n",
    "plt.yticks(**tickfont)\n",
    "plt.xlim([0.5,7.5])\n",
    "plt.ylim([0.8e-3,1e0])\n",
    "plt.show()"
   ]
  },
  {
   "cell_type": "code",
   "execution_count": 11,
   "id": "4ecd6454",
   "metadata": {
    "ExecuteTime": {
     "end_time": "2025-02-06T00:52:39.401341Z",
     "start_time": "2025-02-06T00:52:39.393463Z"
    }
   },
   "outputs": [
    {
     "data": {
      "text/plain": [
       "array([0.73077932, 0.17397946, 0.05163624, 0.0199329 , 0.00998051,\n",
       "       0.00489185, 0.00879972])"
      ]
     },
     "execution_count": 11,
     "metadata": {},
     "output_type": "execute_result"
    }
   ],
   "source": [
    "frequencies[counts.argsort()]/np.sum(frequencies)"
   ]
  }
 ],
 "metadata": {
  "kernelspec": {
   "display_name": "base",
   "language": "python",
   "name": "python3"
  },
  "language_info": {
   "codemirror_mode": {
    "name": "ipython",
    "version": 3
   },
   "file_extension": ".py",
   "mimetype": "text/x-python",
   "name": "python",
   "nbconvert_exporter": "python",
   "pygments_lexer": "ipython3",
   "version": "3.11.7"
  }
 },
 "nbformat": 4,
 "nbformat_minor": 5
}
