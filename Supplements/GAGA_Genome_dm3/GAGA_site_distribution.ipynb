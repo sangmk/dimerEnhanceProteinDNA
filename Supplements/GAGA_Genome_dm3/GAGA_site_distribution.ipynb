{
 "cells": [
  {
   "cell_type": "markdown",
   "id": "3bb6a887",
   "metadata": {
    "heading_collapsed": true
   },
   "source": [
    "# Count the number of targets clustered together in Functional (CHIP-seq) or Accessible (ATAC-seq) regions"
   ]
  },
  {
   "cell_type": "markdown",
   "id": "6a0e751f",
   "metadata": {
    "hidden": true
   },
   "source": [
    "Although nucleosomes can block proteins from binding or diffusing, they are also dynamically moving along the DNA. ATAC-seq peaks can be a better indicator that within one peak, proteins can freely move and bind. Consider all CHIP-seq peaks are with ATAC-seq peaks, the functional region will be a subset of accessible region. Then, the disribution of target-cluster sizes can be compared."
   ]
  },
  {
   "cell_type": "code",
   "execution_count": 1,
   "id": "5117a39f",
   "metadata": {
    "ExecuteTime": {
     "end_time": "2024-11-16T20:10:15.225065Z",
     "start_time": "2024-11-16T20:10:14.776457Z"
    },
    "hidden": true
   },
   "outputs": [],
   "source": [
    "import pandas as pd\n",
    "import numpy as np\n",
    "from progressbar import progressbar\n",
    "from matplotlib import pyplot as plt\n",
    "import pyranges as pr"
   ]
  },
  {
   "cell_type": "code",
   "execution_count": 4,
   "id": "7aa1a0c9",
   "metadata": {
    "hidden": true
   },
   "outputs": [],
   "source": [
    "# Read chromatin sizes from .sizes.\n",
    "def readChromSize(file):\n",
    "    '''\n",
    "    Read chromatin sizes from .sizes.\n",
    "    Input:\n",
    "        file name, str\n",
    "    Output:\n",
    "        sizes, as a dictionary {name:size}\n",
    "    '''\n",
    "    sizes = {}\n",
    "    with open(file, 'r') as f:\n",
    "        for line in f:\n",
    "            linelist = line.split()\n",
    "            sizes.update({linelist[0]:int(linelist[1])})\n",
    "    return sizes\n",
    "\n",
    "# read in chromatin sizes\n",
    "chromSizes = readChromSize('../../saved_data/GAGA_Genome_dm3/dm3.chrom.sizes.txt')\n",
    "# read in all GAF sites along the genome\n",
    "# The original GAGAG sites were obtained by igv directly. \n",
    "# However, the start site is one forward, making 6 sites covered (or this is slicing syntax)\n",
    "gagag_sites = pd.read_csv(\"../../saved_data/GAGA_Genome_dm3/GAGAG_dm3.csv\")\n",
    "# read in functional region (ChipSeq), supposely, all peaks have GAGAG sites\n",
    "functional = pd.read_csv('../../saved_data/GAGA_Genome_dm3/GAFChIP-Lis (Autosaved).csv')\n",
    "# read in accessible region (A-tac)\n",
    "accessible = pd.read_csv(\"../../saved_data/GAGA_Genome_dm3/LACZ_ATACseq.mRp.clN_peaks.broadPeak.liftover.csv\")"
   ]
  },
  {
   "cell_type": "code",
   "execution_count": 5,
   "id": "72347469",
   "metadata": {
    "hidden": true
   },
   "outputs": [],
   "source": [
    "# types of different GA sites and nucleosomes\n",
    "class GA_NUC_TYPES():\n",
    "    '''\n",
    "    types of different GA sites and nucleosomes\n",
    "    Attributes:\n",
    "        chrom: name of the chromosome\n",
    "        nuc_only: positions with only nucleosome\n",
    "        GA_all: all gagag sites\n",
    "        GA_only: positions with only gagag site\n",
    "        GA_nuc: positions with both nucleosome and GA site\n",
    "        freeDNA: free DNA\n",
    "    '''\n",
    "    def __init__(self, chrom):\n",
    "        '''\n",
    "        Input should be np.ndarray\n",
    "        '''\n",
    "        self.chrom = chrom\n",
    "        self.nuc_only:list = []\n",
    "        self.GA_all:list = []\n",
    "        self.nuc_all:list = []\n",
    "        self.GA_only:list = []\n",
    "        self.GA_nuc:list = []\n",
    "        self.freeDNA:list = []\n",
    "        \n",
    "    def _updateData(self, i, vi):\n",
    "        '''\n",
    "        Update the data according to the chromatin map value\n",
    "        Input:\n",
    "            i: index of the current position\n",
    "            vi: chromatin map value at position i\n",
    "            space: the space of free DNA around this site\n",
    "        '''\n",
    "        if vi >= 2:\n",
    "            if vi == 2:\n",
    "                self.nuc_only.append(i)\n",
    "                self.nuc_all.append(i)\n",
    "            elif vi == 3:\n",
    "                self.GA_nuc.append(i)\n",
    "                self.GA_all.append(i)\n",
    "        else:\n",
    "            if vi == 1:\n",
    "                self.GA_only.append(i)\n",
    "                self.GA_all.append(i)\n",
    "            else:\n",
    "                self.freeDNA.append(i)\n",
    "\n",
    "# chromatin data\n",
    "class CHROMO():\n",
    "    '''\n",
    "    chromatin data\n",
    "    Attributes:\n",
    "        chrom: name of the chromosome\n",
    "        accessible: condition in accessible region (ATac)\n",
    "        function: condition in GA functional region (ChipSeq)\n",
    "        muted: neither in accessible nor functional region\n",
    "    '''\n",
    "    def __init__(self, chrom):\n",
    "        '''\n",
    "        Input should be GA_NUC_TYPES\n",
    "        '''\n",
    "        self.chrom = chrom\n",
    "        self.accessible_only:GA_NUC_TYPES = GA_NUC_TYPES(chrom)\n",
    "        self.accessible:GA_NUC_TYPES = GA_NUC_TYPES(chrom)\n",
    "        self.function:GA_NUC_TYPES = GA_NUC_TYPES(chrom)\n",
    "        self.muted:GA_NUC_TYPES = GA_NUC_TYPES(chrom)\n",
    "        \n",
    "    def getNumGA(self):\n",
    "        uniqueGA = np.unique(np.concatenate([self.accessible.GA_all, \n",
    "                                             self.function.GA_all, \n",
    "                                             self.muted.GA_all]))\n",
    "        return len(uniqueGA)\n",
    "\n",
    "# find whether the position of nucleosome and gagag matches\n",
    "# returns: only nucleosome, only gagag, gagag+nucleosome\n",
    "def match_nucleosome_gag(\n",
    "        chrom:str,  chromSizes:dict[str,int], GAGAG_all:pd.DataFrame, functional:pd.DataFrame=None, \n",
    "        accessible:pd.DataFrame=None, nucleosomes:pr.PyRanges=None, extend:int=0\n",
    "    ) -> CHROMO:\n",
    "    '''\n",
    "    Inputs:\n",
    "        chrom: name of the target chromosome\n",
    "        chromSizes: size of chromosomes, dictionary {name:size}\n",
    "        GA_all: all GA sites along the whole genome, read from csv file (dm3)\n",
    "        GA_func: functional GA sites, pandas data frame (ChipSeq)\n",
    "        accessible: accessible regions, read from csv file (Atac)\n",
    "        nucleosomes: nucleosome positions of the whole genome, read from bed file\n",
    "        extend: iNPS only considers the nucleosome enriched region, after extension, the \n",
    "            nucleosomal region becomes (left - extend, right + extend)\n",
    "    Outputs:\n",
    "        CHROMO\n",
    "    '''\n",
    "\n",
    "    # get the nucleosome position data\n",
    "    if bool(nucleosomes):\n",
    "        nuc = nucleosomes[nucleosomes.Chromosome == chrom].df\n",
    "    else:\n",
    "        nuc = pd.DataFrame(columns=['Chromosome', 'Start', 'End'])\n",
    "    # get the gagag position data\n",
    "    gag_all = GAGAG_all[GAGAG_all['chr'] == chrom]\n",
    "    gag_func = functional[functional['chr'] == chrom]\n",
    "    gag_acc = accessible[accessible['chr'] == chrom]\n",
    "    # get the size of this chromosome\n",
    "    size = chromSizes[chrom]\n",
    "    \n",
    "    # the coordinate of the first base in bed files is 0\n",
    "    \n",
    "    print(f'{chrom}: classifying bases...', end=' ')\n",
    "    chr_map = np.zeros(size)\n",
    "    # chr_map = 10*m + n, for example, when m=1, n=2, chr_map=12\n",
    "    # n = 0: no GA sites or nucleosomes, \n",
    "    # n = 1: GA site only\n",
    "    # n = 2: nucleosome only\n",
    "    # n = 3: GA site with nucleosome\n",
    "    # m = 0: not functional or accessible region\n",
    "    # m = 1: functional region\n",
    "    # m = 2: accessible region\n",
    "    # m = 3: both functional and accessible region\n",
    "    ## label all GA sites\n",
    "    for i in range(gag_all.shape[0]):\n",
    "        chr_map[gag_all['start'].iloc[i] : gag_all['start'].iloc[i]+5] = 1 \n",
    "    ## label functional regions\n",
    "    thisPeak = ''\n",
    "    for i in range(gag_func.shape[0]):\n",
    "        if thisPeak == gag_func.iloc[i]['peak']:\n",
    "            pass\n",
    "        else:\n",
    "            # read in peak position\n",
    "            thisPeak = gag_func.iloc[i]['peak']\n",
    "            # label ChipSeq peak\n",
    "            chr_map[gag_func['start'].iloc[i] : gag_func['end'].iloc[i]] += 10\n",
    "    ## label accessible regions\n",
    "    for i in range(gag_acc.shape[0]):\n",
    "        for j in range(gag_acc['Start'].iloc[i], gag_acc['End'].iloc[i]):\n",
    "            if chr_map[j] < 20: chr_map[j] += 20\n",
    "    ## label nucleosome positions\n",
    "    for i in range(nuc.shape[0]):\n",
    "        chr_map[nuc['Start'][i]-extend:nuc['End'][i]+extend] += 2\n",
    "        \n",
    "    \n",
    "    if max(chr_map) > 33:\n",
    "        print('Overlap!!!')\n",
    "\n",
    "    print('storing classified data...', end=' ')\n",
    "    chromo = CHROMO(chrom)\n",
    "    for i, vi in enumerate(chr_map):\n",
    "        if vi >=30:\n",
    "            # both functional and accessible region\n",
    "            chromo.function._updateData(i, vi-30)\n",
    "            chromo.accessible._updateData(i, vi-30)\n",
    "        elif vi >= 20:\n",
    "            # accessible region\n",
    "            chromo.accessible._updateData(i, vi-20)\n",
    "            chromo.accessible_only._updateData(i, vi-20)\n",
    "        elif vi >= 10:\n",
    "            # functional region\n",
    "            chromo.function._updateData(i, vi-10)\n",
    "            # a functional region should be accessible\n",
    "            chromo.accessible._updateData(i, vi-10)\n",
    "        else:\n",
    "            # not functional or accessible region.\n",
    "            chromo.muted._updateData(i, vi)\n",
    "            \n",
    "    print('finish!')\n",
    "    \n",
    "    return chromo"
   ]
  },
  {
   "cell_type": "code",
   "execution_count": 6,
   "id": "23d9a104",
   "metadata": {
    "hidden": true
   },
   "outputs": [
    {
     "name": "stdout",
     "output_type": "stream",
     "text": [
      "chr2L: classifying bases... storing classified data... finish!\n",
      "chr2R: classifying bases... storing classified data... finish!\n",
      "chr2RHet: classifying bases... storing classified data... finish!\n",
      "chr3L: classifying bases... storing classified data... finish!\n",
      "chr3LHet: classifying bases... storing classified data... finish!\n",
      "chr3R: classifying bases... storing classified data... finish!\n",
      "chr3RHet: classifying bases... storing classified data... finish!\n",
      "chr4: classifying bases... storing classified data... finish!\n",
      "chrM: classifying bases... storing classified data... finish!\n",
      "chrU: classifying bases... storing classified data... finish!\n",
      "chrUextra: classifying bases... storing classified data... finish!\n",
      "chrX: classifying bases... storing classified data... finish!\n"
     ]
    }
   ],
   "source": [
    "data_chr = {}\n",
    "for chrom in np.unique(functional['chr']):\n",
    "    data_chr.update(\n",
    "        {\n",
    "            chrom:match_nucleosome_gag(\n",
    "                chrom, chromSizes, gagag_sites, functional, accessible,\n",
    "            )\n",
    "        }\n",
    "    )"
   ]
  },
  {
   "cell_type": "code",
   "execution_count": 7,
   "id": "ff269a05",
   "metadata": {
    "hidden": true
   },
   "outputs": [
    {
     "data": {
      "image/png": "[encoded data removed]",
      "text/plain": [
       "<Figure size 2000x100 with 1 Axes>"
      ]
     },
     "metadata": {},
     "output_type": "display_data"
    },
    {
     "data": {
      "image/png": "[encoded data removed]",
      "text/plain": [
       "<Figure size 2000x100 with 1 Axes>"
      ]
     },
     "metadata": {},
     "output_type": "display_data"
    },
    {
     "data": {
      "image/png": "[encoded data removed]",
      "text/plain": [
       "<Figure size 2000x100 with 1 Axes>"
      ]
     },
     "metadata": {},
     "output_type": "display_data"
    }
   ],
   "source": [
    "xlim = [0, 1e5]\n",
    "plt.figure(figsize=(20,1))\n",
    "chromo = 'chr2L'\n",
    "chrMap = np.zeros(chromSizes[chromo])\n",
    "chrMap[data_chr[chromo].accessible.GA_all] = 1\n",
    "plt.xlim(xlim)\n",
    "plt.plot(chrMap)\n",
    "plt.show()\n",
    "plt.figure(figsize=(20,1))\n",
    "chromo = 'chr2L'\n",
    "chrMap = np.zeros(chromSizes[chromo])\n",
    "chrMap[data_chr[chromo].function.GA_all] = 1\n",
    "plt.xlim(xlim)\n",
    "plt.plot(chrMap)\n",
    "plt.show()\n",
    "plt.figure(figsize=(20,1))\n",
    "chromo = 'chr2L'\n",
    "chrMap = np.zeros(chromSizes[chromo])\n",
    "chrMap[data_chr[chromo].accessible_only.GA_all] = 1\n",
    "plt.xlim(xlim)\n",
    "plt.plot(chrMap)\n",
    "plt.show()"
   ]
  },
  {
   "cell_type": "code",
   "execution_count": 8,
   "id": "062b1dc3",
   "metadata": {
    "hidden": true
   },
   "outputs": [],
   "source": [
    "# Calculate sizes of GA site clusters\n",
    "def clusterSizes(acc_map:np.ndarray, DNA_map:np.ndarray, gapsize:int, ifprint):\n",
    "    # calculate cluster sizes\n",
    "    if ifprint: print('calculating cluster sizes...', end=' ')\n",
    "    cluster_sizes = []\n",
    "    clusterSizes_newSegment = []\n",
    "    gagag_start = -1\n",
    "    gagag_end = -1\n",
    "    for i, vi in enumerate(acc_map):\n",
    "        if vi == 0:\n",
    "            if gagag_start != -1:\n",
    "                clusterSizes_newSegment.append(np.sum(DNA_map[gagag_start:gagag_end+1]==2))\n",
    "                gagag_start = -1\n",
    "                gagag_end = -1\n",
    "            cluster_sizes.extend(clusterSizes_newSegment)\n",
    "            clusterSizes_newSegment = []\n",
    "        else:\n",
    "            if DNA_map[i] == 2:\n",
    "                # this belongs to a GAGAG site\n",
    "                if gagag_start == -1:\n",
    "                    gagag_start = i\n",
    "                    gagag_end = i\n",
    "                else:\n",
    "                    gagag_end = i\n",
    "            else:\n",
    "                # this site is not asigned as a GAGAG site\n",
    "                if gagag_start != -1:\n",
    "                    # there is a GAGAG site before\n",
    "                    if i <= gagag_end + gapsize:\n",
    "                        if DNA_map[i:gagag_end+gapsize+1].all() <= 1:\n",
    "                            # this is a real gap or end of a segment\n",
    "                            clusterSizes_newSegment.append(np.sum(DNA_map[gagag_start:gagag_end+1]==2))\n",
    "                            gagag_start = -1\n",
    "                            gagag_end = -1\n",
    "                        else:\n",
    "                            # this is a fake gap inside consecutive GAGAG sites\n",
    "                            pass\n",
    "                    else:\n",
    "                        pass\n",
    "\n",
    "    if ifprint: print('finished!', end='\\t')\n",
    "    return [size for size in cluster_sizes if size >= 5]\n",
    "\n",
    "\n",
    "# Each GA site has a cluster size which is the maximum cluster around it\n",
    "def chromatinClusterSizes(chromSize, GAGAG_sites:CHROMO, gapsize=2, ifprint=True):\n",
    "    '''\n",
    "    Calculate sizes of gagag site clusters. Each cluster should be within a peak of ATAC-seq and separated no more than gapsize.\n",
    "    Input:\n",
    "        chromSize, size of this chromatin\n",
    "        GAGAG_sites, GAGA sites on a chromatin within one region\n",
    "        window, window size in unit of nt, default=1000\n",
    "    Output:\n",
    "        cluster_sizes, as np.ndarray\n",
    "    '''\n",
    "    # label accessible regions\n",
    "    acc_map = np.zeros(chromSize)\n",
    "    acc_map[GAGAG_sites.accessible.freeDNA] = 1\n",
    "    acc_map[GAGAG_sites.accessible.GA_all] = 2\n",
    "    # label accessible only regions\n",
    "    acc_only_map = np.zeros(chromSize)\n",
    "    acc_only_map[GAGAG_sites.accessible_only.GA_all] = 2\n",
    "    # label all GAGAG sites in functional regions\n",
    "    func_map = np.zeros(chromSize)\n",
    "    func_map[GAGAG_sites.function.GA_all] = 2\n",
    "\n",
    "\n",
    "    # calculate cluster sizes\n",
    "    if ifprint: print('functional:', end=' ')\n",
    "    clusterSizes_functional = clusterSizes(acc_map, func_map, gapsize, ifprint)\n",
    "    if ifprint: print('accesible:', end=' ')\n",
    "    clusterSizes_accessible = clusterSizes(acc_map, acc_only_map, gapsize, ifprint)\n",
    "    if ifprint: print('')\n",
    "\n",
    "    return clusterSizes_functional, clusterSizes_accessible\n",
    "\n",
    "def findClusters(chromSize_dict=chromSizes, GAGAG_sites_dict=data_chr, gapsize=2, ifprint=True):\n",
    "    '''\n",
    "    Find clusters of GAGAG sites in each chromosome\n",
    "    Input:\n",
    "        chromSize_dict, dictionary of chromosome sizes {chrom:size}\n",
    "        GAGAG_sites_dict, dictionary of GAGAG sites on each chromosome {chrom:GAGAG_sites}\n",
    "        gapsize, maximum gap size between two GAGAG sites, default=2\n",
    "    Output:\n",
    "        cluster_sizes, dictionary of cluster sizes {chrom:cluster_sizes}\n",
    "    '''\n",
    "    cluster_sizes_func = {}\n",
    "    cluster_sizes_acc = {}\n",
    "    for chrom in data_chr.keys():\n",
    "        if ifprint: print(f'{chrom}:', end=' ')\n",
    "        func, acc = chromatinClusterSizes(chromSize_dict[chrom], GAGAG_sites_dict[chrom], gapsize, ifprint)\n",
    "        cluster_sizes_func.update({chrom:func})\n",
    "        cluster_sizes_acc.update({chrom:acc})\n",
    "    return cluster_sizes_func, cluster_sizes_acc\n",
    "\n"
   ]
  },
  {
   "cell_type": "code",
   "execution_count": 9,
   "id": "bbe35673",
   "metadata": {
    "hidden": true
   },
   "outputs": [
    {
     "name": "stdout",
     "output_type": "stream",
     "text": [
      "chr2L: functional: calculating cluster sizes... finished!\taccesible: calculating cluster sizes... finished!\t\n",
      "chr2R: functional: calculating cluster sizes... finished!\taccesible: calculating cluster sizes... finished!\t\n",
      "chr2RHet: functional: calculating cluster sizes... finished!\taccesible: calculating cluster sizes... finished!\t\n",
      "chr3L: functional: calculating cluster sizes... finished!\taccesible: calculating cluster sizes... finished!\t\n",
      "chr3LHet: functional: calculating cluster sizes... finished!\taccesible: calculating cluster sizes... finished!\t\n",
      "chr3R: functional: calculating cluster sizes... finished!\taccesible: calculating cluster sizes... finished!\t\n",
      "chr3RHet: functional: calculating cluster sizes... finished!\taccesible: calculating cluster sizes... finished!\t\n",
      "chr4: functional: calculating cluster sizes... finished!\taccesible: calculating cluster sizes... finished!\t\n",
      "chrM: functional: calculating cluster sizes... finished!\taccesible: calculating cluster sizes... finished!\t\n",
      "chrU: functional: calculating cluster sizes... finished!\taccesible: calculating cluster sizes... finished!\t\n",
      "chrUextra: functional: calculating cluster sizes... finished!\taccesible: calculating cluster sizes... finished!\t\n",
      "chrX: functional: calculating cluster sizes... finished!\taccesible: calculating cluster sizes... finished!\t\n"
     ]
    }
   ],
   "source": [
    "cluster_sizes_func, cluster_sizes_acc = findClusters(gapsize=420)"
   ]
  },
  {
   "cell_type": "code",
   "execution_count": 10,
   "id": "13b1ba41",
   "metadata": {
    "hidden": true
   },
   "outputs": [
    {
     "name": "stdout",
     "output_type": "stream",
     "text": [
      "chr2L\n",
      "accessible:\t1.0: 9.98e-01 2.0: 1.26e-03 3.0: 4.19e-04 \n",
      "functional:\t1.0: 9.96e-01 2.0: 3.53e-03 \n",
      "chr2R\n",
      "accessible:\t1.0: 9.96e-01 2.0: 3.55e-03 \n",
      "functional:\t1.0: 9.96e-01 2.0: 4.14e-03 \n",
      "chr2RHet\n",
      "accessible:\t\n",
      "functional:\t1.0: 1.00e+00 \n",
      "chr3L\n",
      "accessible:\t1.0: 9.97e-01 2.0: 3.27e-03 \n",
      "functional:\t1.0: 9.95e-01 2.0: 5.03e-03 \n",
      "chr3LHet\n",
      "accessible:\t\n",
      "functional:\t1.0: 1.00e+00 \n",
      "chr3R\n",
      "accessible:\t1.0: 9.98e-01 2.0: 1.94e-03 \n",
      "functional:\t1.0: 9.96e-01 2.0: 4.06e-03 3.0: 2.14e-04 \n",
      "chr3RHet\n",
      "accessible:\t\n",
      "functional:\t1.0: 1.00e+00 \n",
      "chr4\n",
      "accessible:\t1.0: 1.00e+00 \n",
      "functional:\t1.0: 1.00e+00 \n",
      "chrM\n",
      "accessible:\t\n",
      "functional:\t\n",
      "chrU\n",
      "accessible:\t\n",
      "functional:\t1.0: 1.00e+00 \n",
      "chrUextra\n",
      "accessible:\t\n",
      "functional:\t1.0: 9.83e-01 2.0: 8.71e-03 3.0: 4.36e-03 9.0: 2.18e-03 15.0: 2.18e-03 \n",
      "chrX\n",
      "accessible:\t1.0: 9.97e-01 2.0: 2.65e-03 \n",
      "functional:\t1.0: 9.94e-01 2.0: 5.88e-03 \n"
     ]
    }
   ],
   "source": [
    "for chromo in data_chr.keys():\n",
    "    print(chromo)\n",
    "    print('accessible:', end='\\t')\n",
    "    nClusChromo_acc = np.array(cluster_sizes_acc[chromo])/5\n",
    "    for nsize in np.unique(nClusChromo_acc):\n",
    "        print(f'{nsize}: {np.sum(nClusChromo_acc==nsize)/nClusChromo_acc.shape[0]:.2e}', end=' ')\n",
    "    print('')\n",
    "    print('functional:', end='\\t')\n",
    "    nClusChromo_func = np.array(cluster_sizes_func[chromo])/5\n",
    "    for nsize in np.unique(nClusChromo_func):\n",
    "        print(f'{nsize}: {np.sum(nClusChromo_func==nsize)/nClusChromo_func.shape[0]:.2e}', end=' ')\n",
    "    print('')"
   ]
  },
  {
   "cell_type": "code",
   "execution_count": 11,
   "id": "7d7e82e6",
   "metadata": {
    "hidden": true
   },
   "outputs": [
    {
     "name": "stdout",
     "output_type": "stream",
     "text": [
      "chr2L\n",
      "accessible:\t1.0: 2383 2.0: 3 3.0: 1 \n",
      "functional:\t1.0: 3383 2.0: 12 \n",
      "chr2R\n",
      "accessible:\t1.0: 2523 2.0: 9 \n",
      "functional:\t1.0: 3851 2.0: 16 \n",
      "chr2RHet\n",
      "accessible:\t\n",
      "functional:\t1.0: 25 \n",
      "chr3L\n",
      "accessible:\t1.0: 2744 2.0: 9 \n",
      "functional:\t1.0: 3960 2.0: 20 \n",
      "chr3LHet\n",
      "accessible:\t\n",
      "functional:\t1.0: 35 \n",
      "chr3R\n",
      "accessible:\t1.0: 3092 2.0: 6 \n",
      "functional:\t1.0: 4655 2.0: 19 3.0: 1 \n",
      "chr3RHet\n",
      "accessible:\t\n",
      "functional:\t1.0: 50 \n",
      "chr4\n",
      "accessible:\t1.0: 181 \n",
      "functional:\t1.0: 87 \n",
      "chrM\n",
      "accessible:\t\n",
      "functional:\t\n",
      "chrU\n",
      "accessible:\t\n",
      "functional:\t1.0: 78 \n",
      "chrUextra\n",
      "accessible:\t\n",
      "functional:\t1.0: 451 2.0: 4 3.0: 2 9.0: 1 15.0: 1 \n",
      "chrX\n",
      "accessible:\t1.0: 1880 2.0: 5 \n",
      "functional:\t1.0: 4906 2.0: 29 \n"
     ]
    }
   ],
   "source": [
    "for chromo in data_chr.keys():\n",
    "    print(chromo)\n",
    "    print('accessible:', end='\\t')\n",
    "    nClusChromo_acc = np.array(cluster_sizes_acc[chromo])/5\n",
    "    for nsize in np.unique(nClusChromo_acc):\n",
    "        print(f'{nsize}: {np.sum(nClusChromo_acc==nsize)}', end=' ')\n",
    "    print('')\n",
    "    print('functional:', end='\\t')\n",
    "    nClusChromo_func = np.array(cluster_sizes_func[chromo])/5\n",
    "    for nsize in np.unique(nClusChromo_func):\n",
    "        print(f'{nsize}: {np.sum(nClusChromo_func==nsize)}', end=' ')\n",
    "    print('')"
   ]
  },
  {
   "cell_type": "code",
   "execution_count": 12,
   "id": "41a0a327",
   "metadata": {
    "hidden": true
   },
   "outputs": [
    {
     "name": "stdout",
     "output_type": "stream",
     "text": [
      "1.0059297692949134 1.0026488002492988\n"
     ]
    }
   ],
   "source": [
    "# seleChromo = ['chr2L', 'chr2R', 'chr3L', 'chr3R', 'chr4', 'chrX']\n",
    "seleChromo = cluster_sizes_func.keys()\n",
    "nClusterList_func = np.concatenate([cluster_sizes_func[key] for key in seleChromo])/5\n",
    "nClusterList_acc = np.concatenate([cluster_sizes_acc[key] for key in seleChromo])/5\n",
    "print(np.mean(nClusterList_func), np.mean(nClusterList_acc))"
   ]
  },
  {
   "cell_type": "code",
   "execution_count": 13,
   "id": "e50ed7d7",
   "metadata": {
    "hidden": true
   },
   "outputs": [
    {
     "data": {
      "image/png": "[encoded data removed]",
      "text/plain": [
       "<Figure size 1000x500 with 2 Axes>"
      ]
     },
     "metadata": {},
     "output_type": "display_data"
    }
   ],
   "source": [
    "plt.subplots(nrows=1, ncols=2, figsize=(10,5))\n",
    "ylim = [1e-4,1]\n",
    "xmax = 5\n",
    "xlim = [0.5, xmax+0.5]\n",
    "xticks = np.arange(1, xmax+0.5, 1)\n",
    "histBins = np.arange(0.5, xmax+1.5, 1)\n",
    "rwidth = 0.5\n",
    "\n",
    "plt.subplot(121)\n",
    "plt.hist(nClusterList_func, histBins, density=True, rwidth=rwidth)\n",
    "plt.semilogy()\n",
    "# plt.legend()\n",
    "plt.title('Functional Region')\n",
    "plt.xlabel('size (# GAGAG sites)')\n",
    "plt.ylabel('percentage (%)')\n",
    "plt.xticks(xticks)\n",
    "plt.xlim(xlim)\n",
    "plt.ylim(ylim)\n",
    "# plt.yticks([1e0, 1e-1, 1e-2, 1e-3, 1e-4], [100, 10, 1, 0.1, 0.01])\n",
    "\n",
    "\n",
    "plt.subplot(122)\n",
    "plt.hist(nClusterList_acc, histBins, density=True, rwidth=rwidth)\n",
    "plt.semilogy()\n",
    "# plt.legend()\n",
    "plt.title('Accessible Only region')\n",
    "plt.xlabel('size (# GAGAG sites)')\n",
    "plt.ylabel('percentage (%)')\n",
    "plt.xticks(xticks)\n",
    "plt.xlim(xlim)\n",
    "plt.ylim(ylim)\n",
    "# plt.yticks([1e0, 1e-1, 1e-2, 1e-3, 1e-4], [100, 10, 1, 0.1, 0.01])\n",
    "\n",
    "plt.show()"
   ]
  },
  {
   "cell_type": "markdown",
   "id": "04031adf",
   "metadata": {},
   "source": [
    "# GAGAG motif distances"
   ]
  },
  {
   "cell_type": "code",
   "execution_count": 30,
   "id": "e83c4d5b",
   "metadata": {
    "ExecuteTime": {
     "end_time": "2025-02-13T03:31:10.019084Z",
     "start_time": "2025-02-13T03:31:10.014452Z"
    }
   },
   "outputs": [],
   "source": [
    "import pandas as pd\n",
    "import numpy as np\n",
    "from matplotlib import pyplot as plt\n",
    "import pyranges as pr\n",
    "from tqdm import tqdm\n",
    "import seaborn as sns"
   ]
  },
  {
   "cell_type": "markdown",
   "id": "dc776c0a",
   "metadata": {},
   "source": [
    "# Consider nucleosomes"
   ]
  },
  {
   "cell_type": "code",
   "execution_count": 2,
   "id": "41124b1c",
   "metadata": {
    "ExecuteTime": {
     "end_time": "2024-12-30T20:17:28.167289Z",
     "start_time": "2024-12-30T20:17:27.721090Z"
    }
   },
   "outputs": [],
   "source": [
    "# GAF motifs from ChIP-seq\n",
    "ALL_motifs = pd.read_csv('./GAGAG_dm3.csv')\n",
    "# nucleosome positions\n",
    "nucleosomes = pr.read_bed('./dmNuc0210501.nucleosome.iNPSPeak.bed')"
   ]
  },
  {
   "cell_type": "code",
   "execution_count": 5,
   "id": "f4dc92f2",
   "metadata": {
    "ExecuteTime": {
     "end_time": "2024-12-30T20:29:46.081162Z",
     "start_time": "2024-12-30T20:18:42.594253Z"
    },
    "code_folding": [
     2
    ]
   },
   "outputs": [
    {
     "name": "stdout",
     "output_type": "stream",
     "text": [
      "chr2L... chr2R... chr3L... chr3R... chr4... chrX... chrY... end.\n"
     ]
    }
   ],
   "source": [
    "from collections import Counter\n",
    "\n",
    "def find_motifs_between_dyads(chrom, motif):\n",
    "    \"\"\"\n",
    "    Identify the distribution of the number of complete motifs between nucleosome dyads.\n",
    "    \n",
    "    Parameters:\n",
    "    chrom (list or np.array): {0, 1} sequence where 0 represents free DNA and 1 represents dyad of nucleosome.\n",
    "    motif (pd.DataFrame): DataFrame with \"start\" and \"end\" columns indicating motif positions.\n",
    "\n",
    "    Returns:\n",
    "    dict: Distribution of the number of motifs between dyads.\n",
    "    \"\"\"\n",
    "    \n",
    "    # Find indices of dyads\n",
    "    dyad_indices = []\n",
    "    for i, row in chrom.df.iterrows():\n",
    "        if row.Name.split(':')[1].strip() == 'MainPeak':\n",
    "            midleft = int(np.floor((row['Start'] + row['End'])/2))\n",
    "            dyad_indices.append(midleft)\n",
    "\n",
    "    # Ensure dyad_indices is sorted\n",
    "    dyad_indices.sort()\n",
    "    \n",
    "    # Count complete motifs between consecutive dyads\n",
    "    motif_counts = []\n",
    "    for i in range(len(dyad_indices) - 1):\n",
    "        start_dyad = dyad_indices[i]\n",
    "        end_dyad = dyad_indices[i + 1]\n",
    "        \n",
    "        # Count motifs completely between the current dyads\n",
    "        count = sum((motif[\"start\"] > start_dyad) & (motif[\"end\"] < end_dyad))\n",
    "        motif_counts.append(count)\n",
    "\n",
    "    # Calculate the distribution of motif counts\n",
    "    distribution = dict(Counter(motif_counts))\n",
    "    \n",
    "    return distribution\n",
    "\n",
    "# Example usage\n",
    "distributions_all = []\n",
    "for chrom in ['chr2L', 'chr2R', 'chr3L', 'chr3R', 'chr4', 'chrX', 'chrY']:\n",
    "    print(chrom, end='... ')\n",
    "    distributions_all.append(find_motifs_between_dyads(\n",
    "        nucleosomes[chrom], ALL_motifs[ALL_motifs['chr']==chrom]\n",
    "    ))\n",
    "print('end.')\n",
    "# print(distribution)\n"
   ]
  },
  {
   "cell_type": "code",
   "execution_count": 31,
   "id": "30071727",
   "metadata": {
    "ExecuteTime": {
     "end_time": "2025-02-13T03:31:18.277289Z",
     "start_time": "2025-02-13T03:31:18.270196Z"
    },
    "code_folding": [
     1
    ]
   },
   "outputs": [],
   "source": [
    "distribution_all_combined = {}\n",
    "for distribution in distributions_all:\n",
    "    for count in distribution.keys():\n",
    "        if count > 0:\n",
    "            if count in distribution_all_combined:\n",
    "                distribution_all_combined[count] += distribution[count]\n",
    "            else:\n",
    "                distribution_all_combined[count] = distribution[count]\n",
    "\n",
    "threshold = 8\n",
    "for count in list(distribution_all_combined.keys()):\n",
    "    if count > threshold:\n",
    "        distribution_all_combined[threshold] += distribution_all_combined.pop(count)"
   ]
  },
  {
   "cell_type": "code",
   "execution_count": 32,
   "id": "12a28a7a",
   "metadata": {
    "ExecuteTime": {
     "end_time": "2025-02-13T03:31:18.536858Z",
     "start_time": "2025-02-13T03:31:18.528351Z"
    },
    "code_folding": [
     6
    ]
   },
   "outputs": [],
   "source": [
    "def plotHeader(\n",
    "    scale=1.0, fixSize=True, sizeX=5, sizeY=5,\n",
    "    lgdLoc=[0.55,0.00], lgdFontSize=22, lgdHandleL=0.3, \n",
    "    lgdTitle='', lgdTtlFontSize=22,\n",
    "    labelFontSize=20, tickFontSize=27, \n",
    "    tickL=15, tickW=2, spineLineW=2\n",
    "):\n",
    "    labelfont = {'fontsize':labelFontSize*scale}\n",
    "    tickfont = {'fontsize':tickFontSize*scale}\n",
    "    legend = {'fontsize':lgdFontSize*scale, 'loc':lgdLoc, 'handlelength':lgdHandleL*scale, \n",
    "              'title':lgdTitle, 'title_fontsize':lgdTtlFontSize*scale,\n",
    "             'framealpha':0.0}\n",
    "    if fixSize:\n",
    "        fig = plt.figure(figsize=(sizeX*scale,sizeY*scale))\n",
    "        ax = fig.add_subplot(111)\n",
    "    else:\n",
    "        ax = plt.gca()\n",
    "    plt.tick_params(length=tickL*scale, width=tickW*scale)\n",
    "    for axis in ['top', 'bottom', 'left', 'right']:\n",
    "        ax.spines[axis].set_linewidth(spineLineW*scale)  # change width\n",
    "    colors = [\n",
    "        'tab:blue', 'tab:orange', 'tab:green', 'tab:red', 'tab:purple', \n",
    "        'tab:brown', 'tab:pink', 'tab:gray', 'tab:olive', 'tab:cyan'\n",
    "    ]\n",
    "    linsStyles = ['-', '--']\n",
    "    return ax, colors, linsStyles, legend, labelfont, tickfont, 0.6022 # C0, nm^-3 -> M"
   ]
  },
  {
   "cell_type": "code",
   "execution_count": 36,
   "id": "de10c8c1",
   "metadata": {
    "ExecuteTime": {
     "end_time": "2025-02-13T03:35:59.456157Z",
     "start_time": "2025-02-13T03:35:59.266676Z"
    }
   },
   "outputs": [
    {
     "data": {
      "image/png": "[encoded data removed]",
      "text/plain": [
       "<Figure size 400x500 with 1 Axes>"
      ]
     },
     "metadata": {},
     "output_type": "display_data"
    }
   ],
   "source": [
    "counts = np.array(list(distribution_all_combined.keys()))\n",
    "frequencies = np.array(list(distribution_all_combined.values()))\n",
    "\n",
    "\n",
    "ax, colors, linsStyles, legend, labelfont, tickfont, C0 = plotHeader(\n",
    "    sizeX=4, sizeY=5, spineLineW=1.5, tickW=1.5, tickFontSize=16, labelFontSize=20, \n",
    ")\n",
    "\n",
    "# Create a bar plot\n",
    "plt.bar(counts, frequencies/np.sum(frequencies), color='skyblue', edgecolor='black')\n",
    "\n",
    "# Add labels and title\n",
    "plt.xlabel('Number of GAF Motifs Between Dyads', **labelfont)\n",
    "plt.ylabel('Frequency', **labelfont)\n",
    "plt.semilogy()\n",
    "\n",
    "# Show grid and plot\n",
    "plt.grid(axis='y', linestyle='--', alpha=0.7)\n",
    "plt.xticks(range(1,9), ['1', '2', '3', '4', '5', '6', '7', '8+'], **tickfont)\n",
    "plt.yticks(**tickfont)\n",
    "plt.xlim([0.5,8.5])\n",
    "plt.ylim([0.8e-3,1e0])\n",
    "plt.show()"
   ]
  },
  {
   "cell_type": "code",
   "execution_count": 34,
   "id": "4ecd6454",
   "metadata": {
    "ExecuteTime": {
     "end_time": "2025-02-13T03:31:35.502252Z",
     "start_time": "2025-02-13T03:31:35.496658Z"
    }
   },
   "outputs": [
    {
     "data": {
      "text/plain": [
       "array([77898, 18649,  5547,  2151,  1073,   551,   296,   596])"
      ]
     },
     "execution_count": 34,
     "metadata": {},
     "output_type": "execute_result"
    }
   ],
   "source": [
    "frequencies[counts.argsort()]"
   ]
  },
  {
   "cell_type": "code",
   "execution_count": null,
   "id": "5ecda6c6",
   "metadata": {},
   "outputs": [],
   "source": []
  },
  {
   "cell_type": "code",
   "execution_count": 40,
   "id": "140ff881",
   "metadata": {
    "ExecuteTime": {
     "end_time": "2025-02-13T03:37:07.000132Z",
     "start_time": "2025-02-13T03:37:06.816542Z"
    }
   },
   "outputs": [
    {
     "data": {
      "image/png": "[encoded data removed]",
      "text/plain": [
       "<Figure size 400x500 with 1 Axes>"
      ]
     },
     "metadata": {},
     "output_type": "display_data"
    }
   ],
   "source": [
    "counts = np.array(list(distribution_all_combined.keys()))\n",
    "frequencies = np.array(list(distribution_all_combined.values()))\n",
    "\n",
    "\n",
    "ax, colors, linsStyles, legend, labelfont, tickfont, C0 = plotHeader(\n",
    "    sizeX=4, sizeY=5, spineLineW=1.5, tickW=1.5, tickFontSize=16, labelFontSize=20, \n",
    ")\n",
    "\n",
    "# Create a bar plot\n",
    "plt.bar([1,2,3,4], [0.25, 0.25, 0.25, 0.25], color='skyblue', edgecolor='black')\n",
    "\n",
    "# Add labels and title\n",
    "plt.xlabel('Number of GAF Motifs Between Dyads', **labelfont)\n",
    "plt.ylabel('Frequency', **labelfont)\n",
    "plt.semilogy()\n",
    "\n",
    "# Show grid and plot\n",
    "plt.grid(axis='y', linestyle='--', alpha=0.7)\n",
    "plt.xticks(**tickfont)\n",
    "plt.yticks(**tickfont)\n",
    "\n",
    "plt.ylim([0.8e-3,1e0])\n",
    "plt.show()"
   ]
  },
  {
   "cell_type": "code",
   "execution_count": null,
   "id": "54797d1d",
   "metadata": {},
   "outputs": [],
   "source": []
  }
 ],
 "metadata": {
  "kernelspec": {
   "display_name": "Python 3 (ipykernel)",
   "language": "python",
   "name": "python3"
  },
  "language_info": {
   "codemirror_mode": {
    "name": "ipython",
    "version": 3
   },
   "file_extension": ".py",
   "mimetype": "text/x-python",
   "name": "python",
   "nbconvert_exporter": "python",
   "pygments_lexer": "ipython3",
   "version": "3.11.5"
  }
 },
 "nbformat": 4,
 "nbformat_minor": 5
}
