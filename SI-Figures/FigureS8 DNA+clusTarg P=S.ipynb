{
 "cells": [
  {
   "cell_type": "code",
   "execution_count": 1,
   "id": "c361310e",
   "metadata": {
    "ExecuteTime": {
     "end_time": "2025-07-01T17:27:15.073996Z",
     "start_time": "2025-07-01T17:27:14.191104Z"
    }
   },
   "outputs": [],
   "source": [
    "import numpy as np\n",
    "import pandas as pd\n",
    "from matplotlib import pyplot as plt\n",
    "import sys"
   ]
  },
  {
   "cell_type": "code",
   "execution_count": 2,
   "id": "10bd38d6",
   "metadata": {
    "ExecuteTime": {
     "end_time": "2025-07-01T17:27:15.210239Z",
     "start_time": "2025-07-01T17:27:15.076437Z"
    }
   },
   "outputs": [],
   "source": [
    "sys.path.append('/home/local/WIN/msang2/mankun/GitHub/dimerEnhanceProteinDNA/')\n",
    "# modules for direct calculation\n",
    "import analytics as ana\n",
    "import analyzeEqui as num\n",
    "# stochastic simulation (Gillespie)\n",
    "from odeSolver.doubleS import rxnNetwork, labels\n",
    "from odeSolver.singleS import rxnNetwork as rxnSingleS, labels as labelsSingleS\n",
    "from odeSolver.main import main as numericSolver\n",
    "# for generating parameters\n",
    "from GenerateParameters import GenParameters"
   ]
  },
  {
   "cell_type": "code",
   "execution_count": 3,
   "id": "d8de12a8",
   "metadata": {
    "ExecuteTime": {
     "end_time": "2025-07-01T17:27:16.378629Z",
     "start_time": "2025-07-01T17:27:16.371608Z"
    }
   },
   "outputs": [],
   "source": [
    "def plotHeader(\n",
    "    scale=1.0, fixSize=True, sizeX=5, sizeY=5,\n",
    "    lgdLoc=[0.55,0.00], lgdFontSize=22, lgdHandleL=0.3, \n",
    "    lgdTitle='', lgdTtlFontSize=22,\n",
    "    labelFontSize=20, tickFontSize=27, \n",
    "    tickL=15, tickW=2, spineLineW=2\n",
    "):\n",
    "    labelfont = {'fontsize':labelFontSize*scale}\n",
    "    tickfont = {'fontsize':tickFontSize*scale}\n",
    "    legend = {'fontsize':lgdFontSize*scale, 'loc':lgdLoc, 'handlelength':lgdHandleL*scale, \n",
    "              'title':lgdTitle, 'title_fontsize':lgdTtlFontSize*scale,\n",
    "             'framealpha':0.0}\n",
    "    if fixSize:\n",
    "        fig = plt.figure(figsize=(sizeX*scale,sizeY*scale))\n",
    "        ax = fig.add_subplot(111)\n",
    "    else:\n",
    "        ax = plt.gca()\n",
    "    plt.tick_params(length=tickL*scale, width=tickW*scale)\n",
    "    for axis in ['top', 'bottom', 'left', 'right']:\n",
    "        ax.spines[axis].set_linewidth(spineLineW*scale)  # change width\n",
    "    colors = [\n",
    "        'tab:blue', 'tab:orange', 'tab:green', 'tab:red', 'tab:purple', \n",
    "        'tab:brown', 'tab:pink', 'tab:gray', 'tab:olive', 'tab:cyan'\n",
    "    ]\n",
    "    linsStyles = ['-', '--']\n",
    "    return ax, colors, linsStyles, legend, labelfont, tickfont, 0.6022 # C0, nm^-3 -> M"
   ]
  },
  {
   "cell_type": "markdown",
   "id": "aa54877d",
   "metadata": {
    "heading_collapsed": true
   },
   "source": [
    "# a) occupancy v.s. KPP, KPN"
   ]
  },
  {
   "cell_type": "code",
   "execution_count": 4,
   "id": "72d5140c",
   "metadata": {
    "ExecuteTime": {
     "end_time": "2025-05-01T17:18:33.536705Z",
     "start_time": "2025-05-01T17:18:33.531465Z"
    },
    "hidden": true
   },
   "outputs": [],
   "source": [
    "def findCriticalXPS(parm):\n",
    "    '''chiS -> (-chiN + chiN G)/(1 + chiN G)^2'''\n",
    "    chiN = parm['KPN'].to_numpy()*parm['CN0'].to_numpy()\n",
    "    gamma = parm['gamma'].to_numpy()\n",
    "    return chiN*(gamma-1)/(1+gamma*chiN)**2\n",
    "\n",
    "GenParms = lambda nDenseKPP: GenParameters(\n",
    "    numTargets=2, \n",
    "    KPN=np.array([30, 170, 1000]), \n",
    "    KPS=lambda KPN: 698.59327995, \n",
    "    NP0=[2], KPP=np.logspace(1,9,9+8*nDenseKPP), \n",
    "    gamma=[50],\n",
    ")\n",
    "parm_num = GenParms(0)"
   ]
  },
  {
   "cell_type": "code",
   "execution_count": 5,
   "id": "04d2e188",
   "metadata": {
    "ExecuteTime": {
     "end_time": "2025-05-01T17:18:33.962503Z",
     "start_time": "2025-05-01T17:18:33.537566Z"
    },
    "hidden": true
   },
   "outputs": [
    {
     "name": "stdout",
     "output_type": "stream",
     "text": [
      "2025-05-01 13:18:33.538977\n",
      "Number of cores used:  27/36\n",
      "Finished parallel processing.\n"
     ]
    }
   ],
   "source": [
    "equi_num = numericSolver(parm_df=parm_num, labels=labels, model=rxnNetwork)"
   ]
  },
  {
   "cell_type": "code",
   "execution_count": 6,
   "id": "42a8a9e0",
   "metadata": {
    "ExecuteTime": {
     "end_time": "2025-05-01T17:18:33.994823Z",
     "start_time": "2025-05-01T17:18:33.963665Z"
    },
    "hidden": true
   },
   "outputs": [],
   "source": [
    "sOcc_num = np.zeros(parm_num.shape[0])\n",
    "for iloc in range(parm_num.shape[0]):\n",
    "    parm = parm_num.iloc[iloc]\n",
    "    equi = equi_num.iloc[iloc]\n",
    "    sOcc_num[iloc] = num.calc_occS_modelC(parm, equi)"
   ]
  },
  {
   "cell_type": "code",
   "execution_count": 7,
   "id": "9dd59fea",
   "metadata": {
    "ExecuteTime": {
     "end_time": "2025-05-01T17:18:34.189696Z",
     "start_time": "2025-05-01T17:18:33.995692Z"
    },
    "hidden": true
   },
   "outputs": [
    {
     "data": {
      "image/png": "[encoded data removed]",
      "text/plain": [
       "<Figure size 500x500 with 1 Axes>"
      ]
     },
     "metadata": {},
     "output_type": "display_data"
    }
   ],
   "source": [
    "# >>>>>>>>>>>>>>>>>>>>>>>> Initialize Plotting >>>>>>>>>>>>>>>>>>>>>>>>\n",
    "ax, colors, lineStyles, legend, labelfont, tickfont, C0 = plotHeader(\n",
    "    scale=1.0, fixSize=True, sizeX=5, sizeY=5,\n",
    "    lgdLoc=[0.6,0.01], lgdFontSize=18, lgdHandleL=0.3, \n",
    "    lgdTitle='$\\chi^*$ (Eq. 10)', lgdTtlFontSize=18,\n",
    "    labelFontSize=20, tickFontSize=27, \n",
    "    tickL=15, tickW=2, spineLineW=2\n",
    ")\n",
    "alphas = [3/9, 5/9, 1]\n",
    "markers = ['o','v','s']\n",
    "gam_color = 'tab:purple'\n",
    "# <<<<<<<<<<<<<<<<<<<<<<<<<<<<<<<<<<<<<<<<<<<<<<<<<<<<<<<<<<<<<<<<<<<<<\n",
    "linsStyles = ['-', '--']\n",
    "\n",
    "kpnList = np.unique(parm_num['KPN'])\n",
    "for i, kpn in enumerate(kpnList):\n",
    "    # numerical solution (true)\n",
    "    selected_num = ((parm_num['KPN']==kpn))\n",
    "    ax.scatter(\n",
    "        (parm_num['KPP']*parm_num['CP0'])[selected_num],\n",
    "        (sOcc_num/(parm_num['CP0']/parm_num['CS0']))[selected_num],\n",
    "        zorder=3, s=100, color = gam_color, \n",
    "        alpha=alphas[i], marker=markers[i],\n",
    "        label='$%.2f$'%(np.unique(findCriticalXPS(parm_num[selected_num]))),\n",
    "    )\n",
    "\n",
    "ax.semilogx()\n",
    "plt.legend(**legend)\n",
    "plt.xticks([1e-3, 1e1, 1e5], ['', '', ''], **tickfont)\n",
    "plt.yticks(**tickfont)\n",
    "plt.show()"
   ]
  },
  {
   "cell_type": "code",
   "execution_count": null,
   "id": "4926ff6a",
   "metadata": {
    "hidden": true
   },
   "outputs": [],
   "source": []
  },
  {
   "cell_type": "markdown",
   "id": "b331072f",
   "metadata": {
    "ExecuteTime": {
     "end_time": "2025-04-16T23:28:45.899262Z",
     "start_time": "2025-04-16T23:28:45.895140Z"
    },
    "heading_collapsed": true
   },
   "source": [
    "# b) residence time v.s. KPP & CP0, strong KPN"
   ]
  },
  {
   "cell_type": "code",
   "execution_count": 8,
   "id": "ed9335c2",
   "metadata": {
    "ExecuteTime": {
     "end_time": "2025-05-01T17:18:34.197278Z",
     "start_time": "2025-05-01T17:18:34.192485Z"
    },
    "hidden": true
   },
   "outputs": [],
   "source": [
    "def criticalRate_approx(parm):\n",
    "    kbPS = parm['kbPS'].to_numpy()\n",
    "    kbPN = parm['kbPN'].to_numpy()\n",
    "    chiN = parm['KPN'].to_numpy()*parm['CN0'].to_numpy()\n",
    "    chiS = parm['KPS'].to_numpy()*parm['CS0'].to_numpy()\n",
    "    gamma = parm['gamma'].to_numpy()\n",
    "    return gamma*(kbPS*chiS + kbPN*chiN)"
   ]
  },
  {
   "cell_type": "code",
   "execution_count": 9,
   "id": "549d1b3a",
   "metadata": {
    "ExecuteTime": {
     "end_time": "2025-05-01T17:18:34.206905Z",
     "start_time": "2025-05-01T17:18:34.200168Z"
    },
    "hidden": true
   },
   "outputs": [],
   "source": [
    "GenParm = lambda nDenseKPP, kbP: GenParameters(\n",
    "    numTargets=2, KPN=[20], KPS=lambda KPN: 20000, area3Dto1D=[31], \n",
    "    NP0=[2], KPP=np.logspace(1,9,10+8*nDenseKPP), kbPP_fixed=kbP\n",
    ")\n",
    "parm_num = pd.concat((GenParm(0, 1), GenParm(0, 0.1), GenParm(0, 10)))"
   ]
  },
  {
   "cell_type": "code",
   "execution_count": 10,
   "id": "63544e6a",
   "metadata": {
    "ExecuteTime": {
     "end_time": "2025-05-01T17:18:38.293902Z",
     "start_time": "2025-05-01T17:18:34.207661Z"
    },
    "code_folding": [
     0
    ],
    "hidden": true
   },
   "outputs": [
    {
     "name": "stdout",
     "output_type": "stream",
     "text": [
      "2025-05-01 13:18:34.209698\n",
      "Number of cores used:  30/36\n",
      "Finished parallel processing.\n"
     ]
    }
   ],
   "source": [
    "def calc_resT_monomer_2state(parm):\n",
    "    gam = parm['gamma']\n",
    "    konS = parm['kaPS']\n",
    "    KPS = parm['KPS']\n",
    "    CS = parm['CS0']\n",
    "    konN = parm['kaPN']\n",
    "    koffN = parm['kbPN']\n",
    "    KPN = parm['KPN']\n",
    "    CN = parm['CN0']\n",
    "    # combined parms\n",
    "    chiN = KPN*CN\n",
    "    chiS = KPS*CS\n",
    "    aS_to_aN = konS*CS / (konN*CN)\n",
    "    return (chiN+chiS*(1+gam*chiN))/chiN/(1+aS_to_aN) / koffN\n",
    "\n",
    "equi_num = numericSolver(parm_df=parm_num, labels=labels, model=rxnNetwork)\n",
    "\n",
    "resT_num = np.zeros(parm_num.shape[0])\n",
    "for iloc in range(parm_num.shape[0]):\n",
    "    parm = parm_num.iloc[iloc]\n",
    "    equi = equi_num.iloc[iloc]\n",
    "    resT_num[iloc] = num.calc_resT_modelC(parm, equi)\n",
    "resT_num_m = calc_resT_monomer_2state(parm_num)"
   ]
  },
  {
   "cell_type": "code",
   "execution_count": 11,
   "id": "6b0274ef",
   "metadata": {
    "ExecuteTime": {
     "end_time": "2025-05-01T17:18:38.476311Z",
     "start_time": "2025-05-01T17:18:38.295321Z"
    },
    "hidden": true
   },
   "outputs": [
    {
     "data": {
      "image/png": "[encoded data removed]",
      "text/plain": [
       "<Figure size 500x500 with 1 Axes>"
      ]
     },
     "metadata": {},
     "output_type": "display_data"
    }
   ],
   "source": [
    "# >>>>>>>>>>>>>>>>>>>>>>>> Initialize Plotting >>>>>>>>>>>>>>>>>>>>>>>>\n",
    "ax, colors, lineStyles, legend, labelfont, tickfont, C0 = plotHeader(\n",
    "    scale=1.0, fixSize=True, sizeX=5, sizeY=5,\n",
    "    lgdLoc=[0.01,0.55], lgdFontSize=18, lgdHandleL=0.3, \n",
    "    lgdTitle='$k_{off}^P\\ (s^{-1})$', lgdTtlFontSize=18,\n",
    "    labelFontSize=20, tickFontSize=27, \n",
    "    tickL=15, tickW=2, spineLineW=2\n",
    ")\n",
    "alphas = [3/9, 5/9, 1]\n",
    "markers = ['o','v','s']\n",
    "kbP_color = 'tab:brown'\n",
    "# <<<<<<<<<<<<<<<<<<<<<<<<<<<<<<<<<<<<<<<<<<<<<<<<<<<<<<<<<<<<<<<<<<<<<\n",
    "kbPList = np.unique(parm_num['kbPP'])\n",
    "for i, kbP in enumerate(kbPList):\n",
    "    selected_num = ((parm_num['kbPP']==kbP))\n",
    "    # numerical solution (true)\n",
    "    ax.scatter(\n",
    "        (parm_num['KPP']*parm_num['CP0'])[selected_num],\n",
    "        (resT_num/resT_num_m)[selected_num],\n",
    "        label='$10^{%.0f}$'%np.log10(kbP), s=75,\n",
    "        marker=markers[i], color=kbP_color, alpha=alphas[i],\n",
    "    )\n",
    "\n",
    "ax.loglog()\n",
    "plt.legend(**legend)\n",
    "plt.xticks([1e-3, 1e1, 1e5], **tickfont)\n",
    "plt.yticks(**tickfont)\n",
    "plt.show()"
   ]
  },
  {
   "cell_type": "code",
   "execution_count": null,
   "id": "5904f4b6",
   "metadata": {
    "hidden": true
   },
   "outputs": [],
   "source": []
  },
  {
   "cell_type": "code",
   "execution_count": null,
   "id": "d9c595ef",
   "metadata": {
    "hidden": true
   },
   "outputs": [],
   "source": []
  },
  {
   "cell_type": "markdown",
   "id": "8de2892e",
   "metadata": {},
   "source": [
    "# d) protein concentration varies"
   ]
  },
  {
   "cell_type": "code",
   "execution_count": 9,
   "id": "2b99ea0c",
   "metadata": {
    "ExecuteTime": {
     "end_time": "2025-07-01T17:27:34.347114Z",
     "start_time": "2025-07-01T17:27:34.337824Z"
    }
   },
   "outputs": [],
   "source": [
    "parm_num = GenParameters(\n",
    "    numTargets=2, KPN=[1], area3Dto1D=[100], KPS=lambda KPN: 1e3,\n",
    "    NP0=2*np.logspace(-1, 1, 3+2*5), KPP=[0, 1e1, 1e6], kbPP_fixed=0.4,\n",
    ")"
   ]
  },
  {
   "cell_type": "code",
   "execution_count": 10,
   "id": "5834e9bf",
   "metadata": {
    "ExecuteTime": {
     "end_time": "2025-07-01T17:27:35.583987Z",
     "start_time": "2025-07-01T17:27:34.495271Z"
    }
   },
   "outputs": [
    {
     "name": "stdout",
     "output_type": "stream",
     "text": [
      "2025-07-01 13:27:34.496625\n",
      "Number of cores used:  34/36\n",
      "Finished parallel processing.\n"
     ]
    }
   ],
   "source": [
    "equi_num = numericSolver(parm_df=parm_num, labels=labels, model=rxnNetwork)"
   ]
  },
  {
   "cell_type": "code",
   "execution_count": 11,
   "id": "127a2316",
   "metadata": {
    "ExecuteTime": {
     "end_time": "2025-07-01T17:27:35.699162Z",
     "start_time": "2025-07-01T17:27:35.586379Z"
    }
   },
   "outputs": [],
   "source": [
    "pBound_num = np.zeros(parm_num.shape[0])\n",
    "sOcc_num = np.zeros(parm_num.shape[0])\n",
    "for iloc in range(parm_num.shape[0]):\n",
    "    parm = parm_num.iloc[iloc]\n",
    "    equi = equi_num.iloc[iloc]\n",
    "    pBound_num[iloc] = num.calc_BoundRatio_modelC(parm, equi)\n",
    "    sOcc_num[iloc] = num.calc_occS_modelC(parm, equi)"
   ]
  },
  {
   "cell_type": "code",
   "execution_count": 12,
   "id": "c4889c7b",
   "metadata": {
    "ExecuteTime": {
     "end_time": "2025-07-01T17:27:36.305710Z",
     "start_time": "2025-07-01T17:27:35.700773Z"
    }
   },
   "outputs": [
    {
     "data": {
      "image/png": "[encoded data removed]",
      "text/plain": [
       "<Figure size 500x500 with 1 Axes>"
      ]
     },
     "metadata": {},
     "output_type": "display_data"
    }
   ],
   "source": [
    "# >>>>>>>>>>>>>>>>>>>>>>>> Initialize Plotting >>>>>>>>>>>>>>>>>>>>>>>>\n",
    "ax, colors, lineStyles, legend, labelfont, tickfont, C0 = plotHeader(\n",
    "    scale=1.0, fixSize=True, sizeX=5, sizeY=5,\n",
    "    lgdLoc=[0.65,0.01], lgdFontSize=16, lgdHandleL=0.3, \n",
    "    lgdTitle='$K_{A}^{P}$ $(M^{-1})$', lgdTtlFontSize=16,\n",
    "    labelFontSize=20, tickFontSize=27, \n",
    "    tickL=15, tickW=2, spineLineW=2\n",
    ")\n",
    "alphas = [3/9, 5/9, 1]\n",
    "markers = ['o','v','s']\n",
    "curvelabels = ['0', '$10^1$', '$10^6$']\n",
    "gam_color = 'tab:blue'\n",
    "# <<<<<<<<<<<<<<<<<<<<<<<<<<<<<<<<<<<<<<<<<<<<<<<<<<<<<<<<<<<<<<<<<<<<<\n",
    "kppList = np.unique(parm_num['KPP'])\n",
    "for i, kpp in enumerate(kppList):\n",
    "    selected_num = ((parm_num['KPP']==kpp))\n",
    "    # numerical solution (true)\n",
    "    ax.scatter(\n",
    "        (parm_num['CP0']/parm_num['CS0'])[selected_num],\n",
    "        (sOcc_num)[selected_num],\n",
    "        zorder=3, s=100, color = gam_color, edgecolor='darkgreen', \n",
    "        alpha=alphas[i], marker=markers[i],\n",
    "        label=curvelabels[i],\n",
    "    )\n",
    "\n",
    "ax.loglog()\n",
    "plt.legend(**legend)\n",
    "plt.xticks(**tickfont)\n",
    "plt.yticks(**tickfont)\n",
    "plt.show()"
   ]
  },
  {
   "cell_type": "code",
   "execution_count": null,
   "id": "9428a593",
   "metadata": {},
   "outputs": [],
   "source": []
  },
  {
   "cell_type": "code",
   "execution_count": null,
   "id": "4af563e5",
   "metadata": {},
   "outputs": [],
   "source": []
  }
 ],
 "metadata": {
  "kernelspec": {
   "display_name": "Python 3 (ipykernel)",
   "language": "python",
   "name": "python3"
  },
  "language_info": {
   "codemirror_mode": {
    "name": "ipython",
    "version": 3
   },
   "file_extension": ".py",
   "mimetype": "text/x-python",
   "name": "python",
   "nbconvert_exporter": "python",
   "pygments_lexer": "ipython3",
   "version": "3.11.5"
  }
 },
 "nbformat": 4,
 "nbformat_minor": 5
}
