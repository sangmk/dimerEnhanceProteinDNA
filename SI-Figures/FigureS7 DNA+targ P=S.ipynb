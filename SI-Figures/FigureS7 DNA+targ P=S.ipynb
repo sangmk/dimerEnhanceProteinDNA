{
 "cells": [
  {
   "cell_type": "code",
   "execution_count": 1,
   "id": "969f266c",
   "metadata": {
    "ExecuteTime": {
     "end_time": "2025-05-01T17:05:46.821785Z",
     "start_time": "2025-05-01T17:05:46.415259Z"
    }
   },
   "outputs": [],
   "source": [
    "import numpy as np\n",
    "import pandas as pd\n",
    "from matplotlib import pyplot as plt\n",
    "import sys"
   ]
  },
  {
   "cell_type": "code",
   "execution_count": 2,
   "id": "f695cb67",
   "metadata": {
    "ExecuteTime": {
     "end_time": "2025-05-01T17:05:46.890021Z",
     "start_time": "2025-05-01T17:05:46.823336Z"
    }
   },
   "outputs": [],
   "source": [
    "sys.path.append('/home/local/WIN/msang2/mankun/Notebooks/[01]dimerEnhanceProteinDNA/')\n",
    "# modules for direct calculation\n",
    "import analytics as ana\n",
    "import analyzeEqui as num\n",
    "# stochastic simulation (Gillespie)\n",
    "# from Simulations.odeSolver.reversible.singleS import labels\n",
    "from Simulations.odeSolver.singleS import rxnNetwork as rxnSingleS, labels as labelsSingleS\n",
    "from Simulations.odeSolver.Nonly import rxnNetwork as rxnNonly, labels as labelsNonly\n",
    "from Simulations.odeSolver.main import main as numericSolver\n",
    "# for generating parameters\n",
    "from GenerateParameters import GenParameters"
   ]
  },
  {
   "cell_type": "code",
   "execution_count": 3,
   "id": "5e5379fd",
   "metadata": {
    "ExecuteTime": {
     "end_time": "2025-05-01T17:05:46.896371Z",
     "start_time": "2025-05-01T17:05:46.892315Z"
    },
    "code_folding": [
     6
    ]
   },
   "outputs": [],
   "source": [
    "def plotHeader(\n",
    "    scale=1.0, fixSize=True, sizeX=5, sizeY=5,\n",
    "    lgdLoc=[0.55,0.00], lgdFontSize=22, lgdHandleL=0.3, \n",
    "    lgdTitle='', lgdTtlFontSize=22,\n",
    "    labelFontSize=20, tickFontSize=27, \n",
    "    tickL=15, tickW=2, spineLineW=2\n",
    "):\n",
    "    labelfont = {'fontsize':labelFontSize*scale}\n",
    "    tickfont = {'fontsize':tickFontSize*scale}\n",
    "    legend = {'fontsize':lgdFontSize*scale, 'loc':lgdLoc, 'handlelength':lgdHandleL*scale, \n",
    "              'title':lgdTitle, 'title_fontsize':lgdTtlFontSize*scale,\n",
    "             'framealpha':0.0}\n",
    "    if fixSize:\n",
    "        fig = plt.figure(figsize=(sizeX*scale,sizeY*scale))\n",
    "        ax = fig.add_subplot(111)\n",
    "    else:\n",
    "        ax = plt.gca()\n",
    "    plt.tick_params(length=tickL*scale, width=tickW*scale)\n",
    "    for axis in ['top', 'bottom', 'left', 'right']:\n",
    "        ax.spines[axis].set_linewidth(spineLineW*scale)  # change width\n",
    "    colors = [\n",
    "        'tab:blue', 'tab:orange', 'tab:green', 'tab:red', 'tab:purple', \n",
    "        'tab:brown', 'tab:pink', 'tab:gray', 'tab:olive', 'tab:cyan'\n",
    "    ]\n",
    "    linsStyles = ['-', '--']\n",
    "    return ax, colors, linsStyles, legend, labelfont, tickfont, 0.6022 # C0, nm^-3 -> M"
   ]
  },
  {
   "cell_type": "markdown",
   "id": "e20bb708",
   "metadata": {},
   "source": [
    "# a) Target occupancy v.s. KPP & gamma?"
   ]
  },
  {
   "cell_type": "code",
   "execution_count": 4,
   "id": "399dd3e0",
   "metadata": {
    "ExecuteTime": {
     "end_time": "2025-05-01T17:05:46.903188Z",
     "start_time": "2025-05-01T17:05:46.897300Z"
    }
   },
   "outputs": [],
   "source": [
    "def findCriticalXPS(parm):\n",
    "    '''chiS -> (-chiN + chiN G)/(1 + chiN G)^2'''\n",
    "    chiN = parm['KPN'].to_numpy()*parm['CN0'].to_numpy()\n",
    "    gamma = parm['gamma'].to_numpy()\n",
    "    return chiN*(gamma-1)/(1+gamma*chiN)**2\n",
    "\n",
    "GenParms = lambda nDenseKPP: GenParameters(\n",
    "    numTargets=2, \n",
    "    KPN=np.array([30, 170, 1000]), \n",
    "    KPS=lambda KPN: 1258, \n",
    "    NP0=[2], KPP=np.logspace(1,9,9+8*nDenseKPP), \n",
    "    gamma=[50], kbPP_fixed=0.4,\n",
    ")\n",
    "parm_num = GenParms(0)"
   ]
  },
  {
   "cell_type": "code",
   "execution_count": 5,
   "id": "32875f38",
   "metadata": {
    "ExecuteTime": {
     "end_time": "2025-05-01T17:05:47.151016Z",
     "start_time": "2025-05-01T17:05:46.904068Z"
    }
   },
   "outputs": [
    {
     "name": "stdout",
     "output_type": "stream",
     "text": [
      "2025-05-01 13:05:46.906402\n",
      "Number of cores used:  27/36\n",
      "Finished parallel processing.\n"
     ]
    }
   ],
   "source": [
    "equi_num_rev = numericSolver(parm_df=parm_num, labels=labelsSingleS, model=rxnSingleS)\n",
    "\n",
    "sOcc_num_rev = np.zeros(parm_num.shape[0])\n",
    "for iloc in range(parm_num.shape[0]):\n",
    "    parm = parm_num.iloc[iloc]\n",
    "    sOcc_num_rev[iloc] = num.calc_occS_modelB(parm, equi_num_rev.iloc[iloc])"
   ]
  },
  {
   "cell_type": "code",
   "execution_count": 6,
   "id": "fe44f8c2",
   "metadata": {
    "ExecuteTime": {
     "end_time": "2025-05-01T17:05:47.288852Z",
     "start_time": "2025-05-01T17:05:47.152226Z"
    },
    "scrolled": false
   },
   "outputs": [
    {
     "data": {
      "image/png": "[encoded data removed]",
      "text/plain": [
       "<Figure size 500x500 with 1 Axes>"
      ]
     },
     "metadata": {},
     "output_type": "display_data"
    }
   ],
   "source": [
    "# >>>>>>>>>>>>>>>>>>>>>>>> Initialize Plotting >>>>>>>>>>>>>>>>>>>>>>>>\n",
    "ax, colors, lineStyles, legend, labelfont, tickfont, C0 = plotHeader(\n",
    "    scale=1.0, fixSize=True, sizeX=5, sizeY=5,\n",
    "    lgdLoc=[1.01,0.45], lgdFontSize=18, lgdHandleL=0.3, \n",
    "    lgdTitle='$K_{eq}^{PN}[N]_{tot}$', lgdTtlFontSize=18,\n",
    "    labelFontSize=20, tickFontSize=27, \n",
    "    tickL=15, tickW=2, spineLineW=2\n",
    ")\n",
    "gam_color = 'tab:purple'\n",
    "alphas = [5/9, 7/9, 1]\n",
    "# alphas = [1/9, 3/9, 5/9, 7/9, 1]\n",
    "markers = ['o','v','s', 'X', 'p']\n",
    "# <<<<<<<<<<<<<<<<<<<<<<<<<<<<<<<<<<<<<<<<<<<<<<<<<<<<<<<<<<<<<<<<<<<<<\n",
    "# <<<<<<<<<<<<<<<<<<<<<<<<<<<<<<<<<<<<<<<<<<<<<<<<<<<<<<<<<<<<<<<<<<<<<\n",
    "gamList = np.unique(parm_num['gamma'])\n",
    "kpnList = np.unique(parm_num['KPN'])\n",
    "CN0 = np.unique(parm_num['CN0'])\n",
    "for i, kpn in enumerate(kpnList[::-1]):\n",
    "    selected_num = ((parm_num['KPN']==kpn))\n",
    "    ax.scatter(\n",
    "        (parm_num['KPP']*parm_num['CP0'])[selected_num],\n",
    "        (sOcc_num_rev / (parm_num['CP0']/parm_num['CS0']))[selected_num],\n",
    "        marker=markers[i],  zorder=4, s=100,\n",
    "        color = gam_color, alpha=alphas[i], \n",
    "        label='$10^{%.1f}$'%(np.log10(CN0*kpn)),\n",
    "    )\n",
    "            \n",
    "ax.semilogx()\n",
    "# plt.legend(**legend)\n",
    "plt.xticks([1e-2, 1e0, 1e2, 1e4], ['', '', '', ''], **tickfont)\n",
    "plt.yticks([0.3, 0.4, 0.5, 0.6], **tickfont)\n",
    "plt.savefig('resT_vs_chiN_gamma_DIMER.png', transparent=True)"
   ]
  },
  {
   "cell_type": "code",
   "execution_count": null,
   "id": "5fc28f10",
   "metadata": {},
   "outputs": [],
   "source": []
  },
  {
   "cell_type": "markdown",
   "id": "3f771028",
   "metadata": {},
   "source": [
    "# b) residence time v.s. KPP & C0, dimer, model B¶"
   ]
  },
  {
   "cell_type": "code",
   "execution_count": 7,
   "id": "d452bd23",
   "metadata": {
    "ExecuteTime": {
     "end_time": "2025-05-01T17:05:47.297511Z",
     "start_time": "2025-05-01T17:05:47.289899Z"
    }
   },
   "outputs": [],
   "source": [
    "GenParms = lambda kbP, nDenseKPP :GenParameters(\n",
    "    numTargets=2, KPS=lambda KPN: 100*KPN, kaPS=1000, kaPN=200,\n",
    "    KPN=[200], NP0=[2], area3Dto1D=[31], \n",
    "    KPP=np.logspace(1,9,8+7*nDenseKPP), kbPP_fixed=kbP   \n",
    ")\n",
    "\n",
    "parm_num = pd.concat([GenParms(0.05, 0), GenParms(0.25, 0), GenParms(1, 0)], axis=0)"
   ]
  },
  {
   "cell_type": "code",
   "execution_count": 8,
   "id": "80813c5f",
   "metadata": {
    "ExecuteTime": {
     "end_time": "2025-05-01T17:05:48.242407Z",
     "start_time": "2025-05-01T17:05:47.299204Z"
    },
    "code_folding": [
     0
    ]
   },
   "outputs": [
    {
     "name": "stdout",
     "output_type": "stream",
     "text": [
      "2025-05-01 13:05:47.302372\n",
      "Number of cores used:  24/36\n",
      "Finished parallel processing.\n"
     ]
    }
   ],
   "source": [
    "def calc_resT_monomer_2state(parm):\n",
    "    gam = parm['gamma']\n",
    "    konS = parm['kaPS']\n",
    "    KPS = parm['KPS']\n",
    "    CS = parm['CS0']\n",
    "    konN = parm['kaPN']\n",
    "    koffN = parm['kbPN']\n",
    "    KPN = parm['KPN']\n",
    "    CN = parm['CN0']\n",
    "    # combined parms\n",
    "    chiN = KPN*CN\n",
    "    chiS = KPS*CS\n",
    "    aS_to_aN = konS*CS / (konN*CN)\n",
    "    return (chiN+chiS*(1+gam*chiN))/chiN/(1+aS_to_aN) / koffN\n",
    "\n",
    "resT_m_B_num = calc_resT_monomer_2state(parm_num)\n",
    "\n",
    "equi_num_rev = numericSolver(parm_df=parm_num, labels=labelsSingleS, model=rxnSingleS)\n",
    "\n",
    "resT_num_rev = np.zeros(parm_num.shape[0])\n",
    "occ_num = np.zeros(parm_num.shape[0])\n",
    "for iloc in range(parm_num.shape[0]):\n",
    "    resT_num_rev[iloc] = num.calc_resT_modelB(parm_num.iloc[iloc], equi_num_rev.iloc[iloc])\n",
    "    occ_num[iloc] = num.calc_occS_modelB(parm_num.iloc[iloc], equi_num_rev.iloc[iloc])"
   ]
  },
  {
   "cell_type": "code",
   "execution_count": 9,
   "id": "26b203b1",
   "metadata": {
    "ExecuteTime": {
     "end_time": "2025-05-01T17:05:48.411867Z",
     "start_time": "2025-05-01T17:05:48.244769Z"
    },
    "code_folding": [
     1
    ]
   },
   "outputs": [
    {
     "data": {
      "image/png": "[encoded data removed]",
      "text/plain": [
       "<Figure size 500x500 with 1 Axes>"
      ]
     },
     "metadata": {},
     "output_type": "display_data"
    }
   ],
   "source": [
    "# >>>>>>>>>>>>>>>>>>>>>>>> Initialize Plotting >>>>>>>>>>>>>>>>>>>>>>>>\n",
    "ax, colors, lineStyles, legend, labelfont, tickfont, C0 = plotHeader(\n",
    "    scale=1.0, fixSize=True, sizeX=5, sizeY=5,\n",
    "    lgdLoc=[0.01,0.51], lgdFontSize=18, lgdHandleL=0.3, \n",
    "    lgdTitle='$k_{off}^P\\ (s^{-1})$', lgdTtlFontSize=18,\n",
    "    labelFontSize=20, tickFontSize=27, \n",
    "    tickL=15, tickW=2, spineLineW=2\n",
    ")\n",
    "alphas = [4/9, 6/9, 1]\n",
    "markers = ['o','v','s']\n",
    "# <<<<<<<<<<<<<<<<<<<<<<<<<<<<<<<<<<<<<<<<<<<<<<<<<<<<<<<<<<<<<<<<<<<<<\n",
    "# <<<<<<<<<<<<<<<<<<<<<<<<<<<<<<<<<<<<<<<<<<<<<<<<<<<<<<<<<<<<<<<<<<<<<\n",
    "kbList = np.unique(parm_num['kbPP'])\n",
    "for i, kbP in enumerate(kbList):\n",
    "    selected_num = parm_num['kbPP']==kbP\n",
    "    ax.scatter(\n",
    "        (parm_num['KPP']*parm_num['CP0'])[selected_num],\n",
    "        (resT_num_rev/resT_m_B_num)[selected_num],\n",
    "        lw=2, zorder=5, marker=markers[i], s=75,\n",
    "        label='$10^{%.0f}$'%np.log10(kbP),\n",
    "        color='tab:brown', alpha=alphas[i]\n",
    "    )\n",
    "ax.semilogx()\n",
    "plt.xticks(**tickfont)\n",
    "plt.yticks(**tickfont)\n",
    "plt.show()"
   ]
  },
  {
   "cell_type": "code",
   "execution_count": null,
   "id": "3c88e1b6",
   "metadata": {},
   "outputs": [],
   "source": []
  }
 ],
 "metadata": {
  "kernelspec": {
   "display_name": "Python 3 (ipykernel)",
   "language": "python",
   "name": "python3"
  },
  "language_info": {
   "codemirror_mode": {
    "name": "ipython",
    "version": 3
   },
   "file_extension": ".py",
   "mimetype": "text/x-python",
   "name": "python",
   "nbconvert_exporter": "python",
   "pygments_lexer": "ipython3",
   "version": "3.11.5"
  }
 },
 "nbformat": 4,
 "nbformat_minor": 5
}
