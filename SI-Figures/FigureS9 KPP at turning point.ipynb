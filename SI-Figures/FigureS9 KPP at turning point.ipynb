{
 "cells": [
  {
   "cell_type": "code",
   "execution_count": 1,
   "id": "740f7ed9",
   "metadata": {
    "ExecuteTime": {
     "end_time": "2025-05-01T16:56:39.030531Z",
     "start_time": "2025-05-01T16:56:38.618250Z"
    }
   },
   "outputs": [],
   "source": [
    "from progressbar import progressbar\n",
    "import numpy as np\n",
    "import pandas as pd\n",
    "from matplotlib import pyplot as plt\n",
    "import sys"
   ]
  },
  {
   "cell_type": "code",
   "execution_count": 2,
   "id": "8490b8d7",
   "metadata": {
    "ExecuteTime": {
     "end_time": "2025-05-01T16:56:39.101315Z",
     "start_time": "2025-05-01T16:56:39.032458Z"
    }
   },
   "outputs": [],
   "source": [
    "sys.path.append('/home/local/WIN/msang2/mankun/dimerEnhanceProteinDNA/')\n",
    "# modules for direct calculation\n",
    "import analytics as ana\n",
    "import analyzeEqui as num\n",
    "# stochastic simulation (Gillespie)\n",
    "from Simulations.odeSolver.doubleS import rxnNetwork, labels\n",
    "from Simulations.odeSolver.singleS import rxnNetwork as rxnSingleS, labels as labelsSingleS\n",
    "from Simulations.odeSolver.main import main as numericSolver\n",
    "# for generating parameters\n",
    "from GenerateParameters import GenParameters"
   ]
  },
  {
   "cell_type": "code",
   "execution_count": 3,
   "id": "35ca3e9e",
   "metadata": {
    "ExecuteTime": {
     "end_time": "2025-05-01T16:56:39.107042Z",
     "start_time": "2025-05-01T16:56:39.102953Z"
    },
    "code_folding": [
     6
    ]
   },
   "outputs": [],
   "source": [
    "def plotHeader(\n",
    "    scale=1.0, fixSize=True, sizeX=5, sizeY=5,\n",
    "    lgdLoc=[0.55,0.00], lgdFontSize=22, lgdHandleL=0.3, \n",
    "    lgdTitle='', lgdTtlFontSize=22,\n",
    "    labelFontSize=20, tickFontSize=27, \n",
    "    tickL=15, tickW=2, spineLineW=2\n",
    "):\n",
    "    labelfont = {'fontsize':labelFontSize*scale}\n",
    "    tickfont = {'fontsize':tickFontSize*scale}\n",
    "    legend = {'fontsize':lgdFontSize*scale, 'loc':lgdLoc, 'handlelength':lgdHandleL*scale, \n",
    "              'title':lgdTitle, 'title_fontsize':lgdTtlFontSize*scale,\n",
    "             'framealpha':0.0}\n",
    "    if fixSize:\n",
    "        fig = plt.figure(figsize=(sizeX*scale,sizeY*scale))\n",
    "        ax = fig.add_subplot(111)\n",
    "    else:\n",
    "        ax = plt.gca()\n",
    "    plt.tick_params(length=tickL*scale, width=tickW*scale)\n",
    "    for axis in ['top', 'bottom', 'left', 'right']:\n",
    "        ax.spines[axis].set_linewidth(spineLineW*scale)  # change width\n",
    "    colors = [\n",
    "        'tab:blue', 'tab:orange', 'tab:green', 'tab:red', 'tab:purple', \n",
    "        'tab:brown', 'tab:pink', 'tab:gray', 'tab:olive', 'tab:cyan'\n",
    "    ]\n",
    "    linsStyles = ['-', '--']\n",
    "    return ax, colors, linsStyles, legend, labelfont, tickfont, 0.6022 # C0, nm^-3 -> M"
   ]
  },
  {
   "cell_type": "code",
   "execution_count": 4,
   "id": "0eb19c5e",
   "metadata": {
    "ExecuteTime": {
     "end_time": "2025-05-01T16:56:39.115534Z",
     "start_time": "2025-05-01T16:56:39.109269Z"
    }
   },
   "outputs": [],
   "source": [
    "def get_pBound_numerically(KPP, parmGen, solver:str):\n",
    "    parm = parmGen(KPP)\n",
    "    if solver=='doubleS':\n",
    "        equi = numericSolver(parm_df=parm, labels=labels, model=rxnNetwork, ifprint=False)\n",
    "        pBound = num.calc_BoundRatio_modelC(parm.iloc[0], equi.iloc[0])\n",
    "    elif solver=='singleS':\n",
    "        equi = numericSolver(parm_df=parm, labels=labelsSingleS, model=rxnSingleS, ifprint=False)\n",
    "        pBound = num.calc_BoundRatio_modelB(parm.iloc[0], equi.iloc[0])\n",
    "    return pBound\n",
    "\n",
    "def solve_KPP_half(gamma, solver:str, KPN, KPS=lambda KPN: 2e3, ifprint=False):\n",
    "\n",
    "    from scipy import optimize\n",
    "    \n",
    "    parmGen = lambda KPP: GenParameters( # Here KPP must be iterable\n",
    "        numTargets=2, KPN=[KPN], KPS=KPS, \n",
    "        NP0=[0.03], KPP=KPP, gamma=[gamma],\n",
    "    )\n",
    "    sample_parm = parmGen([0])\n",
    "    CP0_M = sample_parm['CP0'].unique() / 0.6022\n",
    "    pBound_mon = get_pBound_numerically([0], parmGen, solver)\n",
    "    pBound_irr = get_pBound_numerically([np.inf], parmGen, solver)\n",
    "    half_pBound = (pBound_mon + pBound_irr) / 2\n",
    "    \n",
    "    if ifprint:\n",
    "        print('half fraction:', half_pBound)\n",
    "        print('fraction with KPP=1e6:', get_pBound_numerically([1e6], parmGen, solver))\n",
    "    \n",
    "    target_function = lambda logKPP: get_pBound_numerically([10**(logKPP)], parmGen, solver) - half_pBound\n",
    "    logkpp = optimize.root_scalar(target_function, bracket=[0,9]).root\n",
    "    return 10**(logkpp)*CP0_M\n",
    "    "
   ]
  },
  {
   "cell_type": "code",
   "execution_count": 5,
   "id": "76939082",
   "metadata": {
    "ExecuteTime": {
     "end_time": "2025-05-01T16:57:24.122125Z",
     "start_time": "2025-05-01T16:56:39.116477Z"
    }
   },
   "outputs": [
    {
     "name": "stderr",
     "output_type": "stream",
     "text": [
      "100% (19 of 19) |########################| Elapsed Time: 0:00:44 Time:  0:00:44\n"
     ]
    }
   ],
   "source": [
    "KPNlist = np.logspace(1, 3, 5+4*10)*2.0\n",
    "gammalist = np.logspace(0,3, 4+3*5)\n",
    "\n",
    "XPP_half_singleS = []\n",
    "XPP_half_doubleS = []\n",
    "\n",
    "for gamma in progressbar(gammalist):\n",
    "    kpn = 20\n",
    "    XPP_half_singleS.append(solve_KPP_half(gamma, 'singleS', kpn))\n",
    "    XPP_half_doubleS.append(solve_KPP_half(gamma, 'doubleS', kpn))\n",
    "XPP_half_singleS = np.array(XPP_half_singleS)\n",
    "XPP_half_doubleS = np.array(XPP_half_doubleS)"
   ]
  },
  {
   "cell_type": "code",
   "execution_count": 6,
   "id": "4c87dc24",
   "metadata": {
    "ExecuteTime": {
     "end_time": "2025-05-01T16:57:24.528942Z",
     "start_time": "2025-05-01T16:57:24.123288Z"
    }
   },
   "outputs": [
    {
     "data": {
      "image/png": "[encoded data removed]",
      "text/plain": [
       "<Figure size 500x500 with 1 Axes>"
      ]
     },
     "metadata": {},
     "output_type": "display_data"
    }
   ],
   "source": [
    "# >>>>>>>>>>>>>>>>>>>>>>>> Initialize Plotting >>>>>>>>>>>>>>>>>>>>>>>>\n",
    "ax, _, lineStyles, legend, labelfont, tickfont, C0 = plotHeader(\n",
    "    scale=1.0, fixSize=True, sizeX=5, sizeY=5,\n",
    "    lgdLoc='best', lgdFontSize=20, lgdHandleL=0.3, \n",
    "    lgdTitle='', lgdTtlFontSize=20,\n",
    "    labelFontSize=20, tickFontSize=27, \n",
    "    tickL=15, tickW=2, spineLineW=2\n",
    ")\n",
    "markerSize=50\n",
    "# <<<<<<<<<<<<<<<<<<<<<<<<<<<<<<<<<<<<<<<<<<<<<<<<<<<<<<<<<<<<<<<<<<<<<\n",
    "\n",
    "ax.scatter(gammalist, XPP_half_singleS, label='DNA+targ', s=markerSize)\n",
    "ax.scatter(gammalist, XPP_half_doubleS, label='DNA+clusTarg', s=markerSize)\n",
    "\n",
    "plt.legend(**legend)\n",
    "plt.loglog()\n",
    "\n",
    "plt.xticks(**tickfont)\n",
    "plt.yticks(**tickfont)\n",
    "plt.show()"
   ]
  },
  {
   "cell_type": "code",
   "execution_count": null,
   "id": "9cbcb51a",
   "metadata": {},
   "outputs": [],
   "source": []
  }
 ],
 "metadata": {
  "kernelspec": {
   "display_name": "Python 3 (ipykernel)",
   "language": "python",
   "name": "python3"
  },
  "language_info": {
   "codemirror_mode": {
    "name": "ipython",
    "version": 3
   },
   "file_extension": ".py",
   "mimetype": "text/x-python",
   "name": "python",
   "nbconvert_exporter": "python",
   "pygments_lexer": "ipython3",
   "version": "3.11.5"
  }
 },
 "nbformat": 4,
 "nbformat_minor": 5
}
