{
 "cells": [
  {
   "cell_type": "code",
   "execution_count": 5,
   "id": "d8190d69",
   "metadata": {
    "ExecuteTime": {
     "end_time": "2025-04-11T15:53:47.092294Z",
     "start_time": "2025-04-11T15:53:46.860307Z"
    }
   },
   "outputs": [],
   "source": [
    "import numpy as np\n",
    "import pandas as pd\n",
    "from matplotlib import pyplot as plt\n",
    "import seaborn as sns\n",
    "import sys\n",
    "from progressbar import progressbar"
   ]
  },
  {
   "cell_type": "code",
   "execution_count": 6,
   "id": "bd659ff3",
   "metadata": {
    "ExecuteTime": {
     "end_time": "2025-04-11T15:53:47.101188Z",
     "start_time": "2025-04-11T15:53:47.095101Z"
    }
   },
   "outputs": [],
   "source": [
    "import sys\n",
    "from scipy.optimize import fsolve, root_scalar\n",
    "sys.path.append('/home/local/WIN/msang2/mankun/Notebooks/[01]dimerEnhanceProteinDNA/')\n",
    "# modules for direct calculation\n",
    "import analytics as ana\n",
    "import analyzeEqui as num\n",
    "# stochastic simulation (Gillespie)\n",
    "# from Simulations.odeSolver.reversible.singleS import labels\n",
    "from Simulations.odeSolver.doubleS import rxnNetwork as rxnDoubleS, labels as labelsDoubleS\n",
    "from Simulations.odeSolver.singleS import rxnNetwork as rxnSingleS, labels as labelsSingleS\n",
    "from Simulations.odeSolver.Nonly import rxnNetwork as rxnNonly, labels as labelsNonly\n",
    "from Simulations.odeSolver.main import main as numericSolver\n",
    "# for generating parameters\n",
    "from GenerateParameters import GenParameters"
   ]
  },
  {
   "cell_type": "code",
   "execution_count": 7,
   "id": "9ae0f9dd",
   "metadata": {
    "ExecuteTime": {
     "end_time": "2025-04-11T15:53:47.375274Z",
     "start_time": "2025-04-11T15:53:47.368096Z"
    },
    "code_folding": [
     6
    ]
   },
   "outputs": [],
   "source": [
    "def plotHeader(\n",
    "    scale=1.0, fixSize=True, sizeX=5, sizeY=5,\n",
    "    lgdLoc=[0.55,0.00], lgdFontSize=22, lgdHandleL=0.3, \n",
    "    lgdTitle='', lgdTtlFontSize=22,\n",
    "    labelFontSize=20, tickFontSize=27, \n",
    "    tickL=15, tickW=2, spineLineW=2\n",
    "):\n",
    "    labelfont = {'fontsize':labelFontSize*scale}\n",
    "    tickfont = {'fontsize':tickFontSize*scale}\n",
    "    legend = {'fontsize':lgdFontSize*scale, 'loc':lgdLoc, 'handlelength':lgdHandleL*scale, \n",
    "              'title':lgdTitle, 'title_fontsize':lgdTtlFontSize*scale,\n",
    "             'framealpha':0.0}\n",
    "    if fixSize:\n",
    "        fig = plt.figure(figsize=(sizeX*scale,sizeY*scale))\n",
    "        ax = fig.add_subplot(111)\n",
    "    else:\n",
    "        ax = plt.gca()\n",
    "    plt.tick_params(length=tickL*scale, width=tickW*scale)\n",
    "    for axis in ['top', 'bottom', 'left', 'right']:\n",
    "        ax.spines[axis].set_linewidth(spineLineW*scale)  # change width\n",
    "    colors = [\n",
    "        'tab:blue', 'tab:orange', 'tab:green', 'tab:red', 'tab:purple', \n",
    "        'tab:brown', 'tab:pink', 'tab:gray', 'tab:olive', 'tab:cyan'\n",
    "    ]\n",
    "    linsStyles = ['-', '--']\n",
    "    return ax, colors, linsStyles, legend, labelfont, tickfont, 0.6022 # C0, nm^-3 -> M"
   ]
  },
  {
   "cell_type": "markdown",
   "id": "8844e757",
   "metadata": {
    "heading_collapsed": true
   },
   "source": [
    "# GAGAG motif distributions"
   ]
  },
  {
   "cell_type": "code",
   "execution_count": 15,
   "id": "8f415b29",
   "metadata": {
    "ExecuteTime": {
     "end_time": "2025-04-08T20:51:40.465001Z",
     "start_time": "2025-04-08T20:51:40.460968Z"
    },
    "hidden": true
   },
   "outputs": [],
   "source": [
    "import pandas as pd\n",
    "import numpy as np\n",
    "from matplotlib import pyplot as plt\n",
    "import pyranges as pr\n",
    "from tqdm import tqdm\n",
    "import seaborn as sns"
   ]
  },
  {
   "cell_type": "code",
   "execution_count": 3,
   "id": "0608710e",
   "metadata": {
    "ExecuteTime": {
     "end_time": "2025-04-03T03:28:09.089990Z",
     "start_time": "2025-04-03T03:28:08.668573Z"
    },
    "hidden": true
   },
   "outputs": [],
   "source": [
    "# GAF motifs from ChIP-seq\n",
    "ALL_motifs = pd.read_csv('./GAGAG_dm3.csv')\n",
    "# nucleosome positions\n",
    "nucleosomes = pr.read_bed('./dmNuc0210501.nucleosome.iNPSPeak.bed')"
   ]
  },
  {
   "cell_type": "code",
   "execution_count": 4,
   "id": "37af747c",
   "metadata": {
    "ExecuteTime": {
     "end_time": "2025-04-03T03:38:14.513311Z",
     "start_time": "2025-04-03T03:28:09.634503Z"
    },
    "code_folding": [
     2,
     41
    ],
    "hidden": true
   },
   "outputs": [
    {
     "name": "stdout",
     "output_type": "stream",
     "text": [
      "chr2L... chr2R... chr3L... chr3R... chr4... chrX... chrY... end.\n"
     ]
    }
   ],
   "source": [
    "from collections import Counter\n",
    "\n",
    "def find_motifs_between_dyads(chrom, motif):\n",
    "    \"\"\"\n",
    "    Identify the distribution of the number of complete motifs between nucleosome dyads.\n",
    "    \n",
    "    Parameters:\n",
    "    chrom (list or np.array): {0, 1} sequence where 0 represents free DNA and 1 represents dyad of nucleosome.\n",
    "    motif (pd.DataFrame): DataFrame with \"start\" and \"end\" columns indicating motif positions.\n",
    "\n",
    "    Returns:\n",
    "    dict: Distribution of the number of motifs between dyads.\n",
    "    \"\"\"\n",
    "    \n",
    "    # Find indices of dyads\n",
    "    dyad_indices = []\n",
    "    for i, row in chrom.df.iterrows():\n",
    "        if row.Name.split(':')[1].strip() == 'MainPeak':\n",
    "            midleft = int(np.floor((row['Start'] + row['End'])/2))\n",
    "            dyad_indices.append(midleft)\n",
    "\n",
    "    # Ensure dyad_indices is sorted\n",
    "    dyad_indices.sort()\n",
    "    \n",
    "    # Count complete motifs between consecutive dyads\n",
    "    motif_counts = []\n",
    "    for i in range(len(dyad_indices) - 1):\n",
    "        start_dyad = dyad_indices[i]\n",
    "        end_dyad = dyad_indices[i + 1]\n",
    "        \n",
    "        # Count motifs completely between the current dyads\n",
    "        count = sum((motif[\"start\"] > start_dyad) & (motif[\"end\"] < end_dyad))\n",
    "        motif_counts.append(count)\n",
    "\n",
    "    # Calculate the distribution of motif counts\n",
    "    distribution = dict(Counter(motif_counts))\n",
    "    \n",
    "    return distribution\n",
    "\n",
    "# Example usage\n",
    "distributions_all = []\n",
    "for chrom in ['chr2L', 'chr2R', 'chr3L', 'chr3R', 'chr4', 'chrX', 'chrY']:\n",
    "    print(chrom, end='... ')\n",
    "    distributions_all.append(find_motifs_between_dyads(\n",
    "        nucleosomes[chrom], ALL_motifs[ALL_motifs['chr']==chrom]\n",
    "    ))\n",
    "print('end.')\n",
    "# print(distribution)\n"
   ]
  },
  {
   "cell_type": "code",
   "execution_count": 18,
   "id": "57d4c0d6",
   "metadata": {
    "ExecuteTime": {
     "end_time": "2025-04-08T21:04:11.059229Z",
     "start_time": "2025-04-08T21:03:55.328292Z"
    },
    "hidden": true
   },
   "outputs": [
    {
     "name": "stdout",
     "output_type": "stream",
     "text": [
      "chr2L... chr2R... chr3L... chr3R... chr4... chrX... chrY... end.\n"
     ]
    }
   ],
   "source": [
    "from collections import Counter\n",
    "\n",
    "def find_dyad_spacing(chrom):\n",
    "    \"\"\"\n",
    "    Identify the distribution of the number of complete motifs between nucleosome dyads.\n",
    "    \n",
    "    Parameters:\n",
    "    chrom (list or np.array): {0, 1} sequence where 0 represents free DNA and 1 represents dyad of nucleosome.\n",
    "\n",
    "    Returns:\n",
    "    dict: Distances between dyads.\n",
    "    \"\"\"\n",
    "    \n",
    "    # Find indices of dyads\n",
    "    dyad_indices = []\n",
    "    for i, row in chrom.df.iterrows():\n",
    "        if row.Name.split(':')[1].strip() == 'MainPeak':\n",
    "            midleft = int(np.floor((row['Start'] + row['End'])/2))\n",
    "            dyad_indices.append(midleft)\n",
    "\n",
    "    # Ensure dyad_indices is sorted\n",
    "    dyad_indices.sort()\n",
    "    \n",
    "    return np.diff(dyad_indices)\n",
    "\n",
    "# Example usage\n",
    "distances_all = []\n",
    "for chrom in ['chr2L', 'chr2R', 'chr3L', 'chr3R', 'chr4', 'chrX', 'chrY']:\n",
    "    print(chrom, end='... ')\n",
    "    distances_all.append(find_dyad_spacing(nucleosomes[chrom]))\n",
    "print('end.')\n",
    "# print(distribution)\n"
   ]
  },
  {
   "cell_type": "code",
   "execution_count": null,
   "id": "120512e4",
   "metadata": {
    "ExecuteTime": {
     "start_time": "2025-04-08T21:09:51.041Z"
    },
    "hidden": true
   },
   "outputs": [
    {
     "data": {
      "text/plain": [
       "[]"
      ]
     },
     "execution_count": 24,
     "metadata": {},
     "output_type": "execute_result"
    }
   ],
   "source": [
    "plt.hist(np.concatenate(distances_all)/3, bins=100);\n",
    "plt.semilogy()"
   ]
  },
  {
   "cell_type": "code",
   "execution_count": null,
   "id": "97191545",
   "metadata": {
    "hidden": true
   },
   "outputs": [],
   "source": []
  },
  {
   "cell_type": "code",
   "execution_count": null,
   "id": "5dbda937",
   "metadata": {
    "hidden": true
   },
   "outputs": [],
   "source": []
  },
  {
   "cell_type": "code",
   "execution_count": 8,
   "id": "2a621776",
   "metadata": {
    "ExecuteTime": {
     "end_time": "2025-04-08T20:12:00.531037Z",
     "start_time": "2025-04-08T20:12:00.523985Z"
    },
    "hidden": true
   },
   "outputs": [],
   "source": [
    "distribution_all_combined = {}\n",
    "for distribution in distributions_all:\n",
    "    for count in distribution.keys():\n",
    "        if count > 0:\n",
    "            if count in distribution_all_combined:\n",
    "                distribution_all_combined[count] += distribution[count]\n",
    "            else:\n",
    "                distribution_all_combined[count] = distribution[count]\n",
    "\n",
    "threshold = 8\n",
    "for count in list(distribution_all_combined.keys()):\n",
    "    if count > threshold:\n",
    "        distribution_all_combined[threshold] += distribution_all_combined.pop(count)"
   ]
  },
  {
   "cell_type": "code",
   "execution_count": 12,
   "id": "6a658e75",
   "metadata": {
    "ExecuteTime": {
     "end_time": "2025-04-08T20:18:03.951527Z",
     "start_time": "2025-04-08T20:18:03.768036Z"
    },
    "hidden": true
   },
   "outputs": [
    {
     "data": {
      "image/png": "[encoded data removed]",
      "text/plain": [
       "<Figure size 400x500 with 1 Axes>"
      ]
     },
     "metadata": {},
     "output_type": "display_data"
    }
   ],
   "source": [
    "counts = np.array(list(distribution_all_combined.keys()))\n",
    "frequencies = np.array(list(distribution_all_combined.values()))\n",
    "\n",
    "\n",
    "ax, colors, linsStyles, legend, labelfont, tickfont, C0 = plotHeader(\n",
    "    sizeX=4, sizeY=5, spineLineW=1.5, tickW=1.5, tickFontSize=24, labelFontSize=20, \n",
    ")\n",
    "\n",
    "# Create a bar plot\n",
    "plt.bar(counts, frequencies/np.sum(frequencies), color='skyblue', edgecolor='black')\n",
    "\n",
    "# Add labels and title\n",
    "# plt.xlabel('Number of GAF Motifs Between Dyads', **labelfont)\n",
    "# plt.ylabel('Frequency', **labelfont)\n",
    "plt.semilogy()\n",
    "\n",
    "# Show grid and plot\n",
    "plt.grid(axis='y', linestyle='--', alpha=0.7)\n",
    "plt.xticks(range(1,9), ['1', '2', '3', '4', '5', '6', '7', '8+'], **tickfont)\n",
    "plt.yticks(**tickfont)\n",
    "plt.xlim([0.5,8.5])\n",
    "plt.ylim([0.8e-3,1e0])\n",
    "plt.show()"
   ]
  },
  {
   "cell_type": "code",
   "execution_count": 14,
   "id": "c3d7d494",
   "metadata": {
    "ExecuteTime": {
     "end_time": "2025-04-08T20:18:46.273863Z",
     "start_time": "2025-04-08T20:18:46.097573Z"
    },
    "hidden": true
   },
   "outputs": [
    {
     "data": {
      "image/png": "[encoded data removed]",
      "text/plain": [
       "<Figure size 400x500 with 1 Axes>"
      ]
     },
     "metadata": {},
     "output_type": "display_data"
    }
   ],
   "source": [
    "counts = np.array(list(distribution_all_combined.keys()))\n",
    "frequencies = np.array(list(distribution_all_combined.values()))\n",
    "\n",
    "\n",
    "ax, colors, linsStyles, legend, labelfont, tickfont, C0 = plotHeader(\n",
    "    sizeX=4, sizeY=5, spineLineW=1.5, tickW=1.5, tickFontSize=24, labelFontSize=20, \n",
    ")\n",
    "\n",
    "# Create a bar plot\n",
    "plt.bar([1,2,3,4], [0.25, 0.25, 0.25, 0.25], color='skyblue', edgecolor='black')\n",
    "\n",
    "# Add labels and title\n",
    "# plt.xlabel('Number of GAF Motifs Between Dyads', **labelfont)\n",
    "# plt.ylabel('Frequency', **labelfont)\n",
    "plt.semilogy()\n",
    "\n",
    "# Show grid and plot\n",
    "plt.grid(axis='y', linestyle='--', alpha=0.7)\n",
    "plt.xticks(**tickfont)\n",
    "plt.yticks(**tickfont)\n",
    "\n",
    "plt.ylim([0.8e-3,1e0])\n",
    "plt.show()"
   ]
  },
  {
   "cell_type": "code",
   "execution_count": null,
   "id": "9e0f000d",
   "metadata": {
    "hidden": true
   },
   "outputs": [],
   "source": []
  },
  {
   "cell_type": "markdown",
   "id": "73fcdc5e",
   "metadata": {},
   "source": [
    "# f) and g) How population influences"
   ]
  },
  {
   "cell_type": "code",
   "execution_count": 41,
   "id": "00e645ba",
   "metadata": {
    "ExecuteTime": {
     "end_time": "2025-04-15T16:03:12.621410Z",
     "start_time": "2025-04-15T16:03:12.616220Z"
    }
   },
   "outputs": [],
   "source": [
    "GenParms = lambda NP0, NS, scale, KPP: GenParameters(\n",
    "    numTargets=NS, NP0=NP0, KPP=[KPP], KPN=[10], KPS=lambda KPN: 1000, area3Dto1D=[10], \n",
    "    kbPP_fixed=0.4, kaPN=0.02*1e6, kaPS=0.1*1e6, lengthScale=scale\n",
    ")"
   ]
  },
  {
   "cell_type": "code",
   "execution_count": 42,
   "id": "a3d60d69",
   "metadata": {
    "ExecuteTime": {
     "end_time": "2025-04-15T16:03:12.859489Z",
     "start_time": "2025-04-15T16:03:12.854011Z"
    }
   },
   "outputs": [],
   "source": [
    "parms = GenParms(NS=1, scale=2, KPP=1e4, NP0=[1]).to_numpy()[0]"
   ]
  },
  {
   "cell_type": "code",
   "execution_count": 45,
   "id": "80adc8d3",
   "metadata": {
    "ExecuteTime": {
     "end_time": "2025-04-15T16:03:33.401093Z",
     "start_time": "2025-04-15T16:03:33.385549Z"
    }
   },
   "outputs": [
    {
     "ename": "IndexError",
     "evalue": "only integers, slices (`:`), ellipsis (`...`), numpy.newaxis (`None`) and integer or boolean arrays are valid indices",
     "output_type": "error",
     "traceback": [
      "\u001b[0;31m---------------------------------------------------------------------------\u001b[0m",
      "\u001b[0;31mIndexError\u001b[0m                                Traceback (most recent call last)",
      "Cell \u001b[0;32mIn[45], line 1\u001b[0m\n\u001b[0;32m----> 1\u001b[0m upperlimit \u001b[38;5;241m=\u001b[39m parms[\u001b[38;5;124m'\u001b[39m\u001b[38;5;124mKPS\u001b[39m\u001b[38;5;124m'\u001b[39m]\u001b[38;5;241m*\u001b[39mparms[\u001b[38;5;124m'\u001b[39m\u001b[38;5;124mKPS\u001b[39m\u001b[38;5;124m'\u001b[39m]\u001b[38;5;241m*\u001b[39mparms[\u001b[38;5;124m'\u001b[39m\u001b[38;5;124mCS0\u001b[39m\u001b[38;5;124m'\u001b[39m]\u001b[38;5;241m*\u001b[39m\u001b[38;5;241m0.6022\u001b[39m \u001b[38;5;241m/\u001b[39m \u001b[38;5;241m2\u001b[39m\n",
      "\u001b[0;31mIndexError\u001b[0m: only integers, slices (`:`), ellipsis (`...`), numpy.newaxis (`None`) and integer or boolean arrays are valid indices"
     ]
    }
   ],
   "source": [
    "upperlimit = parms['KPS']*parms['KPS']*parms['CS0']*0.6022 / 2"
   ]
  },
  {
   "cell_type": "code",
   "execution_count": 16,
   "id": "df16f758",
   "metadata": {
    "ExecuteTime": {
     "end_time": "2025-04-11T16:00:27.048823Z",
     "start_time": "2025-04-11T16:00:27.034813Z"
    },
    "code_folding": [
     0,
     6,
     13,
     18,
     39
    ]
   },
   "outputs": [],
   "source": [
    "def theta_DNA(parm):\n",
    "    equi = numericSolver(parm, rxnNonly, labelsNonly, ifprint=False)\n",
    "    theta = num.calc_BoundRatio_modelA(parm=parm.iloc[0], equi=equi.iloc[0])\n",
    "    return theta\n",
    "\n",
    "# Only one separated target not two\n",
    "def theta_singleS(parm):\n",
    "    equi = numericSolver(parm, rxnSingleS, labelsSingleS, ifprint=False)\n",
    "    parm_loc = parm.iloc[0].copy()\n",
    "    parm_loc['CS0'] = parm_loc['CS0'] / 2 \n",
    "    theta = num.calc_BoundRatio_modelB(parm=parm.iloc[0], equi=equi.iloc[0])\n",
    "    return theta\n",
    "\n",
    "def theta_doubleS(parm):\n",
    "    equi = numericSolver(parm, rxnDoubleS, labelsDoubleS, ifprint=False)\n",
    "    theta = num.calc_BoundRatio_modelC(parm=parm.iloc[0], equi=equi.iloc[0])\n",
    "    return theta\n",
    "\n",
    "def freeProDiff(NP1, model1, model2, pop1, pop2, Ntot = 2, KPP = 1e6, NS = 2, scale = 2):\n",
    "    if isinstance(NP1, (np.int_, np.float_, float, int)):\n",
    "        N1 = np.array([NP1]) / pop1\n",
    "    else:\n",
    "        N1 = NP1 / pop1\n",
    "    N2 = (Ntot - N1*pop1) / pop2\n",
    "    if N1[0] < 1e-9:\n",
    "        parm2 = GenParms(N2, NS, scale, KPP)\n",
    "        theta2 = model2(parm2)\n",
    "        return -(N2*(1-theta2))[0]\n",
    "    elif N2[0] < 1e-9:\n",
    "        parm1 = GenParms(N1, NS, scale, KPP)\n",
    "        theta1 = model1(parm1)\n",
    "        return (N1*(1-theta1))[0]\n",
    "    else:\n",
    "        parm1 = GenParms(N1, NS, scale, KPP)\n",
    "        parm2 = GenParms(N2, NS, scale, KPP)\n",
    "        theta1 = model1(parm1)\n",
    "        theta2 = model2(parm2)\n",
    "        return (N1*(1-theta1) - N2*(1-theta2))[0]\n",
    "    \n",
    "def pBoundRatios(NP1, model1, model2, pop1, pop2, Ntot = 2, KPP = 1e6, NS = 2, scale = 2):\n",
    "    if isinstance(NP1, (np.int_, np.float_, float, int)):\n",
    "        N1 = np.array([NP1]) / pop1\n",
    "    else:\n",
    "        N1 = NP1 / pop1\n",
    "    N2 = (Ntot - N1*pop1) / pop2\n",
    "    if N1[0] < 1e-9:\n",
    "        parm2 = GenParms(N2, NS, scale, KPP)\n",
    "        theta2 = model2(parm2)\n",
    "        return 0, theta2\n",
    "    elif N2[0] < 1e-9:\n",
    "        parm1 = GenParms(N1, NS, scale, KPP)\n",
    "        theta1 = model1(parm1)\n",
    "        return theta1, 0\n",
    "    else:\n",
    "        parm1 = GenParms(N1, NS, scale, KPP)\n",
    "        parm2 = GenParms(N2, NS, scale, KPP)\n",
    "        theta1 = model1(parm1)\n",
    "        theta2 = model2(parm2)\n",
    "        return theta1, theta2\n",
    "    \n",
    "def proteinsOnDNA(N1, Ntot, pop1, pop2, theta1, theta2):\n",
    "    return theta1*(N1/pop1), theta2*(Ntot - N1)/pop2"
   ]
  },
  {
   "cell_type": "code",
   "execution_count": 17,
   "id": "b7c24ff7",
   "metadata": {
    "ExecuteTime": {
     "end_time": "2025-04-11T16:00:27.241459Z",
     "start_time": "2025-04-11T16:00:27.236971Z"
    }
   },
   "outputs": [],
   "source": [
    "pop1List = np.arange(1,20.5,1) # How many linkers have two separated targets\n",
    "pop2 = 1 # How many linkers have two clustered targets\n",
    "ptotList = pop1List + 2 # The total number of proteins\n",
    "kpp = 1e4"
   ]
  },
  {
   "cell_type": "code",
   "execution_count": 18,
   "id": "fea52ca6",
   "metadata": {
    "ExecuteTime": {
     "end_time": "2025-04-11T16:01:34.961550Z",
     "start_time": "2025-04-11T16:00:27.448433Z"
    },
    "code_folding": [
     2
    ]
   },
   "outputs": [
    {
     "name": "stderr",
     "output_type": "stream",
     "text": [
      "100% (20 of 20) |########################| Elapsed Time: 0:01:07 Time:  0:01:07\n"
     ]
    }
   ],
   "source": [
    "clustered_onDNA = []\n",
    "separated_onDNA = []\n",
    "for i, pop1 in enumerate(progressbar(pop1List)):\n",
    "    Ptot = ptotList[i]\n",
    "    spr_n = []\n",
    "    cls_n = []\n",
    "    r_dimer = root_scalar(\n",
    "        freeProDiff, x0=Ptot/2, x1=0, xtol=1e-12, \n",
    "        args=(theta_singleS, theta_doubleS, pop1, pop2, Ptot, kpp)\n",
    "    )\n",
    "    th1, th2 = pBoundRatios(r_dimer.root, theta_singleS, theta_doubleS, pop1, pop2, Ptot, kpp)\n",
    "    spr, cls = proteinsOnDNA(r_dimer.root, Ptot, pop1, pop2, th1, th2)\n",
    "    clustered_onDNA.append(cls)\n",
    "    separated_onDNA.append(spr)\n",
    "clustered_onDNA_changeP = np.array(clustered_onDNA)\n",
    "separated_onDNA_changeP = np.array(separated_onDNA)"
   ]
  },
  {
   "cell_type": "code",
   "execution_count": 35,
   "id": "c044f8a3",
   "metadata": {
    "ExecuteTime": {
     "end_time": "2025-04-15T16:02:16.105553Z",
     "start_time": "2025-04-15T16:02:15.904172Z"
    },
    "code_folding": [
     5,
     14
    ]
   },
   "outputs": [
    {
     "ename": "ValueError",
     "evalue": "The truth value of a Series is ambiguous. Use a.empty, a.bool(), a.item(), a.any() or a.all().",
     "output_type": "error",
     "traceback": [
      "\u001b[0;31m---------------------------------------------------------------------------\u001b[0m",
      "\u001b[0;31mValueError\u001b[0m                                Traceback (most recent call last)",
      "\u001b[0;32m/tmp/ipykernel_3523071/959485149.py\u001b[0m in \u001b[0;36m?\u001b[0;34m()\u001b[0m\n\u001b[1;32m     22\u001b[0m \u001b[0;31m# ax[0].set_title('$N_P^{tot}$ = $N_S^{tot}$', fontsize=18)\u001b[0m\u001b[0;34m\u001b[0m\u001b[0;34m\u001b[0m\u001b[0m\n\u001b[1;32m     23\u001b[0m \u001b[0;34m\u001b[0m\u001b[0m\n\u001b[1;32m     24\u001b[0m \u001b[0;31m# Second subplot\u001b[0m\u001b[0;34m\u001b[0m\u001b[0;34m\u001b[0m\u001b[0m\n\u001b[1;32m     25\u001b[0m \u001b[0max\u001b[0m\u001b[0;34m[\u001b[0m\u001b[0;36m1\u001b[0m\u001b[0;34m]\u001b[0m\u001b[0;34m.\u001b[0m\u001b[0mscatter\u001b[0m\u001b[0;34m(\u001b[0m\u001b[0mpop1List\u001b[0m\u001b[0;34m,\u001b[0m \u001b[0mclustered_onDNA_changeP\u001b[0m \u001b[0;34m/\u001b[0m \u001b[0mseparated_onDNA_changeP\u001b[0m\u001b[0;34m,\u001b[0m \u001b[0mcolor\u001b[0m\u001b[0;34m=\u001b[0m\u001b[0;34m'black'\u001b[0m\u001b[0;34m)\u001b[0m\u001b[0;34m\u001b[0m\u001b[0;34m\u001b[0m\u001b[0m\n\u001b[0;32m---> 26\u001b[0;31m \u001b[0max\u001b[0m\u001b[0;34m[\u001b[0m\u001b[0;36m1\u001b[0m\u001b[0;34m]\u001b[0m\u001b[0;34m.\u001b[0m\u001b[0maxhline\u001b[0m\u001b[0;34m(\u001b[0m\u001b[0mupperlimit\u001b[0m\u001b[0;34m)\u001b[0m\u001b[0;34m\u001b[0m\u001b[0;34m\u001b[0m\u001b[0m\n\u001b[0m\u001b[1;32m     27\u001b[0m \u001b[0;34m\u001b[0m\u001b[0m\n\u001b[1;32m     28\u001b[0m \u001b[0max\u001b[0m\u001b[0;34m[\u001b[0m\u001b[0;36m1\u001b[0m\u001b[0;34m]\u001b[0m\u001b[0;34m.\u001b[0m\u001b[0mtick_params\u001b[0m\u001b[0;34m(\u001b[0m\u001b[0maxis\u001b[0m\u001b[0;34m=\u001b[0m\u001b[0;34m'x'\u001b[0m\u001b[0;34m,\u001b[0m \u001b[0mlabelsize\u001b[0m\u001b[0;34m=\u001b[0m\u001b[0mlabelfontsize\u001b[0m\u001b[0;34m,\u001b[0m \u001b[0mwidth\u001b[0m\u001b[0;34m=\u001b[0m\u001b[0mtickwidth\u001b[0m\u001b[0;34m,\u001b[0m \u001b[0mlength\u001b[0m\u001b[0;34m=\u001b[0m\u001b[0mticklength\u001b[0m\u001b[0;34m)\u001b[0m\u001b[0;34m\u001b[0m\u001b[0;34m\u001b[0m\u001b[0m\n\u001b[1;32m     29\u001b[0m \u001b[0max\u001b[0m\u001b[0;34m[\u001b[0m\u001b[0;36m1\u001b[0m\u001b[0;34m]\u001b[0m\u001b[0;34m.\u001b[0m\u001b[0mtick_params\u001b[0m\u001b[0;34m(\u001b[0m\u001b[0maxis\u001b[0m\u001b[0;34m=\u001b[0m\u001b[0;34m'y'\u001b[0m\u001b[0;34m,\u001b[0m \u001b[0mlabelsize\u001b[0m\u001b[0;34m=\u001b[0m\u001b[0mlabelfontsize\u001b[0m\u001b[0;34m,\u001b[0m \u001b[0mwidth\u001b[0m\u001b[0;34m=\u001b[0m\u001b[0mtickwidth\u001b[0m\u001b[0;34m,\u001b[0m \u001b[0mlength\u001b[0m\u001b[0;34m=\u001b[0m\u001b[0mticklength\u001b[0m\u001b[0;34m)\u001b[0m\u001b[0;34m\u001b[0m\u001b[0;34m\u001b[0m\u001b[0m\n",
      "\u001b[0;32m~/anaconda3/lib/python3.11/site-packages/matplotlib/axes/_axes.py\u001b[0m in \u001b[0;36m?\u001b[0;34m(self, y, xmin, xmax, **kwargs)\u001b[0m\n\u001b[1;32m    765\u001b[0m         \u001b[0mymin\u001b[0m\u001b[0;34m,\u001b[0m \u001b[0mymax\u001b[0m \u001b[0;34m=\u001b[0m \u001b[0mself\u001b[0m\u001b[0;34m.\u001b[0m\u001b[0mget_ybound\u001b[0m\u001b[0;34m(\u001b[0m\u001b[0;34m)\u001b[0m\u001b[0;34m\u001b[0m\u001b[0;34m\u001b[0m\u001b[0m\n\u001b[1;32m    766\u001b[0m \u001b[0;34m\u001b[0m\u001b[0m\n\u001b[1;32m    767\u001b[0m         \u001b[0;31m# Strip away the units for comparison with non-unitized bounds.\u001b[0m\u001b[0;34m\u001b[0m\u001b[0;34m\u001b[0m\u001b[0m\n\u001b[1;32m    768\u001b[0m         \u001b[0myy\u001b[0m\u001b[0;34m,\u001b[0m \u001b[0;34m=\u001b[0m \u001b[0mself\u001b[0m\u001b[0;34m.\u001b[0m\u001b[0m_process_unit_info\u001b[0m\u001b[0;34m(\u001b[0m\u001b[0;34m[\u001b[0m\u001b[0;34m(\u001b[0m\u001b[0;34m\"y\"\u001b[0m\u001b[0;34m,\u001b[0m \u001b[0my\u001b[0m\u001b[0;34m)\u001b[0m\u001b[0;34m]\u001b[0m\u001b[0;34m,\u001b[0m \u001b[0mkwargs\u001b[0m\u001b[0;34m)\u001b[0m\u001b[0;34m\u001b[0m\u001b[0;34m\u001b[0m\u001b[0m\n\u001b[0;32m--> 769\u001b[0;31m         \u001b[0mscaley\u001b[0m \u001b[0;34m=\u001b[0m \u001b[0;34m(\u001b[0m\u001b[0myy\u001b[0m \u001b[0;34m<\u001b[0m \u001b[0mymin\u001b[0m\u001b[0;34m)\u001b[0m \u001b[0;32mor\u001b[0m \u001b[0;34m(\u001b[0m\u001b[0myy\u001b[0m \u001b[0;34m>\u001b[0m \u001b[0mymax\u001b[0m\u001b[0;34m)\u001b[0m\u001b[0;34m\u001b[0m\u001b[0;34m\u001b[0m\u001b[0m\n\u001b[0m\u001b[1;32m    770\u001b[0m \u001b[0;34m\u001b[0m\u001b[0m\n\u001b[1;32m    771\u001b[0m         \u001b[0mtrans\u001b[0m \u001b[0;34m=\u001b[0m \u001b[0mself\u001b[0m\u001b[0;34m.\u001b[0m\u001b[0mget_yaxis_transform\u001b[0m\u001b[0;34m(\u001b[0m\u001b[0mwhich\u001b[0m\u001b[0;34m=\u001b[0m\u001b[0;34m'grid'\u001b[0m\u001b[0;34m)\u001b[0m\u001b[0;34m\u001b[0m\u001b[0;34m\u001b[0m\u001b[0m\n\u001b[1;32m    772\u001b[0m         \u001b[0ml\u001b[0m \u001b[0;34m=\u001b[0m \u001b[0mmlines\u001b[0m\u001b[0;34m.\u001b[0m\u001b[0mLine2D\u001b[0m\u001b[0;34m(\u001b[0m\u001b[0;34m[\u001b[0m\u001b[0mxmin\u001b[0m\u001b[0;34m,\u001b[0m \u001b[0mxmax\u001b[0m\u001b[0;34m]\u001b[0m\u001b[0;34m,\u001b[0m \u001b[0;34m[\u001b[0m\u001b[0my\u001b[0m\u001b[0;34m,\u001b[0m \u001b[0my\u001b[0m\u001b[0;34m]\u001b[0m\u001b[0;34m,\u001b[0m \u001b[0mtransform\u001b[0m\u001b[0;34m=\u001b[0m\u001b[0mtrans\u001b[0m\u001b[0;34m,\u001b[0m \u001b[0;34m**\u001b[0m\u001b[0mkwargs\u001b[0m\u001b[0;34m)\u001b[0m\u001b[0;34m\u001b[0m\u001b[0;34m\u001b[0m\u001b[0m\n",
      "\u001b[0;32m~/anaconda3/lib/python3.11/site-packages/pandas/core/generic.py\u001b[0m in \u001b[0;36m?\u001b[0;34m(self)\u001b[0m\n\u001b[1;32m   1464\u001b[0m     \u001b[0;34m@\u001b[0m\u001b[0mfinal\u001b[0m\u001b[0;34m\u001b[0m\u001b[0;34m\u001b[0m\u001b[0m\n\u001b[1;32m   1465\u001b[0m     \u001b[0;32mdef\u001b[0m \u001b[0m__nonzero__\u001b[0m\u001b[0;34m(\u001b[0m\u001b[0mself\u001b[0m\u001b[0;34m)\u001b[0m \u001b[0;34m->\u001b[0m \u001b[0mNoReturn\u001b[0m\u001b[0;34m:\u001b[0m\u001b[0;34m\u001b[0m\u001b[0;34m\u001b[0m\u001b[0m\n\u001b[0;32m-> 1466\u001b[0;31m         raise ValueError(\n\u001b[0m\u001b[1;32m   1467\u001b[0m             \u001b[0;34mf\"The truth value of a {type(self).__name__} is ambiguous. \"\u001b[0m\u001b[0;34m\u001b[0m\u001b[0;34m\u001b[0m\u001b[0m\n\u001b[1;32m   1468\u001b[0m             \u001b[0;34m\"Use a.empty, a.bool(), a.item(), a.any() or a.all().\"\u001b[0m\u001b[0;34m\u001b[0m\u001b[0;34m\u001b[0m\u001b[0m\n\u001b[1;32m   1469\u001b[0m         )\n",
      "\u001b[0;31mValueError\u001b[0m: The truth value of a Series is ambiguous. Use a.empty, a.bool(), a.item(), a.any() or a.all()."
     ]
    },
    {
     "data": {
      "image/png": "[encoded data removed]",
      "text/plain": [
       "<Figure size 350x800 with 2 Axes>"
      ]
     },
     "metadata": {},
     "output_type": "display_data"
    }
   ],
   "source": [
    "fig, ax = plt.subplots(2, 1, figsize=(3.5, 8), sharex=True, gridspec_kw={'hspace': 0.2})  # Share x-axis\n",
    "\n",
    "labelfontsize = 22 # set x- and y- label font sizes\n",
    "tickwidth = 2 # set the width of ticks\n",
    "ticklength = 10 # set the length of ticks\n",
    "for a in ax:\n",
    "    for spine in a.spines.values():\n",
    "        spine.set_linewidth(1.8)  # Thicker frame lines\n",
    "\n",
    "\n",
    "# First subplot\n",
    "ax[0].scatter(pop1List, separated_onDNA_changeP / ptotList, label='single-target')\n",
    "ax[0].scatter(pop1List, clustered_onDNA_changeP / 2 / ptotList, label='double-target')\n",
    "\n",
    "ax[0].legend(\n",
    "    fontsize=16, frameon=True, handlelength=0.3\n",
    ")\n",
    "ax[0].set_xticks(np.arange(1, 20.5, 6))\n",
    "ax[0].tick_params(axis='x', labelsize=labelfontsize, width=tickwidth, length=ticklength)  \n",
    "ax[0].tick_params(axis='y', labelsize=labelfontsize, width=tickwidth, length=ticklength)\n",
    "\n",
    "# ax[0].set_title('$N_P^{tot}$ = $N_S^{tot}$', fontsize=18)\n",
    "\n",
    "# Second subplot\n",
    "ax[1].scatter(pop1List, clustered_onDNA_changeP / separated_onDNA_changeP, color='black')\n",
    "ax[1].axhline(upperlimit)\n",
    "\n",
    "ax[1].tick_params(axis='x', labelsize=labelfontsize, width=tickwidth, length=ticklength)\n",
    "ax[1].tick_params(axis='y', labelsize=labelfontsize, width=tickwidth, length=ticklength)\n",
    "\n",
    "# ax[1].set_xlabel('Number of single-target sites', fontsize=20)  # Move xlabel here\n",
    "plt.show()"
   ]
  },
  {
   "cell_type": "code",
   "execution_count": 36,
   "id": "ea099fc4",
   "metadata": {
    "ExecuteTime": {
     "end_time": "2025-04-15T16:02:32.803075Z",
     "start_time": "2025-04-15T16:02:32.797627Z"
    }
   },
   "outputs": [
    {
     "data": {
      "text/plain": [
       "0    19.768784\n",
       "dtype: float64"
      ]
     },
     "execution_count": 36,
     "metadata": {},
     "output_type": "execute_result"
    }
   ],
   "source": [
    "upperlimit"
   ]
  },
  {
   "cell_type": "code",
   "execution_count": 38,
   "id": "3d7a9f38",
   "metadata": {
    "ExecuteTime": {
     "end_time": "2025-04-15T16:02:45.262511Z",
     "start_time": "2025-04-15T16:02:45.154465Z"
    }
   },
   "outputs": [
    {
     "data": {
      "text/plain": [
       "<matplotlib.lines.Line2D at 0x72afa11cfbd0>"
      ]
     },
     "execution_count": 38,
     "metadata": {},
     "output_type": "execute_result"
    },
    {
     "data": {
      "image/png": "[encoded data removed]",
      "text/plain": [
       "<Figure size 640x480 with 1 Axes>"
      ]
     },
     "metadata": {},
     "output_type": "display_data"
    }
   ],
   "source": [
    "plt.axhline(19.768784)"
   ]
  }
 ],
 "metadata": {
  "kernelspec": {
   "display_name": "Python 3 (ipykernel)",
   "language": "python",
   "name": "python3"
  },
  "language_info": {
   "codemirror_mode": {
    "name": "ipython",
    "version": 3
   },
   "file_extension": ".py",
   "mimetype": "text/x-python",
   "name": "python",
   "nbconvert_exporter": "python",
   "pygments_lexer": "ipython3",
   "version": "3.11.5"
  }
 },
 "nbformat": 4,
 "nbformat_minor": 5
}
