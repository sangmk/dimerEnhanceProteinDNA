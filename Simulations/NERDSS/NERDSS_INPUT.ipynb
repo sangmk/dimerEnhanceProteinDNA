{
 "cells": [
  {
   "cell_type": "code",
   "execution_count": 1,
   "id": "7a815f66",
   "metadata": {
    "ExecuteTime": {
     "end_time": "2024-11-11T15:43:27.068919Z",
     "start_time": "2024-11-11T15:43:26.555169Z"
    }
   },
   "outputs": [],
   "source": [
    "from myutils.nerdssData import Reaction_Name, _Reaction_nerdss, Write_Inp, Write_CrdInp\n",
    "from myutils import utils\n",
    "import numpy as np\n",
    "from pathlib import Path"
   ]
  },
  {
   "cell_type": "code",
   "execution_count": 2,
   "id": "117eeb3c",
   "metadata": {
    "ExecuteTime": {
     "end_time": "2024-11-11T15:43:27.074926Z",
     "start_time": "2024-11-11T15:43:27.070823Z"
    }
   },
   "outputs": [],
   "source": [
    "def notInNucleosomes(crd, nucCrds, nucSizes):\n",
    "    for i in range(len(nucCrds)):\n",
    "        if abs(crd - nucCrds[i]) <= nucSizes[i]:\n",
    "            return False\n",
    "    return True\n",
    "\n",
    "def generate_N_crd(N_nonspec, xlim):\n",
    "    NCrds = np.random.rand(N_nonspec)*(xlim[1]-xlim[0])+xlim[0]\n",
    "    return NCrds\n",
    "\n",
    "def generate_P_crd(Np, xlim, y, z, sigma):\n",
    "    aveDistance = (xlim[1]-xlim[0])/(Np+1)\n",
    "    pCrds = []\n",
    "    for i in range(Np):\n",
    "        if i%2 == 0:\n",
    "            pCrds.append([ xlim[0] + (i+1)*aveDistance, y, z])\n",
    "        else:\n",
    "            pCrds.append([ xlim[0] + (i-1+1)*aveDistance+sigma, y, z])\n",
    "                \n",
    "    return pCrds"
   ]
  },
  {
   "cell_type": "markdown",
   "id": "db6fc049",
   "metadata": {},
   "source": [
    "# for comparing two segments"
   ]
  },
  {
   "cell_type": "markdown",
   "id": "0eb64bd1",
   "metadata": {},
   "source": [
    "## dimers"
   ]
  },
  {
   "cell_type": "code",
   "execution_count": 3,
   "id": "c382f28e",
   "metadata": {
    "ExecuteTime": {
     "end_time": "2024-11-11T15:43:32.782432Z",
     "start_time": "2024-11-11T15:43:32.773200Z"
    },
    "code_folding": [
     0,
     10
    ]
   },
   "outputs": [],
   "source": [
    "def onRate_macro2micro(ka_macro, D, sigma):\n",
    "        if ka_macro < 1e-10:\n",
    "            return 0\n",
    "        else:\n",
    "            return (1/ka_macro - 1/(4*np.pi*D*sigma))**-1\n",
    "\n",
    "def get_static_Parms(\n",
    "    kbPFixed=0.4, DP3D=1.5, DN1D=1.0, PPsigma=1.4, \n",
    "    lengthScale=50, dt=1, area3Dto1D=10, \n",
    "    kaPS_macro = 1000, kaPN_macro = 200\n",
    "):\n",
    "    \n",
    "    C0 = 0.6022\n",
    "\n",
    "    DP1D = (1/DP3D + 1/DN1D)**(-1)\n",
    "    konMax = (4*np.pi*(2*DP3D)*PPsigma)\n",
    "    print('DP1D: %.3f\\tKonD3d: %.3f\\tKPPmax (M^-1): %.1e'%(DP1D, konMax, konMax/(kbPFixed*1e-6)*C0))\n",
    "    kaPS = onRate_macro2micro(kaPS_macro*1e-6, DP3D, 1)\n",
    "    kaPN = onRate_macro2micro(kaPN_macro*1e-6, DP3D, 1)\n",
    "\n",
    "    Rmax = PPsigma + 3 * np.sqrt( 6*DP3D*2 * dt )\n",
    "    \n",
    "    passed = True\n",
    "    if Rmax > WaterBox[0]/2:\n",
    "        print(f'Diffusion per step too large to stay in waterbox.x: Rmax={Rmax:.1f}, x/2={WaterBox[0]/2:.1f}')\n",
    "        passed = True\n",
    "    if Rmax > WaterBox[1]/2:\n",
    "        print(f'Diffusion per step too large to stay in waterbox.y: Rmax={Rmax:.1f}, x/2={WaterBox[1]/2:.1f}')\n",
    "        passed = True\n",
    "    if Rmax > WaterBox[2]/2:\n",
    "        print(f'Diffusion per step too large to stay in waterbox.z: Rmax={Rmax:.1f}, x/2={WaterBox[2]/2:.1f}')\n",
    "        passed = True\n",
    "    if passed:\n",
    "        print('Diffusion and time step fit in waterbox.')\n",
    "        \n",
    "    L = lengthScale*21/2 - PPsigma # nm\n",
    "    Diff = DP1D* 2 # nm^2/us\n",
    "    onRateDiff = (L/3/Diff)**(-1)\n",
    "    print(f'(L/(3D))^(-1) = {onRateDiff:.1e} nm/us')\n",
    "    \n",
    "    return kaPS, kaPN"
   ]
  },
  {
   "cell_type": "code",
   "execution_count": 4,
   "id": "30cc8370",
   "metadata": {
    "ExecuteTime": {
     "end_time": "2024-11-11T15:43:53.639282Z",
     "start_time": "2024-11-11T15:43:53.631940Z"
    }
   },
   "outputs": [
    {
     "name": "stdout",
     "output_type": "stream",
     "text": [
      "Nuc: [-53.0, 53.0, 0]\n",
      "S: [-27.5, -25.5, 17.5, 35.0]\n",
      "DP1D: 0.600\tKonD3d: 52.779\tKPPmax (M^-1): 7.9e+07\n",
      "Diffusion and time step fit in waterbox.\n",
      "(L/(3D))^(-1) = 6.9e-03 nm/us\n"
     ]
    }
   ],
   "source": [
    "lengthScale = 2\n",
    "WaterBox = [21*lengthScale*2 + 22, 31.623, 31.623]\n",
    "excLength = 5.51\n",
    "kbPFixed = 0.4\n",
    "ppSigma = 1.4\n",
    "DP3D = 1.5\n",
    "\n",
    "# manualy set the positions of targets\n",
    "quarter = WaterBox[0]/4\n",
    "SCrds_CB = [-quarter-1, -quarter+1, int(2*quarter*2/3)/2, int(2*quarter*4/3)/2]\n",
    "# automatically calculate the N crds and nuc crds\n",
    "N_non = int(12*lengthScale - len(SCrds_CB)/2)\n",
    "NCrds = np.concatenate([\n",
    "    generate_N_crd(N_non, [-WaterBox[0]/2+excLength, -excLength]), \n",
    "    generate_N_crd(N_non, [excLength, WaterBox[0]/2-excLength])\n",
    "])\n",
    "nucCrds = [-WaterBox[0]/2, WaterBox[0]/2, 0] \n",
    "print('Nuc:', nucCrds)\n",
    "print('S:', SCrds_CB)\n",
    "# calculate fixed parameters\n",
    "kaPS, kaPN = get_static_Parms(\n",
    "    kbPFixed, PPsigma=ppSigma, DP3D=DP3D, kaPN_macro=20000, kaPS_macro=100000\n",
    ")"
   ]
  },
  {
   "cell_type": "code",
   "execution_count": 5,
   "id": "bf9ad9d5",
   "metadata": {
    "ExecuteTime": {
     "end_time": "2024-11-11T15:43:57.011022Z",
     "start_time": "2024-11-11T15:43:56.927252Z"
    },
    "code_folding": [
     68
    ]
   },
   "outputs": [
    {
     "name": "stdout",
     "output_type": "stream",
     "text": [
      "kaP: 0.00e+00 kbP: 0.00e+00 kbN: 1.21e+03 kbS: 6.05e+00\n",
      "kaP: 6.64e-06 kbP: 4.00e-01 kbN: 1.21e+03 kbS: 6.05e+00\n",
      "kaP: 6.64e-05 kbP: 4.00e-01 kbN: 1.21e+03 kbS: 6.05e+00\n",
      "kaP: 6.64e-04 kbP: 4.00e-01 kbN: 1.21e+03 kbS: 6.05e+00\n",
      "kaP: 6.64e-03 kbP: 4.00e-01 kbN: 1.21e+03 kbS: 6.05e+00\n",
      "kaP: 6.65e-02 kbP: 4.01e-01 kbN: 1.21e+03 kbS: 6.05e+00\n",
      "kaP: 6.73e-01 kbP: 4.05e-01 kbN: 1.21e+03 kbS: 6.05e+00\n"
     ]
    }
   ],
   "source": [
    "C0 = 0.6022\n",
    "def rlog(x, acc=2):\n",
    "    if x==0:\n",
    "        return '-inf'\n",
    "    else:\n",
    "        if acc==0:\n",
    "            return int(np.log10(x))\n",
    "        else:\n",
    "            return round(np.log10(x), acc)\n",
    "\n",
    "equi_parms = [\n",
    "    [10/C0, 0/C0],\n",
    "    [10/C0, 1e1/C0], #\n",
    "    [10/C0, 1e2/C0], #\n",
    "    [10/C0, 1e3/C0], #\n",
    "    [10/C0, 1e4/C0], #\n",
    "    [10/C0, 1e5/C0], #\n",
    "    [10/C0, 1e6/C0], #\n",
    "] # M^-1 -> nm^3\n",
    "\n",
    "N_repeat = 48\n",
    "accBind = 1 # accelarate binding to relax from bound state\n",
    "pfolder = './twoSegments_4pro/'\n",
    "\n",
    "for KPN, KPP in equi_parms:\n",
    "    KPS = KPN*1e3\n",
    "    kbPS = kaPS*1e6 / KPS\n",
    "    kbPN = kaPN*1e6 / KPN\n",
    "    if KPP == 0:\n",
    "        kbPP = 0\n",
    "        kaPP = 0\n",
    "    else:\n",
    "        kbPP = kbPFixed\n",
    "        kaPP = onRate_macro2micro(KPP*kbPP*1e-6, 2*DP3D, ppSigma)\n",
    "        kbPP = kaPP / KPP * 1e6\n",
    "        \n",
    "    print('kaP: %.2e'%kaPP, 'kbP: %.2e'%kbPP, 'kbN: %.2e'%kbPN, 'kbS: %.2e'%kbPS)\n",
    "    nItr = 1001\n",
    "    SCrds = SCrds_CB\n",
    "    \n",
    "    for rn in range(N_repeat):\n",
    "        if KPP == 0:\n",
    "            namedir = f'{pfolder}/kpp0kpnE{rlog(KPN*C0,1)}/{rn}/'\n",
    "        else:\n",
    "            namedir = f'{pfolder}/kppE{rlog(KPP*C0,1)}kpnE{rlog(KPN*C0,1)}/{rn}/'\n",
    "        parmFile = f'''# two proteins discover between two segments\n",
    "\n",
    "start parameters\n",
    "    nItr = {int(nItr)} #iterations\n",
    "    timeStep = 1 # us, the maximum timestep calculated from kbPN\n",
    "    timeWrite = 1e5\n",
    "    pdbWrite = 1e5\n",
    "    trajWrite = {int((nItr/1e1))}\n",
    "    assocdissocwrite = true\n",
    "    overlapSepLimit = 1.0\n",
    "end parameters\n",
    "\n",
    "start boundaries\n",
    "    WaterBox = {WaterBox} # VtoL=4000\n",
    "end boundaries\n",
    "\n",
    "start molecules\n",
    "    P : 4\n",
    "    N : {len(NCrds)}\n",
    "    S : {len(SCrds)}\n",
    "    nuc : {len(nucCrds)}\n",
    "end molecules\n",
    "\n",
    "start reactions\n",
    "\n",
    "    N(ref) + nuc(ref) -> N(ref!1).nuc(ref!1)\n",
    "    onRate3Dka = 0\n",
    "    offRatekb = 0\n",
    "    norm1 = [0, 0, 1]\n",
    "    norm2 = [0, 0, 1]\n",
    "    sigma = 5.5\n",
    "    assocAngles = [nan, nan, nan, nan, nan]\n",
    "    loopcoopfactor = 1\n",
    "    bindRadSameCom = 1.1\n",
    "\n",
    "    P(ref) + nuc(ref) -> P(ref!1).nuc(ref!1)\n",
    "    onRate3Dka = 0\n",
    "    offRatekb = 0\n",
    "    norm1 = [0, 0, 1]\n",
    "    norm2 = [0, 0, 1]\n",
    "    sigma = 5.5\n",
    "    assocAngles = [nan, nan, nan, nan, nan]\n",
    "    loopcoopfactor = 1\n",
    "    bindRadSameCom = 1.1    \n",
    "\n",
    "    S(re1) + S(re2) -> S(re1!1).S(re2!1)\n",
    "    onRate3Dka = 1e6\n",
    "    norm1 = [0, 0, 1]\n",
    "    norm2 = [0, 0, 1]\n",
    "    sigma = 1.8001\n",
    "    assocAngles = [M_PI, M_PI, nan, nan, 0.000000]\n",
    "    loopcoopfactor = 1\n",
    "    bindRadSameCom = 1.00001\n",
    "\n",
    "    S(bs) + P(dbs) <-> S(bs!1).P(dbs!1)\n",
    "    onRate3Dka = {kaPS}\n",
    "    offRatekb = {kbPS} # Keq = 10^{rlog(1e3*KPN*C0)}\n",
    "    norm1 = [0, 0, 1]\n",
    "    norm2 = [0, 0, 1]\n",
    "    sigma = 1.00\n",
    "    assocAngles = [0.785398, 2.356194, 0.000000, M_PI, 0.000000]\n",
    "    loopcoopfactor = 1\n",
    "    bindRadSameCom = 1.1\n",
    "    area3dto1d = 10\n",
    "\n",
    "    N(bs) + P(dbn) <-> N(bs!1).P(dbn!1)\n",
    "    onRate3Dka = {kaPN}\n",
    "    offRatekb = {kbPN} # Keq = 10^{rlog(KPN*C0)}\n",
    "    norm1 = [0, 0, 1]\n",
    "    norm2 = [0, 0, 1]\n",
    "    sigma = 1.000007\n",
    "    assocAngles = [1.604246, 0.948003, 1.221389, -2.514197, -1.261396]\n",
    "    loopcoopfactor = 1\n",
    "    bindRadSameCom = 1.1\n",
    "    area3dto1d = 10\n",
    "    \n",
    "    P(pp1) + P(pp2) <-> P(pp1!1).P(pp2!1)\n",
    "    onRate3Dka = {kaPP} \n",
    "    offRatekb = {kbPP} # Keq = 10^{rlog(KPP*C0)}\n",
    "    norm1 = [0, 0, 1]\n",
    "    norm2 = [0, 0, 1]\n",
    "    sigma = 1.4\n",
    "    assocAngles = [2.111216, 2.111216, -1.570796, 1.570796, 0.000000]\n",
    "    loopcoopfactor = 1\n",
    "    bindRadSameCom = 1.1\n",
    "    area3dto1d = 10\n",
    "\n",
    "end reactions\n",
    "'''\n",
    "        # create directory and write parameters\n",
    "        Path(namedir).mkdir(parents=True, exist_ok=True)\n",
    "        with open(f'./{namedir}/parms.inp', 'w') as f:\n",
    "            f.write(parmFile)\n",
    "        # write coordinates\n",
    "        crdFileName = f'./{namedir}/fixCoordinates.inp'\n",
    "        fixCoords={'S':SCrds,  'N':NCrds, 'nuc':nucCrds}\n",
    "        Write_CrdInp(crdFileName, fixCoords, WaterBox)"
   ]
  },
  {
   "cell_type": "code",
   "execution_count": null,
   "id": "ecd0a642",
   "metadata": {},
   "outputs": [],
   "source": []
  },
  {
   "cell_type": "markdown",
   "id": "51b523e6",
   "metadata": {
    "heading_collapsed": true
   },
   "source": [
    "## multimer in a row"
   ]
  },
  {
   "cell_type": "code",
   "execution_count": 17,
   "id": "7cfc88b8",
   "metadata": {
    "ExecuteTime": {
     "end_time": "2024-10-17T15:28:41.655174Z",
     "start_time": "2024-10-17T15:28:41.645178Z"
    },
    "code_folding": [
     0,
     10
    ],
    "hidden": true
   },
   "outputs": [],
   "source": [
    "def onRate_macro2micro(ka_macro, D, sigma):\n",
    "        if ka_macro < 1e-10:\n",
    "            return 0\n",
    "        else:\n",
    "            return (1/ka_macro - 1/(4*np.pi*D*sigma))**-1\n",
    "\n",
    "def get_static_Parms(\n",
    "    kbPFixed=0.4, DP3D=1.5, DN1D=1.0, PPsigma=1.4, \n",
    "    lengthScale=50, dt=1, area3Dto1D=10, \n",
    "    kaPS_macro = 1000, kaPN_macro = 200\n",
    "):\n",
    "    \n",
    "    C0 = 0.6022\n",
    "\n",
    "    DP1D = (1/DP3D + 1/DN1D)**(-1)\n",
    "    konMax = (4*np.pi*(2*DP3D)*PPsigma)\n",
    "    print('DP1D: %.3f\\tKonD3d: %.3f\\tKPPmax (M^-1): %.1e'%(DP1D, konMax, konMax/(kbPFixed*1e-6)*C0))\n",
    "    kaPS = onRate_macro2micro(kaPS_macro*1e-6, DP3D, 1)\n",
    "    kaPN = onRate_macro2micro(kaPN_macro*1e-6, DP3D, 1)\n",
    "\n",
    "    Rmax = PPsigma + 3 * np.sqrt( 6*DP3D*2 * dt )\n",
    "    \n",
    "    passed = True\n",
    "    if Rmax > WaterBox[0]/2:\n",
    "        print(f'Diffusion per step too large to stay in waterbox.x: Rmax={Rmax:.1f}, x/2={WaterBox[0]/2:.1f}')\n",
    "        passed = True\n",
    "    if Rmax > WaterBox[1]/2:\n",
    "        print(f'Diffusion per step too large to stay in waterbox.y: Rmax={Rmax:.1f}, x/2={WaterBox[1]/2:.1f}')\n",
    "        passed = True\n",
    "    if Rmax > WaterBox[2]/2:\n",
    "        print(f'Diffusion per step too large to stay in waterbox.z: Rmax={Rmax:.1f}, x/2={WaterBox[2]/2:.1f}')\n",
    "        passed = True\n",
    "    if passed:\n",
    "        print('Diffusion and time step fit in waterbox.')\n",
    "        \n",
    "    L = lengthScale*21/2 - PPsigma # nm\n",
    "    Diff = DP1D* 2 # nm^2/us\n",
    "    onRateDiff = (L/3/Diff)**(-1)\n",
    "    print(f'(L/(3D))^(-1) = {onRateDiff:.1e} nm/us')\n",
    "    \n",
    "    return kaPS, kaPN"
   ]
  },
  {
   "cell_type": "code",
   "execution_count": 18,
   "id": "20dada4a",
   "metadata": {
    "ExecuteTime": {
     "end_time": "2024-10-17T15:28:41.866301Z",
     "start_time": "2024-10-17T15:28:41.857994Z"
    },
    "hidden": true
   },
   "outputs": [
    {
     "name": "stdout",
     "output_type": "stream",
     "text": [
      "Nuc: [-74.0, 74.0, 0]\n",
      "S: [-39.0, -37.0, -35.0, 18.5, 37.0, 55.5]\n",
      "DP1D: 0.600\tKonD3d: 52.779\tKPPmax (M^-1): 7.9e+07\n",
      "Diffusion and time step fit in waterbox.\n",
      "(L/(3D))^(-1) = 6.9e-03 nm/us\n"
     ]
    }
   ],
   "source": [
    "lengthScale = 3\n",
    "WaterBox = [21*lengthScale*2 + 22, 31.623, 31.623]\n",
    "excLength = 5.51\n",
    "kbPFixed = 0.4\n",
    "ppSigma = 1.4\n",
    "DP3D = 1.5\n",
    "\n",
    "# manualy set the positions of targets\n",
    "quarter = WaterBox[0]/4\n",
    "SCrds_CB = [-quarter-2, -quarter, -quarter+2, quarter/2, quarter, quarter*3/2]\n",
    "# automatically calculate the N crds and nuc crds\n",
    "N_non = int(12*lengthScale - len(SCrds_CB)/2)\n",
    "NCrds = np.concatenate([\n",
    "    generate_N_crd(N_non, [-WaterBox[0]/2+excLength, -excLength]), \n",
    "    generate_N_crd(N_non, [excLength, WaterBox[0]/2-excLength])\n",
    "])\n",
    "nucCrds = [-WaterBox[0]/2, WaterBox[0]/2, 0] \n",
    "print('Nuc:', nucCrds)\n",
    "print('S:', SCrds_CB)\n",
    "# calculate fixed parameters\n",
    "kaPS, kaPN = get_static_Parms(\n",
    "    kbPFixed, PPsigma=ppSigma, DP3D=DP3D, kaPN_macro=20000, kaPS_macro=100000\n",
    ")"
   ]
  },
  {
   "cell_type": "code",
   "execution_count": 19,
   "id": "f8680eb1",
   "metadata": {
    "ExecuteTime": {
     "end_time": "2024-10-17T15:28:42.356880Z",
     "start_time": "2024-10-17T15:28:42.336070Z"
    },
    "code_folding": [
     23,
     35,
     52
    ],
    "hidden": true
   },
   "outputs": [
    {
     "name": "stdout",
     "output_type": "stream",
     "text": [
      "kaP: 0.00e+00 kbP: 0.00e+00 kbN: 1.21e+03 kbS: 6.05e+00\n",
      "kaP: 6.73e-01 kbP: 4.05e-01 kbN: 1.21e+03 kbS: 6.05e+00\n"
     ]
    }
   ],
   "source": [
    "C0 = 0.6022\n",
    "def rlog(x, acc=2):\n",
    "    if x==0:\n",
    "        return '-inf'\n",
    "    else:\n",
    "        if acc==0:\n",
    "            return int(np.log10(x))\n",
    "        else:\n",
    "            return round(np.log10(x), acc)\n",
    "\n",
    "equi_parms = [\n",
    "    [10/C0, 0/C0], #\n",
    "    [10/C0, 1e6/C0], #\n",
    "] # M^-1 -> nm^3\n",
    "\n",
    "N_repeat = 15\n",
    "accBind = 1 # accelarate binding to relax from bound state\n",
    "pfolder = './twoSegments_trimer/'\n",
    "\n",
    "for KPN, KPP in equi_parms:\n",
    "    KPS = KPN*1e3\n",
    "    kbPS = kaPS*1e6 / KPS\n",
    "    kbPN = kaPN*1e6 / KPN\n",
    "    if KPP == 0:\n",
    "        kbPP = 0\n",
    "        kaPP = 0\n",
    "    else:\n",
    "        kbPP = kbPFixed\n",
    "        kaPP = onRate_macro2micro(KPP*kbPP*1e-6, 2*DP3D, ppSigma)\n",
    "        kbPP = kaPP / KPP * 1e6\n",
    "        \n",
    "    print('kaP: %.2e'%kaPP, 'kbP: %.2e'%kbPP, 'kbN: %.2e'%kbPN, 'kbS: %.2e'%kbPS)\n",
    "    nItr = max(int(1e9), 10**int(np.log10(1/kbPS)+4))\n",
    "    SCrds = SCrds_CB\n",
    "    \n",
    "    for rn in range(N_repeat):\n",
    "        if KPP == 0:\n",
    "            namedir = f'{pfolder}/kpp0kpnE{rlog(KPN*C0,1)}/{rn}/'\n",
    "        else:\n",
    "            namedir = f'{pfolder}/kppE{rlog(KPP*C0,1)}kpnE{rlog(KPN*C0,1)}/{rn}/'\n",
    "        parmFile = f'''# two proteins discover between two segments\n",
    "\n",
    "start parameters\n",
    "    nItr = 1e{int(np.log10(nItr))} #iterations\n",
    "    timeStep = 1 # us, the maximum timestep calculated from kbPN\n",
    "    timeWrite = 1e5\n",
    "    pdbWrite = 1e5\n",
    "    trajWrite = 1e{int(np.log10((nItr/1e1)))}\n",
    "    assocdissocwrite = true\n",
    "    overlapSepLimit = 1.0\n",
    "end parameters\n",
    "\n",
    "start boundaries\n",
    "    WaterBox = {WaterBox} # VtoL=4000\n",
    "end boundaries\n",
    "\n",
    "start molecules\n",
    "    P : 3\n",
    "    N : {len(NCrds)}\n",
    "    S : {len(SCrds)}\n",
    "    nuc : {len(nucCrds)}\n",
    "end molecules\n",
    "\n",
    "start reactions\n",
    "\n",
    "    N(ref) + nuc(ref) -> N(ref!1).nuc(ref!1)\n",
    "    onRate3Dka = 0\n",
    "    offRatekb = 0\n",
    "    norm1 = [0, 0, 1]\n",
    "    norm2 = [0, 0, 1]\n",
    "    sigma = 5.5\n",
    "    assocAngles = [nan, nan, nan, nan, nan]\n",
    "    loopcoopfactor = 1\n",
    "    bindRadSameCom = 1.1\n",
    "\n",
    "    P(ref) + nuc(ref) -> P(ref!1).nuc(ref!1)\n",
    "    onRate3Dka = 0\n",
    "    offRatekb = 0\n",
    "    norm1 = [0, 0, 1]\n",
    "    norm2 = [0, 0, 1]\n",
    "    sigma = 5.5\n",
    "    assocAngles = [nan, nan, nan, nan, nan]\n",
    "    loopcoopfactor = 1\n",
    "    bindRadSameCom = 1.1    \n",
    "\n",
    "    S(re1) + S(re2) -> S(re1!1).S(re2!1)\n",
    "    onRate3Dka = 1e6\n",
    "    norm1 = [0, 0, 1]\n",
    "    norm2 = [0, 0, 1]\n",
    "    sigma = 1.80001\n",
    "    assocAngles = [M_PI, M_PI, nan, nan, 0.000000]\n",
    "    loopcoopfactor = 1\n",
    "    bindRadSameCom = 1.00001\n",
    "\n",
    "    S(bs) + P(dbs) <-> S(bs!1).P(dbs!1)\n",
    "    onRate3Dka = {kaPS}\n",
    "    offRatekb = {kbPS} # Keq = 10^{rlog(1e3*KPN*C0)}\n",
    "    norm1 = [0, 0, 1]\n",
    "    norm2 = [0, 0, 1]\n",
    "    sigma = 1.00\n",
    "    assocAngles = [0.785398, 2.356194, 0.000000, M_PI, 0.000000]\n",
    "    loopcoopfactor = 1\n",
    "    bindRadSameCom = 1.1\n",
    "    area3dto1d = 10\n",
    "\n",
    "    N(bs) + P(dbn) <-> N(bs!1).P(dbn!1)\n",
    "    onRate3Dka = {kaPN}\n",
    "    offRatekb = {kbPN} # Keq = 10^{rlog(KPN*C0)}\n",
    "    norm1 = [0, 0, 1]\n",
    "    norm2 = [0, 0, 1]\n",
    "    sigma = 1.000007\n",
    "    assocAngles = [1.604246, 0.948003, 1.221389, -2.514197, -1.261396]\n",
    "    loopcoopfactor = 1\n",
    "    bindRadSameCom = 1.1\n",
    "    area3dto1d = 10\n",
    "    \n",
    "    P(pp1) + P(pp2) <-> P(pp1!1).P(pp2!1)\n",
    "    onRate3Dka = {kaPP} \n",
    "    offRatekb = {kbPP} # Keq = 10^{rlog(KPP*C0)}\n",
    "    norm1 = [0, 0, 1]\n",
    "    norm2 = [0, 0, 1]\n",
    "    sigma = 1.4\n",
    "    assocAngles = [2.111216, 2.111216, -1.570796, 1.570796, 0.000000]\n",
    "    loopcoopfactor = 1\n",
    "    bindRadSameCom = 1.1\n",
    "    area3dto1d = 10\n",
    "\n",
    "end reactions\n",
    "'''\n",
    "        # create directory and write parameters\n",
    "        Path(namedir).mkdir(parents=True, exist_ok=True)\n",
    "        with open(f'./{namedir}/parms.inp', 'w') as f:\n",
    "            f.write(parmFile)\n",
    "        # write coordinates\n",
    "        crdFileName = f'./{namedir}/fixCoordinates.inp'\n",
    "        fixCoords={'S':SCrds,  'N':NCrds, 'nuc':nucCrds}\n",
    "        Write_CrdInp(crdFileName, fixCoords, WaterBox)"
   ]
  },
  {
   "cell_type": "markdown",
   "id": "ecb37e00",
   "metadata": {},
   "source": [
    "# For residence time"
   ]
  },
  {
   "cell_type": "markdown",
   "id": "fc140759",
   "metadata": {},
   "source": [
    "## test parameter range"
   ]
  },
  {
   "cell_type": "code",
   "execution_count": 1,
   "id": "acf2e0c3",
   "metadata": {
    "ExecuteTime": {
     "end_time": "2024-10-19T20:30:14.294312Z",
     "start_time": "2024-10-19T20:30:13.252916Z"
    }
   },
   "outputs": [],
   "source": [
    "import numpy as np\n",
    "import pandas as pd\n",
    "from matplotlib import pyplot as plt\n",
    "import sys\n",
    "sys.path.append('/home/local/WIN/msang2/mankun/Notebooks/[01]dimerEnhanceProteinDNA/')\n",
    "from pathlib import Path\n",
    "# reaction networks and ode solver\n",
    "from Simulations.odeSolver.Nonly import rxnNetwork, labels\n",
    "from Simulations.odeSolver.main import main as numericSolver\n",
    "# parameter generators\n",
    "from GenerateParameters import GenParameters\n",
    "# analytical solution\n",
    "import analytics as ana\n",
    "import analyzeEqui as num"
   ]
  },
  {
   "cell_type": "code",
   "execution_count": 3,
   "id": "c2acf2c6",
   "metadata": {
    "ExecuteTime": {
     "end_time": "2024-10-19T20:49:02.221610Z",
     "start_time": "2024-10-19T20:49:02.203265Z"
    }
   },
   "outputs": [
    {
     "name": "stdout",
     "output_type": "stream",
     "text": [
      "(L/(3D))^(-1) = 1.9e+05 nm/us\n"
     ]
    }
   ],
   "source": [
    "lengthScale = 50\n",
    "sigma = 2\n",
    "L = lengthScale*21/2 - sigma # nm\n",
    "Diff = 0.6 * 2 # nm^2/us\n",
    "area3Dto1D = 10\n",
    "kbPFixed = 0.4\n",
    "parms = GenParameters(\n",
    "    ifwrite=False, numTargets=0,\n",
    "    NP0=[20], KPN=[10],\n",
    "    KPP=np.logspace(0,4,100), kbPP_fixed=kbPFixed,\n",
    "    area3Dto1D=[area3Dto1D], lengthScale=lengthScale,\n",
    ")\n",
    "onRateDiff = (L/3/Diff)**(-1)*1e6\n",
    "print(f'(L/(3D))^(-1) = {onRateDiff:.1e} nm/us')"
   ]
  },
  {
   "cell_type": "code",
   "execution_count": 12,
   "id": "03406c20",
   "metadata": {
    "ExecuteTime": {
     "end_time": "2024-09-30T18:25:10.292687Z",
     "start_time": "2024-09-30T18:25:10.009760Z"
    }
   },
   "outputs": [
    {
     "data": {
      "text/plain": [
       "<matplotlib.legend.Legend at 0x75ac96331310>"
      ]
     },
     "execution_count": 12,
     "metadata": {},
     "output_type": "execute_result"
    },
    {
     "data": {
      "image/png": "[encoded data removed]",
      "text/plain": [
       "<Figure size 800x300 with 2 Axes>"
      ]
     },
     "metadata": {},
     "output_type": "display_data"
    }
   ],
   "source": [
    "resT = []\n",
    "for i in range(parms.shape[0]):\n",
    "    resT.append(ana.ana_resTime_balance(parms.iloc[i], numClusterS=0))\n",
    "    \n",
    "f, (ax1, ax2) = plt.subplots(nrows=1, ncols=2, figsize=(8,3))\n",
    "ax1.plot(np.log10(parms['KPP']*0.6022), resT/min(resT), label='$\\\\tau_{monomer}$=%.2f'%min(resT))\n",
    "ax1.legend()\n",
    "ax2.plot(np.log10(parms['KPP']*0.6022), np.log10(10*parms['kaPP']/area3Dto1D), label='$10\\cdot k_a$')\n",
    "ax2.axhline(np.log10(onRateDiff), color='gray', ls='--', label='$k_{on}^{Diffusion}$')\n",
    "ax2.legend()"
   ]
  },
  {
   "cell_type": "code",
   "execution_count": 13,
   "id": "2cc580be",
   "metadata": {
    "ExecuteTime": {
     "end_time": "2024-09-30T18:25:11.782899Z",
     "start_time": "2024-09-30T18:25:10.569477Z"
    }
   },
   "outputs": [
    {
     "name": "stdout",
     "output_type": "stream",
     "text": [
      "2024-10-03 15:15:05.492870\n",
      "Number of cores used:  34/36\n",
      "Finished parallel processing.\n"
     ]
    }
   ],
   "source": [
    "equis = numericSolver(parm_df=parms, labels=labels, model=rxnNetwork)"
   ]
  },
  {
   "cell_type": "code",
   "execution_count": 14,
   "id": "18687b77",
   "metadata": {
    "ExecuteTime": {
     "end_time": "2024-09-30T18:25:11.910264Z",
     "start_time": "2024-09-30T18:25:11.784731Z"
    }
   },
   "outputs": [
    {
     "data": {
      "text/plain": [
       "[<matplotlib.lines.Line2D at 0x75ac6e45a8d0>]"
      ]
     },
     "execution_count": 14,
     "metadata": {},
     "output_type": "execute_result"
    },
    {
     "data": {
      "image/png": "[encoded data removed]",
      "text/plain": [
       "<Figure size 640x480 with 1 Axes>"
      ]
     },
     "metadata": {},
     "output_type": "display_data"
    }
   ],
   "source": [
    "plt.plot(\n",
    "    np.log10(parms['KPP']*0.6022), \n",
    "    np.ceil(np.round(5 - (equis['P']+equis['PN'])*5/1e6, 1))\n",
    ")"
   ]
  },
  {
   "cell_type": "markdown",
   "id": "bfd81ee5",
   "metadata": {},
   "source": [
    "## set input"
   ]
  },
  {
   "cell_type": "code",
   "execution_count": 15,
   "id": "53cbd21d",
   "metadata": {
    "ExecuteTime": {
     "end_time": "2024-09-30T19:07:35.173110Z",
     "start_time": "2024-09-30T19:07:35.168699Z"
    }
   },
   "outputs": [],
   "source": [
    "WaterBox = [21.0*50, 31.623, 31.623]\n",
    "\n",
    "# SCrds = [-20.0, -11.0]\n",
    "\n",
    "NCrds = generate_N_crd(12*50, [-WaterBox[0]/2, WaterBox[0]/2])\n",
    "PCrds = generate_P_crd(\n",
    "    20, [-WaterBox[0]/2, WaterBox[0]/2],\n",
    "    y = WaterBox[1]/2, z = WaterBox[2]/2, sigma=2\n",
    ")"
   ]
  },
  {
   "cell_type": "code",
   "execution_count": 16,
   "id": "aaca57a1",
   "metadata": {
    "ExecuteTime": {
     "end_time": "2024-09-30T19:07:51.130919Z",
     "start_time": "2024-09-30T19:07:51.118983Z"
    }
   },
   "outputs": [
    {
     "name": "stdout",
     "output_type": "stream",
     "text": [
      "DP1D: 0.600\tKonD: 75.398\tKPPmax (M^-1): 1.1e+08\n"
     ]
    }
   ],
   "source": [
    "C0 = 0.6022\n",
    "def onRate_macro2micro(ka_macro, D, sigma):\n",
    "    if ka_macro < 1e-10:\n",
    "        return 0\n",
    "    else:\n",
    "        return (1/ka_macro - 1/(4*np.pi*D*sigma))**-1\n",
    "\n",
    "kbPFixed = 0.4\n",
    "\n",
    "DP3D = 1.5\n",
    "DN1D = 1.0\n",
    "PPsigma = 2\n",
    "DP1D = (1/DP3D + 1/DN1D)**(-1)\n",
    "konMax = (4*np.pi*(2*DP3D)*PPsigma)\n",
    "print('DP1D: %.3f\\tKonD: %.3f\\tKPPmax (M^-1): %.1e'%(DP1D, konMax, konMax/(kbPFixed*1e-6)*C0))\n",
    "kaPS_macro = 1000 # nm^3/s\n",
    "kaPN_macro = 200 # nm^3/s\n",
    "kaPS = onRate_macro2micro(kaPS_macro*1e-6, DP3D, 1)\n",
    "kaPN = onRate_macro2micro(kaPN_macro*1e-6, DP3D, 1)\n",
    "\n",
    "Rmax = PPsigma + 3*np.sqrt(6*DP3D*2 * 1 )\n",
    "if Rmax > WaterBox[0]/2:\n",
    "    print(f'Diffusion per step too large to stay in waterbox.x: Rmax={Rmax:.1f}, x/2={WaterBox[0]/2:.1f}')\n",
    "if Rmax > WaterBox[1]/2:\n",
    "    print(f'Diffusion per step too large to stay in waterbox.y: Rmax={Rmax:.1f}, x/2={WaterBox[1]/2:.1f}')\n",
    "if Rmax > WaterBox[2]/2:\n",
    "    print(f'Diffusion per step too large to stay in waterbox.z: Rmax={Rmax:.1f}, x/2={WaterBox[2]/2:.1f}')"
   ]
  },
  {
   "cell_type": "code",
   "execution_count": 18,
   "id": "94316cfa",
   "metadata": {
    "ExecuteTime": {
     "end_time": "2024-09-30T19:07:52.426929Z",
     "start_time": "2024-09-30T19:07:52.420225Z"
    }
   },
   "outputs": [
    {
     "name": "stdout",
     "output_type": "stream",
     "text": [
      "Diffusion requires dt < 35.888671875\n",
      "The maximam association rate is 0.0014470124991122768 when dt = 35.888671875\n",
      "Diffusion requires dt < 5.566285387670214\n",
      "The maximam association rate is 2.946405079255439e-06 when dt = 5.566285387670214\n"
     ]
    }
   ],
   "source": [
    "utils.beforeRun(N=20, L=WaterBox[0], D=DP1D, sigma=2, k=1.66e-4, dimension='1D')\n",
    "utils.beforeRun(N=20, L=np.prod(WaterBox), D=DP3D, sigma=2, k=1.66e-4, dimension='3D')"
   ]
  },
  {
   "cell_type": "code",
   "execution_count": null,
   "id": "9b965396",
   "metadata": {},
   "outputs": [],
   "source": []
  },
  {
   "cell_type": "code",
   "execution_count": 21,
   "id": "c563542e",
   "metadata": {
    "ExecuteTime": {
     "end_time": "2024-09-30T19:07:56.906462Z",
     "start_time": "2024-09-30T19:07:56.887678Z"
    },
    "code_folding": [
     1
    ]
   },
   "outputs": [
    {
     "name": "stdout",
     "output_type": "stream",
     "text": [
      "kaP: 0.00e+00 kbP: 0.00e+00 kbN: 1.20e+00\n",
      "kaP: 6.64e-05 kbP: 4.00e-01 kbN: 1.20e+00\n",
      "kaP: 6.64e-04 kbP: 4.00e-01 kbN: 1.20e+00\n",
      "kaP: 6.64e-03 kbP: 4.00e-01 kbN: 1.20e+00\n"
     ]
    }
   ],
   "source": [
    "C0 = 0.6022\n",
    "def rlog(x, acc=2):\n",
    "    if x==0:\n",
    "        return '-inf'\n",
    "    else:\n",
    "        if acc==0:\n",
    "            return int(np.log10(x))\n",
    "        else:\n",
    "            return round(np.log10(x), acc)\n",
    "\n",
    "equi_parms = [\n",
    "    [100/C0, 0/C0], #\n",
    "    [100/C0, 1e2/C0], #\n",
    "    [100/C0, 1e3/C0], #\n",
    "    [100/C0, 1e4/C0], #\n",
    "] # M^-1 -> nm^3\n",
    "\n",
    "N_repeat = 1\n",
    "accBind = 1e6 # accelarate binding to relax from bound state\n",
    "pfolder = './allBound/'\n",
    "\n",
    "for KPN, KPP in equi_parms:\n",
    "    kbPN = kaPN*1e6 / KPN\n",
    "    if KPP == 0:\n",
    "        kbPP = 0\n",
    "        kaPP = 0\n",
    "    else:\n",
    "        kbPP = kbPFixed\n",
    "        kaPP = onRate_macro2micro(KPP*kbPP*1e-6, 2*DP3D, PPsigma)\n",
    "        kbPP = kaPP / KPP * 1e6\n",
    "    print('kaP: %.2e'%kaPP, 'kbP: %.2e'%kbPP, 'kbN: %.2e'%kbPN)\n",
    "    nItr = 1e5\n",
    "    for rn in range(N_repeat):\n",
    "        if KPP == 0:\n",
    "            namedir = f'{pfolder}/kpp0kpnE{rlog(KPN*C0,1)}/{rn}/'\n",
    "        else:\n",
    "            namedir = f'{pfolder}/kppE{rlog(KPP*C0,1)}kpnE{rlog(KPN*C0,1)}/{rn}/'\n",
    "        parmFile = f'''# two proteins discover between two segments\n",
    "\n",
    "start parameters\n",
    "    nItr = 1e{int(np.log10(nItr))} #iterations\n",
    "    timeStep = 1 # us, the maximum timestep calculated from kbPN\n",
    "    timeWrite = 1e6\n",
    "    pdbWrite = 1e{int(np.log10((nItr/1e1)))}\n",
    "    trajWrite = 1e{int(np.log10((nItr/1e1)))}\n",
    "    assocdissocwrite = true\n",
    "    overlapSepLimit = 1.0\n",
    "end parameters\n",
    "\n",
    "start boundaries\n",
    "    WaterBox = {WaterBox} # VtoL=4000\n",
    "end boundaries\n",
    "\n",
    "start molecules\n",
    "    P : {len(PCrds)}\n",
    "    N : {len(NCrds)}\n",
    "end molecules\n",
    "\n",
    "start reactions\n",
    "\n",
    "    N(bs) + P(dbn) <-> N(bs!1).P(dbn!1)\n",
    "    onRate3Dka = {kaPN*accBind}\n",
    "    offRatekb = {kbPN} # Keq = 10^{rlog(KPN*C0)}\n",
    "    norm1 = [0, 0, 1]\n",
    "    norm2 = [0, 0, 1]\n",
    "    sigma = 1.00\n",
    "    assocAngles = [1.289349, 2.579046, 0.000000, nan, M_PI]\n",
    "    loopcoopfactor = 1\n",
    "    bindRadSameCom = 1.1\n",
    "    area3dto1d = 10\n",
    "\n",
    "    P(dmr) + P(dmr) <-> P(dmr!1).P(dmr!1)\n",
    "    onRate3Dka = {kaPP*accBind} \n",
    "    offRatekb = {kbPP} # Keq = 10^{rlog(KPP*C0)}\n",
    "    norm1 = [0, 0, 1]\n",
    "    norm2 = [0, 0, 1]\n",
    "    sigma = 2.00\n",
    "    assocAngles = [1.570796, 1.570796, -1.570796, 1.570796, 0.000000]\n",
    "    loopcoopfactor = 1\n",
    "    bindRadSameCom = 10\n",
    "    area3dto1d = 10\n",
    "\n",
    "end reactions\n",
    "'''\n",
    "        # create directory and write parameters\n",
    "        Path(namedir).mkdir(parents=True, exist_ok=True)\n",
    "        with open(f'./{namedir}/parms.inp', 'w') as f:\n",
    "            f.write(parmFile)\n",
    "        # write coordinates\n",
    "        crdFileName = f'./{namedir}/fixCoordinates.inp'\n",
    "        fixCoords={'P':PCrds, 'N':NCrds, }\n",
    "        Write_CrdInp(crdFileName, fixCoords, WaterBox)"
   ]
  },
  {
   "cell_type": "code",
   "execution_count": 17,
   "id": "ca6894f3",
   "metadata": {
    "ExecuteTime": {
     "end_time": "2024-10-07T18:53:22.019911Z",
     "start_time": "2024-10-07T18:53:21.910450Z"
    }
   },
   "outputs": [
    {
     "data": {
      "image/png": "[encoded data removed]",
      "text/plain": [
       "<Figure size 500x200 with 1 Axes>"
      ]
     },
     "metadata": {},
     "output_type": "display_data"
    }
   ],
   "source": [
    "mean_values = np.array([0.83, 0.87, 1.17, 2.28])\n",
    "std_devs = np.array([0.03, 0.04, 0.08, 0.14])\n",
    "true_values = np.array([0.83, 0.89, 1.21, 2.28])\n",
    "\n",
    "plt.figure(figsize=(5,2))\n",
    "\n",
    "# Indices for the x-axis\n",
    "x = np.arange(len(mean_values))\n",
    "\n",
    "# Plot mean values with error bars representing the standard deviation\n",
    "plt.errorbar(mean_values, x, xerr=std_devs, fmt='o', capsize=5, label='NERDSS')\n",
    "\n",
    "# Plot true values as a line\n",
    "plt.plot(true_values, x, 'r-', label='Gilllespie:$\\\\tau$')\n",
    "\n",
    "# Add labels and title\n",
    "plt.ylabel('ka', rotation='horizontal')\n",
    "plt.yticks(x, [0, '1e-5', '1e-4', '1e-3'])\n",
    "plt.xlabel('Comparison of Mean Residence Times (s)')\n",
    "plt.legend()\n",
    "\n",
    "# Show plot\n",
    "plt.show()"
   ]
  },
  {
   "cell_type": "code",
   "execution_count": null,
   "id": "0fcbb409",
   "metadata": {},
   "outputs": [],
   "source": []
  },
  {
   "cell_type": "code",
   "execution_count": null,
   "id": "ac8e295c",
   "metadata": {},
   "outputs": [],
   "source": []
  },
  {
   "cell_type": "markdown",
   "id": "a2c61f0e",
   "metadata": {
    "heading_collapsed": true
   },
   "source": [
    "# Analyze association rates etc."
   ]
  },
  {
   "cell_type": "code",
   "execution_count": 35,
   "id": "6715ef80",
   "metadata": {
    "ExecuteTime": {
     "end_time": "2024-08-26T16:11:43.025082Z",
     "start_time": "2024-08-26T16:11:43.018281Z"
    },
    "hidden": true
   },
   "outputs": [],
   "source": [
    "WaterBox = [32.0, 31.623, 31.623]\n",
    "\n",
    "nuc = [-WaterBox[0]/2, WaterBox[0]/2, 0] \n",
    "\n",
    "SCrds = [-1.0, 1.0] # separated\n",
    "\n",
    "NCrds = generate_N_crd(10, [-10.5, 10.5])\n",
    "\n",
    "crdFileName = f'./molFiles/structure/fixCoordinates.inp'\n",
    "fixCoords={'nuc':nuc,'S':SCrds,  'N':NCrds}\n",
    "Write_CrdInp(crdFileName, fixCoords, WaterBox)"
   ]
  },
  {
   "cell_type": "code",
   "execution_count": 1,
   "id": "c099b9d0",
   "metadata": {
    "ExecuteTime": {
     "end_time": "2024-09-10T16:57:41.268246Z",
     "start_time": "2024-09-10T16:57:40.869006Z"
    },
    "hidden": true
   },
   "outputs": [],
   "source": [
    "import numpy as np\n",
    "from scipy.special import erfc, erfcx\n",
    "from matplotlib import pyplot as plt\n",
    "def preact_3D(x0, sigma, D, dt, k):\n",
    "    '''Calculate 3-D reaction probability from Smoluchovski's theory '''\n",
    "    z = x0 - sigma\n",
    "    kD = 4*np.pi*sigma*D\n",
    "    alpha = np.sqrt(D)/sigma * (1 + k/kD)\n",
    "    P = sigma/x0*k/(k + kD) * \\\n",
    "        (erfc(z/np.sqrt(4*D*dt)) - np.exp(-z**2/(4*D*dt)) * erfcx(z/np.sqrt(4*D*dt) + alpha*np.sqrt(dt)))\n",
    "    return P"
   ]
  },
  {
   "cell_type": "code",
   "execution_count": 7,
   "id": "e058da46",
   "metadata": {
    "ExecuteTime": {
     "end_time": "2024-09-10T17:02:11.166460Z",
     "start_time": "2024-09-10T17:02:11.161497Z"
    },
    "hidden": true
   },
   "outputs": [
    {
     "data": {
      "text/plain": [
       "0.02355160457032345"
      ]
     },
     "execution_count": 7,
     "metadata": {},
     "output_type": "execute_result"
    }
   ],
   "source": [
    "preact_3D(x0=0.729108, sigma=0.729108, D=40, dt=0.3, k=10)"
   ]
  },
  {
   "cell_type": "code",
   "execution_count": null,
   "id": "c8205022",
   "metadata": {
    "hidden": true
   },
   "outputs": [],
   "source": []
  },
  {
   "cell_type": "code",
   "execution_count": 10,
   "id": "df64c7aa",
   "metadata": {
    "ExecuteTime": {
     "end_time": "2024-09-10T15:34:56.015335Z",
     "start_time": "2024-09-10T15:34:56.007887Z"
    },
    "hidden": true
   },
   "outputs": [
    {
     "data": {
      "text/plain": [
       "91.66289341583479"
      ]
     },
     "execution_count": 10,
     "metadata": {},
     "output_type": "execute_result"
    }
   ],
   "source": [
    "( 1/(100) - 1/(4*np.pi*0.7291*40) + 1/(4*np.pi*0.7291*30) )**-1"
   ]
  },
  {
   "cell_type": "code",
   "execution_count": 9,
   "id": "20e00993",
   "metadata": {
    "ExecuteTime": {
     "end_time": "2024-09-10T14:52:23.992393Z",
     "start_time": "2024-09-10T14:52:23.986208Z"
    },
    "hidden": true
   },
   "outputs": [
    {
     "data": {
      "text/plain": [
       "9.909865808938534"
      ]
     },
     "execution_count": 9,
     "metadata": {},
     "output_type": "execute_result"
    }
   ],
   "source": [
    "( 1/(10) - 1/(4*np.pi*0.7291*40) + 1/(4*np.pi*0.7291*30) )**-1"
   ]
  },
  {
   "cell_type": "code",
   "execution_count": 29,
   "id": "5871e642",
   "metadata": {
    "ExecuteTime": {
     "end_time": "2024-09-06T16:33:51.959952Z",
     "start_time": "2024-09-06T16:33:51.358266Z"
    },
    "hidden": true
   },
   "outputs": [
    {
     "data": {
      "text/plain": [
       "[]"
      ]
     },
     "execution_count": 29,
     "metadata": {},
     "output_type": "execute_result"
    },
    {
     "data": {
      "image/png": "[encoded data removed]",
      "text/plain": [
       "<Figure size 640x480 with 1 Axes>"
      ]
     },
     "metadata": {},
     "output_type": "display_data"
    }
   ],
   "source": [
    "t = np.logspace(-5,-1,100)\n",
    "plt.plot(t, preact_3D(0.729, 0.729, 40, t, (1/100 - 1/(4*np.pi*0.729*40))**-1))\n",
    "plt.semilogx()"
   ]
  },
  {
   "cell_type": "code",
   "execution_count": 32,
   "id": "2df51d01",
   "metadata": {
    "ExecuteTime": {
     "end_time": "2024-09-06T16:44:34.899033Z",
     "start_time": "2024-09-06T16:44:34.895214Z"
    },
    "hidden": true
   },
   "outputs": [
    {
     "name": "stdout",
     "output_type": "stream",
     "text": [
      "Diffusion requires dt < 0.17091087740605757\n",
      "The maximam association rate is 0.1884922406877396 when dt = 0.17091087740605757\n"
     ]
    }
   ],
   "source": [
    "utils.beforeRun(N=1000, L=321.47**3, D=40, sigma=0.729, k=100, dimension='3D')"
   ]
  },
  {
   "cell_type": "markdown",
   "id": "71256b4d",
   "metadata": {},
   "source": [
    "# spaceholder"
   ]
  },
  {
   "cell_type": "code",
   "execution_count": null,
   "id": "7a516a59",
   "metadata": {},
   "outputs": [],
   "source": []
  }
 ],
 "metadata": {
  "kernelspec": {
   "display_name": "Python 3 (ipykernel)",
   "language": "python",
   "name": "python3"
  },
  "language_info": {
   "codemirror_mode": {
    "name": "ipython",
    "version": 3
   },
   "file_extension": ".py",
   "mimetype": "text/x-python",
   "name": "python",
   "nbconvert_exporter": "python",
   "pygments_lexer": "ipython3",
   "version": "3.11.5"
  }
 },
 "nbformat": 4,
 "nbformat_minor": 5
}
