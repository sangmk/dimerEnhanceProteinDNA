{
 "cells": [
  {
   "cell_type": "code",
   "execution_count": 1,
   "id": "552d0f82",
   "metadata": {
    "ExecuteTime": {
     "end_time": "2024-12-08T17:16:31.786403Z",
     "start_time": "2024-12-08T17:16:31.298774Z"
    }
   },
   "outputs": [],
   "source": [
    "from myutils.nerdssData import Reaction_Name, _Reaction_nerdss, Write_Inp, Write_CrdInp\n",
    "from myutils import utils, theory\n",
    "import numpy as np\n",
    "from myutils.nerdssData import nerdssData\n",
    "from myutils.utils import find_equi_linear\n",
    "from matplotlib import pyplot as plt\n",
    "from pathlib import Path"
   ]
  },
  {
   "cell_type": "markdown",
   "id": "ac84c9fa",
   "metadata": {
    "heading_collapsed": true
   },
   "source": [
    "# define functions"
   ]
  },
  {
   "cell_type": "code",
   "execution_count": 2,
   "id": "06ee2137",
   "metadata": {
    "ExecuteTime": {
     "end_time": "2024-12-08T17:16:32.775688Z",
     "start_time": "2024-12-08T17:16:32.765623Z"
    },
    "hidden": true
   },
   "outputs": [],
   "source": [
    "def notInNucleosomes(crd, nucCrds, nucSizes):\n",
    "    for i in range(len(nucCrds)):\n",
    "        if abs(crd - nucCrds[i]) <= nucSizes[i]:\n",
    "            return False\n",
    "    return True\n",
    "\n",
    "def generate_N_crd(N_nonspec, xlim, y=0, z=0):\n",
    "    NCrds = np.random.rand(N_nonspec)*(xlim[1]-xlim[0])+xlim[0]\n",
    "    return [[x, y, z] for x in NCrds]\n",
    "\n",
    "def generate_P_crd(Np, xlim, y, z, sigma):\n",
    "    aveDistance = (xlim[1]-xlim[0])/(Np+1)\n",
    "    pCrds = []\n",
    "    for i in range(Np):\n",
    "        if i%2 == 0:\n",
    "            pCrds.append([ xlim[0] + (i+1)*aveDistance, y, z])\n",
    "        else:\n",
    "            pCrds.append([ xlim[0] + (i-1+1)*aveDistance+sigma, y, z])\n",
    "                \n",
    "    return pCrds"
   ]
  },
  {
   "cell_type": "code",
   "execution_count": 3,
   "id": "abdab57b",
   "metadata": {
    "ExecuteTime": {
     "end_time": "2024-12-08T17:16:33.001212Z",
     "start_time": "2024-12-08T17:16:32.994387Z"
    },
    "hidden": true
   },
   "outputs": [],
   "source": [
    "def onRate_macro2micro(ka_macro, D, sigma):\n",
    "        if ka_macro < 1e-10:\n",
    "            return 0\n",
    "        else:\n",
    "            return (1/ka_macro - 1/(4*np.pi*D*sigma))**-1\n",
    "\n",
    "def get_static_Parms(\n",
    "    kbPFixed=0.4, DP3D=1.5, DN1D=1.0, PPsigma=1.4, \n",
    "    lengthScale=50, dt=1, area3Dto1D=10, \n",
    "    kaPS_macro = 1000, kaPN_macro = 200\n",
    "):\n",
    "    \n",
    "    C0 = 0.6022\n",
    "\n",
    "    DP1D = (1/DP3D + 1/DN1D)**(-1)\n",
    "    konMax = (4*np.pi*(2*DP3D)*PPsigma)\n",
    "    print('DP1D: %.3f\\tKonD3d: %.3f\\tKPPmax (M^-1): %.1e'%(DP1D, konMax, konMax/(kbPFixed*1e-6)*C0))\n",
    "    kaPS = onRate_macro2micro(kaPS_macro*1e-6, DP3D, 1)\n",
    "    kaPN = onRate_macro2micro(kaPN_macro*1e-6, DP3D, 1)\n",
    "\n",
    "    Rmax = PPsigma + 3 * np.sqrt( 6*DP3D*2 * dt )\n",
    "    \n",
    "    passed = True\n",
    "    if Rmax > WaterBox[0]/2:\n",
    "        print(f'Diffusion per step too large to stay in waterbox.x: Rmax={Rmax:.1f}, x/2={WaterBox[0]/2:.1f}')\n",
    "        passed = True\n",
    "    if Rmax > WaterBox[1]/2:\n",
    "        print(f'Diffusion per step too large to stay in waterbox.y: Rmax={Rmax:.1f}, x/2={WaterBox[1]/2:.1f}')\n",
    "        passed = True\n",
    "    if Rmax > WaterBox[2]/2:\n",
    "        print(f'Diffusion per step too large to stay in waterbox.z: Rmax={Rmax:.1f}, x/2={WaterBox[2]/2:.1f}')\n",
    "        passed = True\n",
    "    if passed:\n",
    "        print('Diffusion and time step fit in waterbox.')\n",
    "        \n",
    "    L = lengthScale*21/2 - PPsigma # nm\n",
    "    Diff = DP1D* 2 # nm^2/us\n",
    "    onRateDiff = (L/3/Diff)**(-1)\n",
    "    print(f'(L/(3D))^(-1) = {onRateDiff:.1e} nm/us')\n",
    "    \n",
    "    return kaPS, kaPN"
   ]
  },
  {
   "cell_type": "markdown",
   "id": "ed8e78b1",
   "metadata": {},
   "source": [
    "# first try"
   ]
  },
  {
   "cell_type": "code",
   "execution_count": 5,
   "id": "45c3a587",
   "metadata": {
    "ExecuteTime": {
     "end_time": "2024-12-04T17:56:33.287039Z",
     "start_time": "2024-12-04T17:56:33.276189Z"
    },
    "code_folding": [
     0,
     4,
     22,
     27,
     37,
     47,
     126
    ]
   },
   "outputs": [],
   "source": [
    "def writeInputs(\n",
    "    nItr, timeStep=1, timeWrite=1e5, pdbWrite=1e2, trajWrite=1e5,\n",
    "    WaterBox=[100,100,100], molecules = {'P':[[],[]], 'N':[1, 2, 3, 4, 5]},\n",
    "    kaPS=0, kbPS=0, KPS=0, kaPN=0, kbPN=0, KPN=0, kaPP=0, kbPP=0, KPP=0\n",
    "):\n",
    "    \"\"\"\n",
    "    All timescale parameters are assumed integers (x.0f).\n",
    "    \"\"\"\n",
    "    \n",
    "    def _writeSientificInteger(x):\n",
    "        if x == 0:\n",
    "            return '0'\n",
    "        elif np.isinf(x):\n",
    "            return 'inf'\n",
    "        else:\n",
    "            magnitude = 0\n",
    "            while x%(10**magnitude) == 0:\n",
    "                magnitude += 1\n",
    "            remain = x/(10**(magnitude-1))\n",
    "            return '%de%.0f'%(remain, magnitude-1)\n",
    "    \n",
    "    parmFile = f'''# Info:\n",
    "#    \n",
    "#\n",
    "# \n",
    "# \n",
    "\n",
    "start parameters\n",
    "    nItr = {int(nItr+1)} #iterations\n",
    "    timeStep = {_writeSientificInteger(timeStep)} # us, the maximum timestep calculated from kbPN\n",
    "    timeWrite = {_writeSientificInteger(timeWrite)}\n",
    "    pdbWrite = {_writeSientificInteger(pdbWrite)}\n",
    "    trajWrite = {_writeSientificInteger(trajWrite)}\n",
    "    assocdissocwrite = true\n",
    "    overlapSepLimit = 1.0\n",
    "end parameters\n",
    "\n",
    "start boundaries\n",
    "    WaterBox = {WaterBox} # VtoL=4000\n",
    "end boundaries\n",
    "\n",
    "start molecules\n",
    "'''+\\\n",
    "'\\n'.join(['    '+key+' : '+str(len(molecules[key])) for key in molecules if len(molecules[key])>0])\\\n",
    "+f'''\n",
    "end molecules\n",
    "\n",
    "start reactions\n",
    "\n",
    "    # N(ref) + nuc(ref) -> N(ref!1).nuc(ref!1)\n",
    "    # onRate3Dka = 0\n",
    "    # offRatekb = 0\n",
    "    # norm1 = [0, 0, 1]\n",
    "    # norm2 = [0, 0, 1]\n",
    "    # sigma = 5.5\n",
    "    # assocAngles = [nan, nan, nan, nan, nan]\n",
    "    # loopcoopfactor = 1\n",
    "    # bindRadSameCom = 1.1\n",
    "\n",
    "    # P(ref) + nuc(ref) -> P(ref!1).nuc(ref!1)\n",
    "    # onRate3Dka = 0\n",
    "    # offRatekb = 0\n",
    "    # norm1 = [0, 0, 1]\n",
    "    # norm2 = [0, 0, 1]\n",
    "    # sigma = 5.5\n",
    "    # assocAngles = [nan, nan, nan, nan, nan]\n",
    "    # loopcoopfactor = 1\n",
    "    # bindRadSameCom = 1.1    \n",
    "\n",
    "    S(re1) + S(re2) -> S(re1!1).S(re2!1)\n",
    "    onRate3Dka = 1e6\n",
    "    norm1 = [0, 0, 1]\n",
    "    norm2 = [0, 0, 1]\n",
    "    sigma = 1.8001\n",
    "    assocAngles = [M_PI, M_PI, nan, nan, 0.000000]\n",
    "    loopcoopfactor = 1\n",
    "    bindRadSameCom = 1.00001\n",
    "\n",
    "    S(bs) + P(dbs) <-> S(bs!1).P(dbs!1)\n",
    "    onRate3Dka = {kaPS}\n",
    "    offRatekb = {kbPS} # Keq = {_writeSientificInteger(1e3*KPN*C0)}\n",
    "    norm1 = [0, 0, 1]\n",
    "    norm2 = [0, 0, 1]\n",
    "    sigma = 1.00\n",
    "    assocAngles = [0.785398, 2.356194, 0.000000, M_PI, 0.000000]\n",
    "    loopcoopfactor = 1\n",
    "    bindRadSameCom = 1.1\n",
    "    area3dto1d = 10\n",
    "\n",
    "    N(bs) + P(dbn) <-> N(bs!1).P(dbn!1)\n",
    "    onRate3Dka = 1e6 # {kaPN}\n",
    "    offRatekb = 0 # {kbPN} # Keq = {_writeSientificInteger(KPN*C0)}\n",
    "    norm1 = [0, 0, 1]\n",
    "    norm2 = [0, 0, 1]\n",
    "    sigma = 1.000007\n",
    "    assocAngles = [0.785398, 2.356194, 0.000000, M_PI, 0.000000]\n",
    "    loopcoopfactor = 1\n",
    "    bindRadSameCom = 1.1\n",
    "    area3dto1d = 10\n",
    "    \n",
    "    # P(pp1) + P(pp2) <-> P(pp1!1).P(pp2!1)\n",
    "    # onRate3Dka = {kaPP} \n",
    "    # offRatekb = {kbPP} # Keq = {_writeSientificInteger(KPP*C0)}\n",
    "    # norm1 = [0, 0, 1]\n",
    "    # norm2 = [0, 0, 1]\n",
    "    # sigma = 0.6\n",
    "    # assocAngles = [2.86329, 2.86329, -1.5708, 1.5708, 0.000000]\n",
    "    # loopcoopfactor = 1\n",
    "    # bindRadSameCom = 1.1\n",
    "    # area3dto1d = 10\n",
    "    \n",
    "    P(pp0) + P(pp0) <-> P(pp0!1).P(pp0!1)\n",
    "    onRate3Dka = {kaPP} \n",
    "    offRatekb = {kbPP} # Keq = {_writeSientificInteger(KPP*C0)}\n",
    "    norm1 = [0, 0, 1]\n",
    "    norm2 = [0, 0, 1]\n",
    "    sigma = 2\n",
    "    assocAngles = [1.570796, 1.570796, -1.570796, 1.570796, 0.000000]\n",
    "    loopcoopfactor = 1\n",
    "    bindRadSameCom = 1.1\n",
    "    area3dto1d = 1\n",
    "\n",
    "end reactions\n",
    "'''\n",
    "    return parmFile\n",
    "\n",
    "def generateCoords(WaterBox, excLength, Ninfo, Sxyz, nucxyz, Pnum=None, Pxyz=None):\n",
    "    '''\n",
    "    WaterBox: x, y, z length in nm\n",
    "    excLength: half size of nucleosome in nm\n",
    "    Sxyz: x coordinate, y and z ratio compared to the waterbox\n",
    "    Ninfo: [number, xRangeRatio, yRatio, zRatio]\n",
    "    nucyz: x, y and z ratio compared to the waterbox\n",
    "    Pnum: number of proteins\n",
    "    Pxyz: x coordinate, y and z ratio compared to the waterbox\n",
    "    '''\n",
    "    coordinates = {'S':[], 'N':[], 'nuc':[], 'P':[]}\n",
    "    # manualy set the positions of targets\n",
    "    for row in Sxyz:\n",
    "        coordinates['S'].append([\n",
    "            row[0], row[1]*WaterBox[1], row[2]*WaterBox[2]\n",
    "        ])\n",
    "    # automatically calculate the N crds and nuc crds\n",
    "    NCrds = []\n",
    "    for row in Ninfo:\n",
    "        xRange = [WaterBox[0]*min(row[1])+excLength, WaterBox[0]*max(row[1])-excLength]\n",
    "        NCrds.append(generate_N_crd(\n",
    "            row[0], xRange, y=row[2]*WaterBox[1], z=row[3]*WaterBox[2]\n",
    "        ))\n",
    "    coordinates['N'] = np.concatenate(NCrds)\n",
    "    for row in nucxyz:\n",
    "        coordinates['nuc'].append([\n",
    "            row[0]*WaterBox[0], row[1]*WaterBox[1], row[2]*WaterBox[2]\n",
    "        ])\n",
    "    if (Pnum==None) and (Pxyz==None):\n",
    "        raise ValueError('One of Pnum and Pxyz should not be empty.')\n",
    "    elif (Pnum != None):\n",
    "        for i in range(Pnum):\n",
    "            coordinates['P'].append([])\n",
    "    else:\n",
    "        for row in Pxyz:\n",
    "            coordinates['P'].append([\n",
    "                row[0], row[1]*WaterBox[1], row[2]*WaterBox[2]\n",
    "            ])\n",
    "    return coordinates"
   ]
  },
  {
   "cell_type": "code",
   "execution_count": 6,
   "id": "471c85f2",
   "metadata": {
    "ExecuteTime": {
     "end_time": "2024-12-04T17:57:21.903915Z",
     "start_time": "2024-12-04T17:57:21.896759Z"
    }
   },
   "outputs": [
    {
     "name": "stdout",
     "output_type": "stream",
     "text": [
      "DP1D: 0.600\tKonD3d: 52.779\tKPPmax (M^-1): 3.2e+06\n",
      "Diffusion and time step fit in waterbox.\n",
      "(L/(3D))^(-1) = 6.9e-03 nm/us\n"
     ]
    }
   ],
   "source": [
    "lengthScale = 2\n",
    "WaterBox = [200, 31.623*2, 31.623*2]\n",
    "excLength = 0\n",
    "kbPFixed = 10 #0.4\n",
    "ppSigma = 1.4\n",
    "DP3D = 1.5\n",
    "\n",
    "# manualy set the positions of targets\n",
    "yzRatio = 1/4\n",
    "fixCoords = generateCoords(\n",
    "    WaterBox, excLength, \n",
    "    Ninfo=[\n",
    "        [int(12/21*WaterBox[0] - 1), [-1/2, 1/2], yzRatio, yzRatio], \n",
    "        [int(12/21*WaterBox[0] - 2), [-1/2, 1/2], -yzRatio, yzRatio],\n",
    "        [int(12/21*WaterBox[0] - 3), [-1/2, 1/2], yzRatio, -yzRatio],\n",
    "        [int(12/21*WaterBox[0] - 4), [-1/2, 1/2], -yzRatio, -yzRatio]\n",
    "    ],\n",
    "    Sxyz=[\n",
    "        [0, yzRatio, yzRatio], \n",
    "        [-1, -yzRatio, yzRatio], [1, -yzRatio, yzRatio],\n",
    "        [-2, yzRatio, -yzRatio], [0, yzRatio, -yzRatio], [2, yzRatio, -yzRatio], \n",
    "        [-3, -yzRatio, -yzRatio], [-1, -yzRatio, -yzRatio], [1, -yzRatio, -yzRatio], [3, -yzRatio, -yzRatio], \n",
    "    ],\n",
    "    nucxyz=[],\n",
    "    Pnum=2,\n",
    ")\n",
    "# calculate fixed parameters\n",
    "kaPS, kaPN = get_static_Parms(\n",
    "    kbPFixed, PPsigma=ppSigma, DP3D=DP3D, kaPN_macro=20000, kaPS_macro=100000\n",
    ")"
   ]
  },
  {
   "cell_type": "code",
   "execution_count": 7,
   "id": "30f4545f",
   "metadata": {
    "ExecuteTime": {
     "end_time": "2024-12-04T17:59:13.413582Z",
     "start_time": "2024-12-04T17:59:13.399944Z"
    }
   },
   "outputs": [
    {
     "name": "stdout",
     "output_type": "stream",
     "text": [
      "kaP: 1.67e-01 kbP: 1.00e+01 kbN: 1.21e+03 kbS: 6.05e+00\n"
     ]
    }
   ],
   "source": [
    "def _getkakbPP(KPP, kbPFixed):\n",
    "    if KPP == 0:\n",
    "        kbPP = 0\n",
    "        kaPP = 0\n",
    "    else:\n",
    "        kbPP = kbPFixed\n",
    "        kaPP = onRate_macro2micro(KPP*kbPP*1e-6, 2*DP3D, ppSigma)\n",
    "        kbPP = kaPP / KPP * 1e6\n",
    "    return kaPP, kbPP \n",
    "\n",
    "def _getDirName(pfolder, KPN, KPP, rn):\n",
    "    C0 = 0.6022\n",
    "    if KPP == 0:\n",
    "        namedir = f'{pfolder}/{rn}/'\n",
    "    else:\n",
    "        namedir = f'{pfolder}/{rn}/'\n",
    "    return namedir\n",
    "\n",
    "C0 = 0.6022\n",
    "equi_parms = [\n",
    "    [10/C0, 1e4/C0], #\n",
    "] # M^-1 -> nm^3\n",
    "\n",
    "N_repeat = 0\n",
    "accBind = 1 # accelarate binding to relax from bound state\n",
    "pfolder = './test/demo/'\n",
    "\n",
    "for KPN, KPP in equi_parms:\n",
    "    KPS = KPN*1e3\n",
    "    kbPS = kaPS*1e6 / KPS\n",
    "    kbPN = kaPN*1e6 / KPN\n",
    "    kaPP, kbPP = _getkakbPP(KPP, kbPFixed)\n",
    "    print('kaP: %.2e'%kaPP, 'kbP: %.2e'%kbPP, 'kbN: %.2e'%kbPN, 'kbS: %.2e'%kbPS)\n",
    "    \n",
    "#     for rn in range(N_repeat):\n",
    "#         namedir = _getDirName(pfolder, KPN, KPP, rn)\n",
    "\n",
    "    namedir = pfolder\n",
    "    parmFile = writeInputs(\n",
    "        nItr=1e4, timeStep=1, timeWrite=1e3, pdbWrite=1e4, trajWrite=1e6,\n",
    "        WaterBox=WaterBox, molecules = fixCoords,\n",
    "        kaPS=kaPS, kbPS=kbPS, KPS=KPS, kaPN=kaPN, \n",
    "        kbPN=kbPN, KPN=KPN, kaPP=kaPP, kbPP=kbPP, KPP=KPP,\n",
    "    )\n",
    "    # create directory and write parameters\n",
    "    Path(namedir).mkdir(parents=True, exist_ok=True)\n",
    "    with open(f'./{namedir}/parms.inp', 'w') as f:\n",
    "        f.write(parmFile)\n",
    "    # write coordinates\n",
    "    crdFileName = f'./{namedir}/fixCoordinates.inp'\n",
    "    Write_CrdInp(crdFileName, fixCoords, WaterBox)"
   ]
  },
  {
   "cell_type": "markdown",
   "id": "131cc89f",
   "metadata": {},
   "source": [
    "# 4 in a row"
   ]
  },
  {
   "cell_type": "code",
   "execution_count": 4,
   "id": "e144b3bc",
   "metadata": {
    "ExecuteTime": {
     "end_time": "2024-12-08T17:17:27.035891Z",
     "start_time": "2024-12-08T17:17:27.021390Z"
    },
    "code_folding": []
   },
   "outputs": [],
   "source": [
    "def writeInputs(\n",
    "    nItr, timeStep=1, timeWrite=1e5, pdbWrite=1e2, trajWrite=1e5,\n",
    "    WaterBox=[100,100,100], molecules = {'P':[[],[]], 'N':[1, 2, 3, 4, 5]},\n",
    "    kaPS=0, kbPS=0, KPS=0, kaPN=0, kbPN=0, KPN=0, kaPP=0, kbPP=0, KPP=0\n",
    "):\n",
    "    \"\"\"\n",
    "    All timescale parameters are assumed integers (x.0f).\n",
    "    \"\"\"\n",
    "    \n",
    "    def _writeSientificInteger(x):\n",
    "        if x == 0:\n",
    "            return '0'\n",
    "        elif np.isinf(x):\n",
    "            return 'inf'\n",
    "        else:\n",
    "            magnitude = 0\n",
    "            while x%(10**magnitude) == 0:\n",
    "                magnitude += 1\n",
    "            remain = x/(10**(magnitude-1))\n",
    "            return '%de%.0f'%(remain, magnitude-1)\n",
    "    \n",
    "    parmFile = f'''# Info:\n",
    "#    \n",
    "#\n",
    "# \n",
    "# \n",
    "\n",
    "start parameters\n",
    "    nItr = {int(nItr+1)} #iterations\n",
    "    timeStep = {_writeSientificInteger(timeStep)} # us, the maximum timestep calculated from kbPN\n",
    "    timeWrite = {_writeSientificInteger(timeWrite)}\n",
    "    pdbWrite = {_writeSientificInteger(pdbWrite)}\n",
    "    trajWrite = {_writeSientificInteger(trajWrite)}\n",
    "    assocdissocwrite = true\n",
    "    overlapSepLimit = 1.0\n",
    "end parameters\n",
    "\n",
    "start boundaries\n",
    "    WaterBox = {WaterBox} # VtoL=4000\n",
    "end boundaries\n",
    "\n",
    "start molecules\n",
    "'''+\\\n",
    "'\\n'.join(['    '+key+' : '+str(len(molecules[key])) for key in molecules if len(molecules[key])>0])\\\n",
    "+f'''\n",
    "end molecules\n",
    "\n",
    "start reactions\n",
    "\n",
    "    N(ref) + nuc(ref) -> N(ref!1).nuc(ref!1)\n",
    "    onRate3Dka = 0\n",
    "    offRatekb = 0\n",
    "    norm1 = [0, 0, 1]\n",
    "    norm2 = [0, 0, 1]\n",
    "    sigma = 5.5\n",
    "    assocAngles = [nan, nan, nan, nan, nan]\n",
    "    loopcoopfactor = 1\n",
    "    bindRadSameCom = 1.1\n",
    "\n",
    "    P(ref) + nuc(ref) -> P(ref!1).nuc(ref!1)\n",
    "    onRate3Dka = 0\n",
    "    offRatekb = 0\n",
    "    norm1 = [0, 0, 1]\n",
    "    norm2 = [0, 0, 1]\n",
    "    sigma = 5.5\n",
    "    assocAngles = [nan, nan, nan, nan, nan]\n",
    "    loopcoopfactor = 1\n",
    "    bindRadSameCom = 1.1    \n",
    "\n",
    "    S(re1) + S(re2) -> S(re1!1).S(re2!1)\n",
    "    onRate3Dka = 1e6\n",
    "    norm1 = [0, 0, 1]\n",
    "    norm2 = [0, 0, 1]\n",
    "    sigma = 1.8001\n",
    "    assocAngles = [M_PI, M_PI, nan, nan, 0.000000]\n",
    "    loopcoopfactor = 1\n",
    "    bindRadSameCom = 1.00001\n",
    "\n",
    "    S(bs) + P(dbs) <-> S(bs!1).P(dbs!1)\n",
    "    onRate3Dka = {kaPS}\n",
    "    offRatekb = {kbPS} # Keq = {_writeSientificInteger(1e3*KPN*C0)}\n",
    "    norm1 = [0, 0, 1]\n",
    "    norm2 = [0, 0, 1]\n",
    "    sigma = 1.00\n",
    "    assocAngles = [0.785398, 2.356194, 0.000000, M_PI, 0.000000]\n",
    "    loopcoopfactor = 1\n",
    "    bindRadSameCom = 1.1\n",
    "    area3dto1d = 10\n",
    "\n",
    "    N(bs) + P(dbn) <-> N(bs!1).P(dbn!1)\n",
    "    onRate3Dka = {kaPN}\n",
    "    offRatekb = {kbPN} # Keq = {_writeSientificInteger(KPN*C0)}\n",
    "    norm1 = [0, 0, 1]\n",
    "    norm2 = [0, 0, 1]\n",
    "    sigma = 1.000007\n",
    "    assocAngles = [0.785398, 2.356194, 0.000000, M_PI, 0.000000]\n",
    "    loopcoopfactor = 1\n",
    "    bindRadSameCom = 1.1\n",
    "    area3dto1d = 10\n",
    "    \n",
    "    P(pp1) + P(pp2) <-> P(pp1!1).P(pp2!1)\n",
    "    onRate3Dka = {kaPP} \n",
    "    offRatekb = {kbPP} # Keq = {_writeSientificInteger(KPP*C0)}\n",
    "    norm1 = [0, 0, 1]\n",
    "    norm2 = [0, 0, 1]\n",
    "    sigma = 0.6\n",
    "    assocAngles = [2.86329, 2.86329, -1.5708, 1.5708, 0.000000]\n",
    "    loopcoopfactor = 1\n",
    "    bindRadSameCom = 1.1\n",
    "    area3dto1d = 10\n",
    "    \n",
    "    # P(pp0) + P(pp0) <-> P(pp0!1).P(pp0!1)\n",
    "    # onRate3Dka = {kaPP} \n",
    "    # offRatekb = {kbPP} # Keq = {_writeSientificInteger(KPP*C0)}\n",
    "    # norm1 = [0, 0, 1]\n",
    "    # norm2 = [0, 0, 1]\n",
    "    # sigma = 2\n",
    "    # assocAngles = [1.570796, 1.570796, -1.570796, 1.570796, 0.000000]\n",
    "    # loopcoopfactor = 1\n",
    "    # bindRadSameCom = 1.1\n",
    "    # area3dto1d = 1\n",
    "\n",
    "end reactions\n",
    "'''\n",
    "    return parmFile\n",
    "\n",
    "def generateCoords(WaterBox, excLength, Ninfo, Sxyz, nucxyz, Pnum=None, Pxyz=None):\n",
    "    '''\n",
    "    WaterBox: x, y, z length in nm\n",
    "    excLength: half size of nucleosome in nm\n",
    "    Sxyz: x coordinate, y and z ratio compared to the waterbox\n",
    "    Ninfo: [number, xRangeRatio, yRatio, zRatio]\n",
    "    nucyz: x, y and z ratio compared to the waterbox\n",
    "    Pnum: number of proteins\n",
    "    Pxyz: x coordinate, y and z ratio compared to the waterbox\n",
    "    '''\n",
    "    coordinates = {'S':[], 'N':[], 'nuc':[], 'P':[]}\n",
    "    # manualy set the positions of targets\n",
    "    for row in Sxyz:\n",
    "        coordinates['S'].append([\n",
    "            row[0], row[1]*WaterBox[1], row[2]*WaterBox[2]\n",
    "        ])\n",
    "    # automatically calculate the N crds and nuc crds\n",
    "    NCrds = []\n",
    "    for row in Ninfo:\n",
    "        xRange = [WaterBox[0]*min(row[1])+excLength, WaterBox[0]*max(row[1])-excLength]\n",
    "        NCrds.append(generate_N_crd(\n",
    "            row[0], xRange, y=row[2]*WaterBox[1], z=row[3]*WaterBox[2]\n",
    "        ))\n",
    "    coordinates['N'] = np.concatenate(NCrds)\n",
    "    for row in nucxyz:\n",
    "        coordinates['nuc'].append([\n",
    "            row[0]*WaterBox[0], row[1]*WaterBox[1], row[2]*WaterBox[2]\n",
    "        ])\n",
    "    if (Pnum==None) and (Pxyz==None):\n",
    "        raise ValueError('One of Pnum and Pxyz should not be empty.')\n",
    "    elif (Pnum != None):\n",
    "        for i in range(Pnum):\n",
    "            coordinates['P'].append([])\n",
    "    else:\n",
    "        for row in Pxyz:\n",
    "            coordinates['P'].append([\n",
    "                row[0], row[1]*WaterBox[1], row[2]*WaterBox[2]\n",
    "            ])\n",
    "    return coordinates"
   ]
  },
  {
   "cell_type": "code",
   "execution_count": 5,
   "id": "15418e22",
   "metadata": {
    "ExecuteTime": {
     "end_time": "2024-12-08T17:17:29.419586Z",
     "start_time": "2024-12-08T17:17:29.407876Z"
    }
   },
   "outputs": [
    {
     "name": "stdout",
     "output_type": "stream",
     "text": [
      "DP1D: 0.600\tKonD3d: 52.779\tKPPmax (M^-1): 3.2e+06\n",
      "Diffusion and time step fit in waterbox.\n",
      "(L/(3D))^(-1) = 6.9e-03 nm/us\n"
     ]
    }
   ],
   "source": [
    "lengthScale = 2\n",
    "WaterBox = [200, 31.623*2, 31.623*2]\n",
    "excLength = 0\n",
    "kbPFixed = 10 #0.4\n",
    "ppSigma = 1.4\n",
    "DP3D = 1.5\n",
    "\n",
    "# manualy set the positions of targets\n",
    "yzRatio = 1/4\n",
    "fixCoords = generateCoords(\n",
    "    WaterBox, excLength, \n",
    "    Ninfo=[\n",
    "        [int(12/21*WaterBox[0] - 1), [-1/2, 1/2], yzRatio, yzRatio], \n",
    "        [int(12/21*WaterBox[0] - 2), [-1/2, 1/2], -yzRatio, yzRatio],\n",
    "        [int(12/21*WaterBox[0] - 3), [-1/2, 1/2], yzRatio, -yzRatio],\n",
    "        [int(12/21*WaterBox[0] - 4), [-1/2, 1/2], -yzRatio, -yzRatio]\n",
    "    ],\n",
    "    Sxyz=[\n",
    "        [0, yzRatio, yzRatio], \n",
    "        [-1, -yzRatio, yzRatio], [1, -yzRatio, yzRatio],\n",
    "        [-2, yzRatio, -yzRatio], [0, yzRatio, -yzRatio], [2, yzRatio, -yzRatio], \n",
    "        [-3, -yzRatio, -yzRatio], [-1, -yzRatio, -yzRatio], [1, -yzRatio, -yzRatio], [3, -yzRatio, -yzRatio], \n",
    "    ],\n",
    "    nucxyz=[],\n",
    "    Pnum=2,\n",
    ")\n",
    "# calculate fixed parameters\n",
    "kaPS, kaPN = get_static_Parms(\n",
    "    kbPFixed, PPsigma=ppSigma, DP3D=DP3D, kaPN_macro=20000, kaPS_macro=100000\n",
    ")"
   ]
  },
  {
   "cell_type": "code",
   "execution_count": 6,
   "id": "90a3245e",
   "metadata": {
    "ExecuteTime": {
     "end_time": "2024-12-08T17:18:04.909216Z",
     "start_time": "2024-12-08T17:18:04.895840Z"
    }
   },
   "outputs": [
    {
     "name": "stdout",
     "output_type": "stream",
     "text": [
      "kaP: 1.67e-01 kbP: 1.00e+01 kbN: 1.21e+03 kbS: 6.05e+00\n"
     ]
    }
   ],
   "source": [
    "def _getkakbPP(KPP, kbPFixed):\n",
    "    if KPP == 0:\n",
    "        kbPP = 0\n",
    "        kaPP = 0\n",
    "    else:\n",
    "        kbPP = kbPFixed\n",
    "        kaPP = onRate_macro2micro(KPP*kbPP*1e-6, 2*DP3D, ppSigma)\n",
    "        kbPP = kaPP / KPP * 1e6\n",
    "    return kaPP, kbPP \n",
    "\n",
    "def _getDirName(pfolder, KPN, KPP, rn):\n",
    "    C0 = 0.6022\n",
    "    if KPP == 0:\n",
    "        namedir = f'{pfolder}/{rn}/'\n",
    "    else:\n",
    "        namedir = f'{pfolder}/{rn}/'\n",
    "    return namedir\n",
    "\n",
    "C0 = 0.6022\n",
    "equi_parms = [\n",
    "    [10/C0, 1e4/C0], #\n",
    "] # M^-1 -> nm^3\n",
    "\n",
    "N_repeat = 0\n",
    "accBind = 1 # accelarate binding to relax from bound state\n",
    "pfolder = './test/fourInRow/'\n",
    "\n",
    "for KPN, KPP in equi_parms:\n",
    "    KPS = KPN*1e3\n",
    "    kbPS = kaPS*1e6 / KPS\n",
    "    kbPN = kaPN*1e6 / KPN\n",
    "    kaPP, kbPP = _getkakbPP(KPP, kbPFixed)\n",
    "    print('kaP: %.2e'%kaPP, 'kbP: %.2e'%kbPP, 'kbN: %.2e'%kbPN, 'kbS: %.2e'%kbPS)\n",
    "    \n",
    "#     for rn in range(N_repeat):\n",
    "#         namedir = _getDirName(pfolder, KPN, KPP, rn)\n",
    "\n",
    "    namedir = pfolder\n",
    "    parmFile = writeInputs(\n",
    "        nItr=1e4, timeStep=1, timeWrite=1e3, pdbWrite=1e4, trajWrite=1e6,\n",
    "        WaterBox=WaterBox, molecules = fixCoords,\n",
    "        kaPS=kaPS, kbPS=kbPS, KPS=KPS, kaPN=kaPN, \n",
    "        kbPN=kbPN, KPN=KPN, kaPP=kaPP, kbPP=kbPP, KPP=KPP,\n",
    "    )\n",
    "    # create directory and write parameters\n",
    "    Path(namedir).mkdir(parents=True, exist_ok=True)\n",
    "    with open(f'./{namedir}/parms.inp', 'w') as f:\n",
    "        f.write(parmFile)\n",
    "    # write coordinates\n",
    "    crdFileName = f'./{namedir}/fixCoordinates.inp'\n",
    "    Write_CrdInp(crdFileName, fixCoords, WaterBox)"
   ]
  },
  {
   "cell_type": "code",
   "execution_count": null,
   "id": "a8d66fe1",
   "metadata": {},
   "outputs": [],
   "source": []
  },
  {
   "cell_type": "code",
   "execution_count": 98,
   "id": "c62effa7",
   "metadata": {
    "ExecuteTime": {
     "end_time": "2024-12-08T17:08:31.917923Z",
     "start_time": "2024-12-08T17:08:31.915100Z"
    }
   },
   "outputs": [],
   "source": [
    "# selectedTraj = [0,2,5,6,7,8,9,10,13,14,15,16,17,18,20,22,23,24,25,26,27]"
   ]
  },
  {
   "cell_type": "code",
   "execution_count": 61,
   "id": "a65d3120",
   "metadata": {
    "ExecuteTime": {
     "end_time": "2024-12-11T15:43:22.255427Z",
     "start_time": "2024-12-11T15:43:21.980044Z"
    }
   },
   "outputs": [
    {
     "data": {
      "text/plain": [
       "[<matplotlib.lines.Line2D at 0x739ff56ca690>]"
      ]
     },
     "execution_count": 61,
     "metadata": {},
     "output_type": "execute_result"
    },
    {
     "data": {
      "image/png": "[encoded data removed]",
      "text/plain": [
       "<Figure size 640x480 with 1 Axes>"
      ]
     },
     "metadata": {},
     "output_type": "display_data"
    }
   ],
   "source": [
    "nd = nerdssData([i for i in range(30) if i not in [4,7]], './test/', ifprint=False)\n",
    "nd.readHist('DATA/histogram_complexes_time.dat', ifprint=False)\n",
    "\n",
    "plt.plot(nd.time, nd.MOLS['P: 1.']/2)\n"
   ]
  },
  {
   "cell_type": "code",
   "execution_count": 47,
   "id": "cc811a52",
   "metadata": {
    "ExecuteTime": {
     "end_time": "2024-12-10T19:20:53.945468Z",
     "start_time": "2024-12-10T19:20:53.928611Z"
    },
    "code_folding": [
     0,
     16,
     97
    ]
   },
   "outputs": [],
   "source": [
    "class PDB_NERDSS():\n",
    "    \n",
    "    def __init__(self, parentDir='', pdbWrite=1e5):\n",
    "        self._pdir = parentDir\n",
    "        self._pdbStep = pdbWrite\n",
    "        self.t = []\n",
    "        self.x = []\n",
    "        self.proteinNumbers = []\n",
    "        self.regions = []\n",
    "        self.t_longest = []\n",
    "\n",
    "    \n",
    "    def read_pdbs(\n",
    "        self, N_repeat=None, pdbInitial=1e6, pdbMin=0, pdbMax=np.inf, \n",
    "        YZcenterList=[], chromRadius=5.5,\n",
    "        timeStep:float=1e-6\n",
    "    ):\n",
    "        '''Read pdbs untill pdbMax\n",
    "        \n",
    "        Args:\n",
    "        \n",
    "            N_repeat (int, iterable): \n",
    "                (int) the number of repeats, will read subfolders named in `range(N_repeat)`\n",
    "                (iterable of strings) the names of subfolders\n",
    "            \n",
    "            pdbMin (int): The min index (number of steps) of pdb read.\n",
    "            \n",
    "            pdbMax (int): The max index (number of steps) of pdb read.\n",
    "            \n",
    "            YZcenter (float): The center coordinate of Y and Z axes (they are the same) used to calculate r.\n",
    "            \n",
    "            timeStep (float): time jump for one step.\n",
    "            \n",
    "        Returns:\n",
    "            None: \n",
    "                self.x (list of lists): x coordinates\n",
    "                self.r (list of lists): r distances\n",
    "                self.t (list of lists): time points\n",
    "                self.t_longest (list): the longest time points\n",
    "        '''\n",
    "        \n",
    "        self._pdbMax = pdbMax\n",
    "        self._YZcenterList = YZcenterList\n",
    "        self.regions = [[] for i in YZcenterList] + [[]]\n",
    "        self._tStep = timeStep\n",
    "        \n",
    "        if N_repeat is None:\n",
    "            self._subnames = ['']\n",
    "        elif isinstance(N_repeat, int):\n",
    "            self._subnames = [str(i) for i in range(N_repeat)]\n",
    "        else: # assume it is iterable\n",
    "            self._subnames = [str(i) for i in N_repeat]\n",
    "        self._Nrepeats = len(self._subnames)\n",
    "        \n",
    "        for subname in self._subnames:\n",
    "            x = []\n",
    "            t = []\n",
    "            NItr = pdbMin # include the initial coordinates\n",
    "            while NItr < self._pdbMax:\n",
    "                # in case the simulation does not run through pdbMax*pdbStep\n",
    "                filename = int(NItr*self._pdbStep+pdbInitial)\n",
    "                x_itr = []\n",
    "                try:\n",
    "                    with open(f'{self._pdir}/{subname}/PDB/{filename}.pdb') as f:\n",
    "                        for line in f:\n",
    "                            linelist = line.split()\n",
    "                            if linelist[2] == 'COM' and linelist[3] == 'P':\n",
    "                                CRDx = float(linelist[5])\n",
    "                                CRDy = float(linelist[6])\n",
    "                                CRDz = float(linelist[7])\n",
    "                                onDNA = False\n",
    "                                for iyz, (yCenter, zCenter) in enumerate(self._YZcenterList):\n",
    "                                    if ((CRDy-yCenter)**2 + (CRDz-zCenter)**2)**0.5 < chromRadius:\n",
    "                                        self.regions[iyz].append(CRDx)\n",
    "                                        onDNA = True\n",
    "                                        break\n",
    "                                if not onDNA:\n",
    "                                    self.regions[-1].append(CRDx)\n",
    "                    t.append(NItr*self._pdbStep*self._tStep)\n",
    "                    NItr += 1\n",
    "                except:\n",
    "                    break\n",
    "\n",
    "            self.x.append(x)\n",
    "            self.t.append(t)\n",
    "        \n",
    "        self._subnames = [name for i, name in enumerate(self._subnames) if len(self.t[i]) != 0]\n",
    "        self._Nrepeats = len(self._subnames)\n",
    "        self.x = [x for i, x in enumerate(self.x) if len(self.t[i]) != 0]\n",
    "        self.t = [t for t in self.t if len(t)!=0]\n",
    "                \n",
    "        \n",
    "        self.t_longest = self.t[0]\n",
    "        for t in self.t:\n",
    "            if len(t) > len(self.t_longest):\n",
    "                self.t_longest = t\n",
    "            \n",
    "    def get_all_x(self, burnInSteps=1):\n",
    "        '''collect all x coordinates of proteins\n",
    "        \n",
    "        Args:\n",
    "            burnInSteps (int): The min number of pdbs considered. Use this to exclude burn-in steps.\n",
    "            \n",
    "        Returns:\n",
    "            self.x_all (list): The x coordinates of proteins\n",
    "        '''\n",
    "        \n",
    "        self._pdbNumMin = burnInSteps\n",
    "        self.x_all = []\n",
    "        \n",
    "        for nr in range(0, self._Nrepeats):\n",
    "            self.x_all += [x for x in self.x[nr][self._pdbNumMin:]]\n",
    "        \n",
    "        return self.x_all\n",
    "        "
   ]
  },
  {
   "cell_type": "code",
   "execution_count": 58,
   "id": "7ad4d4f1",
   "metadata": {
    "ExecuteTime": {
     "end_time": "2024-12-11T15:40:00.844143Z",
     "start_time": "2024-12-11T15:40:00.661392Z"
    }
   },
   "outputs": [],
   "source": [
    "yzCrd = 31.623/2\n",
    "PDB = PDB_NERDSS(f'./test/', pdbWrite=4e7)\n",
    "PDB.read_pdbs(\n",
    "    N_repeat=30, timeStep=1e-6, pdbInitial=2e7, pdbMin=0,\n",
    "    YZcenterList=[[yzCrd,yzCrd], [3*yzCrd,yzCrd], [yzCrd,3*yzCrd], [3*yzCrd,3*yzCrd]]\n",
    ")"
   ]
  },
  {
   "cell_type": "code",
   "execution_count": 59,
   "id": "96bb77f3",
   "metadata": {
    "ExecuteTime": {
     "end_time": "2024-12-11T15:40:01.102136Z",
     "start_time": "2024-12-11T15:40:00.866913Z"
    },
    "code_folding": [
     3,
     9
    ]
   },
   "outputs": [
    {
     "name": "stdout",
     "output_type": "stream",
     "text": [
      "576 [308, 178, 48, 0, 42]\n"
     ]
    },
    {
     "data": {
      "image/png": "[encoded data removed]",
      "text/plain": [
       "<Figure size 640x480 with 1 Axes>"
      ]
     },
     "metadata": {},
     "output_type": "display_data"
    }
   ],
   "source": [
    "totProtein = np.sum([len(r) for r in PDB.regions])\n",
    "print(totProtein, [len(r) for r in PDB.regions])\n",
    "normalization = [4, 3, 2, 1, 1]\n",
    "for ir, r in enumerate(PDB.regions):\n",
    "    hist, bin_edges = np.histogram(r, bins=np.arange(0,201,1))\n",
    "    plt.stairs(hist/totProtein + ir, bin_edges)\n",
    "    plt.text(5, ir+0.05, '%.0f%% (normalized: %.0f%%)'%(100*len(r)/totProtein, \n",
    "                                           100*len(r)/totProtein/normalization[ir]))\n",
    "plt.xlim([0,200])\n",
    "plt.yticks(\n",
    "    np.array([0,1,2,3,4]),\n",
    "    ['4 Targets', '3 Targets', '2 Targets', '1 Targets', 'In solution'],\n",
    ")\n",
    "plt.show()"
   ]
  },
  {
   "cell_type": "markdown",
   "id": "ae4c9d0f",
   "metadata": {},
   "source": [
    "# Spatial distribution"
   ]
  },
  {
   "cell_type": "code",
   "execution_count": 98,
   "id": "bcf0c102",
   "metadata": {
    "ExecuteTime": {
     "end_time": "2024-12-08T17:08:31.917923Z",
     "start_time": "2024-12-08T17:08:31.915100Z"
    }
   },
   "outputs": [],
   "source": [
    "selectedTraj = [0,2,5,6,7,8,9,10,13,14,15,16,17,18,20,22,23,24,25,26,27]"
   ]
  },
  {
   "cell_type": "code",
   "execution_count": 99,
   "id": "8fc76c26",
   "metadata": {
    "ExecuteTime": {
     "end_time": "2024-12-08T17:08:32.280908Z",
     "start_time": "2024-12-08T17:08:32.107138Z"
    }
   },
   "outputs": [
    {
     "data": {
      "text/plain": [
       "[<matplotlib.lines.Line2D at 0x7881d3f1ef50>]"
      ]
     },
     "execution_count": 99,
     "metadata": {},
     "output_type": "execute_result"
    },
    {
     "data": {
      "image/png": "[encoded data removed]",
      "text/plain": [
       "<Figure size 640x480 with 1 Axes>"
      ]
     },
     "metadata": {},
     "output_type": "display_data"
    }
   ],
   "source": [
    "nd = nerdssData(selectedTraj, './test/', ifprint=False)\n",
    "nd.readHist('DATA/histogram_complexes_time.dat', ifprint=False)\n",
    "\n",
    "plt.plot(nd.time, nd.MOLS['P: 1.']/2)\n"
   ]
  },
  {
   "cell_type": "code",
   "execution_count": 81,
   "id": "8ad84838",
   "metadata": {
    "ExecuteTime": {
     "end_time": "2024-12-07T20:03:37.327412Z",
     "start_time": "2024-12-07T20:03:37.310773Z"
    },
    "code_folding": [
     16,
     97
    ]
   },
   "outputs": [],
   "source": [
    "class PDB_NERDSS():\n",
    "    \n",
    "    def __init__(self, parentDir='', pdbWrite=1e5):\n",
    "        self._pdir = parentDir\n",
    "        self._pdbStep = pdbWrite\n",
    "        self.t = []\n",
    "        self.x = []\n",
    "        self.proteinNumbers = []\n",
    "        self.regions = []\n",
    "        self.t_longest = []\n",
    "\n",
    "    \n",
    "    def read_pdbs(\n",
    "        self, N_repeat=None, pdbMin=0, pdbMax=np.inf, \n",
    "        YZcenterList=[], chromRadius=5.5,\n",
    "        timeStep:float=1e-6\n",
    "    ):\n",
    "        '''Read pdbs untill pdbMax\n",
    "        \n",
    "        Args:\n",
    "        \n",
    "            N_repeat (int, iterable): \n",
    "                (int) the number of repeats, will read subfolders named in `range(N_repeat)`\n",
    "                (iterable of strings) the names of subfolders\n",
    "            \n",
    "            pdbMin (int): The min index (number of steps) of pdb read.\n",
    "            \n",
    "            pdbMax (int): The max index (number of steps) of pdb read.\n",
    "            \n",
    "            YZcenter (float): The center coordinate of Y and Z axes (they are the same) used to calculate r.\n",
    "            \n",
    "            timeStep (float): time jump for one step.\n",
    "            \n",
    "        Returns:\n",
    "            None: \n",
    "                self.x (list of lists): x coordinates\n",
    "                self.r (list of lists): r distances\n",
    "                self.t (list of lists): time points\n",
    "                self.t_longest (list): the longest time points\n",
    "        '''\n",
    "        \n",
    "        self._pdbMax = pdbMax\n",
    "        self._YZcenterList = YZcenterList\n",
    "        self.regions = [[] for i in YZcenterList] + [[]]\n",
    "        self._tStep = timeStep\n",
    "        \n",
    "        if N_repeat is None:\n",
    "            self._subnames = ['']\n",
    "        elif isinstance(N_repeat, int):\n",
    "            self._subnames = [str(i) for i in range(N_repeat)]\n",
    "        else: # assume it is iterable\n",
    "            self._subnames = [str(i) for i in N_repeat]\n",
    "        self._Nrepeats = len(self._subnames)\n",
    "        \n",
    "        for subname in self._subnames:\n",
    "            x = []\n",
    "            t = []\n",
    "            NItr = pdbMin # include the initial coordinates\n",
    "            while NItr < self._pdbMax:\n",
    "                # in case the simulation does not run through pdbMax*pdbStep\n",
    "                filename = int(NItr*self._pdbStep)\n",
    "                x_itr = []\n",
    "                try:\n",
    "                    with open(f'{self._pdir}/{subname}/PDB/{filename}.pdb') as f:\n",
    "                        for line in f:\n",
    "                            linelist = line.split()\n",
    "                            if linelist[2] == 'COM' and linelist[3] == 'P':\n",
    "                                CRDx = float(linelist[5])\n",
    "                                CRDy = float(linelist[6])\n",
    "                                CRDz = float(linelist[7])\n",
    "                                onDNA = False\n",
    "                                for iyz, (yCenter, zCenter) in enumerate(self._YZcenterList):\n",
    "                                    if ((CRDy-yCenter)**2 + (CRDz-zCenter)**2)**0.5 < chromRadius:\n",
    "                                        self.regions[iyz].append(CRDx)\n",
    "                                        onDNA = True\n",
    "                                        break\n",
    "                                if not onDNA:\n",
    "                                    self.regions[-1].append(CRDx)\n",
    "                    t.append(NItr*self._pdbStep*self._tStep)\n",
    "                    NItr += 1\n",
    "                except:\n",
    "                    break\n",
    "\n",
    "            self.x.append(x)\n",
    "            self.t.append(t)\n",
    "        \n",
    "        self._subnames = [name for i, name in enumerate(self._subnames) if len(self.t[i]) != 0]\n",
    "        self._Nrepeats = len(self._subnames)\n",
    "        self.x = [x for i, x in enumerate(self.x) if len(self.t[i]) != 0]\n",
    "        self.t = [t for t in self.t if len(t)!=0]\n",
    "                \n",
    "        \n",
    "        self.t_longest = self.t[0]\n",
    "        for t in self.t:\n",
    "            if len(t) > len(self.t_longest):\n",
    "                self.t_longest = t\n",
    "            \n",
    "    def get_all_x(self, burnInSteps=1):\n",
    "        '''collect all x coordinates of proteins\n",
    "        \n",
    "        Args:\n",
    "            burnInSteps (int): The min number of pdbs considered. Use this to exclude burn-in steps.\n",
    "            \n",
    "        Returns:\n",
    "            self.x_all (list): The x coordinates of proteins\n",
    "        '''\n",
    "        \n",
    "        self._pdbNumMin = burnInSteps\n",
    "        self.x_all = []\n",
    "        \n",
    "        for nr in range(0, self._Nrepeats):\n",
    "            self.x_all += [x for x in self.x[nr][self._pdbNumMin:]]\n",
    "        \n",
    "        return self.x_all\n",
    "        "
   ]
  },
  {
   "cell_type": "code",
   "execution_count": 87,
   "id": "55ffae30",
   "metadata": {
    "ExecuteTime": {
     "end_time": "2024-12-08T16:58:04.135280Z",
     "start_time": "2024-12-08T16:58:03.855464Z"
    }
   },
   "outputs": [],
   "source": [
    "yzCrd = 31.623/2\n",
    "PDB = PDB_NERDSS(f'./test/', pdbWrite=3e7)\n",
    "PDB.read_pdbs(\n",
    "    N_repeat=30, timeStep=1e-6, pdbMin=1,\n",
    "    YZcenterList=[[yzCrd,yzCrd], [3*yzCrd,yzCrd], [yzCrd,3*yzCrd], [3*yzCrd,3*yzCrd]]\n",
    ")"
   ]
  },
  {
   "cell_type": "code",
   "execution_count": 94,
   "id": "bbc3f1b7",
   "metadata": {
    "ExecuteTime": {
     "end_time": "2024-12-08T17:03:35.870230Z",
     "start_time": "2024-12-08T17:03:35.632523Z"
    }
   },
   "outputs": [
    {
     "name": "stdout",
     "output_type": "stream",
     "text": [
      "446 [203, 116, 102, 1, 24] [0.4551569506726457, 0.2600896860986547, 0.22869955156950672, 0.002242152466367713, 0.053811659192825115]\n"
     ]
    },
    {
     "data": {
      "image/png": "[encoded data removed]",
      "text/plain": [
       "<Figure size 640x480 with 1 Axes>"
      ]
     },
     "metadata": {},
     "output_type": "display_data"
    }
   ],
   "source": [
    "totProtein = np.sum([len(r) for r in PDB.regions])\n",
    "print(totProtein, [len(r) for r in PDB.regions], [len(r)/totProtein for r in PDB.regions])\n",
    "normalization = [4, 3, 2, 1, 1]\n",
    "for ir, r in enumerate(PDB.regions):\n",
    "    hist, bin_edges = np.histogram(r, bins=np.arange(0,201,1))\n",
    "    plt.stairs(hist/totProtein + ir, bin_edges)\n",
    "    plt.text(5, ir+0.05, '%.0f%% (normalized: %.0f%%)'%(100*len(r)/totProtein, \n",
    "                                           100*len(r)/totProtein/normalization[ir]))\n",
    "plt.xlim([0,200])\n",
    "plt.yticks(\n",
    "    np.array([0,1,2,3,4]),\n",
    "    ['4 Targets', '3 Targets', '2 Targets', '1 Targets', 'In solution'],\n",
    ")\n",
    "plt.show()"
   ]
  },
  {
   "cell_type": "markdown",
   "id": "246879e2",
   "metadata": {},
   "source": [
    "4 proteins at 4 targets compared to 1 target..."
   ]
  },
  {
   "cell_type": "markdown",
   "id": "f3f5f246",
   "metadata": {},
   "source": [
    "4 times intensity of 4 targets compared to 1 target?\n",
    "   - selection bias or selection pereference? Intensity / N"
   ]
  },
  {
   "cell_type": "code",
   "execution_count": null,
   "id": "e0b5cfd9",
   "metadata": {},
   "outputs": [],
   "source": []
  }
 ],
 "metadata": {
  "kernelspec": {
   "display_name": "Python 3 (ipykernel)",
   "language": "python",
   "name": "python3"
  },
  "language_info": {
   "codemirror_mode": {
    "name": "ipython",
    "version": 3
   },
   "file_extension": ".py",
   "mimetype": "text/x-python",
   "name": "python",
   "nbconvert_exporter": "python",
   "pygments_lexer": "ipython3",
   "version": "3.11.5"
  }
 },
 "nbformat": 4,
 "nbformat_minor": 5
}
