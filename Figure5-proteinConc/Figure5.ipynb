{
 "cells": [
  {
   "cell_type": "code",
   "execution_count": 10,
   "id": "9fe16792",
   "metadata": {
    "ExecuteTime": {
     "end_time": "2025-02-06T16:29:11.488499Z",
     "start_time": "2025-02-06T16:29:11.484821Z"
    }
   },
   "outputs": [],
   "source": [
    "import numpy as np\n",
    "import pandas as pd\n",
    "from matplotlib import pyplot as plt\n",
    "import sys"
   ]
  },
  {
   "cell_type": "code",
   "execution_count": 11,
   "id": "076fd68b",
   "metadata": {
    "ExecuteTime": {
     "end_time": "2025-02-06T16:29:11.678443Z",
     "start_time": "2025-02-06T16:29:11.675090Z"
    }
   },
   "outputs": [],
   "source": [
    "sys.path.append('/home/local/WIN/msang2/mankun/dimerEnhanceProteinDNA/')\n",
    "# modules for direct calculation\n",
    "import analytics as ana\n",
    "import analyzeEqui as num\n",
    "# stochastic simulation (Gillespie)\n",
    "from Simulations.odeSolver.doubleS import rxnNetwork, labels\n",
    "from Simulations.odeSolver.main import main as numericSolver\n",
    "# for generating parameters\n",
    "from GenerateParameters import GenParameters"
   ]
  },
  {
   "cell_type": "code",
   "execution_count": 12,
   "id": "1608b0e9",
   "metadata": {
    "ExecuteTime": {
     "end_time": "2025-02-06T16:29:11.918676Z",
     "start_time": "2025-02-06T16:29:11.908488Z"
    },
    "code_folding": [
     6
    ]
   },
   "outputs": [],
   "source": [
    "def plotHeader(\n",
    "    scale=1.0, fixSize=True, sizeX=5, sizeY=5,\n",
    "    lgdLoc=[0.55,0.00], lgdFontSize=22, lgdHandleL=0.3, \n",
    "    lgdTitle='', lgdTtlFontSize=22, lgdFrameAlpha=0.0,\n",
    "    labelFontSize=20, tickFontSize=27, \n",
    "    tickL=15, tickW=2, spineLineW=2\n",
    "):\n",
    "    labelfont = {'fontsize':labelFontSize*scale}\n",
    "    tickfont = {'fontsize':tickFontSize*scale}\n",
    "    legend = {'fontsize':lgdFontSize*scale, 'loc':lgdLoc, 'handlelength':lgdHandleL*scale, \n",
    "              'title':lgdTitle, 'title_fontsize':lgdTtlFontSize*scale,\n",
    "             'framealpha':lgdFrameAlpha}\n",
    "    if fixSize:\n",
    "        fig = plt.figure(figsize=(sizeX*scale,sizeY*scale))\n",
    "        ax = fig.add_subplot(111)\n",
    "    else:\n",
    "        ax = plt.gca()\n",
    "    plt.tick_params(length=tickL*scale, width=tickW*scale)\n",
    "    for axis in ['top', 'bottom', 'left', 'right']:\n",
    "        ax.spines[axis].set_linewidth(spineLineW*scale)  # change width\n",
    "    colors = [\n",
    "        'tab:blue', 'tab:orange', 'tab:green', 'tab:red', 'tab:purple', \n",
    "        'tab:brown', 'tab:pink', 'tab:gray', 'tab:olive', 'tab:cyan'\n",
    "    ]\n",
    "    linsStyles = ['-', '--']\n",
    "    return ax, colors, linsStyles, legend, labelfont, tickfont, 0.6022 # C0, nm^-3 -> M"
   ]
  },
  {
   "cell_type": "markdown",
   "id": "ce93882a",
   "metadata": {},
   "source": [
    "# occupancy and residence time v.s. protein concentrarion DNA+clusTarg"
   ]
  },
  {
   "cell_type": "code",
   "execution_count": 13,
   "id": "b8f1e56d",
   "metadata": {
    "ExecuteTime": {
     "end_time": "2025-02-06T16:29:13.743136Z",
     "start_time": "2025-02-06T16:29:13.737062Z"
    }
   },
   "outputs": [],
   "source": [
    "GenParm = lambda nDenseKPP: GenParameters(\n",
    "    numTargets=2, KPN=[1], area3Dto1D=[100], KPS=lambda KPN: 1e3,\n",
    "    NP0=2*np.logspace(-1, 1, 3+2*3), KPP=[0, 1e1, 1e6], kbPP_fixed=0.4,\n",
    ")\n",
    "\n",
    "parm_num = GenParm(0)"
   ]
  },
  {
   "cell_type": "code",
   "execution_count": 27,
   "id": "67eca9bc",
   "metadata": {
    "ExecuteTime": {
     "end_time": "2025-02-06T16:31:32.219600Z",
     "start_time": "2025-02-06T16:31:32.214703Z"
    }
   },
   "outputs": [
    {
     "data": {
      "text/plain": [
       "array([10.])"
      ]
     },
     "execution_count": 27,
     "metadata": {},
     "output_type": "execute_result"
    }
   ],
   "source": [
    "parm_num['gamma'].unique()"
   ]
  },
  {
   "cell_type": "code",
   "execution_count": 14,
   "id": "90e04e1f",
   "metadata": {
    "ExecuteTime": {
     "end_time": "2025-02-06T16:29:15.333915Z",
     "start_time": "2025-02-06T16:29:14.004878Z"
    },
    "scrolled": true
   },
   "outputs": [
    {
     "name": "stdout",
     "output_type": "stream",
     "text": [
      "2025-02-06 11:29:14.006710\n",
      "Number of cores used:  27/36\n",
      "Finished parallel processing.\n"
     ]
    }
   ],
   "source": [
    "equi_num = numericSolver(parm_df=parm_num, labels=labels, model=rxnNetwork)"
   ]
  },
  {
   "cell_type": "code",
   "execution_count": 15,
   "id": "4135401a",
   "metadata": {
    "ExecuteTime": {
     "end_time": "2025-02-06T16:29:15.374856Z",
     "start_time": "2025-02-06T16:29:15.335771Z"
    }
   },
   "outputs": [],
   "source": [
    "pBound_num = np.zeros(parm_num.shape[0])\n",
    "sOcc_num = np.zeros(parm_num.shape[0])\n",
    "for iloc in range(parm_num.shape[0]):\n",
    "    parm = parm_num.iloc[iloc]\n",
    "    equi = equi_num.iloc[iloc]\n",
    "    pBound_num[iloc] = num.calc_BoundRatio_modelC(parm, equi)\n",
    "    sOcc_num[iloc] = num.calc_occS_modelC(parm, equi)"
   ]
  },
  {
   "cell_type": "code",
   "execution_count": 16,
   "id": "b045b175",
   "metadata": {
    "ExecuteTime": {
     "end_time": "2025-02-06T16:29:15.419257Z",
     "start_time": "2025-02-06T16:29:15.375882Z"
    },
    "code_folding": [
     0
    ]
   },
   "outputs": [],
   "source": [
    "def calc_resT_monomer_2state(parm):\n",
    "    gam = parm['gamma']\n",
    "    konS = parm['kaPS']\n",
    "    KPS = parm['KPS']\n",
    "    CS = parm['CS0']\n",
    "    konN = parm['kaPN']\n",
    "    koffN = parm['kbPN']\n",
    "    KPN = parm['KPN']\n",
    "    CN = parm['CN0']\n",
    "    # combined parms\n",
    "    chiN = KPN*CN\n",
    "    chiS = KPS*CS\n",
    "    aS_to_aN = konS*CS / (konN*CN)\n",
    "    return (chiN+chiS*(1+gam*chiN))/chiN/(1+aS_to_aN) / koffN\n",
    "\n",
    "resT_num = np.zeros(parm_num.shape[0])\n",
    "for iloc in range(parm_num.shape[0]):\n",
    "    parm = parm_num.iloc[iloc]\n",
    "    equi = equi_num.iloc[iloc]\n",
    "    resT_num[iloc] = num.calc_resT_modelC(parm, equi)\n",
    "resT_num_m = calc_resT_monomer_2state(parm_num)"
   ]
  },
  {
   "cell_type": "code",
   "execution_count": 17,
   "id": "9e083a01",
   "metadata": {
    "ExecuteTime": {
     "end_time": "2025-02-06T16:29:15.672433Z",
     "start_time": "2025-02-06T16:29:15.420364Z"
    },
    "code_folding": []
   },
   "outputs": [
    {
     "data": {
      "image/png": "[encoded data removed]",
      "text/plain": [
       "<Figure size 500x500 with 1 Axes>"
      ]
     },
     "metadata": {},
     "output_type": "display_data"
    }
   ],
   "source": [
    "# >>>>>>>>>>>>>>>>>>>>>>>> Initialize Plotting >>>>>>>>>>>>>>>>>>>>>>>>\n",
    "ax, colors, lineStyles, legend, labelfont, tickfont, C0 = plotHeader(\n",
    "    scale=1.0, fixSize=True, sizeX=5, sizeY=5,\n",
    "    lgdLoc=[0.65,0.01], lgdFontSize=16, lgdHandleL=0.3, \n",
    "    lgdTitle='$K_{eq}^{PP}$ $(M^{-1})$', lgdTtlFontSize=16,\n",
    "    labelFontSize=20, tickFontSize=27, \n",
    "    tickL=15, tickW=2, spineLineW=2\n",
    ")\n",
    "alphas = [3/9, 5/9, 1]\n",
    "markers = ['o','v','s']\n",
    "labels = ['0', '$10^1$', '$10^6$']\n",
    "gam_color = 'tab:green'\n",
    "# <<<<<<<<<<<<<<<<<<<<<<<<<<<<<<<<<<<<<<<<<<<<<<<<<<<<<<<<<<<<<<<<<<<<<\n",
    "kppList = np.unique(parm_num['KPP'])\n",
    "for i, kpp in enumerate(kppList):\n",
    "    selected_num = ((parm_num['KPP']==kpp))\n",
    "    # numerical solution (true)\n",
    "    ax.scatter(\n",
    "#         (parm_num['KPP']*parm_num['CP0'])[selected_num],\n",
    "#         (sOcc_num/min(cp0/parm_num['CS0'].unique()[0],1))[selected_num],\n",
    "        (parm_num['CP0']/parm_num['CS0'])[selected_num],\n",
    "        (sOcc_num)[selected_num],\n",
    "        zorder=3, s=100, color = gam_color, edgecolor='darkgreen', \n",
    "        alpha=alphas[i], marker=markers[i],\n",
    "        label=labels[i],\n",
    "    )\n",
    "\n",
    "ax.loglog()\n",
    "plt.legend(**legend)\n",
    "plt.xticks(**tickfont)\n",
    "plt.yticks(**tickfont)\n",
    "plt.show()"
   ]
  },
  {
   "cell_type": "code",
   "execution_count": 18,
   "id": "13a6e863",
   "metadata": {
    "ExecuteTime": {
     "end_time": "2025-02-06T16:29:16.013871Z",
     "start_time": "2025-02-06T16:29:15.673582Z"
    },
    "code_folding": []
   },
   "outputs": [
    {
     "data": {
      "image/png": "[encoded data removed]",
      "text/plain": [
       "<Figure size 500x500 with 1 Axes>"
      ]
     },
     "metadata": {},
     "output_type": "display_data"
    }
   ],
   "source": [
    "# >>>>>>>>>>>>>>>>>>>>>>>> Initialize Plotting >>>>>>>>>>>>>>>>>>>>>>>>\n",
    "ax, colors, lineStyles, legend, labelfont, tickfont, C0 = plotHeader(\n",
    "    scale=1.0, fixSize=True, sizeX=5, sizeY=5,\n",
    "    lgdLoc=[0.65,0.55], lgdFontSize=16, lgdHandleL=0.3, \n",
    "    lgdTitle='$K_{eq}^{PP}$ $(M^{-1})$', lgdTtlFontSize=16,\n",
    "    labelFontSize=20, tickFontSize=27, \n",
    "    tickL=15, tickW=2, spineLineW=2\n",
    ")\n",
    "alphas = [3/9, 5/9, 1]\n",
    "markers = ['o','v','s']\n",
    "kbP_color = 'tab:red'\n",
    "labels = ['0', '$10^1$', '$10^6$']\n",
    "# <<<<<<<<<<<<<<<<<<<<<<<<<<<<<<<<<<<<<<<<<<<<<<<<<<<<<<<<<<<<<<<<<<<<<\n",
    "kppList = np.unique(parm_num['KPP'])\n",
    "for i, kpp in enumerate(kppList):\n",
    "    selected_num = ((parm_num['KPP']==kpp))\n",
    "    # numerical solution (true)\n",
    "    ax.scatter(\n",
    "        (parm_num['CP0']/parm_num['CS0'])[selected_num],\n",
    "        (resT_num*parm_num['kbPS'])[selected_num],\n",
    "        label=labels[i], s=100,\n",
    "        marker=markers[i], color=kbP_color, alpha=alphas[i],\n",
    "    )\n",
    "\n",
    "ax.loglog()\n",
    "plt.legend(**legend)\n",
    "plt.xticks(**tickfont)\n",
    "plt.yticks(**tickfont)\n",
    "plt.show()"
   ]
  },
  {
   "cell_type": "code",
   "execution_count": null,
   "id": "317071d5",
   "metadata": {},
   "outputs": [],
   "source": [
    "# >>>>>>>>>>>>>>>>>>>>>>>> Initialize Plotting >>>>>>>>>>>>>>>>>>>>>>>>\n",
    "ax, colors, lineStyles, legend, labelfont, tickfont, C0 = plotHeader(\n",
    "    scale=1.0, fixSize=True, sizeX=5, sizeY=5,\n",
    "    lgdLoc=[0.65,0.55], lgdFontSize=16, lgdHandleL=0.3, \n",
    "    lgdTitle='$K_{eq}^{PP}$ $(M^{-1})$', lgdTtlFontSize=16,\n",
    "    labelFontSize=20, tickFontSize=27, \n",
    "    tickL=15, tickW=2, spineLineW=2\n",
    ")\n",
    "alphas = [3/9, 5/9, 1]\n",
    "markers = ['o','v','s']\n",
    "kbP_color = 'tab:red'\n",
    "labels = ['0', '$10^1$', '$10^6$']\n",
    "# <<<<<<<<<<<<<<<<<<<<<<<<<<<<<<<<<<<<<<<<<<<<<<<<<<<<<<<<<<<<<<<<<<<<<\n",
    "kppList = np.unique(parm_num['KPP'])\n",
    "for i, kpp in enumerate(kppList):\n",
    "    selected_num = ((parm_num['KPP']==kpp))\n",
    "    # numerical solution (true)\n",
    "    ax.scatter(\n",
    "        (parm_num['CP0']/parm_num['CS0'])[selected_num],\n",
    "        (resT_num*parm_num['kbPS'])[selected_num],\n",
    "        label=labels[i], s=100,\n",
    "        marker=markers[i], color=kbP_color, alpha=alphas[i],\n",
    "    )\n",
    "\n",
    "ax.loglog()\n",
    "plt.legend(**legend)\n",
    "plt.xticks(**tickfont)\n",
    "plt.yticks(**tickfont)\n",
    "plt.show()"
   ]
  },
  {
   "cell_type": "code",
   "execution_count": null,
   "id": "713aa076",
   "metadata": {},
   "outputs": [],
   "source": []
  },
  {
   "cell_type": "code",
   "execution_count": null,
   "id": "af9c9511",
   "metadata": {},
   "outputs": [],
   "source": []
  },
  {
   "cell_type": "code",
   "execution_count": null,
   "id": "0122b104",
   "metadata": {},
   "outputs": [],
   "source": []
  },
  {
   "cell_type": "code",
   "execution_count": null,
   "id": "4ab5f4b6",
   "metadata": {},
   "outputs": [],
   "source": []
  },
  {
   "cell_type": "code",
   "execution_count": null,
   "id": "c0678326",
   "metadata": {},
   "outputs": [],
   "source": []
  }
 ],
 "metadata": {
  "kernelspec": {
   "display_name": "Python 3 (ipykernel)",
   "language": "python",
   "name": "python3"
  },
  "language_info": {
   "codemirror_mode": {
    "name": "ipython",
    "version": 3
   },
   "file_extension": ".py",
   "mimetype": "text/x-python",
   "name": "python",
   "nbconvert_exporter": "python",
   "pygments_lexer": "ipython3",
   "version": "3.11.5"
  }
 },
 "nbformat": 4,
 "nbformat_minor": 5
}
