{
 "cells": [
  {
   "cell_type": "code",
   "execution_count": 1,
   "id": "8e8e02aa",
   "metadata": {
    "ExecuteTime": {
     "end_time": "2025-07-02T18:53:26.211728Z",
     "start_time": "2025-07-02T18:53:25.332655Z"
    }
   },
   "outputs": [],
   "source": [
    "import numpy as np\n",
    "import pandas as pd\n",
    "from matplotlib import pyplot as plt\n",
    "import sys"
   ]
  },
  {
   "cell_type": "code",
   "execution_count": 6,
   "id": "036e219f",
   "metadata": {
    "ExecuteTime": {
     "end_time": "2025-07-02T18:53:43.998578Z",
     "start_time": "2025-07-02T18:53:43.863673Z"
    }
   },
   "outputs": [],
   "source": [
    "sys.path.append('/home/local/WIN/msang2/mankun/GitHub/dimerEnhanceProteinDNA/')\n",
    "# modules for direct calculation\n",
    "import analytics as ana\n",
    "import analyzeEqui as num\n",
    "# stochastic simulation (Gillespie)\n",
    "from odeSolver.Nonly import rxnNetwork, labels\n",
    "from odeSolver.main import main as numericSolver\n",
    "# for generating parameters\n",
    "from GenerateParameters import GenParameters"
   ]
  },
  {
   "cell_type": "code",
   "execution_count": 7,
   "id": "efbcb566",
   "metadata": {
    "ExecuteTime": {
     "end_time": "2025-07-02T18:53:45.017071Z",
     "start_time": "2025-07-02T18:53:45.012182Z"
    },
    "code_folding": []
   },
   "outputs": [],
   "source": [
    "def setSpineWidth(ax, spineLineWidth):\n",
    "    for axis in ['top', 'bottom', 'left', 'right']:\n",
    "        ax.spines[axis].set_linewidth(spineLineWidth)\n",
    "def setTickParams(majorSize, majorWidth, minorSize, minorWidth):\n",
    "    # Set tick length and width for major ticks\n",
    "    plt.rcParams['xtick.major.size'] = majorSize  # Length of major ticks in points\n",
    "    plt.rcParams['xtick.major.width'] = majorWidth   # Width of major ticks in points\n",
    "    plt.rcParams['ytick.major.size'] = majorSize\n",
    "    plt.rcParams['ytick.major.width'] = majorWidth\n",
    "\n",
    "    # Set tick length and width for minor ticks\n",
    "    plt.rcParams['xtick.minor.size'] = minorSize    # Length of minor ticks in points\n",
    "    plt.rcParams['xtick.minor.width'] = minorWidth   # Width of minor ticks in points\n",
    "    plt.rcParams['ytick.minor.size'] = minorSize\n",
    "    plt.rcParams['ytick.minor.width'] = minorWidth"
   ]
  },
  {
   "cell_type": "markdown",
   "id": "b42aaf26",
   "metadata": {},
   "source": [
    "# mean residence time phase diagram"
   ]
  },
  {
   "cell_type": "code",
   "execution_count": 8,
   "id": "325b28a2",
   "metadata": {
    "ExecuteTime": {
     "end_time": "2025-07-02T18:53:46.971679Z",
     "start_time": "2025-07-02T18:53:46.963225Z"
    },
    "code_folding": [
     0,
     13,
     24
    ]
   },
   "outputs": [],
   "source": [
    "def criticalRate_DNAclusTarg(parm):\n",
    "    kbPS = parm['kbPS'].to_numpy()\n",
    "    kbPN = parm['kbPN'].to_numpy()\n",
    "    chiN = parm['KPN'].to_numpy()*parm['CN0'].to_numpy()\n",
    "    chiS = parm['KPS'].to_numpy()*parm['CS0'].to_numpy()\n",
    "    KPSC0chiS = parm['KPS'].to_numpy()*0.6022*chiS\n",
    "    gamma = parm['gamma'].to_numpy()\n",
    "    chiDNA = chiN + chiS + gamma*chiS*chiN\n",
    "    onRate = (kbPS*chiS + kbPN*chiN)\n",
    "    nu = (onRate*(2*gamma*chiN*chiS + gamma*chiN**2 + 2*(gamma*chiN)**2*chiS))\n",
    "    nu_add = onRate*KPSC0chiS*(1+chiN*gamma)**2\n",
    "    return (nu+nu_add)/chiDNA**2\n",
    "\n",
    "def criticalRate_DNAtarg(parm):\n",
    "    kbPS = parm['kbPS'].to_numpy()\n",
    "    kbPN = parm['kbPN'].to_numpy()\n",
    "    chiN = parm['KPN'].to_numpy()*parm['CN0'].to_numpy()\n",
    "    chiS = parm['KPS'].to_numpy()*parm['CS0'].to_numpy()\n",
    "    gamma = parm['gamma'].to_numpy()\n",
    "    chiDNA = chiN + chiS + gamma*chiS*chiN\n",
    "    onRate = (kbPS*chiS + kbPN*chiN)\n",
    "    nu = (onRate*(2*gamma*chiN*chiS + gamma*chiN**2 + 2*(gamma*chiN)**2*chiS))\n",
    "    return nu/chiDNA**2\n",
    "\n",
    "def criticalRate_DNA(parm):\n",
    "    kbPN = parm['kbPN'].to_numpy()\n",
    "    chiN = parm['KPN'].to_numpy()*parm['CN0'].to_numpy()\n",
    "    gamma = parm['gamma'].to_numpy()\n",
    "    return gamma*chiN*kbPN"
   ]
  },
  {
   "cell_type": "code",
   "execution_count": 9,
   "id": "09422e69",
   "metadata": {
    "ExecuteTime": {
     "end_time": "2025-07-02T18:53:47.164089Z",
     "start_time": "2025-07-02T18:53:47.148108Z"
    }
   },
   "outputs": [],
   "source": [
    "parms = GenParameters(\n",
    "    numTargets=2, KPS=lambda KPN: 1000, kaPS=1000, kaPN=200,\n",
    "    KPN=[20], NP0=[0.1], area3Dto1D=np.logspace(0,3,100), \n",
    "    KPP=[1e3], kbPP_fixed=5,\n",
    ")\n"
   ]
  },
  {
   "cell_type": "code",
   "execution_count": 10,
   "id": "e104cbfe",
   "metadata": {
    "ExecuteTime": {
     "end_time": "2025-07-02T18:53:47.359307Z",
     "start_time": "2025-07-02T18:53:47.354260Z"
    },
    "code_folding": []
   },
   "outputs": [],
   "source": [
    "def plotOneFigure(ymax, label, color, hatch):\n",
    "    \n",
    "    # ax.spines['top'].set_linewidth(0)\n",
    "    ymin = 0.9e-2\n",
    "    gammaChiNkoff = parms['gamma'].to_numpy()*parms['CN0'].to_numpy()*parms['KPN'].to_numpy()\n",
    "\n",
    "    plt.plot(gammaChiNkoff, ymax, color=color)\n",
    "    \n",
    "    if hatch.strip()=='':\n",
    "        plt.fill_between(\n",
    "            gammaChiNkoff, ymin, ymax, label=label,\n",
    "            facecolor=color, alpha=0.5\n",
    "        )\n",
    "    else:\n",
    "        plt.fill_between(\n",
    "            gammaChiNkoff, ymin, ymax, label=label,\n",
    "            facecolor=color, edgecolor=color, hatch=hatch, alpha=0.5,\n",
    "        )\n",
    "\n",
    "    plt.xlim([min(gammaChiNkoff), max(gammaChiNkoff)])\n",
    "    plt.ylim([ymin, 5e3])\n",
    "\n",
    "    plt.loglog()"
   ]
  },
  {
   "cell_type": "code",
   "execution_count": 15,
   "id": "b51dcde4",
   "metadata": {
    "ExecuteTime": {
     "end_time": "2025-07-02T18:54:54.906760Z",
     "start_time": "2025-07-02T18:54:54.156007Z"
    }
   },
   "outputs": [
    {
     "data": {
      "image/png": "[encoded data removed]",
      "text/plain": [
       "<Figure size 800x250 with 3 Axes>"
      ]
     },
     "metadata": {},
     "output_type": "display_data"
    }
   ],
   "source": [
    "plt.rcParams['lines.linewidth'] = 3\n",
    "plt.rcParams['font.size'] = 16\n",
    "setTickParams(12, 1.5, 8, 1)\n",
    "\n",
    "fig, axes = plt.subplots(1, 3, figsize=(8,2.5), constrained_layout=False)\n",
    "\n",
    "plt.subplots_adjust(wspace=0.00)\n",
    "\n",
    "spineWidth = 1.5\n",
    "ax = plt.subplot(131)\n",
    "setSpineWidth(ax, spineWidth)\n",
    "plotOneFigure(criticalRate_DNAclusTarg(parms), 'DNA+clusTarg', 'tab:blue', '/')\n",
    "ax = plt.subplot(133)\n",
    "setSpineWidth(ax, spineWidth)\n",
    "plotOneFigure(criticalRate_DNA(parms), 'DNA', 'tab:orange', '/')\n",
    "plt.yticks([])\n",
    "ax = plt.subplot(132)\n",
    "plt.scatter([1], parms['kbPP'].unique(), color='black')\n",
    "setSpineWidth(ax, spineWidth)\n",
    "plotOneFigure(criticalRate_DNAtarg(parms), 'DNA+targ', 'tab:green', '/')\n",
    "plt.yticks([])\n",
    "\n",
    "\n",
    "plt.show()"
   ]
  },
  {
   "cell_type": "markdown",
   "id": "289b4c9c",
   "metadata": {},
   "source": [
    "# occupancy phase diagram"
   ]
  },
  {
   "cell_type": "code",
   "execution_count": 16,
   "id": "91a6e62e",
   "metadata": {
    "ExecuteTime": {
     "end_time": "2025-07-02T18:55:56.572043Z",
     "start_time": "2025-07-02T18:55:56.569540Z"
    }
   },
   "outputs": [],
   "source": [
    "from scipy.optimize import root_scalar"
   ]
  },
  {
   "cell_type": "code",
   "execution_count": 17,
   "id": "86b02fe7",
   "metadata": {
    "ExecuteTime": {
     "end_time": "2025-07-02T18:55:56.749926Z",
     "start_time": "2025-07-02T18:55:56.744984Z"
    }
   },
   "outputs": [],
   "source": [
    "def findCriticalXPS(parm):\n",
    "    '''chiS -> (-chiN + chiN G)/(1 + chiN G)^2'''\n",
    "    chiN = parm['KPN'].to_numpy()*parm['CN0'].to_numpy()\n",
    "    gamma = parm['gamma'].to_numpy()\n",
    "    return chiN*(gamma-1)/(1+gamma*chiN)**2\n",
    "\n",
    "def solveGamma(parm):\n",
    "    '''chiS -> (-chiN + chiN G)/(1 + chiN G)^2'''\n",
    "    chiN = np.unique(parm['KPN']*parm['CN0'])\n",
    "    chiS = np.unique(parms['CN0']*parms['KPN'])\n",
    "    ftosolve = lambda gamma: chiN*(gamma-1)/(1+gamma*chiN)**2 - chiS\n",
    "    return root_scalar(ftosolve, x0=1), root_scalar(ftosolve, x0=10)"
   ]
  },
  {
   "cell_type": "code",
   "execution_count": 18,
   "id": "b802ab2b",
   "metadata": {
    "ExecuteTime": {
     "end_time": "2025-07-02T18:55:56.911947Z",
     "start_time": "2025-07-02T18:55:56.909160Z"
    }
   },
   "outputs": [],
   "source": [
    "chiS_select = parms['KPS'].unique() * parms['CS0'].unique()"
   ]
  },
  {
   "cell_type": "code",
   "execution_count": 36,
   "id": "714f225b",
   "metadata": {
    "ExecuteTime": {
     "end_time": "2025-07-02T19:00:59.111668Z",
     "start_time": "2025-07-02T19:00:58.415333Z"
    }
   },
   "outputs": [
    {
     "data": {
      "image/png": "[encoded data removed]",
      "text/plain": [
       "<Figure size 800x250 with 2 Axes>"
      ]
     },
     "metadata": {},
     "output_type": "display_data"
    }
   ],
   "source": [
    "# prepare data\n",
    "gammaChiN = parms['gamma'].to_numpy()*parms['CN0'].to_numpy()*parms['KPN'].to_numpy()\n",
    "chiN = np.unique(parms['CN0']*parms['KPN'])\n",
    "chiS = np.unique(parms['CN0']*parms['KPN'])\n",
    "xmin = min(gammaChiN)\n",
    "xmax = max(gammaChiN)\n",
    "chiCritic = findCriticalXPS(parms)\n",
    "ymin = 1e-3\n",
    "ymax = max(chiCritic)*2\n",
    "\n",
    "# plot\n",
    "fig, axes = plt.subplots(1, 3, figsize=(8,2.5), constrained_layout=False)\n",
    "\n",
    "# set figure parameters\n",
    "plt.subplots_adjust(wspace=0.00)\n",
    "plt.rcParams['lines.linewidth'] = 3\n",
    "plt.rcParams['font.size'] = 16\n",
    "setTickParams(12, 1.5, 8, 1)\n",
    "spineWidth = 1.5\n",
    "\n",
    "ax = plt.subplot(131)\n",
    "ax.tick_params(axis='y', which='minor', length=5) \n",
    "ax.tick_params(axis='x', which='minor', length=0, width=0) \n",
    "setSpineWidth(ax, spineWidth)\n",
    "plt.fill_between(\n",
    "    gammaChiN, ymin, ymax, label='DNA+clusTarg', color='tab:blue', alpha=0.5\n",
    ")\n",
    "plt.loglog()\n",
    "plt.xlim([xmin,xmax])\n",
    "plt.ylim([ymin,ymax])\n",
    "plt.xticks([])\n",
    "\n",
    "ax = plt.subplot(132)\n",
    "ax.tick_params(axis='y', which='minor', length=0, width=0) \n",
    "ax.tick_params(axis='x', which='minor', length=0, width=0) \n",
    "setSpineWidth(ax, spineWidth)\n",
    "plt.plot(gammaChiN, chiCritic, color='tab:green')\n",
    "plt.fill_between(\n",
    "    gammaChiN, ymin, chiCritic, label='DNA+targ', color='tab:green', alpha=0.5\n",
    ")\n",
    "plt.scatter([1], chiS_select, color='black')\n",
    "plt.loglog()\n",
    "plt.xlim([xmin,xmax])\n",
    "plt.ylim([ymin,ymax])\n",
    "plt.yticks([])\n",
    "plt.xticks([])\n",
    "\n",
    "ax = plt.subplot(133)\n",
    "ax.remove()\n",
    "\n",
    "\n",
    "plt.show()"
   ]
  },
  {
   "cell_type": "markdown",
   "id": "b53708be",
   "metadata": {},
   "source": [
    "# protein bound ratio"
   ]
  },
  {
   "cell_type": "code",
   "execution_count": 12,
   "id": "dc943a0f",
   "metadata": {
    "ExecuteTime": {
     "end_time": "2025-05-01T16:34:02.906098Z",
     "start_time": "2025-05-01T16:34:02.562907Z"
    }
   },
   "outputs": [
    {
     "data": {
      "text/plain": [
       "<Figure size 640x480 with 0 Axes>"
      ]
     },
     "metadata": {},
     "output_type": "display_data"
    },
    {
     "data": {
      "image/png": "[encoded data removed]",
      "text/plain": [
       "<Figure size 800x250 with 3 Axes>"
      ]
     },
     "metadata": {},
     "output_type": "display_data"
    }
   ],
   "source": [
    "plt.subplots_adjust(wspace=0.05)\n",
    "plt.rcParams['lines.linewidth'] = 3\n",
    "plt.rcParams['font.size'] = 18\n",
    "setTickParams(12, 1.5, 8, 1)\n",
    "spineWidth = 1.5\n",
    "\n",
    "gammaChiN = parms['gamma'].to_numpy()*parms['CN0'].to_numpy()*parms['KPN'].to_numpy()\n",
    "\n",
    "\n",
    "fig, axes = plt.subplots(1, 3, figsize=(8,2.5), constrained_layout=False)\n",
    "\n",
    "ax = plt.subplot(131)\n",
    "setSpineWidth(ax, spineWidth)\n",
    "plt.fill_between(\n",
    "    gammaChiN, 0, 1, label='DNA+clusTarg', color='tab:blue', alpha=0.5, hatch='-'\n",
    ")\n",
    "plt.semilogx()\n",
    "plt.xlim([min(gammaChiN),max(gammaChiN)])\n",
    "plt.ylim([0,1])\n",
    "\n",
    "ax = plt.subplot(133)\n",
    "setSpineWidth(ax, spineWidth)\n",
    "plt.fill_between(\n",
    "    gammaChiN, 0, 1, label='DNA', color='tab:orange', alpha=0.5, hatch='-'\n",
    ")\n",
    "plt.semilogx()\n",
    "plt.yticks([])\n",
    "plt.xlim([min(gammaChiN),max(gammaChiN)])\n",
    "plt.ylim([0,1])\n",
    "\n",
    "ax = plt.subplot(132)\n",
    "setSpineWidth(ax, spineWidth)\n",
    "plt.fill_between(\n",
    "    gammaChiN, 0, 1, label='DNA+targ', color='tab:green', alpha=0.5, hatch='-'\n",
    ")\n",
    "plt.semilogx()\n",
    "plt.yticks([])\n",
    "plt.xlim([min(gammaChiN),max(gammaChiN)])\n",
    "plt.ylim([0,1])\n",
    "plt.show()"
   ]
  },
  {
   "cell_type": "code",
   "execution_count": null,
   "id": "3d8981a5",
   "metadata": {},
   "outputs": [],
   "source": []
  }
 ],
 "metadata": {
  "kernelspec": {
   "display_name": "Python 3 (ipykernel)",
   "language": "python",
   "name": "python3"
  },
  "language_info": {
   "codemirror_mode": {
    "name": "ipython",
    "version": 3
   },
   "file_extension": ".py",
   "mimetype": "text/x-python",
   "name": "python",
   "nbconvert_exporter": "python",
   "pygments_lexer": "ipython3",
   "version": "3.11.5"
  }
 },
 "nbformat": 4,
 "nbformat_minor": 5
}
